{
 "cells": [
  {
   "cell_type": "markdown",
   "id": "4748cfbc",
   "metadata": {
    "id": "EBFD0O5KvH2O",
    "papermill": {
     "duration": 0.005135,
     "end_time": "2024-08-21T14:08:09.899096",
     "exception": false,
     "start_time": "2024-08-21T14:08:09.893961",
     "status": "completed"
    },
    "tags": []
   },
   "source": [
    "## KAN RL"
   ]
  },
  {
   "cell_type": "code",
   "execution_count": 1,
   "id": "696095f6",
   "metadata": {
    "execution": {
     "iopub.execute_input": "2024-08-21T14:08:09.910352Z",
     "iopub.status.busy": "2024-08-21T14:08:09.909931Z",
     "iopub.status.idle": "2024-08-21T14:08:43.251659Z",
     "shell.execute_reply": "2024-08-21T14:08:43.250416Z"
    },
    "id": "XVTffDVsx7fD",
    "outputId": "0aa43552-127c-4bdf-e5c7-e7101c57bdc2",
    "papermill": {
     "duration": 33.350281,
     "end_time": "2024-08-21T14:08:43.254328",
     "exception": false,
     "start_time": "2024-08-21T14:08:09.904047",
     "status": "completed"
    },
    "scrolled": true,
    "tags": []
   },
   "outputs": [
    {
     "name": "stdout",
     "output_type": "stream",
     "text": [
      "Collecting moviepy~=1.0.3\r\n",
      "  Downloading moviepy-1.0.3.tar.gz (388 kB)\r\n",
      "\u001b[2K     \u001b[90m━━━━━━━━━━━━━━━━━━━━━━━━━━━━━━━━━━━━━━━\u001b[0m \u001b[32m388.3/388.3 kB\u001b[0m \u001b[31m4.9 MB/s\u001b[0m eta \u001b[36m0:00:00\u001b[0m\r\n",
      "\u001b[?25h  Preparing metadata (setup.py) ... \u001b[?25l-\b \bdone\r\n",
      "\u001b[?25hRequirement already satisfied: gymnasium in /opt/conda/lib/python3.10/site-packages (0.29.0)\r\n",
      "Collecting pykan~=0.0.2\r\n",
      "  Downloading pykan-0.0.5-py3-none-any.whl.metadata (13 kB)\r\n",
      "Collecting decorator<5.0,>=4.0.2 (from moviepy~=1.0.3)\r\n",
      "  Downloading decorator-4.4.2-py2.py3-none-any.whl.metadata (4.2 kB)\r\n",
      "Requirement already satisfied: tqdm<5.0,>=4.11.2 in /opt/conda/lib/python3.10/site-packages (from moviepy~=1.0.3) (4.66.4)\r\n",
      "Requirement already satisfied: requests<3.0,>=2.8.1 in /opt/conda/lib/python3.10/site-packages (from moviepy~=1.0.3) (2.32.3)\r\n",
      "Collecting proglog<=1.0.0 (from moviepy~=1.0.3)\r\n",
      "  Downloading proglog-0.1.10-py3-none-any.whl.metadata (639 bytes)\r\n",
      "Requirement already satisfied: numpy>=1.17.3 in /opt/conda/lib/python3.10/site-packages (from moviepy~=1.0.3) (1.26.4)\r\n",
      "Requirement already satisfied: imageio<3.0,>=2.5 in /opt/conda/lib/python3.10/site-packages (from moviepy~=1.0.3) (2.33.1)\r\n",
      "Collecting imageio_ffmpeg>=0.2.0 (from moviepy~=1.0.3)\r\n",
      "  Downloading imageio_ffmpeg-0.5.1-py3-none-manylinux2010_x86_64.whl.metadata (1.6 kB)\r\n",
      "Requirement already satisfied: cloudpickle>=1.2.0 in /opt/conda/lib/python3.10/site-packages (from gymnasium) (2.2.1)\r\n",
      "Requirement already satisfied: typing-extensions>=4.3.0 in /opt/conda/lib/python3.10/site-packages (from gymnasium) (4.9.0)\r\n",
      "Requirement already satisfied: farama-notifications>=0.0.1 in /opt/conda/lib/python3.10/site-packages (from gymnasium) (0.0.4)\r\n",
      "Requirement already satisfied: pillow>=8.3.2 in /opt/conda/lib/python3.10/site-packages (from imageio<3.0,>=2.5->moviepy~=1.0.3) (9.5.0)\r\n",
      "Requirement already satisfied: setuptools in /opt/conda/lib/python3.10/site-packages (from imageio_ffmpeg>=0.2.0->moviepy~=1.0.3) (69.0.3)\r\n",
      "Requirement already satisfied: charset-normalizer<4,>=2 in /opt/conda/lib/python3.10/site-packages (from requests<3.0,>=2.8.1->moviepy~=1.0.3) (3.3.2)\r\n",
      "Requirement already satisfied: idna<4,>=2.5 in /opt/conda/lib/python3.10/site-packages (from requests<3.0,>=2.8.1->moviepy~=1.0.3) (3.6)\r\n",
      "Requirement already satisfied: urllib3<3,>=1.21.1 in /opt/conda/lib/python3.10/site-packages (from requests<3.0,>=2.8.1->moviepy~=1.0.3) (1.26.18)\r\n",
      "Requirement already satisfied: certifi>=2017.4.17 in /opt/conda/lib/python3.10/site-packages (from requests<3.0,>=2.8.1->moviepy~=1.0.3) (2024.7.4)\r\n",
      "Downloading pykan-0.0.5-py3-none-any.whl (33 kB)\r\n",
      "Downloading decorator-4.4.2-py2.py3-none-any.whl (9.2 kB)\r\n",
      "Downloading imageio_ffmpeg-0.5.1-py3-none-manylinux2010_x86_64.whl (26.9 MB)\r\n",
      "\u001b[2K   \u001b[90m━━━━━━━━━━━━━━━━━━━━━━━━━━━━━━━━━━━━━━━━\u001b[0m \u001b[32m26.9/26.9 MB\u001b[0m \u001b[31m56.1 MB/s\u001b[0m eta \u001b[36m0:00:00\u001b[0m\r\n",
      "\u001b[?25hDownloading proglog-0.1.10-py3-none-any.whl (6.1 kB)\r\n",
      "Building wheels for collected packages: moviepy\r\n",
      "  Building wheel for moviepy (setup.py) ... \u001b[?25l-\b \b\\\b \bdone\r\n",
      "\u001b[?25h  Created wheel for moviepy: filename=moviepy-1.0.3-py3-none-any.whl size=110720 sha256=66842d722b74b568e675d4490c500ac20847c8ab43a1c7c666326d020f5c2b48\r\n",
      "  Stored in directory: /root/.cache/pip/wheels/96/32/2d/e10123bd88fbfc02fed53cc18c80a171d3c87479ed845fa7c1\r\n",
      "Successfully built moviepy\r\n",
      "Installing collected packages: pykan, proglog, imageio_ffmpeg, decorator, moviepy\r\n",
      "  Attempting uninstall: decorator\r\n",
      "    Found existing installation: decorator 5.1.1\r\n",
      "    Uninstalling decorator-5.1.1:\r\n",
      "      Successfully uninstalled decorator-5.1.1\r\n",
      "Successfully installed decorator-4.4.2 imageio_ffmpeg-0.5.1 moviepy-1.0.3 proglog-0.1.10 pykan-0.0.5\r\n"
     ]
    }
   ],
   "source": [
    "!pip install moviepy~=1.0.3 gymnasium pykan~=0.0.2"
   ]
  },
  {
   "cell_type": "markdown",
   "id": "c0743325",
   "metadata": {
    "id": "FabcDsA3HkTd",
    "papermill": {
     "duration": 0.006682,
     "end_time": "2024-08-21T14:08:43.267608",
     "exception": false,
     "start_time": "2024-08-21T14:08:43.260926",
     "status": "completed"
    },
    "tags": []
   },
   "source": [
    "## Models"
   ]
  },
  {
   "cell_type": "code",
   "execution_count": 2,
   "id": "ed5cff50",
   "metadata": {
    "cellView": "form",
    "execution": {
     "iopub.execute_input": "2024-08-21T14:08:43.283822Z",
     "iopub.status.busy": "2024-08-21T14:08:43.283384Z",
     "iopub.status.idle": "2024-08-21T14:09:05.156687Z",
     "shell.execute_reply": "2024-08-21T14:09:05.155304Z"
    },
    "id": "_fBdXsX3exWw",
    "outputId": "e029fcfa-1731-4017-a88c-e65bebc5bb4f",
    "papermill": {
     "duration": 21.884959,
     "end_time": "2024-08-21T14:09:05.159520",
     "exception": false,
     "start_time": "2024-08-21T14:08:43.274561",
     "status": "completed"
    },
    "scrolled": true,
    "tags": []
   },
   "outputs": [
    {
     "name": "stdout",
     "output_type": "stream",
     "text": [
      "Downloading http://fashion-mnist.s3-website.eu-central-1.amazonaws.com/train-images-idx3-ubyte.gz\n",
      "Downloading http://fashion-mnist.s3-website.eu-central-1.amazonaws.com/train-images-idx3-ubyte.gz to ./data/FashionMNIST/raw/train-images-idx3-ubyte.gz\n"
     ]
    },
    {
     "name": "stderr",
     "output_type": "stream",
     "text": [
      "100%|██████████| 26421880/26421880 [00:02<00:00, 9263263.61it/s] \n"
     ]
    },
    {
     "name": "stdout",
     "output_type": "stream",
     "text": [
      "Extracting ./data/FashionMNIST/raw/train-images-idx3-ubyte.gz to ./data/FashionMNIST/raw\n",
      "\n",
      "Downloading http://fashion-mnist.s3-website.eu-central-1.amazonaws.com/train-labels-idx1-ubyte.gz\n",
      "Downloading http://fashion-mnist.s3-website.eu-central-1.amazonaws.com/train-labels-idx1-ubyte.gz to ./data/FashionMNIST/raw/train-labels-idx1-ubyte.gz\n"
     ]
    },
    {
     "name": "stderr",
     "output_type": "stream",
     "text": [
      "100%|██████████| 29515/29515 [00:00<00:00, 138948.93it/s]\n"
     ]
    },
    {
     "name": "stdout",
     "output_type": "stream",
     "text": [
      "Extracting ./data/FashionMNIST/raw/train-labels-idx1-ubyte.gz to ./data/FashionMNIST/raw\n",
      "\n",
      "Downloading http://fashion-mnist.s3-website.eu-central-1.amazonaws.com/t10k-images-idx3-ubyte.gz\n",
      "Downloading http://fashion-mnist.s3-website.eu-central-1.amazonaws.com/t10k-images-idx3-ubyte.gz to ./data/FashionMNIST/raw/t10k-images-idx3-ubyte.gz\n"
     ]
    },
    {
     "name": "stderr",
     "output_type": "stream",
     "text": [
      "100%|██████████| 4422102/4422102 [00:08<00:00, 505192.48it/s] \n"
     ]
    },
    {
     "name": "stdout",
     "output_type": "stream",
     "text": [
      "Extracting ./data/FashionMNIST/raw/t10k-images-idx3-ubyte.gz to ./data/FashionMNIST/raw\n",
      "\n",
      "Downloading http://fashion-mnist.s3-website.eu-central-1.amazonaws.com/t10k-labels-idx1-ubyte.gz\n",
      "Downloading http://fashion-mnist.s3-website.eu-central-1.amazonaws.com/t10k-labels-idx1-ubyte.gz to ./data/FashionMNIST/raw/t10k-labels-idx1-ubyte.gz\n"
     ]
    },
    {
     "name": "stderr",
     "output_type": "stream",
     "text": [
      "100%|██████████| 5148/5148 [00:00<00:00, 8395131.02it/s]\n"
     ]
    },
    {
     "name": "stdout",
     "output_type": "stream",
     "text": [
      "Extracting ./data/FashionMNIST/raw/t10k-labels-idx1-ubyte.gz to ./data/FashionMNIST/raw\n",
      "\n",
      "State shape: torch.Size([1, 8, 8])\n",
      "Label: tensor(4)\n",
      "Feedback shape: torch.Size([1, 8, 8])\n"
     ]
    },
    {
     "data": {
      "image/png": "[encoded data removed]",
      "text/plain": [
       "<Figure size 1000x500 with 2 Axes>"
      ]
     },
     "metadata": {},
     "output_type": "display_data"
    },
    {
     "name": "stdout",
     "output_type": "stream",
     "text": [
      "tensor(0.4404) tensor(1.)\n"
     ]
    }
   ],
   "source": [
    "import torch\n",
    "from torchvision import transforms, datasets\n",
    "from torch.utils.data import DataLoader\n",
    "import numpy as np\n",
    "import matplotlib.pyplot as plt\n",
    "\n",
    "# https://github.com/Armour/pytorch-nn-practice/blob/master/utils/meanstd.py  for normalization values computation\n",
    "\n",
    "class BenchmarkEnvironment:\n",
    "    def __init__(self, dataset_name='MNIST', batch_size=128, image_size=(8, 8), feedback_sigma=5.0):\n",
    "        self.batch_size = batch_size\n",
    "        self.image_size = image_size\n",
    "        self.feedback_sigma = feedback_sigma\n",
    "        self.num_channels = 1  # Force single channel for all datasets\n",
    "\n",
    "        if dataset_name == 'MNIST':\n",
    "            # self.num_channels = 1\n",
    "            self.transform = transforms.Compose([\n",
    "                transforms.Resize(image_size),\n",
    "                transforms.ToTensor(),\n",
    "                transforms.Normalize((0.1307,), (0.3081,))\n",
    "            ])\n",
    "            self.dataset = datasets.MNIST('./data', train=True, download=True, transform=self.transform)\n",
    "\n",
    "        elif dataset_name == 'FashionMNIST':\n",
    "            # self.num_channels = 1\n",
    "            self.transform = transforms.Compose([\n",
    "                transforms.Resize(image_size),\n",
    "                transforms.ToTensor(),\n",
    "                transforms.Normalize((0.5,), (0.5,))\n",
    "            ])\n",
    "            self.dataset = datasets.FashionMNIST('./data', train=True, download=True, transform=self.transform)\n",
    "\n",
    "        elif dataset_name == 'CIFAR10':\n",
    "            # self.num_channels = 3\n",
    "            self.transform = transforms.Compose([\n",
    "                transforms.Resize(image_size),\n",
    "                transforms.ToTensor(),\n",
    "                transforms.Normalize((0.4914, 0.4822, 0.4465), (0.247, 0.243, 0.261)),\n",
    "                transforms.Grayscale(num_output_channels=1),  # Convert to grayscale\n",
    "            ])\n",
    "            self.dataset = datasets.CIFAR10('./data', train=True, download=True, transform=self.transform)\n",
    "\n",
    "        elif dataset_name == 'CIFAR100':\n",
    "            # self.num_channels = 3\n",
    "            self.transform = transforms.Compose([\n",
    "                transforms.Resize(image_size),\n",
    "                transforms.ToTensor(),\n",
    "                transforms.Normalize((0.50707516, 0.48654887, 0.44091784), (0.26733429, 0.25643846, 0.27615047)),\n",
    "                transforms.Grayscale(num_output_channels=1),  # Convert to grayscale\n",
    "            ])\n",
    "            self.dataset = datasets.CIFAR100('./data', train=True, download=True, transform=self.transform)\n",
    "\n",
    "        else:\n",
    "            raise ValueError(f\"Dataset {dataset_name} is not supported.\")\n",
    "\n",
    "        self.loader = DataLoader(self.dataset, batch_size=batch_size, shuffle=True)\n",
    "        self.iterator = iter(self.loader)\n",
    "        self.reset()\n",
    "\n",
    "    def reset(self):\n",
    "        try:\n",
    "            self.current_batch = next(self.iterator)\n",
    "        except StopIteration:\n",
    "            self.iterator = iter(self.loader)\n",
    "            self.current_batch = next(self.iterator)\n",
    "        self.idx = 0\n",
    "\n",
    "    def step(self):\n",
    "        images, labels = self.current_batch\n",
    "        if self.idx >= len(images):\n",
    "            self.reset()\n",
    "            return self.step()\n",
    "        state = images[self.idx]\n",
    "        label = labels[self.idx]\n",
    "        feedback = self.generate_simulated_feedback(state.unsqueeze(0))\n",
    "        self.idx += 1\n",
    "        return state, label, feedback\n",
    "\n",
    "    def generate_simulated_feedback(self, image_tensor):\n",
    "        image_np = image_tensor.squeeze().numpy()\n",
    "\n",
    "        # Normalize the image to [0, 1]\n",
    "        image_np = (image_np - np.min(image_np)) / (np.max(image_np) - np.min(image_np))\n",
    "\n",
    "        center_of_mass = np.array(np.unravel_index(np.argmax(image_np), image_np.shape[-2:]))\n",
    "\n",
    "        x, y = np.meshgrid(np.arange(image_np.shape[-1]), np.arange(image_np.shape[-2]))\n",
    "        gaussian_mask = np.exp(-((x - center_of_mass[1])**2 + (y - center_of_mass[0])**2) / (2 * self.feedback_sigma**2))\n",
    "\n",
    "        feedback = gaussian_mask / np.max(gaussian_mask)\n",
    "        return torch.tensor(feedback, dtype=torch.float32).view(1, *feedback.shape)\n",
    "\n",
    "\n",
    "def plot_images(normal_image, feedback_image):\n",
    "    # Convert tensors to numpy arrays\n",
    "    normal_image_np = normal_image.squeeze().numpy()\n",
    "    feedback_image_np = feedback_image.squeeze().numpy()\n",
    "\n",
    "    # Create subplots\n",
    "    fig, axes = plt.subplots(1, 2, figsize=(10, 5))\n",
    "\n",
    "    # Plot normal image\n",
    "    axes[0].imshow(normal_image_np, cmap='gray')\n",
    "    axes[0].set_title('Normal Image')\n",
    "    axes[0].axis('off')\n",
    "\n",
    "    # Plot feedback image\n",
    "    axes[1].imshow(feedback_image_np, cmap='hot')  # Using 'hot' colormap to visualize feedback\n",
    "    axes[1].set_title('Simulated Feedback')\n",
    "    axes[1].axis('off')\n",
    "\n",
    "    plt.show()\n",
    "\n",
    "# Example usage:\n",
    "if __name__ == \"__main__\":\n",
    "    env = BenchmarkEnvironment(dataset_name='FashionMNIST', batch_size=128, feedback_sigma=5.0)\n",
    "    state, label, feedback = env.step()\n",
    "    print(\"State shape:\", state.shape)\n",
    "    print(\"Label:\", label)\n",
    "    print(\"Feedback shape:\", feedback.shape)\n",
    "    plot_images(state, feedback)\n",
    "    print(feedback.min(), feedback.max())\n"
   ]
  },
  {
   "cell_type": "code",
   "execution_count": 3,
   "id": "522071a2",
   "metadata": {
    "execution": {
     "iopub.execute_input": "2024-08-21T14:09:05.185617Z",
     "iopub.status.busy": "2024-08-21T14:09:05.185013Z",
     "iopub.status.idle": "2024-08-21T14:09:05.383377Z",
     "shell.execute_reply": "2024-08-21T14:09:05.381999Z"
    },
    "id": "t-FwA8zsgrIV",
    "outputId": "0d38dddd-7cd9-4baf-b6c3-9d79d92f340b",
    "papermill": {
     "duration": 0.214871,
     "end_time": "2024-08-21T14:09:05.385998",
     "exception": false,
     "start_time": "2024-08-21T14:09:05.171127",
     "status": "completed"
    },
    "tags": []
   },
   "outputs": [
    {
     "name": "stdout",
     "output_type": "stream",
     "text": [
      "FSNet(\n",
      "  (feature_extractor): Sequential(\n",
      "    (0): Conv2d(1, 8, kernel_size=(3, 3), stride=(1, 1), padding=(1, 1))\n",
      "    (1): ReLU()\n",
      "    (2): MaxPool2d(kernel_size=2, stride=2, padding=0, dilation=1, ceil_mode=False)\n",
      "    (3): Conv2d(8, 16, kernel_size=(3, 3), stride=(1, 1), padding=(1, 1))\n",
      "    (4): ReLU()\n",
      "    (5): MaxPool2d(kernel_size=2, stride=2, padding=0, dilation=1, ceil_mode=False)\n",
      "    (6): Flatten(start_dim=1, end_dim=-1)\n",
      "  )\n",
      "  (fc1): Linear(in_features=64, out_features=128, bias=True)\n",
      "  (relu): ReLU()\n",
      "  (dropout): Dropout(p=0.25, inplace=False)\n",
      "  (fc2): Linear(in_features=128, out_features=64, bias=True)\n",
      "  (sigmoid): Sigmoid()\n",
      "  (softmax): Softmax(dim=-1)\n",
      ")\n",
      "torch.Size([1, 64])\n"
     ]
    }
   ],
   "source": [
    "# @title\n",
    "import torch\n",
    "import torch.nn as nn\n",
    "import torch.nn.functional as F\n",
    "import torch.optim as optim\n",
    "import torch.distributions as dist\n",
    "from torch.optim.lr_scheduler import ExponentialLR\n",
    "\n",
    "class FSNet(nn.Module):\n",
    "    def __init__(self, input_shape, num_filters, num_conv_layers=3, hidden_dim=128, distribution=None, tau=1.0):\n",
    "        super(FSNet, self).__init__()\n",
    "\n",
    "        self.distribution = distribution\n",
    "        self.global_step = 0\n",
    "        self.initial_tau = tau\n",
    "        self.tau_decay = 0.96  # Exponential decay rate\n",
    "\n",
    "        layers = []\n",
    "        in_channels = input_shape[0]\n",
    "        channels = []\n",
    "\n",
    "        for i in range(num_conv_layers):\n",
    "            num_filters *= 2\n",
    "            channels.append(num_filters)\n",
    "\n",
    "        for i in range(num_conv_layers):\n",
    "            # For a convolutional layer to keep the input and output shapes the same: P = (K-1)/2 with S = 1\n",
    "            layers.append(nn.Conv2d(in_channels=in_channels, out_channels=channels[i], kernel_size=3, padding=1, stride=1))\n",
    "            layers.append(nn.ReLU())\n",
    "            # Each MaxPool2d layer with kernel size 2 and stride 2 will halve the height and width of the feature maps.\n",
    "            layers.append(nn.MaxPool2d(2, 2))\n",
    "            in_channels = channels[i]\n",
    "\n",
    "        layers.append(nn.Flatten())\n",
    "        self.feature_extractor = nn.Sequential(*layers)\n",
    "\n",
    "        # Dummy forward pass to determine the output size of the feature extractor\n",
    "        dummy_input = torch.empty(1, *input_shape)\n",
    "        n_features = self.feature_extractor(dummy_input).shape[1]\n",
    "        # print(n_features)\n",
    "\n",
    "        self.fc1 = nn.Linear(n_features, hidden_dim)\n",
    "        self.relu = nn.ReLU()\n",
    "        self.dropout = nn.Dropout(0.25)\n",
    "        self.fc2 = nn.Linear(hidden_dim, n_features)\n",
    "        self.sigmoid = nn.Sigmoid()\n",
    "        self.softmax = nn.Softmax(dim=-1)\n",
    "\n",
    "        # Storage for probabilities and feedback costs\n",
    "        self.probs_history = []\n",
    "        self.feedback_cost_history = []\n",
    "\n",
    "\n",
    "    def forward(self, x, feedback=None, epoch=0, n_epochs=None):\n",
    "        x = x.view(-1, 1, input_shape[1], input_shape[2])\n",
    "        features = self.feature_extractor(x)\n",
    "\n",
    "        x = self.relu(self.fc1(features))\n",
    "        probs_logits = self.relu(self.fc2(x))\n",
    "        probs = self.sigmoid(probs_logits)\n",
    "\n",
    "        # Apply the simulated feedback as a weight to the feature selection\n",
    "        if feedback is None:\n",
    "            feedback = probs # so that mse_loss becomes 0 if no feedback is fed\n",
    "        else:\n",
    "            pass\n",
    "\n",
    "        # Use distribution as weight of the features\n",
    "        if self.distribution == 'bernoulli':\n",
    "            mask = torch.distributions.Bernoulli(logits=probs_logits)\n",
    "            sample_probs = mask.sample()\n",
    "        if self.distribution == 'gumbel_softmax':\n",
    "            tau = self.initial_tau * (self.tau_decay ** epoch)\n",
    "            mask = F.gumbel_softmax(logits=probs_logits, tau=tau, hard=False)\n",
    "            sample_probs = mask\n",
    "        if self.distribution == 'gaussian':\n",
    "            mu = probs_logits  # or some transformation of probs_logits\n",
    "            sigma = torch.ones_like(mu)  # Standard deviation\n",
    "            gaussian_dist = torch.distributions.Normal(mu, sigma)\n",
    "            sample_probs = gaussian_dist.rsample()  # Use rsample for the reparameterization trick\n",
    "        if self.distribution == 'beta':\n",
    "            alpha = F.softplus(probs_logits) + 1\n",
    "            beta = F.softplus(probs_logits) + 1\n",
    "            beta_dist = torch.distributions.Beta(alpha, beta)\n",
    "            sample_probs = beta_dist.sample()\n",
    "        if self.distribution == 'dirichlet':\n",
    "            concentration = F.softplus(probs_logits) + 1  # Ensuring positive values\n",
    "            dirichlet_dist = torch.distributions.Dirichlet(concentration)\n",
    "            sample_probs = dirichlet_dist.sample()\n",
    "        elif self.distribution == 'multinomial':\n",
    "            logits = probs_logits  # Logits for the multinomial distribution\n",
    "            mask = torch.distributions.Multinomial(logits=logits)\n",
    "            sample_probs = mask.sample()\n",
    "        elif self.distribution == 'laplace':\n",
    "            loc = probs_logits  # Mean of the logistic distribution\n",
    "            scale = torch.ones_like(loc)  # Scale parameter\n",
    "            laplace_dist = torch.distributions.Laplace(loc, scale)\n",
    "            sample_probs = laplace_dist.sample()\n",
    "        elif self.distribution == 'cauchy':\n",
    "            loc = probs_logits  # Mean of the logistic distribution\n",
    "            scale = torch.ones_like(loc)  # Scale parameter\n",
    "            cauchy_dist = torch.distributions.Cauchy(loc, scale)\n",
    "            sample_probs = cauchy_dist.sample()\n",
    "        elif self.distribution == 'uniform':\n",
    "            low = torch.zeros_like(probs_logits)  # Lower bound\n",
    "            high = torch.ones_like(probs_logits)  # Upper bound\n",
    "            uniform_dist = torch.distributions.Uniform(low, high)\n",
    "            sample_probs = uniform_dist.sample()            \n",
    "\n",
    "        # print(sample_probs.shape)\n",
    "\n",
    "        feedback_cost = F.mse_loss(probs, feedback)\n",
    "\n",
    "        flat_zoom_X = features * sample_probs\n",
    "\n",
    "        return flat_zoom_X, feedback_cost, probs\n",
    "\n",
    "\n",
    "# Example usage:\n",
    "input_shape = (1, 8, 8)  # Change this to the desired input shape\n",
    "num_conv_layers = 2  # Specify the desired number of convolutional layers\n",
    "num_filters = 4 # [2,4], [3,8]\n",
    "model = FSNet(input_shape, num_filters, num_conv_layers, hidden_dim=128, distribution='uniform')\n",
    "print(model)\n",
    "\n",
    "# Test with an example input\n",
    "example_input = torch.randn(*input_shape)\n",
    "\n",
    "# print(flat_zoom_X, probs)\n",
    "# print(flat_zoom_X.shape[1])\n",
    "flat_zoom_X, feedback_cost, probs = model.forward(example_input)\n",
    "print(flat_zoom_X.shape)"
   ]
  },
  {
   "cell_type": "code",
   "execution_count": 4,
   "id": "fcdaf3d2",
   "metadata": {
    "cellView": "form",
    "execution": {
     "iopub.execute_input": "2024-08-21T14:09:05.411326Z",
     "iopub.status.busy": "2024-08-21T14:09:05.410925Z",
     "iopub.status.idle": "2024-08-21T14:09:20.289433Z",
     "shell.execute_reply": "2024-08-21T14:09:20.288259Z"
    },
    "id": "y1po5kE6v49J",
    "papermill": {
     "duration": 14.894441,
     "end_time": "2024-08-21T14:09:20.292180",
     "exception": false,
     "start_time": "2024-08-21T14:09:05.397739",
     "status": "completed"
    },
    "tags": []
   },
   "outputs": [
    {
     "name": "stderr",
     "output_type": "stream",
     "text": [
      "2024-08-21 14:09:09.217002: E external/local_xla/xla/stream_executor/cuda/cuda_dnn.cc:9261] Unable to register cuDNN factory: Attempting to register factory for plugin cuDNN when one has already been registered\n",
      "2024-08-21 14:09:09.217156: E external/local_xla/xla/stream_executor/cuda/cuda_fft.cc:607] Unable to register cuFFT factory: Attempting to register factory for plugin cuFFT when one has already been registered\n",
      "2024-08-21 14:09:09.371189: E external/local_xla/xla/stream_executor/cuda/cuda_blas.cc:1515] Unable to register cuBLAS factory: Attempting to register factory for plugin cuBLAS when one has already been registered\n"
     ]
    }
   ],
   "source": [
    "# @title\n",
    "from collections import deque\n",
    "import os\n",
    "import time\n",
    "import random\n",
    "import torch\n",
    "import torch.nn as nn\n",
    "import torch.optim as optim\n",
    "import torchvision.transforms as transforms\n",
    "from torchvision.datasets import MNIST\n",
    "from torch.utils.data import DataLoader, random_split\n",
    "from kan import KAN\n",
    "from torch.utils.tensorboard import SummaryWriter\n",
    "import numpy as np\n",
    "from tqdm import tqdm\n",
    "import matplotlib.pyplot as plt\n",
    "from typing import Dict, Tuple, Optional, Callable, Union\n",
    "\n",
    "class ReplayBuffer:\n",
    "    def __init__(self, capacity, observation_dim):\n",
    "        self.capacity = capacity\n",
    "        self.observations = torch.zeros(capacity, observation_dim)\n",
    "        self.actions = torch.zeros(capacity, 1, dtype=torch.int64)\n",
    "        self.next_observations = torch.zeros(capacity, observation_dim)\n",
    "        self.rewards = torch.zeros(capacity, 1)\n",
    "        self.terminations = torch.zeros(capacity, 1, dtype=torch.int)\n",
    "        self.cursor = 0\n",
    "\n",
    "    def add(self, observation, action, next_observation, reward, termination):\n",
    "        index = self.cursor % self.capacity\n",
    "        self.observations[index] = observation\n",
    "        self.actions[index] = action\n",
    "        self.next_observations[index] = next_observation\n",
    "        self.rewards[index] = reward\n",
    "        self.terminations[index] = termination\n",
    "        self.cursor += 1\n",
    "\n",
    "    def sample(self, batch_size):\n",
    "        idx = np.random.permutation(np.arange(len(self)))[:batch_size]\n",
    "        return (\n",
    "            self.observations[idx],\n",
    "            self.actions[idx],\n",
    "            self.next_observations[idx],\n",
    "            self.rewards[idx],\n",
    "            self.terminations[idx],\n",
    "        )\n",
    "\n",
    "    def __len__(self):\n",
    "        return min(self.cursor, self.capacity)\n",
    "\n",
    "\n",
    "\n",
    "def kan_train(\n",
    "    net,\n",
    "    target,\n",
    "    data,\n",
    "    optimizer,\n",
    "    gamma=0.99,\n",
    "    lamb=0.0,\n",
    "    lamb_l1=1.0,\n",
    "    lamb_entropy=2.0,\n",
    "    lamb_coef=0.0,\n",
    "    lamb_coefdiff=0.0,\n",
    "    small_mag_threshold=1e-16,\n",
    "    small_reg_factor=1.0,\n",
    "    feedback_cost=None,\n",
    "    feature_selection=False,\n",
    "):\n",
    "    \n",
    "\n",
    "    def reg(acts_scale):\n",
    "        def nonlinear(x, th=small_mag_threshold, factor=small_reg_factor):\n",
    "            return (x < th) * x * factor + (x > th) * (x + (factor - 1) * th)\n",
    "\n",
    "        reg_ = 0.0\n",
    "        for i in range(len(acts_scale)):\n",
    "            vec = acts_scale[i].reshape(\n",
    "                -1,\n",
    "            )\n",
    "\n",
    "            p = vec / torch.sum(vec)\n",
    "            l1 = torch.sum(nonlinear(vec))\n",
    "            entropy = -torch.sum(p * torch.log2(p + 1e-4))\n",
    "            reg_ += lamb_l1 * l1 + lamb_entropy * entropy  # both l1 and entropy\n",
    "\n",
    "        # regularize coefficient to encourage spline to be zero\n",
    "        for i in range(len(net.act_fun)):\n",
    "            coeff_l1 = torch.sum(torch.mean(torch.abs(net.act_fun[i].coef), dim=1))\n",
    "            coeff_diff_l1 = torch.sum(\n",
    "                torch.mean(torch.abs(torch.diff(net.act_fun[i].coef)), dim=1)\n",
    "            )\n",
    "            reg_ += lamb_coef * coeff_l1 + lamb_coefdiff * coeff_diff_l1\n",
    "\n",
    "        return reg_\n",
    "\n",
    "    observations, actions, next_observations, rewards, terminations = data\n",
    "\n",
    "    with torch.no_grad():\n",
    "        next_q_values = net(next_observations.detach())\n",
    "        next_actions = next_q_values.argmax(dim=1)\n",
    "        next_q_values_target = target(next_observations.detach())\n",
    "        target_max = next_q_values_target[range(len(next_q_values)), next_actions]\n",
    "        td_target = rewards.detach().flatten() + gamma * target_max * (\n",
    "            1 - terminations.detach().flatten()\n",
    "        )\n",
    "\n",
    "\n",
    "    old_val = net(observations.detach()).gather(1, actions.detach()).squeeze()\n",
    "    criterion = nn.SmoothL1Loss()\n",
    "    # criterion = nn.MSELoss()\n",
    "    # loss = criterion(td_target, old_val)\n",
    "    reg_ = reg(net.acts_scale)\n",
    "    loss = criterion(td_target, old_val) + lamb * reg_\n",
    "\n",
    "    # Combine the original cost function with the feedback loss\n",
    "    if feature_selection == True:\n",
    "        combined_loss = loss + 0.5 * feedback_cost.detach()\n",
    "    # print(loss, feedback_cost.detach())\n",
    "    else:\n",
    "        combined_loss = loss\n",
    "\n",
    "    optimizer.zero_grad()\n",
    "    combined_loss.backward()\n",
    "\n",
    "    # In-place gradient clipping\n",
    "    torch.nn.utils.clip_grad_value_(net.parameters(), 100)\n",
    "    optimizer.step()\n",
    "\n",
    "    return combined_loss.item()\n",
    "\n",
    "def mlp_train(\n",
    "    net,\n",
    "    target,\n",
    "    data,\n",
    "    optimizer,\n",
    "    gamma=0.99,\n",
    "    feedback_cost=None,\n",
    "    feature_selection=False,\n",
    "):\n",
    "    observations, actions, next_observations, rewards, terminations = data\n",
    "\n",
    "    # Compute everything related to primary loss in a single block to retain the graph\n",
    "    with torch.no_grad():\n",
    "        next_q_values = net(next_observations.detach())\n",
    "        next_actions = next_q_values.argmax(dim=1)\n",
    "        next_q_values_target = target(next_observations.detach())\n",
    "        target_max = next_q_values_target[range(len(next_q_values)), next_actions]\n",
    "        td_target = rewards.detach().flatten() + gamma * target_max * (\n",
    "            1 - terminations.detach().flatten()\n",
    "        )\n",
    "\n",
    "    old_val = net(observations.detach()).gather(1, actions.detach()).squeeze()\n",
    "    criterion = nn.SmoothL1Loss()\n",
    "    # criterion = nn.MSELoss()\n",
    "    loss = criterion(td_target, old_val)\n",
    "\n",
    "    # Combine the original cost function with the feedback loss\n",
    "    if feature_selection == True:\n",
    "      combined_loss = loss + 0.5 * feedback_cost.detach()\n",
    "    # print(loss, feedback_cost.detach())\n",
    "    else:\n",
    "      combined_loss = loss\n",
    "\n",
    "    optimizer.zero_grad()\n",
    "    combined_loss.backward()\n",
    "\n",
    "    # In-place gradient clipping\n",
    "    torch.nn.utils.clip_grad_value_(net.parameters(), 100)\n",
    "    optimizer.step()\n",
    "\n",
    "    return combined_loss.item()\n",
    "\n",
    "\n",
    "def set_all_seeds(seed):\n",
    "    random.seed(seed)\n",
    "    os.environ[\"PYTHONHASHSEED\"] = str(seed)\n",
    "    np.random.seed(seed)\n",
    "    torch.manual_seed(seed)\n",
    "    torch.cuda.manual_seed(seed)\n",
    "    torch.use_deterministic_algorithms(True)\n",
    "\n"
   ]
  },
  {
   "cell_type": "code",
   "execution_count": 5,
   "id": "d4d4dbeb",
   "metadata": {
    "cellView": "form",
    "execution": {
     "iopub.execute_input": "2024-08-21T14:09:20.322664Z",
     "iopub.status.busy": "2024-08-21T14:09:20.321939Z",
     "iopub.status.idle": "2024-08-21T14:09:20.369015Z",
     "shell.execute_reply": "2024-08-21T14:09:20.367860Z"
    },
    "id": "wYF5Bi3GvKhV",
    "papermill": {
     "duration": 0.063919,
     "end_time": "2024-08-21T14:09:20.371576",
     "exception": false,
     "start_time": "2024-08-21T14:09:20.307657",
     "status": "completed"
    },
    "tags": []
   },
   "outputs": [],
   "source": [
    "# @title\n",
    "import os\n",
    "import time\n",
    "import random\n",
    "import shutil\n",
    "import matplotlib.pyplot as plt\n",
    "import torch\n",
    "import torch.nn as nn\n",
    "from torch.optim.lr_scheduler import ExponentialLR\n",
    "from torch.utils.tensorboard import SummaryWriter\n",
    "import numpy as np\n",
    "from tqdm import tqdm\n",
    "\n",
    "def kanRL(config):\n",
    "      set_all_seeds(config[\"seed\"])\n",
    "      env = BenchmarkEnvironment(dataset_name='FashionMNIST', batch_size=config[\"batch_size\"], feedback_sigma=5.0)    #MNISTEnvironment(config[\"batch_size\"])\n",
    "      results_dir = 'results'\n",
    "\n",
    "      # Check if the directory exists before trying to delete it\n",
    "      # if os.path.exists(results_dir) and os.path.isdir(results_dir):\n",
    "      #     shutil.rmtree(results_dir)\n",
    "      #     print(f\"Directory '{results_dir}' has been deleted.\")\n",
    "      # else:\n",
    "      #     print(f\"Directory '{results_dir}' does not exist.\")\n",
    "\n",
    "      input_shape = (config['first_channel'], int(config['input_size']**0.5), int(config['input_size']**0.5))  # Change this to the desired input shape\n",
    "      print(input_shape)\n",
    "      agent = FSNet(input_shape, config['num_filters'], config['num_conv_layers'], config['hidden_dim'], distribution=config['distribution'], tau=config['initial_tau'])\n",
    "      print(agent)\n",
    "\n",
    "      if config[\"feature_selection\"] == True:\n",
    "          example_input = torch.randn(*input_shape)\n",
    "          features, _, _ = agent(example_input)\n",
    "          n_features = features.shape[1]\n",
    "          print(n_features)\n",
    "      else:\n",
    "          n_features = config[\"input_size\"]\n",
    "\n",
    "      if config[\"method\"] == \"KAN\":\n",
    "          q_network = KAN(\n",
    "              width=[n_features, config[\"width\"], config[\"output_size\"]],\n",
    "              grid=config[\"grid\"],\n",
    "              k=3,\n",
    "              bias_trainable=False,\n",
    "              sp_trainable=False,\n",
    "              sb_trainable=False,\n",
    "          )\n",
    "          target_network = KAN(\n",
    "              width=[n_features, config[\"width\"], config[\"output_size\"]],\n",
    "              grid=config[\"grid\"],\n",
    "              k=3,\n",
    "              bias_trainable=False,\n",
    "              sp_trainable=False,\n",
    "              sb_trainable=False,\n",
    "          )\n",
    "          train = kan_train\n",
    "      elif config[\"method\"] == \"MLP\":\n",
    "          q_network = nn.Sequential(\n",
    "              nn.Linear(n_features, config[\"width\"]),\n",
    "              nn.ReLU(),\n",
    "              nn.Linear(config[\"width\"], config[\"output_size\"]),\n",
    "          )\n",
    "          target_network = nn.Sequential(\n",
    "              nn.Linear(n_features, config[\"width\"]),\n",
    "              nn.ReLU(),\n",
    "              nn.Linear(config[\"width\"], config[\"output_size\"]),\n",
    "          )\n",
    "          train = mlp_train\n",
    "      else:\n",
    "          raise Exception(\n",
    "              f\"Method {config['method']} doesn't exist, choose between MLP and KAN.\"\n",
    "          )\n",
    "\n",
    "      target_network.load_state_dict(q_network.state_dict())\n",
    "\n",
    "      run_name = f\"{config['method']}_MNIST_{config['seed']}_{int(time.time())}\"\n",
    "\n",
    "      writer = SummaryWriter(f\"runs/{run_name}\")\n",
    "\n",
    "      os.makedirs(\"results\", exist_ok=True)\n",
    "      with open(f\"results/{run_name}.csv\", \"w\") as f:\n",
    "          f.write(\"epoch,accuracy\\n\")\n",
    "\n",
    "\n",
    "      optimizer = optim.Adam(list(agent.parameters())+list(q_network.parameters()), lr = config[\"learning_rate\"], weight_decay = config[\"weight_decay\"])\n",
    "      # Define learning rate scheduler\n",
    "      scheduler = optim.lr_scheduler.ExponentialLR(optimizer, gamma=config['gamma'])\n",
    "\n",
    "      writer.add_text(\n",
    "          \"hyperparameters\",\n",
    "          \"|param|value|\\n|-|-|\\n%s\"\n",
    "          % (\"\\n\".join([f\"|{key}|{value}|\" for key, value in config.items()])),\n",
    "      )\n",
    "\n",
    "      replay_buffer = ReplayBuffer(config[\"buffer_size\"], n_features) # change here if the input size changes\n",
    "\n",
    "      train_accuracies = []\n",
    "      test_accuracies = []\n",
    "      train_acc_stds = []\n",
    "      test_acc_stds = []\n",
    "      episode_lengths = []\n",
    "      losses = []\n",
    "      loss_stds = []\n",
    "      probs_history = []\n",
    "      feedback_cost_history = []\n",
    "\n",
    "      # Training phase\n",
    "      for epoch in tqdm(range(config[\"n_epochs\"]), desc=f\"{run_name}\"):\n",
    "          running_loss = 0.0\n",
    "          correct = 0\n",
    "          total = 0\n",
    "          probs_batch_list = []\n",
    "          feedback_cost_tot = 0\n",
    "\n",
    "          for _ in range(len(env.loader)):\n",
    "              state, label, feedback = env.step()\n",
    "              feedback = feedback.view(-1, config['input_size'])\n",
    "\n",
    "              if config[\"feature_selection\"] == True:\n",
    "                  flat_zoom_X, feedback_cost, probs = agent.forward(state, feedback, epoch, config[\"n_epochs\"])\n",
    "                  # Collect the probabilities and feedback costs\n",
    "                  probs_batch_list.append(probs.detach().cpu().numpy())\n",
    "                  feedback_cost_tot += feedback_cost.detach().cpu().numpy()\n",
    "                  # Calculate regularization loss\n",
    "                  state = flat_zoom_X\n",
    "              else:\n",
    "                  state = state.view(-1, config['input_size'])\n",
    "                  probs_batch_list.append(torch.zeros((1, int(config['input_size']))))\n",
    "                  probs = torch.zeros((1, int(config['input_size'])))\n",
    "                  feedback_cost = torch.zeros(1)\n",
    "                  feedback_cost_tot += torch.zeros(1)\n",
    "\n",
    "              # Forward pass\n",
    "              if epoch < config[\"warm_up_episodes\"]:\n",
    "                  action = torch.tensor([random.randint(0, 9)])\n",
    "              else:\n",
    "                  with torch.no_grad():\n",
    "                      action = q_network(state).argmax(axis=-1).squeeze().item()\n",
    "\n",
    "              reward = torch.tensor([1.0]) if action == label else torch.tensor([0.0])\n",
    "              next_state, next_label, _ = env.step()\n",
    "              if config[\"feature_selection\"] == True:\n",
    "                  next_state, _, _ = agent.forward(next_state)\n",
    "              else:\n",
    "                  next_state = next_state.view(-1, config['input_size'])\n",
    "\n",
    "              replay_buffer.add(state, action, next_state, reward, torch.tensor([1]))\n",
    "\n",
    "              if len(replay_buffer) > config[\"batch_size\"]:\n",
    "                  batch = replay_buffer.sample(config[\"batch_size\"])\n",
    "                  loss = train(\n",
    "                      q_network,\n",
    "                      target_network,\n",
    "                      batch,\n",
    "                      optimizer,\n",
    "                      gamma=config[\"gamma\"],\n",
    "                      feedback_cost = feedback_cost,\n",
    "                      feature_selection = config['feature_selection'],\n",
    "                  )\n",
    "                  running_loss += loss\n",
    "\n",
    "              correct += (action == label).sum().item()\n",
    "              total += 1\n",
    "\n",
    "          scheduler.step()\n",
    "          print()\n",
    "          print('correct:', correct, 'total:', total)\n",
    "          print('loss:', running_loss/total)\n",
    "          train_accuracy = correct / total\n",
    "          print(' Train accuracy: ', train_accuracy, '| ')\n",
    "          train_accuracies.append(train_accuracy)\n",
    "          losses.append(running_loss/total)\n",
    "\n",
    "          # Aggregate probabilities by averaging across the batch\n",
    "          avg_probs = np.mean(np.array(probs_batch_list), axis=0)\n",
    "          probs_history.append(avg_probs)\n",
    "          # Compute feedback cost\n",
    "          feedback_cost_history.append(feedback_cost_tot / len(env.loader))\n",
    "\n",
    "          if (\n",
    "              epoch % 25 == 0\n",
    "              and config[\"method\"] == \"KAN\"\n",
    "              and epoch < int(config[\"n_epochs\"] * (1 / 2))\n",
    "          ):\n",
    "              q_network.update_grid_from_samples(replay_buffer.observations[: len(replay_buffer)])\n",
    "              target_network.update_grid_from_samples(replay_buffer.observations[: len(replay_buffer)])\n",
    "\n",
    "          if epoch % config[\"target_update\"] == 0:\n",
    "              target_network.load_state_dict(q_network.state_dict())\n",
    "\n",
    "\n",
    "          correct = 0\n",
    "          total = 0\n",
    "          with torch.no_grad():\n",
    "                  # transforms.Normalize((0.1307,), (0.3081,)) # MNIST\n",
    "                  # transforms.Normalize((0.5,), (0.5,)) # FashionMNIST\n",
    "                  # transforms.Normalize((0.4914, 0.4822, 0.4465), (0.247, 0.243, 0.261)), # CIFAR10\n",
    "                  # transforms.Normalize((0.50707516, 0.48654887, 0.44091784), (0.26733429, 0.25643846, 0.27615047)), # CIFAR100\n",
    "              for images, labels in DataLoader(datasets.FashionMNIST('./data', train=False, download=True, transform=transforms.Compose([\n",
    "                  transforms.Resize((int(config['input_size']**0.5), int(config['input_size']**0.5))),\n",
    "                  transforms.ToTensor(),\n",
    "                  transforms.Normalize((0.5,), (0.5,)), # FashionMNIST\n",
    "                  transforms.Grayscale(num_output_channels=1)\n",
    "              ])), batch_size=config[\"batch_size\"]):\n",
    "                  state = images.view(-1,config[\"input_size\"])\n",
    "\n",
    "                  if config[\"feature_selection\"] == True:\n",
    "                      flat_zoom_X, _, _ = agent(state)\n",
    "                      state = flat_zoom_X\n",
    "\n",
    "                  outputs = q_network(state)\n",
    "                  _, predicted = torch.max(outputs.data, 1)\n",
    "                  total += labels.size(0)\n",
    "                  correct += (predicted == labels).sum().item()\n",
    "\n",
    "          test_accuracy = correct / total\n",
    "          print(' Test accuracy: ', test_accuracy)\n",
    "          test_accuracies.append(test_accuracy)\n",
    "\n",
    "          writer.add_scalar(\"Loss/train\", running_loss / total, epoch)\n",
    "          writer.add_scalar(\"Accuracy/train\", train_accuracy, epoch)\n",
    "          writer.add_scalar(\"Accuracy/test\", test_accuracy, epoch)\n",
    "\n",
    "          with open(f\"results/{run_name}.csv\", \"a\") as f:\n",
    "              f.write(f\"{epoch},{test_accuracy}\\n\")\n",
    "\n",
    "\n",
    "      # Calculate standard deviations\n",
    "      train_acc_stds = [np.std(train_accuracies[max(0, i-10):i+1]) for i in range(len(train_accuracies))]\n",
    "      test_acc_stds = [np.std(test_accuracies[max(0, i-10):i+1]) for i in range(len(test_accuracies))]\n",
    "      loss_stds = [np.std(losses[max(0, i-10):i+1]) for i in range(len(losses))]\n",
    "\n",
    "      epochs = np.arange(len(train_accuracies))\n",
    "\n",
    "      #### With uncertainty ########\n",
    "      plt.figure(figsize=(12, 5))\n",
    "\n",
    "      plt.subplot(1, 2, 1)\n",
    "      plt.plot(epochs, train_accuracies, label='Train Accuracy')\n",
    "      plt.fill_between(epochs, np.array(train_accuracies) - np.array(train_acc_stds), np.array(train_accuracies) + np.array(train_acc_stds), alpha=0.3)\n",
    "      plt.plot(epochs, test_accuracies, label='Test Accuracy')\n",
    "      plt.fill_between(epochs, np.array(test_accuracies) - np.array(test_acc_stds), np.array(test_accuracies) + np.array(test_acc_stds), alpha=0.3)\n",
    "      plt.xlabel('Epoch')\n",
    "      plt.ylabel('Accuracy')\n",
    "      plt.legend()\n",
    "      plt.title('Accuracy over Time')\n",
    "\n",
    "      plt.subplot(1, 2, 2)\n",
    "      plt.plot(epochs, losses, label='Loss')\n",
    "      plt.fill_between(epochs, np.array(losses) - np.array(loss_stds), np.array(losses) + np.array(loss_stds), alpha=0.3)\n",
    "      plt.xlabel('Epoch')\n",
    "      plt.ylabel('Loss')\n",
    "      plt.legend()\n",
    "      plt.title('Loss over Time')\n",
    "\n",
    "      plt.tight_layout()\n",
    "      plt.show()\n",
    "\n",
    "\n",
    "      ##### Without uncertainty ########\n",
    "      plt.figure(figsize=(12, 5))\n",
    "\n",
    "      plt.subplot(1, 2, 1)\n",
    "      plt.plot(epochs, train_accuracies, label='Train Accuracy')\n",
    "      plt.plot(epochs, test_accuracies, label='Test Accuracy')\n",
    "      plt.xlabel('Epoch')\n",
    "      plt.ylabel('Accuracy')\n",
    "      plt.legend()\n",
    "      plt.title('Accuracy over Time')\n",
    "\n",
    "      plt.subplot(1, 2, 2)\n",
    "      plt.plot(epochs, losses, label='Loss')\n",
    "      plt.xlabel('Epoch')\n",
    "      plt.ylabel('Loss')\n",
    "      plt.legend()\n",
    "      plt.title('Loss over Time')\n",
    "\n",
    "      plt.tight_layout()\n",
    "      plt.show()\n",
    "\n",
    "      # Print final accuracy with +/- error\n",
    "      final_train_accuracy = train_accuracies[-1]\n",
    "      final_train_acc_std = train_acc_stds[-1]\n",
    "      final_test_accuracy = test_accuracies[-1]\n",
    "      final_test_acc_std = test_acc_stds[-1]\n",
    "\n",
    "      print(f\"Final Train Accuracy: {final_train_accuracy:.2f} ± {final_train_acc_std:.2f}\")\n",
    "      print(f\"Final Test Accuracy: {final_test_accuracy:.2f} ± {final_test_acc_std:.2f}\")\n",
    "\n",
    "\n",
    "      return q_network, train_accuracies, test_accuracies, losses, probs_history, feedback_cost_history, train_acc_stds, test_acc_stds, loss_stds, agent\n"
   ]
  },
  {
   "cell_type": "markdown",
   "id": "2f58b624",
   "metadata": {
    "papermill": {
     "duration": 0.011296,
     "end_time": "2024-08-21T14:09:20.394502",
     "exception": false,
     "start_time": "2024-08-21T14:09:20.383206",
     "status": "completed"
    },
    "tags": []
   },
   "source": [
    "# KAN width=8 grid=2"
   ]
  },
  {
   "cell_type": "code",
   "execution_count": 6,
   "id": "f866f85c",
   "metadata": {
    "execution": {
     "iopub.execute_input": "2024-08-21T14:09:20.419898Z",
     "iopub.status.busy": "2024-08-21T14:09:20.419528Z",
     "iopub.status.idle": "2024-08-21T19:21:18.271543Z",
     "shell.execute_reply": "2024-08-21T19:21:18.270245Z"
    },
    "id": "JDuSwacf9fse",
    "outputId": "0a5f0407-ed77-4f23-b8dc-af933d33fcab",
    "papermill": {
     "duration": 18717.870474,
     "end_time": "2024-08-21T19:21:18.276568",
     "exception": false,
     "start_time": "2024-08-21T14:09:20.406094",
     "status": "completed"
    },
    "scrolled": true,
    "tags": []
   },
   "outputs": [
    {
     "name": "stdout",
     "output_type": "stream",
     "text": [
      "(1, 8, 8)\n",
      "FSNet(\n",
      "  (feature_extractor): Sequential(\n",
      "    (0): Conv2d(1, 8, kernel_size=(3, 3), stride=(1, 1), padding=(1, 1))\n",
      "    (1): ReLU()\n",
      "    (2): MaxPool2d(kernel_size=2, stride=2, padding=0, dilation=1, ceil_mode=False)\n",
      "    (3): Conv2d(8, 16, kernel_size=(3, 3), stride=(1, 1), padding=(1, 1))\n",
      "    (4): ReLU()\n",
      "    (5): MaxPool2d(kernel_size=2, stride=2, padding=0, dilation=1, ceil_mode=False)\n",
      "    (6): Flatten(start_dim=1, end_dim=-1)\n",
      "  )\n",
      "  (fc1): Linear(in_features=64, out_features=128, bias=True)\n",
      "  (relu): ReLU()\n",
      "  (dropout): Dropout(p=0.25, inplace=False)\n",
      "  (fc2): Linear(in_features=128, out_features=64, bias=True)\n",
      "  (sigmoid): Sigmoid()\n",
      "  (softmax): Softmax(dim=-1)\n",
      ")\n",
      "64\n"
     ]
    },
    {
     "name": "stderr",
     "output_type": "stream",
     "text": [
      "KAN_MNIST_0_1724249360:   0%|          | 0/100 [00:00<?, ?it/s]"
     ]
    },
    {
     "name": "stdout",
     "output_type": "stream",
     "text": [
      "\n",
      "correct: 47 total: 469\n",
      "loss: 0.06577186656595548\n",
      " Train accuracy:  0.10021321961620469 | \n"
     ]
    },
    {
     "name": "stderr",
     "output_type": "stream",
     "text": [
      "KAN_MNIST_0_1724249360:   1%|          | 1/100 [01:52<3:05:23, 112.36s/it]"
     ]
    },
    {
     "name": "stdout",
     "output_type": "stream",
     "text": [
      " Test accuracy:  0.1583\n",
      "\n",
      "correct: 40 total: 469\n",
      "loss: 0.06121986808934446\n",
      " Train accuracy:  0.08528784648187633 | \n"
     ]
    },
    {
     "name": "stderr",
     "output_type": "stream",
     "text": [
      "KAN_MNIST_0_1724249360:   2%|▏         | 2/100 [04:28<3:45:30, 138.07s/it]"
     ]
    },
    {
     "name": "stdout",
     "output_type": "stream",
     "text": [
      " Test accuracy:  0.4655\n",
      "\n",
      "correct: 219 total: 469\n",
      "loss: 0.06269692854364035\n",
      " Train accuracy:  0.4669509594882729 | \n"
     ]
    },
    {
     "name": "stderr",
     "output_type": "stream",
     "text": [
      "KAN_MNIST_0_1724249360:   3%|▎         | 3/100 [07:24<4:11:09, 155.35s/it]"
     ]
    },
    {
     "name": "stdout",
     "output_type": "stream",
     "text": [
      " Test accuracy:  0.496\n",
      "\n",
      "correct: 222 total: 469\n",
      "loss: 0.06937598555422286\n",
      " Train accuracy:  0.47334754797441364 | \n"
     ]
    },
    {
     "name": "stderr",
     "output_type": "stream",
     "text": [
      "KAN_MNIST_0_1724249360:   4%|▍         | 4/100 [10:20<4:21:42, 163.57s/it]"
     ]
    },
    {
     "name": "stdout",
     "output_type": "stream",
     "text": [
      " Test accuracy:  0.4939\n",
      "\n",
      "correct: 235 total: 469\n",
      "loss: 0.07354336174756987\n",
      " Train accuracy:  0.5010660980810234 | \n"
     ]
    },
    {
     "name": "stderr",
     "output_type": "stream",
     "text": [
      "KAN_MNIST_0_1724249360:   5%|▌         | 5/100 [13:17<4:26:52, 168.55s/it]"
     ]
    },
    {
     "name": "stdout",
     "output_type": "stream",
     "text": [
      " Test accuracy:  0.5132\n",
      "\n",
      "correct: 243 total: 469\n",
      "loss: 0.07680657906318779\n",
      " Train accuracy:  0.5181236673773987 | \n"
     ]
    },
    {
     "name": "stderr",
     "output_type": "stream",
     "text": [
      "KAN_MNIST_0_1724249360:   6%|▌         | 6/100 [16:15<4:28:58, 171.69s/it]"
     ]
    },
    {
     "name": "stdout",
     "output_type": "stream",
     "text": [
      " Test accuracy:  0.5239\n",
      "\n",
      "correct: 265 total: 469\n",
      "loss: 0.07977685370424917\n",
      " Train accuracy:  0.5650319829424307 | \n"
     ]
    },
    {
     "name": "stderr",
     "output_type": "stream",
     "text": [
      "KAN_MNIST_0_1724249360:   7%|▋         | 7/100 [19:13<4:29:08, 173.64s/it]"
     ]
    },
    {
     "name": "stdout",
     "output_type": "stream",
     "text": [
      " Test accuracy:  0.5412\n",
      "\n",
      "correct: 247 total: 469\n",
      "loss: 0.08343120854991332\n",
      " Train accuracy:  0.5266524520255863 | \n"
     ]
    },
    {
     "name": "stderr",
     "output_type": "stream",
     "text": [
      "KAN_MNIST_0_1724249360:   8%|▊         | 8/100 [22:12<4:28:51, 175.34s/it]"
     ]
    },
    {
     "name": "stdout",
     "output_type": "stream",
     "text": [
      " Test accuracy:  0.5444\n",
      "\n",
      "correct: 254 total: 469\n",
      "loss: 0.08719370037571454\n",
      " Train accuracy:  0.5415778251599147 | \n"
     ]
    },
    {
     "name": "stderr",
     "output_type": "stream",
     "text": [
      "KAN_MNIST_0_1724249360:   9%|▉         | 9/100 [25:12<4:28:02, 176.73s/it]"
     ]
    },
    {
     "name": "stdout",
     "output_type": "stream",
     "text": [
      " Test accuracy:  0.5583\n",
      "\n",
      "correct: 264 total: 469\n",
      "loss: 0.08857447644477205\n",
      " Train accuracy:  0.5628997867803838 | \n"
     ]
    },
    {
     "name": "stderr",
     "output_type": "stream",
     "text": [
      "KAN_MNIST_0_1724249360:  10%|█         | 10/100 [28:12<4:26:42, 177.80s/it]"
     ]
    },
    {
     "name": "stdout",
     "output_type": "stream",
     "text": [
      " Test accuracy:  0.5672\n",
      "\n",
      "correct: 266 total: 469\n",
      "loss: 0.09078827784704502\n",
      " Train accuracy:  0.5671641791044776 | \n"
     ]
    },
    {
     "name": "stderr",
     "output_type": "stream",
     "text": [
      "KAN_MNIST_0_1724249360:  11%|█         | 11/100 [31:12<4:25:02, 178.68s/it]"
     ]
    },
    {
     "name": "stdout",
     "output_type": "stream",
     "text": [
      " Test accuracy:  0.5763\n",
      "\n",
      "correct: 261 total: 469\n",
      "loss: 0.09288633730747044\n",
      " Train accuracy:  0.5565031982942431 | \n"
     ]
    },
    {
     "name": "stderr",
     "output_type": "stream",
     "text": [
      "KAN_MNIST_0_1724249360:  12%|█▏        | 12/100 [34:14<4:23:21, 179.56s/it]"
     ]
    },
    {
     "name": "stdout",
     "output_type": "stream",
     "text": [
      " Test accuracy:  0.5781\n",
      "\n",
      "correct: 273 total: 469\n",
      "loss: 0.09416023003203529\n",
      " Train accuracy:  0.582089552238806 | \n"
     ]
    },
    {
     "name": "stderr",
     "output_type": "stream",
     "text": [
      "KAN_MNIST_0_1724249360:  13%|█▎        | 13/100 [37:15<4:21:04, 180.05s/it]"
     ]
    },
    {
     "name": "stdout",
     "output_type": "stream",
     "text": [
      " Test accuracy:  0.5926\n",
      "\n",
      "correct: 277 total: 469\n",
      "loss: 0.09582843718879512\n",
      " Train accuracy:  0.5906183368869936 | \n"
     ]
    },
    {
     "name": "stderr",
     "output_type": "stream",
     "text": [
      "KAN_MNIST_0_1724249360:  14%|█▍        | 14/100 [40:16<4:18:28, 180.33s/it]"
     ]
    },
    {
     "name": "stdout",
     "output_type": "stream",
     "text": [
      " Test accuracy:  0.5892\n",
      "\n",
      "correct: 262 total: 469\n",
      "loss: 0.095357354785969\n",
      " Train accuracy:  0.55863539445629 | \n"
     ]
    },
    {
     "name": "stderr",
     "output_type": "stream",
     "text": [
      "KAN_MNIST_0_1724249360:  15%|█▌        | 15/100 [43:18<4:16:07, 180.80s/it]"
     ]
    },
    {
     "name": "stdout",
     "output_type": "stream",
     "text": [
      " Test accuracy:  0.6017\n",
      "\n",
      "correct: 295 total: 469\n",
      "loss: 0.0974510367205148\n",
      " Train accuracy:  0.6289978678038379 | \n"
     ]
    },
    {
     "name": "stderr",
     "output_type": "stream",
     "text": [
      "KAN_MNIST_0_1724249360:  16%|█▌        | 16/100 [46:21<4:13:55, 181.38s/it]"
     ]
    },
    {
     "name": "stdout",
     "output_type": "stream",
     "text": [
      " Test accuracy:  0.6161\n",
      "\n",
      "correct: 293 total: 469\n",
      "loss: 0.09736204017072853\n",
      " Train accuracy:  0.6247334754797441 | \n"
     ]
    },
    {
     "name": "stderr",
     "output_type": "stream",
     "text": [
      "KAN_MNIST_0_1724249360:  17%|█▋        | 17/100 [49:23<4:11:07, 181.54s/it]"
     ]
    },
    {
     "name": "stdout",
     "output_type": "stream",
     "text": [
      " Test accuracy:  0.5986\n",
      "\n",
      "correct: 308 total: 469\n",
      "loss: 0.09811229611447117\n",
      " Train accuracy:  0.6567164179104478 | \n"
     ]
    },
    {
     "name": "stderr",
     "output_type": "stream",
     "text": [
      "KAN_MNIST_0_1724249360:  18%|█▊        | 18/100 [52:26<4:08:45, 182.02s/it]"
     ]
    },
    {
     "name": "stdout",
     "output_type": "stream",
     "text": [
      " Test accuracy:  0.6099\n",
      "\n",
      "correct: 297 total: 469\n",
      "loss: 0.0991495092953446\n",
      " Train accuracy:  0.6332622601279317 | \n"
     ]
    },
    {
     "name": "stderr",
     "output_type": "stream",
     "text": [
      "KAN_MNIST_0_1724249360:  19%|█▉        | 19/100 [55:28<4:05:54, 182.15s/it]"
     ]
    },
    {
     "name": "stdout",
     "output_type": "stream",
     "text": [
      " Test accuracy:  0.6184\n",
      "\n",
      "correct: 287 total: 469\n",
      "loss: 0.0992218379749418\n",
      " Train accuracy:  0.6119402985074627 | \n"
     ]
    },
    {
     "name": "stderr",
     "output_type": "stream",
     "text": [
      "KAN_MNIST_0_1724249360:  20%|██        | 20/100 [58:31<4:03:10, 182.38s/it]"
     ]
    },
    {
     "name": "stdout",
     "output_type": "stream",
     "text": [
      " Test accuracy:  0.6045\n",
      "\n",
      "correct: 294 total: 469\n",
      "loss: 0.10018745431704308\n",
      " Train accuracy:  0.6268656716417911 | \n"
     ]
    },
    {
     "name": "stderr",
     "output_type": "stream",
     "text": [
      "KAN_MNIST_0_1724249360:  21%|██        | 21/100 [1:01:34<4:00:14, 182.46s/it]"
     ]
    },
    {
     "name": "stdout",
     "output_type": "stream",
     "text": [
      " Test accuracy:  0.618\n",
      "\n",
      "correct: 299 total: 469\n",
      "loss: 0.10117662033991519\n",
      " Train accuracy:  0.6375266524520256 | \n"
     ]
    },
    {
     "name": "stderr",
     "output_type": "stream",
     "text": [
      "KAN_MNIST_0_1724249360:  22%|██▏       | 22/100 [1:04:38<3:57:38, 182.81s/it]"
     ]
    },
    {
     "name": "stdout",
     "output_type": "stream",
     "text": [
      " Test accuracy:  0.6316\n",
      "\n",
      "correct: 298 total: 469\n",
      "loss: 0.10210240230377295\n",
      " Train accuracy:  0.6353944562899787 | \n"
     ]
    },
    {
     "name": "stderr",
     "output_type": "stream",
     "text": [
      "KAN_MNIST_0_1724249360:  23%|██▎       | 23/100 [1:07:41<3:54:41, 182.88s/it]"
     ]
    },
    {
     "name": "stdout",
     "output_type": "stream",
     "text": [
      " Test accuracy:  0.6214\n",
      "\n",
      "correct: 297 total: 469\n",
      "loss: 0.10127380849328885\n",
      " Train accuracy:  0.6332622601279317 | \n"
     ]
    },
    {
     "name": "stderr",
     "output_type": "stream",
     "text": [
      "KAN_MNIST_0_1724249360:  24%|██▍       | 24/100 [1:10:43<3:51:37, 182.86s/it]"
     ]
    },
    {
     "name": "stdout",
     "output_type": "stream",
     "text": [
      " Test accuracy:  0.6352\n",
      "\n",
      "correct: 293 total: 469\n",
      "loss: 0.1036774536122137\n",
      " Train accuracy:  0.6247334754797441 | \n"
     ]
    },
    {
     "name": "stderr",
     "output_type": "stream",
     "text": [
      "KAN_MNIST_0_1724249360:  25%|██▌       | 25/100 [1:13:46<3:48:25, 182.74s/it]"
     ]
    },
    {
     "name": "stdout",
     "output_type": "stream",
     "text": [
      " Test accuracy:  0.6285\n",
      "\n",
      "correct: 287 total: 469\n",
      "loss: 0.10469638926388104\n",
      " Train accuracy:  0.6119402985074627 | \n"
     ]
    },
    {
     "name": "stderr",
     "output_type": "stream",
     "text": [
      "KAN_MNIST_0_1724249360:  26%|██▌       | 26/100 [1:17:15<3:55:09, 190.67s/it]"
     ]
    },
    {
     "name": "stdout",
     "output_type": "stream",
     "text": [
      " Test accuracy:  0.6372\n",
      "\n",
      "correct: 288 total: 469\n",
      "loss: 0.11038495328571242\n",
      " Train accuracy:  0.6140724946695096 | \n"
     ]
    },
    {
     "name": "stderr",
     "output_type": "stream",
     "text": [
      "KAN_MNIST_0_1724249360:  27%|██▋       | 27/100 [1:20:18<3:49:06, 188.30s/it]"
     ]
    },
    {
     "name": "stdout",
     "output_type": "stream",
     "text": [
      " Test accuracy:  0.6521\n",
      "\n",
      "correct: 301 total: 469\n",
      "loss: 0.10987035507586465\n",
      " Train accuracy:  0.6417910447761194 | \n"
     ]
    },
    {
     "name": "stderr",
     "output_type": "stream",
     "text": [
      "KAN_MNIST_0_1724249360:  28%|██▊       | 28/100 [1:23:20<3:43:37, 186.35s/it]"
     ]
    },
    {
     "name": "stdout",
     "output_type": "stream",
     "text": [
      " Test accuracy:  0.6615\n",
      "\n",
      "correct: 328 total: 469\n",
      "loss: 0.10887107842448931\n",
      " Train accuracy:  0.6993603411513859 | \n"
     ]
    },
    {
     "name": "stderr",
     "output_type": "stream",
     "text": [
      "KAN_MNIST_0_1724249360:  29%|██▉       | 29/100 [1:26:22<3:39:09, 185.20s/it]"
     ]
    },
    {
     "name": "stdout",
     "output_type": "stream",
     "text": [
      " Test accuracy:  0.6552\n",
      "\n",
      "correct: 328 total: 469\n",
      "loss: 0.10983674056621502\n",
      " Train accuracy:  0.6993603411513859 | \n"
     ]
    },
    {
     "name": "stderr",
     "output_type": "stream",
     "text": [
      "KAN_MNIST_0_1724249360:  30%|███       | 30/100 [1:29:31<3:37:24, 186.35s/it]"
     ]
    },
    {
     "name": "stdout",
     "output_type": "stream",
     "text": [
      " Test accuracy:  0.653\n",
      "\n",
      "correct: 308 total: 469\n",
      "loss: 0.10955044206208003\n",
      " Train accuracy:  0.6567164179104478 | \n"
     ]
    },
    {
     "name": "stderr",
     "output_type": "stream",
     "text": [
      "KAN_MNIST_0_1724249360:  31%|███       | 31/100 [1:32:41<3:35:22, 187.28s/it]"
     ]
    },
    {
     "name": "stdout",
     "output_type": "stream",
     "text": [
      " Test accuracy:  0.6581\n",
      "\n",
      "correct: 318 total: 469\n",
      "loss: 0.10969376716532432\n",
      " Train accuracy:  0.6780383795309168 | \n"
     ]
    },
    {
     "name": "stderr",
     "output_type": "stream",
     "text": [
      "KAN_MNIST_0_1724249360:  32%|███▏      | 32/100 [1:35:50<3:33:04, 188.00s/it]"
     ]
    },
    {
     "name": "stdout",
     "output_type": "stream",
     "text": [
      " Test accuracy:  0.6613\n",
      "\n",
      "correct: 298 total: 469\n",
      "loss: 0.10995603591076601\n",
      " Train accuracy:  0.6353944562899787 | \n"
     ]
    },
    {
     "name": "stderr",
     "output_type": "stream",
     "text": [
      "KAN_MNIST_0_1724249360:  33%|███▎      | 33/100 [1:38:59<3:30:02, 188.10s/it]"
     ]
    },
    {
     "name": "stdout",
     "output_type": "stream",
     "text": [
      " Test accuracy:  0.6719\n",
      "\n",
      "correct: 328 total: 469\n",
      "loss: 0.10980152635813267\n",
      " Train accuracy:  0.6993603411513859 | \n"
     ]
    },
    {
     "name": "stderr",
     "output_type": "stream",
     "text": [
      "KAN_MNIST_0_1724249360:  34%|███▍      | 34/100 [1:42:07<3:27:02, 188.22s/it]"
     ]
    },
    {
     "name": "stdout",
     "output_type": "stream",
     "text": [
      " Test accuracy:  0.6729\n",
      "\n",
      "correct: 309 total: 469\n",
      "loss: 0.11120567030744004\n",
      " Train accuracy:  0.6588486140724946 | \n"
     ]
    },
    {
     "name": "stderr",
     "output_type": "stream",
     "text": [
      "KAN_MNIST_0_1724249360:  35%|███▌      | 35/100 [1:45:15<3:23:57, 188.27s/it]"
     ]
    },
    {
     "name": "stdout",
     "output_type": "stream",
     "text": [
      " Test accuracy:  0.6794\n",
      "\n",
      "correct: 305 total: 469\n",
      "loss: 0.11023877100395496\n",
      " Train accuracy:  0.650319829424307 | \n"
     ]
    },
    {
     "name": "stderr",
     "output_type": "stream",
     "text": [
      "KAN_MNIST_0_1724249360:  36%|███▌      | 36/100 [1:48:24<3:20:52, 188.31s/it]"
     ]
    },
    {
     "name": "stdout",
     "output_type": "stream",
     "text": [
      " Test accuracy:  0.6821\n",
      "\n",
      "correct: 332 total: 469\n",
      "loss: 0.11005165985525289\n",
      " Train accuracy:  0.7078891257995735 | \n"
     ]
    },
    {
     "name": "stderr",
     "output_type": "stream",
     "text": [
      "KAN_MNIST_0_1724249360:  37%|███▋      | 37/100 [1:51:35<3:18:29, 189.04s/it]"
     ]
    },
    {
     "name": "stdout",
     "output_type": "stream",
     "text": [
      " Test accuracy:  0.6731\n",
      "\n",
      "correct: 310 total: 469\n",
      "loss: 0.11075487588323764\n",
      " Train accuracy:  0.6609808102345416 | \n"
     ]
    },
    {
     "name": "stderr",
     "output_type": "stream",
     "text": [
      "KAN_MNIST_0_1724249360:  38%|███▊      | 38/100 [1:54:45<3:15:40, 189.36s/it]"
     ]
    },
    {
     "name": "stdout",
     "output_type": "stream",
     "text": [
      " Test accuracy:  0.6773\n",
      "\n",
      "correct: 310 total: 469\n",
      "loss: 0.10952579997368712\n",
      " Train accuracy:  0.6609808102345416 | \n"
     ]
    },
    {
     "name": "stderr",
     "output_type": "stream",
     "text": [
      "KAN_MNIST_0_1724249360:  39%|███▉      | 39/100 [1:57:54<3:12:36, 189.45s/it]"
     ]
    },
    {
     "name": "stdout",
     "output_type": "stream",
     "text": [
      " Test accuracy:  0.6764\n",
      "\n",
      "correct: 325 total: 469\n",
      "loss: 0.11013337788678436\n",
      " Train accuracy:  0.6929637526652452 | \n"
     ]
    },
    {
     "name": "stderr",
     "output_type": "stream",
     "text": [
      "KAN_MNIST_0_1724249360:  40%|████      | 40/100 [2:01:04<3:09:27, 189.47s/it]"
     ]
    },
    {
     "name": "stdout",
     "output_type": "stream",
     "text": [
      " Test accuracy:  0.6873\n",
      "\n",
      "correct: 324 total: 469\n",
      "loss: 0.110612100121309\n",
      " Train accuracy:  0.6908315565031983 | \n"
     ]
    },
    {
     "name": "stderr",
     "output_type": "stream",
     "text": [
      "KAN_MNIST_0_1724249360:  41%|████      | 41/100 [2:04:13<3:06:15, 189.42s/it]"
     ]
    },
    {
     "name": "stdout",
     "output_type": "stream",
     "text": [
      " Test accuracy:  0.6822\n",
      "\n",
      "correct: 342 total: 469\n",
      "loss: 0.11057403205490823\n",
      " Train accuracy:  0.7292110874200426 | \n"
     ]
    },
    {
     "name": "stderr",
     "output_type": "stream",
     "text": [
      "KAN_MNIST_0_1724249360:  42%|████▏     | 42/100 [2:07:22<3:03:02, 189.35s/it]"
     ]
    },
    {
     "name": "stdout",
     "output_type": "stream",
     "text": [
      " Test accuracy:  0.6799\n",
      "\n",
      "correct: 332 total: 469\n",
      "loss: 0.11080973946463579\n",
      " Train accuracy:  0.7078891257995735 | \n"
     ]
    },
    {
     "name": "stderr",
     "output_type": "stream",
     "text": [
      "KAN_MNIST_0_1724249360:  43%|████▎     | 43/100 [2:10:32<2:59:57, 189.44s/it]"
     ]
    },
    {
     "name": "stdout",
     "output_type": "stream",
     "text": [
      " Test accuracy:  0.6716\n",
      "\n",
      "correct: 320 total: 469\n",
      "loss: 0.11113399729482147\n",
      " Train accuracy:  0.6823027718550106 | \n"
     ]
    },
    {
     "name": "stderr",
     "output_type": "stream",
     "text": [
      "KAN_MNIST_0_1724249360:  44%|████▍     | 44/100 [2:13:41<2:56:46, 189.41s/it]"
     ]
    },
    {
     "name": "stdout",
     "output_type": "stream",
     "text": [
      " Test accuracy:  0.6914\n",
      "\n",
      "correct: 307 total: 469\n",
      "loss: 0.11164755007224296\n",
      " Train accuracy:  0.6545842217484008 | \n"
     ]
    },
    {
     "name": "stderr",
     "output_type": "stream",
     "text": [
      "KAN_MNIST_0_1724249360:  45%|████▌     | 45/100 [2:16:51<2:53:40, 189.47s/it]"
     ]
    },
    {
     "name": "stdout",
     "output_type": "stream",
     "text": [
      " Test accuracy:  0.6855\n",
      "\n",
      "correct: 327 total: 469\n",
      "loss: 0.1120939947076952\n",
      " Train accuracy:  0.697228144989339 | \n"
     ]
    },
    {
     "name": "stderr",
     "output_type": "stream",
     "text": [
      "KAN_MNIST_0_1724249360:  46%|████▌     | 46/100 [2:20:00<2:50:22, 189.31s/it]"
     ]
    },
    {
     "name": "stdout",
     "output_type": "stream",
     "text": [
      " Test accuracy:  0.6831\n",
      "\n",
      "correct: 318 total: 469\n",
      "loss: 0.11121445339816466\n",
      " Train accuracy:  0.6780383795309168 | \n"
     ]
    },
    {
     "name": "stderr",
     "output_type": "stream",
     "text": [
      "KAN_MNIST_0_1724249360:  47%|████▋     | 47/100 [2:23:09<2:47:13, 189.31s/it]"
     ]
    },
    {
     "name": "stdout",
     "output_type": "stream",
     "text": [
      " Test accuracy:  0.673\n",
      "\n",
      "correct: 321 total: 469\n",
      "loss: 0.11287794996108581\n",
      " Train accuracy:  0.6844349680170576 | \n"
     ]
    },
    {
     "name": "stderr",
     "output_type": "stream",
     "text": [
      "KAN_MNIST_0_1724249360:  48%|████▊     | 48/100 [2:26:20<2:44:28, 189.79s/it]"
     ]
    },
    {
     "name": "stdout",
     "output_type": "stream",
     "text": [
      " Test accuracy:  0.6815\n",
      "\n",
      "correct: 328 total: 469\n",
      "loss: 0.11250646364714291\n",
      " Train accuracy:  0.6993603411513859 | \n"
     ]
    },
    {
     "name": "stderr",
     "output_type": "stream",
     "text": [
      "KAN_MNIST_0_1724249360:  49%|████▉     | 49/100 [2:29:30<2:41:15, 189.72s/it]"
     ]
    },
    {
     "name": "stdout",
     "output_type": "stream",
     "text": [
      " Test accuracy:  0.6875\n",
      "\n",
      "correct: 327 total: 469\n",
      "loss: 0.11235024584635997\n",
      " Train accuracy:  0.697228144989339 | \n"
     ]
    },
    {
     "name": "stderr",
     "output_type": "stream",
     "text": [
      "KAN_MNIST_0_1724249360:  50%|█████     | 50/100 [2:32:39<2:38:00, 189.61s/it]"
     ]
    },
    {
     "name": "stdout",
     "output_type": "stream",
     "text": [
      " Test accuracy:  0.6788\n",
      "\n",
      "correct: 327 total: 469\n",
      "loss: 0.11367467199879161\n",
      " Train accuracy:  0.697228144989339 | \n"
     ]
    },
    {
     "name": "stderr",
     "output_type": "stream",
     "text": [
      "KAN_MNIST_0_1724249360:  51%|█████     | 51/100 [2:35:48<2:34:42, 189.44s/it]"
     ]
    },
    {
     "name": "stdout",
     "output_type": "stream",
     "text": [
      " Test accuracy:  0.6873\n",
      "\n",
      "correct: 339 total: 469\n",
      "loss: 0.11218422657645333\n",
      " Train accuracy:  0.7228144989339019 | \n"
     ]
    },
    {
     "name": "stderr",
     "output_type": "stream",
     "text": [
      "KAN_MNIST_0_1724249360:  52%|█████▏    | 52/100 [2:38:59<2:31:49, 189.79s/it]"
     ]
    },
    {
     "name": "stdout",
     "output_type": "stream",
     "text": [
      " Test accuracy:  0.6891\n",
      "\n",
      "correct: 328 total: 469\n",
      "loss: 0.11261404383538375\n",
      " Train accuracy:  0.6993603411513859 | \n"
     ]
    },
    {
     "name": "stderr",
     "output_type": "stream",
     "text": [
      "KAN_MNIST_0_1724249360:  53%|█████▎    | 53/100 [2:42:09<2:28:53, 190.08s/it]"
     ]
    },
    {
     "name": "stdout",
     "output_type": "stream",
     "text": [
      " Test accuracy:  0.6846\n",
      "\n",
      "correct: 320 total: 469\n",
      "loss: 0.11213878192690643\n",
      " Train accuracy:  0.6823027718550106 | \n"
     ]
    },
    {
     "name": "stderr",
     "output_type": "stream",
     "text": [
      "KAN_MNIST_0_1724249360:  54%|█████▍    | 54/100 [2:45:20<2:25:52, 190.27s/it]"
     ]
    },
    {
     "name": "stdout",
     "output_type": "stream",
     "text": [
      " Test accuracy:  0.6687\n",
      "\n",
      "correct: 330 total: 469\n",
      "loss: 0.11282797682005713\n",
      " Train accuracy:  0.7036247334754797 | \n"
     ]
    },
    {
     "name": "stderr",
     "output_type": "stream",
     "text": [
      "KAN_MNIST_0_1724249360:  55%|█████▌    | 55/100 [2:48:30<2:22:41, 190.25s/it]"
     ]
    },
    {
     "name": "stdout",
     "output_type": "stream",
     "text": [
      " Test accuracy:  0.6807\n",
      "\n",
      "correct: 319 total: 469\n",
      "loss: 0.11250497311798495\n",
      " Train accuracy:  0.6801705756929638 | \n"
     ]
    },
    {
     "name": "stderr",
     "output_type": "stream",
     "text": [
      "KAN_MNIST_0_1724249360:  56%|█████▌    | 56/100 [2:51:41<2:19:31, 190.27s/it]"
     ]
    },
    {
     "name": "stdout",
     "output_type": "stream",
     "text": [
      " Test accuracy:  0.6845\n",
      "\n",
      "correct: 310 total: 469\n",
      "loss: 0.11300053490377439\n",
      " Train accuracy:  0.6609808102345416 | \n"
     ]
    },
    {
     "name": "stderr",
     "output_type": "stream",
     "text": [
      "KAN_MNIST_0_1724249360:  57%|█████▋    | 57/100 [2:54:51<2:16:26, 190.38s/it]"
     ]
    },
    {
     "name": "stdout",
     "output_type": "stream",
     "text": [
      " Test accuracy:  0.6918\n",
      "\n",
      "correct: 323 total: 469\n",
      "loss: 0.11304148302467139\n",
      " Train accuracy:  0.6886993603411514 | \n"
     ]
    },
    {
     "name": "stderr",
     "output_type": "stream",
     "text": [
      "KAN_MNIST_0_1724249360:  58%|█████▊    | 58/100 [2:58:03<2:13:28, 190.68s/it]"
     ]
    },
    {
     "name": "stdout",
     "output_type": "stream",
     "text": [
      " Test accuracy:  0.6957\n",
      "\n",
      "correct: 318 total: 469\n",
      "loss: 0.11370223503250049\n",
      " Train accuracy:  0.6780383795309168 | \n"
     ]
    },
    {
     "name": "stderr",
     "output_type": "stream",
     "text": [
      "KAN_MNIST_0_1724249360:  59%|█████▉    | 59/100 [3:01:14<2:10:23, 190.81s/it]"
     ]
    },
    {
     "name": "stdout",
     "output_type": "stream",
     "text": [
      " Test accuracy:  0.6839\n",
      "\n",
      "correct: 321 total: 469\n",
      "loss: 0.11399048828938876\n",
      " Train accuracy:  0.6844349680170576 | \n"
     ]
    },
    {
     "name": "stderr",
     "output_type": "stream",
     "text": [
      "KAN_MNIST_0_1724249360:  60%|██████    | 60/100 [3:04:24<2:07:03, 190.60s/it]"
     ]
    },
    {
     "name": "stdout",
     "output_type": "stream",
     "text": [
      " Test accuracy:  0.6884\n",
      "\n",
      "correct: 334 total: 469\n",
      "loss: 0.11340207581136272\n",
      " Train accuracy:  0.7121535181236673 | \n"
     ]
    },
    {
     "name": "stderr",
     "output_type": "stream",
     "text": [
      "KAN_MNIST_0_1724249360:  61%|██████    | 61/100 [3:07:34<2:03:52, 190.57s/it]"
     ]
    },
    {
     "name": "stdout",
     "output_type": "stream",
     "text": [
      " Test accuracy:  0.6889\n",
      "\n",
      "correct: 327 total: 469\n",
      "loss: 0.11379950090067219\n",
      " Train accuracy:  0.697228144989339 | \n"
     ]
    },
    {
     "name": "stderr",
     "output_type": "stream",
     "text": [
      "KAN_MNIST_0_1724249360:  62%|██████▏   | 62/100 [3:10:46<2:00:56, 190.95s/it]"
     ]
    },
    {
     "name": "stdout",
     "output_type": "stream",
     "text": [
      " Test accuracy:  0.689\n",
      "\n",
      "correct: 326 total: 469\n",
      "loss: 0.11331973900037534\n",
      " Train accuracy:  0.6950959488272921 | \n"
     ]
    },
    {
     "name": "stderr",
     "output_type": "stream",
     "text": [
      "KAN_MNIST_0_1724249360:  63%|██████▎   | 63/100 [3:13:57<1:57:39, 190.81s/it]"
     ]
    },
    {
     "name": "stdout",
     "output_type": "stream",
     "text": [
      " Test accuracy:  0.6951\n",
      "\n",
      "correct: 337 total: 469\n",
      "loss: 0.11381721792063479\n",
      " Train accuracy:  0.7185501066098081 | \n"
     ]
    },
    {
     "name": "stderr",
     "output_type": "stream",
     "text": [
      "KAN_MNIST_0_1724249360:  64%|██████▍   | 64/100 [3:17:09<1:54:41, 191.16s/it]"
     ]
    },
    {
     "name": "stdout",
     "output_type": "stream",
     "text": [
      " Test accuracy:  0.6857\n",
      "\n",
      "correct: 331 total: 469\n",
      "loss: 0.11360603909312027\n",
      " Train accuracy:  0.7057569296375267 | \n"
     ]
    },
    {
     "name": "stderr",
     "output_type": "stream",
     "text": [
      "KAN_MNIST_0_1724249360:  65%|██████▌   | 65/100 [3:20:21<1:51:40, 191.46s/it]"
     ]
    },
    {
     "name": "stdout",
     "output_type": "stream",
     "text": [
      " Test accuracy:  0.6934\n",
      "\n",
      "correct: 339 total: 469\n",
      "loss: 0.11333684044987408\n",
      " Train accuracy:  0.7228144989339019 | \n"
     ]
    },
    {
     "name": "stderr",
     "output_type": "stream",
     "text": [
      "KAN_MNIST_0_1724249360:  66%|██████▌   | 66/100 [3:23:31<1:48:19, 191.15s/it]"
     ]
    },
    {
     "name": "stdout",
     "output_type": "stream",
     "text": [
      " Test accuracy:  0.6907\n",
      "\n",
      "correct: 325 total: 469\n",
      "loss: 0.11380615812946739\n",
      " Train accuracy:  0.6929637526652452 | \n"
     ]
    },
    {
     "name": "stderr",
     "output_type": "stream",
     "text": [
      "KAN_MNIST_0_1724249360:  67%|██████▋   | 67/100 [3:26:43<1:45:10, 191.22s/it]"
     ]
    },
    {
     "name": "stdout",
     "output_type": "stream",
     "text": [
      " Test accuracy:  0.703\n",
      "\n",
      "correct: 329 total: 469\n",
      "loss: 0.11360440752717224\n",
      " Train accuracy:  0.7014925373134329 | \n"
     ]
    },
    {
     "name": "stderr",
     "output_type": "stream",
     "text": [
      "KAN_MNIST_0_1724249360:  68%|██████▊   | 68/100 [3:29:53<1:41:48, 190.88s/it]"
     ]
    },
    {
     "name": "stdout",
     "output_type": "stream",
     "text": [
      " Test accuracy:  0.6899\n",
      "\n",
      "correct: 320 total: 469\n",
      "loss: 0.11394801824840146\n",
      " Train accuracy:  0.6823027718550106 | \n"
     ]
    },
    {
     "name": "stderr",
     "output_type": "stream",
     "text": [
      "KAN_MNIST_0_1724249360:  69%|██████▉   | 69/100 [3:33:04<1:38:44, 191.10s/it]"
     ]
    },
    {
     "name": "stdout",
     "output_type": "stream",
     "text": [
      " Test accuracy:  0.6958\n",
      "\n",
      "correct: 331 total: 469\n",
      "loss: 0.11512594311031452\n",
      " Train accuracy:  0.7057569296375267 | \n"
     ]
    },
    {
     "name": "stderr",
     "output_type": "stream",
     "text": [
      "KAN_MNIST_0_1724249360:  70%|███████   | 70/100 [3:36:16<1:35:36, 191.22s/it]"
     ]
    },
    {
     "name": "stdout",
     "output_type": "stream",
     "text": [
      " Test accuracy:  0.6976\n",
      "\n",
      "correct: 311 total: 469\n",
      "loss: 0.11381423398693487\n",
      " Train accuracy:  0.6631130063965884 | \n"
     ]
    },
    {
     "name": "stderr",
     "output_type": "stream",
     "text": [
      "KAN_MNIST_0_1724249360:  71%|███████   | 71/100 [3:39:26<1:32:15, 190.89s/it]"
     ]
    },
    {
     "name": "stdout",
     "output_type": "stream",
     "text": [
      " Test accuracy:  0.6863\n",
      "\n",
      "correct: 317 total: 469\n",
      "loss: 0.11510921760535697\n",
      " Train accuracy:  0.67590618336887 | \n"
     ]
    },
    {
     "name": "stderr",
     "output_type": "stream",
     "text": [
      "KAN_MNIST_0_1724249360:  72%|███████▏  | 72/100 [3:42:36<1:28:57, 190.62s/it]"
     ]
    },
    {
     "name": "stdout",
     "output_type": "stream",
     "text": [
      " Test accuracy:  0.7032\n",
      "\n",
      "correct: 334 total: 469\n",
      "loss: 0.11425864523344202\n",
      " Train accuracy:  0.7121535181236673 | \n"
     ]
    },
    {
     "name": "stderr",
     "output_type": "stream",
     "text": [
      "KAN_MNIST_0_1724249360:  73%|███████▎  | 73/100 [3:45:46<1:25:42, 190.45s/it]"
     ]
    },
    {
     "name": "stdout",
     "output_type": "stream",
     "text": [
      " Test accuracy:  0.6882\n",
      "\n",
      "correct: 307 total: 469\n",
      "loss: 0.11472056132516881\n",
      " Train accuracy:  0.6545842217484008 | \n"
     ]
    },
    {
     "name": "stderr",
     "output_type": "stream",
     "text": [
      "KAN_MNIST_0_1724249360:  74%|███████▍  | 74/100 [3:48:57<1:22:35, 190.60s/it]"
     ]
    },
    {
     "name": "stdout",
     "output_type": "stream",
     "text": [
      " Test accuracy:  0.6921\n",
      "\n",
      "correct: 323 total: 469\n",
      "loss: 0.11536259612422\n",
      " Train accuracy:  0.6886993603411514 | \n"
     ]
    },
    {
     "name": "stderr",
     "output_type": "stream",
     "text": [
      "KAN_MNIST_0_1724249360:  75%|███████▌  | 75/100 [3:52:08<1:19:28, 190.75s/it]"
     ]
    },
    {
     "name": "stdout",
     "output_type": "stream",
     "text": [
      " Test accuracy:  0.6952\n",
      "\n",
      "correct: 329 total: 469\n",
      "loss: 0.11462261272010518\n",
      " Train accuracy:  0.7014925373134329 | \n"
     ]
    },
    {
     "name": "stderr",
     "output_type": "stream",
     "text": [
      "KAN_MNIST_0_1724249360:  76%|███████▌  | 76/100 [3:55:18<1:16:15, 190.64s/it]"
     ]
    },
    {
     "name": "stdout",
     "output_type": "stream",
     "text": [
      " Test accuracy:  0.7035\n",
      "\n",
      "correct: 315 total: 469\n",
      "loss: 0.11464209379608443\n",
      " Train accuracy:  0.6716417910447762 | \n"
     ]
    },
    {
     "name": "stderr",
     "output_type": "stream",
     "text": [
      "KAN_MNIST_0_1724249360:  77%|███████▋  | 77/100 [3:58:29<1:13:06, 190.72s/it]"
     ]
    },
    {
     "name": "stdout",
     "output_type": "stream",
     "text": [
      " Test accuracy:  0.6924\n",
      "\n",
      "correct: 323 total: 469\n",
      "loss: 0.11473530086118784\n",
      " Train accuracy:  0.6886993603411514 | \n"
     ]
    },
    {
     "name": "stderr",
     "output_type": "stream",
     "text": [
      "KAN_MNIST_0_1724249360:  78%|███████▊  | 78/100 [4:01:41<1:09:59, 190.89s/it]"
     ]
    },
    {
     "name": "stdout",
     "output_type": "stream",
     "text": [
      " Test accuracy:  0.6998\n",
      "\n",
      "correct: 354 total: 469\n",
      "loss: 0.1137827446084541\n",
      " Train accuracy:  0.7547974413646056 | \n"
     ]
    },
    {
     "name": "stderr",
     "output_type": "stream",
     "text": [
      "KAN_MNIST_0_1724249360:  79%|███████▉  | 79/100 [4:04:52<1:06:48, 190.88s/it]"
     ]
    },
    {
     "name": "stdout",
     "output_type": "stream",
     "text": [
      " Test accuracy:  0.6988\n",
      "\n",
      "correct: 333 total: 469\n",
      "loss: 0.11364398415345373\n",
      " Train accuracy:  0.7100213219616205 | \n"
     ]
    },
    {
     "name": "stderr",
     "output_type": "stream",
     "text": [
      "KAN_MNIST_0_1724249360:  80%|████████  | 80/100 [4:08:03<1:03:41, 191.07s/it]"
     ]
    },
    {
     "name": "stdout",
     "output_type": "stream",
     "text": [
      " Test accuracy:  0.7013\n",
      "\n",
      "correct: 330 total: 469\n",
      "loss: 0.11421791497451156\n",
      " Train accuracy:  0.7036247334754797 | \n"
     ]
    },
    {
     "name": "stderr",
     "output_type": "stream",
     "text": [
      "KAN_MNIST_0_1724249360:  81%|████████  | 81/100 [4:11:14<1:00:31, 191.15s/it]"
     ]
    },
    {
     "name": "stdout",
     "output_type": "stream",
     "text": [
      " Test accuracy:  0.7017\n",
      "\n",
      "correct: 319 total: 469\n",
      "loss: 0.11464461420517741\n",
      " Train accuracy:  0.6801705756929638 | \n"
     ]
    },
    {
     "name": "stderr",
     "output_type": "stream",
     "text": [
      "KAN_MNIST_0_1724249360:  82%|████████▏ | 82/100 [4:14:25<57:18, 191.02s/it]  "
     ]
    },
    {
     "name": "stdout",
     "output_type": "stream",
     "text": [
      " Test accuracy:  0.7035\n",
      "\n",
      "correct: 335 total: 469\n",
      "loss: 0.11499176759010693\n",
      " Train accuracy:  0.7142857142857143 | \n"
     ]
    },
    {
     "name": "stderr",
     "output_type": "stream",
     "text": [
      "KAN_MNIST_0_1724249360:  83%|████████▎ | 83/100 [4:17:36<54:08, 191.09s/it]"
     ]
    },
    {
     "name": "stdout",
     "output_type": "stream",
     "text": [
      " Test accuracy:  0.6971\n",
      "\n",
      "correct: 334 total: 469\n",
      "loss: 0.11433765995921864\n",
      " Train accuracy:  0.7121535181236673 | \n"
     ]
    },
    {
     "name": "stderr",
     "output_type": "stream",
     "text": [
      "KAN_MNIST_0_1724249360:  84%|████████▍ | 84/100 [4:20:48<50:59, 191.20s/it]"
     ]
    },
    {
     "name": "stdout",
     "output_type": "stream",
     "text": [
      " Test accuracy:  0.6923\n",
      "\n",
      "correct: 322 total: 469\n",
      "loss: 0.11453250099791647\n",
      " Train accuracy:  0.6865671641791045 | \n"
     ]
    },
    {
     "name": "stderr",
     "output_type": "stream",
     "text": [
      "KAN_MNIST_0_1724249360:  85%|████████▌ | 85/100 [4:24:00<47:51, 191.42s/it]"
     ]
    },
    {
     "name": "stdout",
     "output_type": "stream",
     "text": [
      " Test accuracy:  0.7052\n",
      "\n",
      "correct: 343 total: 469\n",
      "loss: 0.11519298526142706\n",
      " Train accuracy:  0.7313432835820896 | \n"
     ]
    },
    {
     "name": "stderr",
     "output_type": "stream",
     "text": [
      "KAN_MNIST_0_1724249360:  86%|████████▌ | 86/100 [4:27:10<44:36, 191.18s/it]"
     ]
    },
    {
     "name": "stdout",
     "output_type": "stream",
     "text": [
      " Test accuracy:  0.7029\n",
      "\n",
      "correct: 338 total: 469\n",
      "loss: 0.11475491032862206\n",
      " Train accuracy:  0.720682302771855 | \n"
     ]
    },
    {
     "name": "stderr",
     "output_type": "stream",
     "text": [
      "KAN_MNIST_0_1724249360:  87%|████████▋ | 87/100 [4:30:21<41:24, 191.11s/it]"
     ]
    },
    {
     "name": "stdout",
     "output_type": "stream",
     "text": [
      " Test accuracy:  0.7028\n",
      "\n",
      "correct: 330 total: 469\n",
      "loss: 0.1145845674343709\n",
      " Train accuracy:  0.7036247334754797 | \n"
     ]
    },
    {
     "name": "stderr",
     "output_type": "stream",
     "text": [
      "KAN_MNIST_0_1724249360:  88%|████████▊ | 88/100 [4:33:32<38:12, 191.06s/it]"
     ]
    },
    {
     "name": "stdout",
     "output_type": "stream",
     "text": [
      " Test accuracy:  0.7\n",
      "\n",
      "correct: 343 total: 469\n",
      "loss: 0.11521075912185315\n",
      " Train accuracy:  0.7313432835820896 | \n"
     ]
    },
    {
     "name": "stderr",
     "output_type": "stream",
     "text": [
      "KAN_MNIST_0_1724249360:  89%|████████▉ | 89/100 [4:36:43<35:01, 191.03s/it]"
     ]
    },
    {
     "name": "stdout",
     "output_type": "stream",
     "text": [
      " Test accuracy:  0.7\n",
      "\n",
      "correct: 333 total: 469\n",
      "loss: 0.11540882279877977\n",
      " Train accuracy:  0.7100213219616205 | \n"
     ]
    },
    {
     "name": "stderr",
     "output_type": "stream",
     "text": [
      "KAN_MNIST_0_1724249360:  90%|█████████ | 90/100 [4:39:56<31:57, 191.71s/it]"
     ]
    },
    {
     "name": "stdout",
     "output_type": "stream",
     "text": [
      " Test accuracy:  0.6977\n",
      "\n",
      "correct: 328 total: 469\n",
      "loss: 0.11538466766699036\n",
      " Train accuracy:  0.6993603411513859 | \n"
     ]
    },
    {
     "name": "stderr",
     "output_type": "stream",
     "text": [
      "KAN_MNIST_0_1724249360:  91%|█████████ | 91/100 [4:43:08<28:45, 191.73s/it]"
     ]
    },
    {
     "name": "stdout",
     "output_type": "stream",
     "text": [
      " Test accuracy:  0.706\n",
      "\n",
      "correct: 341 total: 469\n",
      "loss: 0.11460188244070325\n",
      " Train accuracy:  0.7270788912579957 | \n"
     ]
    },
    {
     "name": "stderr",
     "output_type": "stream",
     "text": [
      "KAN_MNIST_0_1724249360:  92%|█████████▏| 92/100 [4:46:20<25:33, 191.65s/it]"
     ]
    },
    {
     "name": "stdout",
     "output_type": "stream",
     "text": [
      " Test accuracy:  0.7019\n",
      "\n",
      "correct: 322 total: 469\n",
      "loss: 0.1153988979740946\n",
      " Train accuracy:  0.6865671641791045 | \n"
     ]
    },
    {
     "name": "stderr",
     "output_type": "stream",
     "text": [
      "KAN_MNIST_0_1724249360:  93%|█████████▎| 93/100 [4:49:31<22:20, 191.55s/it]"
     ]
    },
    {
     "name": "stdout",
     "output_type": "stream",
     "text": [
      " Test accuracy:  0.6966\n",
      "\n",
      "correct: 338 total: 469\n",
      "loss: 0.11544252727141004\n",
      " Train accuracy:  0.720682302771855 | \n"
     ]
    },
    {
     "name": "stderr",
     "output_type": "stream",
     "text": [
      "KAN_MNIST_0_1724249360:  94%|█████████▍| 94/100 [4:52:43<19:10, 191.67s/it]"
     ]
    },
    {
     "name": "stdout",
     "output_type": "stream",
     "text": [
      " Test accuracy:  0.7036\n",
      "\n",
      "correct: 329 total: 469\n",
      "loss: 0.11491766098592836\n",
      " Train accuracy:  0.7014925373134329 | \n"
     ]
    },
    {
     "name": "stderr",
     "output_type": "stream",
     "text": [
      "KAN_MNIST_0_1724249360:  95%|█████████▌| 95/100 [4:55:54<15:56, 191.36s/it]"
     ]
    },
    {
     "name": "stdout",
     "output_type": "stream",
     "text": [
      " Test accuracy:  0.7006\n",
      "\n",
      "correct: 322 total: 469\n",
      "loss: 0.11524699946075107\n",
      " Train accuracy:  0.6865671641791045 | \n"
     ]
    },
    {
     "name": "stderr",
     "output_type": "stream",
     "text": [
      "KAN_MNIST_0_1724249360:  96%|█████████▌| 96/100 [4:59:05<12:45, 191.29s/it]"
     ]
    },
    {
     "name": "stdout",
     "output_type": "stream",
     "text": [
      " Test accuracy:  0.699\n",
      "\n",
      "correct: 343 total: 469\n",
      "loss: 0.1146673909318981\n",
      " Train accuracy:  0.7313432835820896 | \n"
     ]
    },
    {
     "name": "stderr",
     "output_type": "stream",
     "text": [
      "KAN_MNIST_0_1724249360:  97%|█████████▋| 97/100 [5:02:16<09:34, 191.36s/it]"
     ]
    },
    {
     "name": "stdout",
     "output_type": "stream",
     "text": [
      " Test accuracy:  0.7069\n",
      "\n",
      "correct: 331 total: 469\n",
      "loss: 0.11521851482676036\n",
      " Train accuracy:  0.7057569296375267 | \n"
     ]
    },
    {
     "name": "stderr",
     "output_type": "stream",
     "text": [
      "KAN_MNIST_0_1724249360:  98%|█████████▊| 98/100 [5:05:27<06:22, 191.20s/it]"
     ]
    },
    {
     "name": "stdout",
     "output_type": "stream",
     "text": [
      " Test accuracy:  0.7018\n",
      "\n",
      "correct: 341 total: 469\n",
      "loss: 0.11461820118208683\n",
      " Train accuracy:  0.7270788912579957 | \n"
     ]
    },
    {
     "name": "stderr",
     "output_type": "stream",
     "text": [
      "KAN_MNIST_0_1724249360:  99%|█████████▉| 99/100 [5:08:40<03:11, 191.74s/it]"
     ]
    },
    {
     "name": "stdout",
     "output_type": "stream",
     "text": [
      " Test accuracy:  0.7005\n",
      "\n",
      "correct: 339 total: 469\n",
      "loss: 0.11510189773558553\n",
      " Train accuracy:  0.7228144989339019 | \n"
     ]
    },
    {
     "name": "stderr",
     "output_type": "stream",
     "text": [
      "KAN_MNIST_0_1724249360: 100%|██████████| 100/100 [5:11:51<00:00, 187.11s/it]"
     ]
    },
    {
     "name": "stdout",
     "output_type": "stream",
     "text": [
      " Test accuracy:  0.7103\n"
     ]
    },
    {
     "name": "stderr",
     "output_type": "stream",
     "text": [
      "\n"
     ]
    },
    {
     "data": {
      "image/png": "[encoded data removed]",
      "text/plain": [
       "<Figure size 1200x500 with 2 Axes>"
      ]
     },
     "metadata": {},
     "output_type": "display_data"
    },
    {
     "data": {
      "image/png": "[encoded data removed]",
      "text/plain": [
       "<Figure size 1200x500 with 2 Axes>"
      ]
     },
     "metadata": {},
     "output_type": "display_data"
    },
    {
     "name": "stdout",
     "output_type": "stream",
     "text": [
      "Final Train Accuracy: 0.72 ± 0.02\n",
      "Final Test Accuracy: 0.71 ± 0.00\n"
     ]
    }
   ],
   "source": [
    "\n",
    "config = {\n",
    "    \"batch_size\": 128,\n",
    "    \"n_epochs\": 100,\n",
    "    \"gamma\": 0.99,\n",
    "    \"learning_rate\": 1e-3, # 0.0005\n",
    "    \"weight_decay\": 1e-4,\n",
    "    \"width\": 8,\n",
    "    \"grid\": 2,\n",
    "    \"method\": \"KAN\",  # \"MLP\", \"KAN\"\n",
    "    \"seed\": 0,\n",
    "    \"input_size\": 8 * 8, # number of features\n",
    "    \"output_size\": 10, # number of classes\n",
    "    \"buffer_size\": 100000,\n",
    "    \"target_update\": 10,\n",
    "    \"warm_up_episodes\": 2,\n",
    "    \"num_filters\": 4,\n",
    "    \"num_conv_layers\": 2,\n",
    "    \"first_channel\": 1, # (1,8,8)\n",
    "    \"hidden_dim\": 128,\n",
    "    \"feature_selection\": True,\n",
    "    \"distribution\": \"beta\", # bernoulli, categorical, gumbel_softmax, gaussian, beta, dirichlet\n",
    "    \"initial_tau\": 1.0, # positive float value\n",
    "\n",
    "}\n",
    "\n",
    "q_network, train_accuracies, test_accuracies, losses, probs_history, feedback_cost_history, train_acc_stds, test_acc_stds, loss_stds, agent = kanRL(config)"
   ]
  },
  {
   "cell_type": "code",
   "execution_count": 7,
   "id": "7a22332e",
   "metadata": {
    "execution": {
     "iopub.execute_input": "2024-08-21T19:21:18.351253Z",
     "iopub.status.busy": "2024-08-21T19:21:18.350034Z",
     "iopub.status.idle": "2024-08-21T19:21:27.250022Z",
     "shell.execute_reply": "2024-08-21T19:21:27.248914Z"
    },
    "id": "N2Z7r5_FP9HO",
    "papermill": {
     "duration": 8.940309,
     "end_time": "2024-08-21T19:21:27.252931",
     "exception": false,
     "start_time": "2024-08-21T19:21:18.312622",
     "status": "completed"
    },
    "tags": []
   },
   "outputs": [
    {
     "data": {
      "image/png": "[encoded data removed]",
      "text/plain": [
       "<Figure size 1000x800 with 2 Axes>"
      ]
     },
     "metadata": {},
     "output_type": "display_data"
    }
   ],
   "source": [
    "from sklearn.metrics import confusion_matrix\n",
    "import seaborn as sns\n",
    "\n",
    "y_true = []  # Ground truth labels\n",
    "y_pred = []  # Model predictions\n",
    "\n",
    "# Assuming `test_loader` is your DataLoader for test set\n",
    "with torch.no_grad():\n",
    "        # transforms.Normalize((0.1307,), (0.3081,)) # MNIST\n",
    "        # transforms.Normalize((0.5,), (0.5,)) # FashionMNIST\n",
    "        # transforms.Normalize((0.4914, 0.4822, 0.4465), (0.247, 0.243, 0.261)), # CIFAR10\n",
    "        # transforms.Normalize((0.50707516, 0.48654887, 0.44091784), (0.26733429, 0.25643846, 0.27615047)), # CIFAR100\n",
    "    for images, labels in DataLoader(datasets.FashionMNIST('./data', train=False, download=True, transform=transforms.Compose([\n",
    "        transforms.Resize((int(config['input_size']**0.5), int(config['input_size']**0.5))),\n",
    "        transforms.ToTensor(),\n",
    "        transforms.Normalize((0.5,), (0.5,)), # FashionMNIST\n",
    "        transforms.Grayscale(num_output_channels=1)\n",
    "    ])), batch_size=config[\"batch_size\"]):\n",
    "        state = images.view(-1,config[\"input_size\"])\n",
    "        if config[\"feature_selection\"] == True:\n",
    "            flat_zoom_X, _, _ = agent(state)\n",
    "            state = flat_zoom_X\n",
    "        outputs = q_network(state)\n",
    "        _, predicted = torch.max(outputs.data, 1)\n",
    "        y_true.extend(labels)\n",
    "        y_pred.extend(predicted)\n",
    "\n",
    "cm = confusion_matrix(y_true, y_pred)\n",
    "plt.figure(figsize=(10, 8))\n",
    "sns.heatmap(cm, annot=True, fmt='d', cmap='Blues')\n",
    "plt.xlabel('Predicted')\n",
    "plt.ylabel('True')\n",
    "plt.title('Confusion Matrix')\n",
    "plt.show()\n"
   ]
  },
  {
   "cell_type": "code",
   "execution_count": 8,
   "id": "c5f4f6df",
   "metadata": {
    "execution": {
     "iopub.execute_input": "2024-08-21T19:21:27.328150Z",
     "iopub.status.busy": "2024-08-21T19:21:27.327772Z",
     "iopub.status.idle": "2024-08-21T19:21:27.966547Z",
     "shell.execute_reply": "2024-08-21T19:21:27.965469Z"
    },
    "id": "tbLtQhpCKXbh",
    "papermill": {
     "duration": 0.67809,
     "end_time": "2024-08-21T19:21:27.969062",
     "exception": false,
     "start_time": "2024-08-21T19:21:27.290972",
     "status": "completed"
    },
    "tags": []
   },
   "outputs": [
    {
     "name": "stdout",
     "output_type": "stream",
     "text": [
      "              precision    recall  f1-score   support\n",
      "\n",
      "           0       0.63      0.74      0.68      1000\n",
      "           1       0.83      0.85      0.84      1000\n",
      "           2       0.56      0.54      0.55      1000\n",
      "           3       0.68      0.71      0.70      1000\n",
      "           4       0.52      0.66      0.58      1000\n",
      "           5       0.79      0.81      0.80      1000\n",
      "           6       0.39      0.20      0.26      1000\n",
      "           7       0.82      0.82      0.82      1000\n",
      "           8       0.85      0.89      0.87      1000\n",
      "           9       0.87      0.85      0.86      1000\n",
      "\n",
      "    accuracy                           0.71     10000\n",
      "   macro avg       0.70      0.71      0.70     10000\n",
      "weighted avg       0.70      0.71      0.70     10000\n",
      "\n"
     ]
    }
   ],
   "source": [
    "import sklearn\n",
    "print(sklearn.metrics.classification_report(y_true, y_pred))"
   ]
  },
  {
   "cell_type": "code",
   "execution_count": 9,
   "id": "76e51518",
   "metadata": {
    "execution": {
     "iopub.execute_input": "2024-08-21T19:21:28.045609Z",
     "iopub.status.busy": "2024-08-21T19:21:28.044673Z",
     "iopub.status.idle": "2024-08-21T19:21:28.349546Z",
     "shell.execute_reply": "2024-08-21T19:21:28.348363Z"
    },
    "papermill": {
     "duration": 0.345073,
     "end_time": "2024-08-21T19:21:28.351850",
     "exception": false,
     "start_time": "2024-08-21T19:21:28.006777",
     "status": "completed"
    },
    "tags": []
   },
   "outputs": [
    {
     "data": {
      "text/plain": [
       "0"
      ]
     },
     "execution_count": 9,
     "metadata": {},
     "output_type": "execute_result"
    }
   ],
   "source": [
    "import gc\n",
    "gc.collect()"
   ]
  },
  {
   "cell_type": "code",
   "execution_count": null,
   "id": "440fbdbf",
   "metadata": {
    "id": "R0XsCwxqqO7h",
    "papermill": {
     "duration": 0.035261,
     "end_time": "2024-08-21T19:21:28.422872",
     "exception": false,
     "start_time": "2024-08-21T19:21:28.387611",
     "status": "completed"
    },
    "tags": []
   },
   "outputs": [],
   "source": []
  },
  {
   "cell_type": "code",
   "execution_count": null,
   "id": "03c65135",
   "metadata": {
    "id": "Ht_3aXT-y6-3",
    "papermill": {
     "duration": 0.035306,
     "end_time": "2024-08-21T19:21:28.493666",
     "exception": false,
     "start_time": "2024-08-21T19:21:28.458360",
     "status": "completed"
    },
    "tags": []
   },
   "outputs": [],
   "source": []
  }
 ],
 "metadata": {
  "colab": {
   "collapsed_sections": [
    "h1rKxK7PHeWm",
    "Jy33eRsBSpQu"
   ],
   "provenance": []
  },
  "kaggle": {
   "accelerator": "none",
   "dataSources": [],
   "dockerImageVersionId": 30746,
   "isGpuEnabled": false,
   "isInternetEnabled": true,
   "language": "python",
   "sourceType": "notebook"
  },
  "kernelspec": {
   "display_name": "Python 3",
   "language": "python",
   "name": "python3"
  },
  "language_info": {
   "codemirror_mode": {
    "name": "ipython",
    "version": 3
   },
   "file_extension": ".py",
   "mimetype": "text/x-python",
   "name": "python",
   "nbconvert_exporter": "python",
   "pygments_lexer": "ipython3",
   "version": "3.10.13"
  },
  "papermill": {
   "default_parameters": {},
   "duration": 18804.739398,
   "end_time": "2024-08-21T19:21:31.797116",
   "environment_variables": {},
   "exception": null,
   "input_path": "__notebook__.ipynb",
   "output_path": "__notebook__.ipynb",
   "parameters": {},
   "start_time": "2024-08-21T14:08:07.057718",
   "version": "2.5.0"
  }
 },
 "nbformat": 4,
 "nbformat_minor": 5
}
