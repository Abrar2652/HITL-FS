{
 "cells": [
  {
   "cell_type": "markdown",
   "id": "71ca6a4a",
   "metadata": {
    "id": "EBFD0O5KvH2O",
    "papermill": {
     "duration": 0.006609,
     "end_time": "2024-08-20T17:02:23.960193",
     "exception": false,
     "start_time": "2024-08-20T17:02:23.953584",
     "status": "completed"
    },
    "tags": []
   },
   "source": [
    "## KAN RL"
   ]
  },
  {
   "cell_type": "code",
   "execution_count": 1,
   "id": "bc20154b",
   "metadata": {
    "execution": {
     "iopub.execute_input": "2024-08-20T17:02:23.975166Z",
     "iopub.status.busy": "2024-08-20T17:02:23.974237Z",
     "iopub.status.idle": "2024-08-20T17:02:59.314798Z",
     "shell.execute_reply": "2024-08-20T17:02:59.313554Z"
    },
    "id": "XVTffDVsx7fD",
    "outputId": "0aa43552-127c-4bdf-e5c7-e7101c57bdc2",
    "papermill": {
     "duration": 35.350891,
     "end_time": "2024-08-20T17:02:59.317605",
     "exception": false,
     "start_time": "2024-08-20T17:02:23.966714",
     "status": "completed"
    },
    "scrolled": true,
    "tags": []
   },
   "outputs": [
    {
     "name": "stdout",
     "output_type": "stream",
     "text": [
      "Collecting moviepy~=1.0.3\r\n",
      "  Downloading moviepy-1.0.3.tar.gz (388 kB)\r\n",
      "\u001b[2K     \u001b[90m━━━━━━━━━━━━━━━━━━━━━━━━━━━━━━━━━━━━━━━\u001b[0m \u001b[32m388.3/388.3 kB\u001b[0m \u001b[31m5.0 MB/s\u001b[0m eta \u001b[36m0:00:00\u001b[0m\r\n",
      "\u001b[?25h  Preparing metadata (setup.py) ... \u001b[?25l-\b \bdone\r\n",
      "\u001b[?25hRequirement already satisfied: gymnasium in /opt/conda/lib/python3.10/site-packages (0.29.0)\r\n",
      "Collecting pykan~=0.0.2\r\n",
      "  Downloading pykan-0.0.5-py3-none-any.whl.metadata (13 kB)\r\n",
      "Collecting decorator<5.0,>=4.0.2 (from moviepy~=1.0.3)\r\n",
      "  Downloading decorator-4.4.2-py2.py3-none-any.whl.metadata (4.2 kB)\r\n",
      "Requirement already satisfied: tqdm<5.0,>=4.11.2 in /opt/conda/lib/python3.10/site-packages (from moviepy~=1.0.3) (4.66.4)\r\n",
      "Requirement already satisfied: requests<3.0,>=2.8.1 in /opt/conda/lib/python3.10/site-packages (from moviepy~=1.0.3) (2.32.3)\r\n",
      "Collecting proglog<=1.0.0 (from moviepy~=1.0.3)\r\n",
      "  Downloading proglog-0.1.10-py3-none-any.whl.metadata (639 bytes)\r\n",
      "Requirement already satisfied: numpy>=1.17.3 in /opt/conda/lib/python3.10/site-packages (from moviepy~=1.0.3) (1.26.4)\r\n",
      "Requirement already satisfied: imageio<3.0,>=2.5 in /opt/conda/lib/python3.10/site-packages (from moviepy~=1.0.3) (2.33.1)\r\n",
      "Collecting imageio_ffmpeg>=0.2.0 (from moviepy~=1.0.3)\r\n",
      "  Downloading imageio_ffmpeg-0.5.1-py3-none-manylinux2010_x86_64.whl.metadata (1.6 kB)\r\n",
      "Requirement already satisfied: cloudpickle>=1.2.0 in /opt/conda/lib/python3.10/site-packages (from gymnasium) (2.2.1)\r\n",
      "Requirement already satisfied: typing-extensions>=4.3.0 in /opt/conda/lib/python3.10/site-packages (from gymnasium) (4.9.0)\r\n",
      "Requirement already satisfied: farama-notifications>=0.0.1 in /opt/conda/lib/python3.10/site-packages (from gymnasium) (0.0.4)\r\n",
      "Requirement already satisfied: pillow>=8.3.2 in /opt/conda/lib/python3.10/site-packages (from imageio<3.0,>=2.5->moviepy~=1.0.3) (9.5.0)\r\n",
      "Requirement already satisfied: setuptools in /opt/conda/lib/python3.10/site-packages (from imageio_ffmpeg>=0.2.0->moviepy~=1.0.3) (69.0.3)\r\n",
      "Requirement already satisfied: charset-normalizer<4,>=2 in /opt/conda/lib/python3.10/site-packages (from requests<3.0,>=2.8.1->moviepy~=1.0.3) (3.3.2)\r\n",
      "Requirement already satisfied: idna<4,>=2.5 in /opt/conda/lib/python3.10/site-packages (from requests<3.0,>=2.8.1->moviepy~=1.0.3) (3.6)\r\n",
      "Requirement already satisfied: urllib3<3,>=1.21.1 in /opt/conda/lib/python3.10/site-packages (from requests<3.0,>=2.8.1->moviepy~=1.0.3) (1.26.18)\r\n",
      "Requirement already satisfied: certifi>=2017.4.17 in /opt/conda/lib/python3.10/site-packages (from requests<3.0,>=2.8.1->moviepy~=1.0.3) (2024.7.4)\r\n",
      "Downloading pykan-0.0.5-py3-none-any.whl (33 kB)\r\n",
      "Downloading decorator-4.4.2-py2.py3-none-any.whl (9.2 kB)\r\n",
      "Downloading imageio_ffmpeg-0.5.1-py3-none-manylinux2010_x86_64.whl (26.9 MB)\r\n",
      "\u001b[2K   \u001b[90m━━━━━━━━━━━━━━━━━━━━━━━━━━━━━━━━━━━━━━━━\u001b[0m \u001b[32m26.9/26.9 MB\u001b[0m \u001b[31m45.9 MB/s\u001b[0m eta \u001b[36m0:00:00\u001b[0m\r\n",
      "\u001b[?25hDownloading proglog-0.1.10-py3-none-any.whl (6.1 kB)\r\n",
      "Building wheels for collected packages: moviepy\r\n",
      "  Building wheel for moviepy (setup.py) ... \u001b[?25l-\b \b\\\b \bdone\r\n",
      "\u001b[?25h  Created wheel for moviepy: filename=moviepy-1.0.3-py3-none-any.whl size=110720 sha256=272e473789d572d38c746c81668c4290501413ce2bd99336caa66d1218a03298\r\n",
      "  Stored in directory: /root/.cache/pip/wheels/96/32/2d/e10123bd88fbfc02fed53cc18c80a171d3c87479ed845fa7c1\r\n",
      "Successfully built moviepy\r\n",
      "Installing collected packages: pykan, proglog, imageio_ffmpeg, decorator, moviepy\r\n",
      "  Attempting uninstall: decorator\r\n",
      "    Found existing installation: decorator 5.1.1\r\n",
      "    Uninstalling decorator-5.1.1:\r\n",
      "      Successfully uninstalled decorator-5.1.1\r\n",
      "Successfully installed decorator-4.4.2 imageio_ffmpeg-0.5.1 moviepy-1.0.3 proglog-0.1.10 pykan-0.0.5\r\n"
     ]
    }
   ],
   "source": [
    "!pip install moviepy~=1.0.3 gymnasium pykan~=0.0.2"
   ]
  },
  {
   "cell_type": "markdown",
   "id": "9b357a0a",
   "metadata": {
    "id": "FabcDsA3HkTd",
    "papermill": {
     "duration": 0.009073,
     "end_time": "2024-08-20T17:02:59.335953",
     "exception": false,
     "start_time": "2024-08-20T17:02:59.326880",
     "status": "completed"
    },
    "tags": []
   },
   "source": [
    "## Models"
   ]
  },
  {
   "cell_type": "code",
   "execution_count": 2,
   "id": "4a25c848",
   "metadata": {
    "cellView": "form",
    "execution": {
     "iopub.execute_input": "2024-08-20T17:02:59.357195Z",
     "iopub.status.busy": "2024-08-20T17:02:59.356715Z",
     "iopub.status.idle": "2024-08-20T17:03:15.466776Z",
     "shell.execute_reply": "2024-08-20T17:03:15.465437Z"
    },
    "id": "_fBdXsX3exWw",
    "outputId": "e029fcfa-1731-4017-a88c-e65bebc5bb4f",
    "papermill": {
     "duration": 16.124329,
     "end_time": "2024-08-20T17:03:15.469545",
     "exception": false,
     "start_time": "2024-08-20T17:02:59.345216",
     "status": "completed"
    },
    "scrolled": true,
    "tags": []
   },
   "outputs": [
    {
     "name": "stdout",
     "output_type": "stream",
     "text": [
      "Downloading http://fashion-mnist.s3-website.eu-central-1.amazonaws.com/train-images-idx3-ubyte.gz\n",
      "Downloading http://fashion-mnist.s3-website.eu-central-1.amazonaws.com/train-images-idx3-ubyte.gz to ./data/FashionMNIST/raw/train-images-idx3-ubyte.gz\n"
     ]
    },
    {
     "name": "stderr",
     "output_type": "stream",
     "text": [
      "100%|██████████| 26421880/26421880 [00:03<00:00, 6801501.70it/s]\n"
     ]
    },
    {
     "name": "stdout",
     "output_type": "stream",
     "text": [
      "Extracting ./data/FashionMNIST/raw/train-images-idx3-ubyte.gz to ./data/FashionMNIST/raw\n",
      "\n",
      "Downloading http://fashion-mnist.s3-website.eu-central-1.amazonaws.com/train-labels-idx1-ubyte.gz\n",
      "Downloading http://fashion-mnist.s3-website.eu-central-1.amazonaws.com/train-labels-idx1-ubyte.gz to ./data/FashionMNIST/raw/train-labels-idx1-ubyte.gz\n"
     ]
    },
    {
     "name": "stderr",
     "output_type": "stream",
     "text": [
      "100%|██████████| 29515/29515 [00:00<00:00, 134014.13it/s]\n"
     ]
    },
    {
     "name": "stdout",
     "output_type": "stream",
     "text": [
      "Extracting ./data/FashionMNIST/raw/train-labels-idx1-ubyte.gz to ./data/FashionMNIST/raw\n",
      "\n",
      "Downloading http://fashion-mnist.s3-website.eu-central-1.amazonaws.com/t10k-images-idx3-ubyte.gz\n",
      "Downloading http://fashion-mnist.s3-website.eu-central-1.amazonaws.com/t10k-images-idx3-ubyte.gz to ./data/FashionMNIST/raw/t10k-images-idx3-ubyte.gz\n"
     ]
    },
    {
     "name": "stderr",
     "output_type": "stream",
     "text": [
      "100%|██████████| 4422102/4422102 [00:01<00:00, 2549318.42it/s]\n"
     ]
    },
    {
     "name": "stdout",
     "output_type": "stream",
     "text": [
      "Extracting ./data/FashionMNIST/raw/t10k-images-idx3-ubyte.gz to ./data/FashionMNIST/raw\n",
      "\n",
      "Downloading http://fashion-mnist.s3-website.eu-central-1.amazonaws.com/t10k-labels-idx1-ubyte.gz\n",
      "Downloading http://fashion-mnist.s3-website.eu-central-1.amazonaws.com/t10k-labels-idx1-ubyte.gz to ./data/FashionMNIST/raw/t10k-labels-idx1-ubyte.gz\n"
     ]
    },
    {
     "name": "stderr",
     "output_type": "stream",
     "text": [
      "100%|██████████| 5148/5148 [00:00<00:00, 8609360.84it/s]\n"
     ]
    },
    {
     "name": "stdout",
     "output_type": "stream",
     "text": [
      "Extracting ./data/FashionMNIST/raw/t10k-labels-idx1-ubyte.gz to ./data/FashionMNIST/raw\n",
      "\n",
      "State shape: torch.Size([1, 8, 8])\n",
      "Label: tensor(3)\n",
      "Feedback shape: torch.Size([1, 8, 8])\n"
     ]
    },
    {
     "data": {
      "image/png": "[encoded data removed]",
      "text/plain": [
       "<Figure size 1000x500 with 2 Axes>"
      ]
     },
     "metadata": {},
     "output_type": "display_data"
    },
    {
     "name": "stdout",
     "output_type": "stream",
     "text": [
      "tensor(0.5273) tensor(1.)\n"
     ]
    }
   ],
   "source": [
    "import torch\n",
    "from torchvision import transforms, datasets\n",
    "from torch.utils.data import DataLoader\n",
    "import numpy as np\n",
    "import matplotlib.pyplot as plt\n",
    "\n",
    "# https://github.com/Armour/pytorch-nn-practice/blob/master/utils/meanstd.py  for normalization values computation\n",
    "\n",
    "class BenchmarkEnvironment:\n",
    "    def __init__(self, dataset_name='MNIST', batch_size=128, image_size=(8, 8), feedback_sigma=5.0):\n",
    "        self.batch_size = batch_size\n",
    "        self.image_size = image_size\n",
    "        self.feedback_sigma = feedback_sigma\n",
    "        self.num_channels = 1  # Force single channel for all datasets\n",
    "\n",
    "        if dataset_name == 'MNIST':\n",
    "            # self.num_channels = 1\n",
    "            self.transform = transforms.Compose([\n",
    "                transforms.Resize(image_size),\n",
    "                transforms.ToTensor(),\n",
    "                transforms.Normalize((0.1307,), (0.3081,))\n",
    "            ])\n",
    "            self.dataset = datasets.MNIST('./data', train=True, download=True, transform=self.transform)\n",
    "\n",
    "        elif dataset_name == 'FashionMNIST':\n",
    "            # self.num_channels = 1\n",
    "            self.transform = transforms.Compose([\n",
    "                transforms.Resize(image_size),\n",
    "                transforms.ToTensor(),\n",
    "                transforms.Normalize((0.5,), (0.5,))\n",
    "            ])\n",
    "            self.dataset = datasets.FashionMNIST('./data', train=True, download=True, transform=self.transform)\n",
    "\n",
    "        elif dataset_name == 'CIFAR10':\n",
    "            # self.num_channels = 3\n",
    "            self.transform = transforms.Compose([\n",
    "                transforms.Resize(image_size),\n",
    "                transforms.ToTensor(),\n",
    "                transforms.Normalize((0.4914, 0.4822, 0.4465), (0.247, 0.243, 0.261)),\n",
    "                transforms.Grayscale(num_output_channels=1),  # Convert to grayscale\n",
    "            ])\n",
    "            self.dataset = datasets.CIFAR10('./data', train=True, download=True, transform=self.transform)\n",
    "\n",
    "        elif dataset_name == 'CIFAR100':\n",
    "            # self.num_channels = 3\n",
    "            self.transform = transforms.Compose([\n",
    "                transforms.Resize(image_size),\n",
    "                transforms.ToTensor(),\n",
    "                transforms.Normalize((0.50707516, 0.48654887, 0.44091784), (0.26733429, 0.25643846, 0.27615047)),\n",
    "                transforms.Grayscale(num_output_channels=1),  # Convert to grayscale\n",
    "            ])\n",
    "            self.dataset = datasets.CIFAR100('./data', train=True, download=True, transform=self.transform)\n",
    "\n",
    "        else:\n",
    "            raise ValueError(f\"Dataset {dataset_name} is not supported.\")\n",
    "\n",
    "        self.loader = DataLoader(self.dataset, batch_size=batch_size, shuffle=True)\n",
    "        self.iterator = iter(self.loader)\n",
    "        self.reset()\n",
    "\n",
    "    def reset(self):\n",
    "        try:\n",
    "            self.current_batch = next(self.iterator)\n",
    "        except StopIteration:\n",
    "            self.iterator = iter(self.loader)\n",
    "            self.current_batch = next(self.iterator)\n",
    "        self.idx = 0\n",
    "\n",
    "    def step(self):\n",
    "        images, labels = self.current_batch\n",
    "        if self.idx >= len(images):\n",
    "            self.reset()\n",
    "            return self.step()\n",
    "        state = images[self.idx]\n",
    "        label = labels[self.idx]\n",
    "        feedback = self.generate_simulated_feedback(state.unsqueeze(0))\n",
    "        self.idx += 1\n",
    "        return state, label, feedback\n",
    "\n",
    "    def generate_simulated_feedback(self, image_tensor):\n",
    "        image_np = image_tensor.squeeze().numpy()\n",
    "\n",
    "        # Normalize the image to [0, 1]\n",
    "        image_np = (image_np - np.min(image_np)) / (np.max(image_np) - np.min(image_np))\n",
    "\n",
    "        center_of_mass = np.array(np.unravel_index(np.argmax(image_np), image_np.shape[-2:]))\n",
    "\n",
    "        x, y = np.meshgrid(np.arange(image_np.shape[-1]), np.arange(image_np.shape[-2]))\n",
    "        gaussian_mask = np.exp(-((x - center_of_mass[1])**2 + (y - center_of_mass[0])**2) / (2 * self.feedback_sigma**2))\n",
    "\n",
    "        feedback = gaussian_mask / np.max(gaussian_mask)\n",
    "        return torch.tensor(feedback, dtype=torch.float32).view(1, *feedback.shape)\n",
    "\n",
    "\n",
    "def plot_images(normal_image, feedback_image):\n",
    "    # Convert tensors to numpy arrays\n",
    "    normal_image_np = normal_image.squeeze().numpy()\n",
    "    feedback_image_np = feedback_image.squeeze().numpy()\n",
    "\n",
    "    # Create subplots\n",
    "    fig, axes = plt.subplots(1, 2, figsize=(10, 5))\n",
    "\n",
    "    # Plot normal image\n",
    "    axes[0].imshow(normal_image_np, cmap='gray')\n",
    "    axes[0].set_title('Normal Image')\n",
    "    axes[0].axis('off')\n",
    "\n",
    "    # Plot feedback image\n",
    "    axes[1].imshow(feedback_image_np, cmap='hot')  # Using 'hot' colormap to visualize feedback\n",
    "    axes[1].set_title('Simulated Feedback')\n",
    "    axes[1].axis('off')\n",
    "\n",
    "    plt.show()\n",
    "\n",
    "# Example usage:\n",
    "if __name__ == \"__main__\":\n",
    "    env = BenchmarkEnvironment(dataset_name='FashionMNIST', batch_size=128, feedback_sigma=5.0)\n",
    "    state, label, feedback = env.step()\n",
    "    print(\"State shape:\", state.shape)\n",
    "    print(\"Label:\", label)\n",
    "    print(\"Feedback shape:\", feedback.shape)\n",
    "    plot_images(state, feedback)\n",
    "    print(feedback.min(), feedback.max())\n"
   ]
  },
  {
   "cell_type": "code",
   "execution_count": 3,
   "id": "16af2d93",
   "metadata": {
    "execution": {
     "iopub.execute_input": "2024-08-20T17:03:15.501685Z",
     "iopub.status.busy": "2024-08-20T17:03:15.500543Z",
     "iopub.status.idle": "2024-08-20T17:03:15.714618Z",
     "shell.execute_reply": "2024-08-20T17:03:15.713229Z"
    },
    "id": "t-FwA8zsgrIV",
    "outputId": "0d38dddd-7cd9-4baf-b6c3-9d79d92f340b",
    "papermill": {
     "duration": 0.233276,
     "end_time": "2024-08-20T17:03:15.717230",
     "exception": false,
     "start_time": "2024-08-20T17:03:15.483954",
     "status": "completed"
    },
    "tags": []
   },
   "outputs": [
    {
     "name": "stdout",
     "output_type": "stream",
     "text": [
      "FSNet(\n",
      "  (feature_extractor): Sequential(\n",
      "    (0): Conv2d(1, 8, kernel_size=(3, 3), stride=(1, 1), padding=(1, 1))\n",
      "    (1): ReLU()\n",
      "    (2): MaxPool2d(kernel_size=2, stride=2, padding=0, dilation=1, ceil_mode=False)\n",
      "    (3): Conv2d(8, 16, kernel_size=(3, 3), stride=(1, 1), padding=(1, 1))\n",
      "    (4): ReLU()\n",
      "    (5): MaxPool2d(kernel_size=2, stride=2, padding=0, dilation=1, ceil_mode=False)\n",
      "    (6): Flatten(start_dim=1, end_dim=-1)\n",
      "  )\n",
      "  (fc1): Linear(in_features=64, out_features=128, bias=True)\n",
      "  (relu): ReLU()\n",
      "  (dropout): Dropout(p=0.25, inplace=False)\n",
      "  (fc2): Linear(in_features=128, out_features=64, bias=True)\n",
      "  (sigmoid): Sigmoid()\n",
      "  (softmax): Softmax(dim=-1)\n",
      ")\n",
      "torch.Size([1, 64])\n"
     ]
    }
   ],
   "source": [
    "# @title\n",
    "import torch\n",
    "import torch.nn as nn\n",
    "import torch.nn.functional as F\n",
    "import torch.optim as optim\n",
    "import torch.distributions as dist\n",
    "from torch.optim.lr_scheduler import ExponentialLR\n",
    "\n",
    "class FSNet(nn.Module):\n",
    "    def __init__(self, input_shape, num_filters, num_conv_layers=3, hidden_dim=128, distribution=None, tau=1.0):\n",
    "        super(FSNet, self).__init__()\n",
    "\n",
    "        self.distribution = distribution\n",
    "        self.global_step = 0\n",
    "        self.initial_tau = tau\n",
    "        self.tau_decay = 0.96  # Exponential decay rate\n",
    "\n",
    "        layers = []\n",
    "        in_channels = input_shape[0]\n",
    "        channels = []\n",
    "\n",
    "        for i in range(num_conv_layers):\n",
    "            num_filters *= 2\n",
    "            channels.append(num_filters)\n",
    "\n",
    "        for i in range(num_conv_layers):\n",
    "            # For a convolutional layer to keep the input and output shapes the same: P = (K-1)/2 with S = 1\n",
    "            layers.append(nn.Conv2d(in_channels=in_channels, out_channels=channels[i], kernel_size=3, padding=1, stride=1))\n",
    "            layers.append(nn.ReLU())\n",
    "            # Each MaxPool2d layer with kernel size 2 and stride 2 will halve the height and width of the feature maps.\n",
    "            layers.append(nn.MaxPool2d(2, 2))\n",
    "            in_channels = channels[i]\n",
    "\n",
    "        layers.append(nn.Flatten())\n",
    "        self.feature_extractor = nn.Sequential(*layers)\n",
    "\n",
    "        # Dummy forward pass to determine the output size of the feature extractor\n",
    "        dummy_input = torch.empty(1, *input_shape)\n",
    "        n_features = self.feature_extractor(dummy_input).shape[1]\n",
    "        # print(n_features)\n",
    "\n",
    "        self.fc1 = nn.Linear(n_features, hidden_dim)\n",
    "        self.relu = nn.ReLU()\n",
    "        self.dropout = nn.Dropout(0.25)\n",
    "        self.fc2 = nn.Linear(hidden_dim, n_features)\n",
    "        self.sigmoid = nn.Sigmoid()\n",
    "        self.softmax = nn.Softmax(dim=-1)\n",
    "\n",
    "        # Storage for probabilities and feedback costs\n",
    "        self.probs_history = []\n",
    "        self.feedback_cost_history = []\n",
    "\n",
    "\n",
    "    def forward(self, x, feedback=None, epoch=0, n_epochs=None):\n",
    "        x = x.view(-1, 1, input_shape[1], input_shape[2])\n",
    "        features = self.feature_extractor(x)\n",
    "\n",
    "        x = self.relu(self.fc1(features))\n",
    "        probs_logits = self.relu(self.fc2(x))\n",
    "        probs = self.sigmoid(probs_logits)\n",
    "\n",
    "        # Apply the simulated feedback as a weight to the feature selection\n",
    "        if feedback is None:\n",
    "            feedback = probs # so that mse_loss becomes 0 if no feedback is fed\n",
    "        else:\n",
    "            pass\n",
    "\n",
    "        # Use distribution as weight of the features\n",
    "        if self.distribution == 'bernoulli':\n",
    "            mask = torch.distributions.Bernoulli(logits=probs_logits)\n",
    "            sample_probs = mask.sample()\n",
    "        if self.distribution == 'gumbel_softmax':\n",
    "            tau = self.initial_tau * (self.tau_decay ** epoch)\n",
    "            mask = F.gumbel_softmax(logits=probs_logits, tau=tau, hard=False)\n",
    "            sample_probs = mask\n",
    "        if self.distribution == 'gaussian':\n",
    "            mu = probs_logits  # or some transformation of probs_logits\n",
    "            sigma = torch.ones_like(mu)  # Standard deviation\n",
    "            gaussian_dist = torch.distributions.Normal(mu, sigma)\n",
    "            sample_probs = gaussian_dist.rsample()  # Use rsample for the reparameterization trick\n",
    "        if self.distribution == 'beta':\n",
    "            alpha = F.softplus(probs_logits) + 1\n",
    "            beta = F.softplus(probs_logits) + 1\n",
    "            beta_dist = torch.distributions.Beta(alpha, beta)\n",
    "            sample_probs = beta_dist.sample()\n",
    "        if self.distribution == 'dirichlet':\n",
    "            concentration = F.softplus(probs_logits) + 1  # Ensuring positive values\n",
    "            dirichlet_dist = torch.distributions.Dirichlet(concentration)\n",
    "            sample_probs = dirichlet_dist.sample()\n",
    "        elif self.distribution == 'multinomial':\n",
    "            logits = probs_logits  # Logits for the multinomial distribution\n",
    "            mask = torch.distributions.Multinomial(logits=logits)\n",
    "            sample_probs = mask.sample()\n",
    "        elif self.distribution == 'laplace':\n",
    "            loc = probs_logits  # Mean of the logistic distribution\n",
    "            scale = torch.ones_like(loc)  # Scale parameter\n",
    "            laplace_dist = torch.distributions.Laplace(loc, scale)\n",
    "            sample_probs = laplace_dist.sample()\n",
    "        elif self.distribution == 'cauchy':\n",
    "            loc = probs_logits  # Mean of the logistic distribution\n",
    "            scale = torch.ones_like(loc)  # Scale parameter\n",
    "            cauchy_dist = torch.distributions.Cauchy(loc, scale)\n",
    "            sample_probs = cauchy_dist.sample()\n",
    "        elif self.distribution == 'uniform':\n",
    "            low = torch.zeros_like(probs_logits)  # Lower bound\n",
    "            high = torch.ones_like(probs_logits)  # Upper bound\n",
    "            uniform_dist = torch.distributions.Uniform(low, high)\n",
    "            sample_probs = uniform_dist.sample()            \n",
    "\n",
    "        # print(sample_probs.shape)\n",
    "\n",
    "        feedback_cost = F.mse_loss(probs, feedback)\n",
    "\n",
    "        flat_zoom_X = features * sample_probs\n",
    "\n",
    "        return flat_zoom_X, feedback_cost, probs\n",
    "\n",
    "\n",
    "# Example usage:\n",
    "input_shape = (1, 8, 8)  # Change this to the desired input shape\n",
    "num_conv_layers = 2  # Specify the desired number of convolutional layers\n",
    "num_filters = 4 # [2,4], [3,8]\n",
    "model = FSNet(input_shape, num_filters, num_conv_layers, hidden_dim=128, distribution='uniform')\n",
    "print(model)\n",
    "\n",
    "# Test with an example input\n",
    "example_input = torch.randn(*input_shape)\n",
    "\n",
    "# print(flat_zoom_X, probs)\n",
    "# print(flat_zoom_X.shape[1])\n",
    "flat_zoom_X, feedback_cost, probs = model.forward(example_input)\n",
    "print(flat_zoom_X.shape)"
   ]
  },
  {
   "cell_type": "code",
   "execution_count": 4,
   "id": "305ee307",
   "metadata": {
    "cellView": "form",
    "execution": {
     "iopub.execute_input": "2024-08-20T17:03:15.748339Z",
     "iopub.status.busy": "2024-08-20T17:03:15.747900Z",
     "iopub.status.idle": "2024-08-20T17:03:30.859451Z",
     "shell.execute_reply": "2024-08-20T17:03:30.858309Z"
    },
    "id": "y1po5kE6v49J",
    "papermill": {
     "duration": 15.130562,
     "end_time": "2024-08-20T17:03:30.862284",
     "exception": false,
     "start_time": "2024-08-20T17:03:15.731722",
     "status": "completed"
    },
    "tags": []
   },
   "outputs": [
    {
     "name": "stderr",
     "output_type": "stream",
     "text": [
      "2024-08-20 17:03:19.544344: E external/local_xla/xla/stream_executor/cuda/cuda_dnn.cc:9261] Unable to register cuDNN factory: Attempting to register factory for plugin cuDNN when one has already been registered\n",
      "2024-08-20 17:03:19.544469: E external/local_xla/xla/stream_executor/cuda/cuda_fft.cc:607] Unable to register cuFFT factory: Attempting to register factory for plugin cuFFT when one has already been registered\n",
      "2024-08-20 17:03:19.709969: E external/local_xla/xla/stream_executor/cuda/cuda_blas.cc:1515] Unable to register cuBLAS factory: Attempting to register factory for plugin cuBLAS when one has already been registered\n"
     ]
    }
   ],
   "source": [
    "# @title\n",
    "from collections import deque\n",
    "import os\n",
    "import time\n",
    "import random\n",
    "import torch\n",
    "import torch.nn as nn\n",
    "import torch.optim as optim\n",
    "import torchvision.transforms as transforms\n",
    "from torchvision.datasets import MNIST\n",
    "from torch.utils.data import DataLoader, random_split\n",
    "from kan import KAN\n",
    "from torch.utils.tensorboard import SummaryWriter\n",
    "import numpy as np\n",
    "from tqdm import tqdm\n",
    "import matplotlib.pyplot as plt\n",
    "from typing import Dict, Tuple, Optional, Callable, Union\n",
    "\n",
    "class ReplayBuffer:\n",
    "    def __init__(self, capacity, observation_dim):\n",
    "        self.capacity = capacity\n",
    "        self.observations = torch.zeros(capacity, observation_dim)\n",
    "        self.actions = torch.zeros(capacity, 1, dtype=torch.int64)\n",
    "        self.next_observations = torch.zeros(capacity, observation_dim)\n",
    "        self.rewards = torch.zeros(capacity, 1)\n",
    "        self.terminations = torch.zeros(capacity, 1, dtype=torch.int)\n",
    "        self.cursor = 0\n",
    "\n",
    "    def add(self, observation, action, next_observation, reward, termination):\n",
    "        index = self.cursor % self.capacity\n",
    "        self.observations[index] = observation\n",
    "        self.actions[index] = action\n",
    "        self.next_observations[index] = next_observation\n",
    "        self.rewards[index] = reward\n",
    "        self.terminations[index] = termination\n",
    "        self.cursor += 1\n",
    "\n",
    "    def sample(self, batch_size):\n",
    "        idx = np.random.permutation(np.arange(len(self)))[:batch_size]\n",
    "        return (\n",
    "            self.observations[idx],\n",
    "            self.actions[idx],\n",
    "            self.next_observations[idx],\n",
    "            self.rewards[idx],\n",
    "            self.terminations[idx],\n",
    "        )\n",
    "\n",
    "    def __len__(self):\n",
    "        return min(self.cursor, self.capacity)\n",
    "\n",
    "\n",
    "\n",
    "def kan_train(\n",
    "    net,\n",
    "    target,\n",
    "    data,\n",
    "    optimizer,\n",
    "    gamma=0.99,\n",
    "    lamb=0.0,\n",
    "    lamb_l1=1.0,\n",
    "    lamb_entropy=2.0,\n",
    "    lamb_coef=0.0,\n",
    "    lamb_coefdiff=0.0,\n",
    "    small_mag_threshold=1e-16,\n",
    "    small_reg_factor=1.0,\n",
    "    feedback_cost=None,\n",
    "    feature_selection=False,\n",
    "):\n",
    "    \n",
    "\n",
    "    def reg(acts_scale):\n",
    "        def nonlinear(x, th=small_mag_threshold, factor=small_reg_factor):\n",
    "            return (x < th) * x * factor + (x > th) * (x + (factor - 1) * th)\n",
    "\n",
    "        reg_ = 0.0\n",
    "        for i in range(len(acts_scale)):\n",
    "            vec = acts_scale[i].reshape(\n",
    "                -1,\n",
    "            )\n",
    "\n",
    "            p = vec / torch.sum(vec)\n",
    "            l1 = torch.sum(nonlinear(vec))\n",
    "            entropy = -torch.sum(p * torch.log2(p + 1e-4))\n",
    "            reg_ += lamb_l1 * l1 + lamb_entropy * entropy  # both l1 and entropy\n",
    "\n",
    "        # regularize coefficient to encourage spline to be zero\n",
    "        for i in range(len(net.act_fun)):\n",
    "            coeff_l1 = torch.sum(torch.mean(torch.abs(net.act_fun[i].coef), dim=1))\n",
    "            coeff_diff_l1 = torch.sum(\n",
    "                torch.mean(torch.abs(torch.diff(net.act_fun[i].coef)), dim=1)\n",
    "            )\n",
    "            reg_ += lamb_coef * coeff_l1 + lamb_coefdiff * coeff_diff_l1\n",
    "\n",
    "        return reg_\n",
    "\n",
    "    observations, actions, next_observations, rewards, terminations = data\n",
    "\n",
    "    with torch.no_grad():\n",
    "        next_q_values = net(next_observations.detach())\n",
    "        next_actions = next_q_values.argmax(dim=1)\n",
    "        next_q_values_target = target(next_observations.detach())\n",
    "        target_max = next_q_values_target[range(len(next_q_values)), next_actions]\n",
    "        td_target = rewards.detach().flatten() + gamma * target_max * (\n",
    "            1 - terminations.detach().flatten()\n",
    "        )\n",
    "\n",
    "\n",
    "    old_val = net(observations.detach()).gather(1, actions.detach()).squeeze()\n",
    "    criterion = nn.SmoothL1Loss()\n",
    "    # criterion = nn.MSELoss()\n",
    "    # loss = criterion(td_target, old_val)\n",
    "    reg_ = reg(net.acts_scale)\n",
    "    loss = criterion(td_target, old_val) + lamb * reg_\n",
    "\n",
    "    # Combine the original cost function with the feedback loss\n",
    "    if feature_selection == True:\n",
    "        combined_loss = loss + 0.5 * feedback_cost.detach()\n",
    "    # print(loss, feedback_cost.detach())\n",
    "    else:\n",
    "        combined_loss = loss\n",
    "\n",
    "    optimizer.zero_grad()\n",
    "    combined_loss.backward()\n",
    "\n",
    "    # In-place gradient clipping\n",
    "    torch.nn.utils.clip_grad_value_(net.parameters(), 100)\n",
    "    optimizer.step()\n",
    "\n",
    "    return combined_loss.item()\n",
    "\n",
    "def mlp_train(\n",
    "    net,\n",
    "    target,\n",
    "    data,\n",
    "    optimizer,\n",
    "    gamma=0.99,\n",
    "    feedback_cost=None,\n",
    "    feature_selection=False,\n",
    "):\n",
    "    observations, actions, next_observations, rewards, terminations = data\n",
    "\n",
    "    # Compute everything related to primary loss in a single block to retain the graph\n",
    "    with torch.no_grad():\n",
    "        next_q_values = net(next_observations.detach())\n",
    "        next_actions = next_q_values.argmax(dim=1)\n",
    "        next_q_values_target = target(next_observations.detach())\n",
    "        target_max = next_q_values_target[range(len(next_q_values)), next_actions]\n",
    "        td_target = rewards.detach().flatten() + gamma * target_max * (\n",
    "            1 - terminations.detach().flatten()\n",
    "        )\n",
    "\n",
    "    old_val = net(observations.detach()).gather(1, actions.detach()).squeeze()\n",
    "    criterion = nn.SmoothL1Loss()\n",
    "    # criterion = nn.MSELoss()\n",
    "    loss = criterion(td_target, old_val)\n",
    "\n",
    "    # Combine the original cost function with the feedback loss\n",
    "    if feature_selection == True:\n",
    "      combined_loss = loss + 0.5 * feedback_cost.detach()\n",
    "    # print(loss, feedback_cost.detach())\n",
    "    else:\n",
    "      combined_loss = loss\n",
    "\n",
    "    optimizer.zero_grad()\n",
    "    combined_loss.backward()\n",
    "\n",
    "    # In-place gradient clipping\n",
    "    torch.nn.utils.clip_grad_value_(net.parameters(), 100)\n",
    "    optimizer.step()\n",
    "\n",
    "    return combined_loss.item()\n",
    "\n",
    "\n",
    "def set_all_seeds(seed):\n",
    "    random.seed(seed)\n",
    "    os.environ[\"PYTHONHASHSEED\"] = str(seed)\n",
    "    np.random.seed(seed)\n",
    "    torch.manual_seed(seed)\n",
    "    torch.cuda.manual_seed(seed)\n",
    "    torch.use_deterministic_algorithms(True)\n",
    "\n"
   ]
  },
  {
   "cell_type": "code",
   "execution_count": 5,
   "id": "3223b36e",
   "metadata": {
    "cellView": "form",
    "execution": {
     "iopub.execute_input": "2024-08-20T17:03:30.894990Z",
     "iopub.status.busy": "2024-08-20T17:03:30.893851Z",
     "iopub.status.idle": "2024-08-20T17:03:30.956321Z",
     "shell.execute_reply": "2024-08-20T17:03:30.955295Z"
    },
    "id": "wYF5Bi3GvKhV",
    "papermill": {
     "duration": 0.081902,
     "end_time": "2024-08-20T17:03:30.959012",
     "exception": false,
     "start_time": "2024-08-20T17:03:30.877110",
     "status": "completed"
    },
    "tags": []
   },
   "outputs": [],
   "source": [
    "# @title\n",
    "import os\n",
    "import time\n",
    "import random\n",
    "import shutil\n",
    "import matplotlib.pyplot as plt\n",
    "import torch\n",
    "import torch.nn as nn\n",
    "from torch.optim.lr_scheduler import ExponentialLR\n",
    "from torch.utils.tensorboard import SummaryWriter\n",
    "import numpy as np\n",
    "from tqdm import tqdm\n",
    "\n",
    "def kanRL(config):\n",
    "      set_all_seeds(config[\"seed\"])\n",
    "      env = BenchmarkEnvironment(dataset_name='FashionMNIST', batch_size=config[\"batch_size\"], feedback_sigma=5.0)    #MNISTEnvironment(config[\"batch_size\"])\n",
    "      results_dir = 'results'\n",
    "\n",
    "      # Check if the directory exists before trying to delete it\n",
    "      # if os.path.exists(results_dir) and os.path.isdir(results_dir):\n",
    "      #     shutil.rmtree(results_dir)\n",
    "      #     print(f\"Directory '{results_dir}' has been deleted.\")\n",
    "      # else:\n",
    "      #     print(f\"Directory '{results_dir}' does not exist.\")\n",
    "\n",
    "      input_shape = (config['first_channel'], int(config['input_size']**0.5), int(config['input_size']**0.5))  # Change this to the desired input shape\n",
    "      print(input_shape)\n",
    "      agent = FSNet(input_shape, config['num_filters'], config['num_conv_layers'], config['hidden_dim'], distribution=config['distribution'], tau=config['initial_tau'])\n",
    "      print(agent)\n",
    "\n",
    "      if config[\"feature_selection\"] == True:\n",
    "          example_input = torch.randn(*input_shape)\n",
    "          features, _, _ = agent(example_input)\n",
    "          n_features = features.shape[1]\n",
    "          print(n_features)\n",
    "      else:\n",
    "          n_features = config[\"input_size\"]\n",
    "\n",
    "      if config[\"method\"] == \"KAN\":\n",
    "          q_network = KAN(\n",
    "              width=[n_features, config[\"width\"], config[\"output_size\"]],\n",
    "              grid=config[\"grid\"],\n",
    "              k=3,\n",
    "              bias_trainable=False,\n",
    "              sp_trainable=False,\n",
    "              sb_trainable=False,\n",
    "          )\n",
    "          target_network = KAN(\n",
    "              width=[n_features, config[\"width\"], config[\"output_size\"]],\n",
    "              grid=config[\"grid\"],\n",
    "              k=3,\n",
    "              bias_trainable=False,\n",
    "              sp_trainable=False,\n",
    "              sb_trainable=False,\n",
    "          )\n",
    "          train = kan_train\n",
    "      elif config[\"method\"] == \"MLP\":\n",
    "          q_network = nn.Sequential(\n",
    "              nn.Linear(n_features, config[\"width\"]),\n",
    "              nn.ReLU(),\n",
    "              nn.Linear(config[\"width\"], config[\"output_size\"]),\n",
    "          )\n",
    "          target_network = nn.Sequential(\n",
    "              nn.Linear(n_features, config[\"width\"]),\n",
    "              nn.ReLU(),\n",
    "              nn.Linear(config[\"width\"], config[\"output_size\"]),\n",
    "          )\n",
    "          train = mlp_train\n",
    "      else:\n",
    "          raise Exception(\n",
    "              f\"Method {config['method']} doesn't exist, choose between MLP and KAN.\"\n",
    "          )\n",
    "\n",
    "      target_network.load_state_dict(q_network.state_dict())\n",
    "\n",
    "      run_name = f\"{config['method']}_MNIST_{config['seed']}_{int(time.time())}\"\n",
    "\n",
    "      writer = SummaryWriter(f\"runs/{run_name}\")\n",
    "\n",
    "      os.makedirs(\"results\", exist_ok=True)\n",
    "      with open(f\"results/{run_name}.csv\", \"w\") as f:\n",
    "          f.write(\"epoch,accuracy\\n\")\n",
    "\n",
    "\n",
    "      optimizer = optim.Adam(list(agent.parameters())+list(q_network.parameters()), lr = config[\"learning_rate\"], weight_decay = config[\"weight_decay\"])\n",
    "      # Define learning rate scheduler\n",
    "      scheduler = optim.lr_scheduler.ExponentialLR(optimizer, gamma=config['gamma'])\n",
    "\n",
    "      writer.add_text(\n",
    "          \"hyperparameters\",\n",
    "          \"|param|value|\\n|-|-|\\n%s\"\n",
    "          % (\"\\n\".join([f\"|{key}|{value}|\" for key, value in config.items()])),\n",
    "      )\n",
    "\n",
    "      replay_buffer = ReplayBuffer(config[\"buffer_size\"], n_features) # change here if the input size changes\n",
    "\n",
    "      train_accuracies = []\n",
    "      test_accuracies = []\n",
    "      train_acc_stds = []\n",
    "      test_acc_stds = []\n",
    "      episode_lengths = []\n",
    "      losses = []\n",
    "      loss_stds = []\n",
    "      probs_history = []\n",
    "      feedback_cost_history = []\n",
    "\n",
    "      # Training phase\n",
    "      for epoch in tqdm(range(config[\"n_epochs\"]), desc=f\"{run_name}\"):\n",
    "          running_loss = 0.0\n",
    "          correct = 0\n",
    "          total = 0\n",
    "          probs_batch_list = []\n",
    "          feedback_cost_tot = 0\n",
    "\n",
    "          for _ in range(len(env.loader)):\n",
    "              state, label, feedback = env.step()\n",
    "              feedback = feedback.view(-1, config['input_size'])\n",
    "\n",
    "              if config[\"feature_selection\"] == True:\n",
    "                  flat_zoom_X, feedback_cost, probs = agent.forward(state, feedback, epoch, config[\"n_epochs\"])\n",
    "                  # Collect the probabilities and feedback costs\n",
    "                  probs_batch_list.append(probs.detach().cpu().numpy())\n",
    "                  feedback_cost_tot += feedback_cost.detach().cpu().numpy()\n",
    "                  # Calculate regularization loss\n",
    "                  state = flat_zoom_X\n",
    "              else:\n",
    "                  state = state.view(-1, config['input_size'])\n",
    "                  probs_batch_list.append(torch.zeros((1, int(config['input_size']))))\n",
    "                  probs = torch.zeros((1, int(config['input_size'])))\n",
    "                  feedback_cost = torch.zeros(1)\n",
    "                  feedback_cost_tot += torch.zeros(1)\n",
    "\n",
    "              # Forward pass\n",
    "              if epoch < config[\"warm_up_episodes\"]:\n",
    "                  action = torch.tensor([random.randint(0, 9)])\n",
    "              else:\n",
    "                  with torch.no_grad():\n",
    "                      action = q_network(state).argmax(axis=-1).squeeze().item()\n",
    "\n",
    "              reward = torch.tensor([1.0]) if action == label else torch.tensor([0.0])\n",
    "              next_state, next_label, _ = env.step()\n",
    "              if config[\"feature_selection\"] == True:\n",
    "                  next_state, _, _ = agent.forward(next_state)\n",
    "              else:\n",
    "                  next_state = next_state.view(-1, config['input_size'])\n",
    "\n",
    "              replay_buffer.add(state, action, next_state, reward, torch.tensor([1]))\n",
    "\n",
    "              if len(replay_buffer) > config[\"batch_size\"]:\n",
    "                  batch = replay_buffer.sample(config[\"batch_size\"])\n",
    "                  loss = train(\n",
    "                      q_network,\n",
    "                      target_network,\n",
    "                      batch,\n",
    "                      optimizer,\n",
    "                      gamma=config[\"gamma\"],\n",
    "                      feedback_cost = feedback_cost,\n",
    "                      feature_selection = config['feature_selection'],\n",
    "                  )\n",
    "                  running_loss += loss\n",
    "\n",
    "              correct += (action == label).sum().item()\n",
    "              total += 1\n",
    "\n",
    "          scheduler.step()\n",
    "          print()\n",
    "          print('correct:', correct, 'total:', total)\n",
    "          print('loss:', running_loss/total)\n",
    "          train_accuracy = correct / total\n",
    "          print(' Train accuracy: ', train_accuracy, '| ')\n",
    "          train_accuracies.append(train_accuracy)\n",
    "          losses.append(running_loss/total)\n",
    "\n",
    "          # Aggregate probabilities by averaging across the batch\n",
    "          avg_probs = np.mean(np.array(probs_batch_list), axis=0)\n",
    "          probs_history.append(avg_probs)\n",
    "          # Compute feedback cost\n",
    "          feedback_cost_history.append(feedback_cost_tot / len(env.loader))\n",
    "\n",
    "          if (\n",
    "              epoch % 25 == 0\n",
    "              and config[\"method\"] == \"KAN\"\n",
    "              and epoch < int(config[\"n_epochs\"] * (1 / 2))\n",
    "          ):\n",
    "              q_network.update_grid_from_samples(replay_buffer.observations[: len(replay_buffer)])\n",
    "              target_network.update_grid_from_samples(replay_buffer.observations[: len(replay_buffer)])\n",
    "\n",
    "          if epoch % config[\"target_update\"] == 0:\n",
    "              target_network.load_state_dict(q_network.state_dict())\n",
    "\n",
    "\n",
    "          correct = 0\n",
    "          total = 0\n",
    "          with torch.no_grad():\n",
    "                  # transforms.Normalize((0.1307,), (0.3081,)) # MNIST\n",
    "                  # transforms.Normalize((0.5,), (0.5,)) # FashionMNIST\n",
    "                  # transforms.Normalize((0.4914, 0.4822, 0.4465), (0.247, 0.243, 0.261)), # CIFAR10\n",
    "                  # transforms.Normalize((0.50707516, 0.48654887, 0.44091784), (0.26733429, 0.25643846, 0.27615047)), # CIFAR100\n",
    "              for images, labels in DataLoader(datasets.FashionMNIST('./data', train=False, download=True, transform=transforms.Compose([\n",
    "                  transforms.Resize((int(config['input_size']**0.5), int(config['input_size']**0.5))),\n",
    "                  transforms.ToTensor(),\n",
    "                  transforms.Normalize((0.5,), (0.5,)), # FashionMNIST\n",
    "                  transforms.Grayscale(num_output_channels=1)\n",
    "              ])), batch_size=config[\"batch_size\"]):\n",
    "                  state = images.view(-1,config[\"input_size\"])\n",
    "\n",
    "                  if config[\"feature_selection\"] == True:\n",
    "                      flat_zoom_X, _, _ = agent(state)\n",
    "                      state = flat_zoom_X\n",
    "\n",
    "                  outputs = q_network(state)\n",
    "                  _, predicted = torch.max(outputs.data, 1)\n",
    "                  total += labels.size(0)\n",
    "                  correct += (predicted == labels).sum().item()\n",
    "\n",
    "          test_accuracy = correct / total\n",
    "          print(' Test accuracy: ', test_accuracy)\n",
    "          test_accuracies.append(test_accuracy)\n",
    "\n",
    "          writer.add_scalar(\"Loss/train\", running_loss / total, epoch)\n",
    "          writer.add_scalar(\"Accuracy/train\", train_accuracy, epoch)\n",
    "          writer.add_scalar(\"Accuracy/test\", test_accuracy, epoch)\n",
    "\n",
    "          with open(f\"results/{run_name}.csv\", \"a\") as f:\n",
    "              f.write(f\"{epoch},{test_accuracy}\\n\")\n",
    "\n",
    "\n",
    "      # Calculate standard deviations\n",
    "      train_acc_stds = [np.std(train_accuracies[max(0, i-10):i+1]) for i in range(len(train_accuracies))]\n",
    "      test_acc_stds = [np.std(test_accuracies[max(0, i-10):i+1]) for i in range(len(test_accuracies))]\n",
    "      loss_stds = [np.std(losses[max(0, i-10):i+1]) for i in range(len(losses))]\n",
    "\n",
    "      epochs = np.arange(len(train_accuracies))\n",
    "\n",
    "      #### With uncertainty ########\n",
    "      plt.figure(figsize=(12, 5))\n",
    "\n",
    "      plt.subplot(1, 2, 1)\n",
    "      plt.plot(epochs, train_accuracies, label='Train Accuracy')\n",
    "      plt.fill_between(epochs, np.array(train_accuracies) - np.array(train_acc_stds), np.array(train_accuracies) + np.array(train_acc_stds), alpha=0.3)\n",
    "      plt.plot(epochs, test_accuracies, label='Test Accuracy')\n",
    "      plt.fill_between(epochs, np.array(test_accuracies) - np.array(test_acc_stds), np.array(test_accuracies) + np.array(test_acc_stds), alpha=0.3)\n",
    "      plt.xlabel('Epoch')\n",
    "      plt.ylabel('Accuracy')\n",
    "      plt.legend()\n",
    "      plt.title('Accuracy over Time')\n",
    "\n",
    "      plt.subplot(1, 2, 2)\n",
    "      plt.plot(epochs, losses, label='Loss')\n",
    "      plt.fill_between(epochs, np.array(losses) - np.array(loss_stds), np.array(losses) + np.array(loss_stds), alpha=0.3)\n",
    "      plt.xlabel('Epoch')\n",
    "      plt.ylabel('Loss')\n",
    "      plt.legend()\n",
    "      plt.title('Loss over Time')\n",
    "\n",
    "      plt.tight_layout()\n",
    "      plt.show()\n",
    "\n",
    "\n",
    "      ##### Without uncertainty ########\n",
    "      plt.figure(figsize=(12, 5))\n",
    "\n",
    "      plt.subplot(1, 2, 1)\n",
    "      plt.plot(epochs, train_accuracies, label='Train Accuracy')\n",
    "      plt.plot(epochs, test_accuracies, label='Test Accuracy')\n",
    "      plt.xlabel('Epoch')\n",
    "      plt.ylabel('Accuracy')\n",
    "      plt.legend()\n",
    "      plt.title('Accuracy over Time')\n",
    "\n",
    "      plt.subplot(1, 2, 2)\n",
    "      plt.plot(epochs, losses, label='Loss')\n",
    "      plt.xlabel('Epoch')\n",
    "      plt.ylabel('Loss')\n",
    "      plt.legend()\n",
    "      plt.title('Loss over Time')\n",
    "\n",
    "      plt.tight_layout()\n",
    "      plt.show()\n",
    "\n",
    "      # Print final accuracy with +/- error\n",
    "      final_train_accuracy = train_accuracies[-1]\n",
    "      final_train_acc_std = train_acc_stds[-1]\n",
    "      final_test_accuracy = test_accuracies[-1]\n",
    "      final_test_acc_std = test_acc_stds[-1]\n",
    "\n",
    "      print(f\"Final Train Accuracy: {final_train_accuracy:.2f} ± {final_train_acc_std:.2f}\")\n",
    "      print(f\"Final Test Accuracy: {final_test_accuracy:.2f} ± {final_test_acc_std:.2f}\")\n",
    "\n",
    "\n",
    "      return q_network, train_accuracies, test_accuracies, losses, probs_history, feedback_cost_history, train_acc_stds, test_acc_stds, loss_stds, agent\n"
   ]
  },
  {
   "cell_type": "markdown",
   "id": "47fc0e17",
   "metadata": {
    "papermill": {
     "duration": 0.014251,
     "end_time": "2024-08-20T17:03:30.988288",
     "exception": false,
     "start_time": "2024-08-20T17:03:30.974037",
     "status": "completed"
    },
    "tags": []
   },
   "source": [
    "# KAN width=16 grid=3"
   ]
  },
  {
   "cell_type": "code",
   "execution_count": 6,
   "id": "39b021d8",
   "metadata": {
    "execution": {
     "iopub.execute_input": "2024-08-20T17:03:31.019321Z",
     "iopub.status.busy": "2024-08-20T17:03:31.018876Z",
     "iopub.status.idle": "2024-08-21T04:45:09.434376Z",
     "shell.execute_reply": "2024-08-21T04:45:09.432833Z"
    },
    "id": "JDuSwacf9fse",
    "outputId": "0a5f0407-ed77-4f23-b8dc-af933d33fcab",
    "papermill": {
     "duration": 42098.434702,
     "end_time": "2024-08-21T04:45:09.437668",
     "exception": false,
     "start_time": "2024-08-20T17:03:31.002966",
     "status": "completed"
    },
    "scrolled": true,
    "tags": []
   },
   "outputs": [
    {
     "name": "stdout",
     "output_type": "stream",
     "text": [
      "(1, 8, 8)\n",
      "FSNet(\n",
      "  (feature_extractor): Sequential(\n",
      "    (0): Conv2d(1, 8, kernel_size=(3, 3), stride=(1, 1), padding=(1, 1))\n",
      "    (1): ReLU()\n",
      "    (2): MaxPool2d(kernel_size=2, stride=2, padding=0, dilation=1, ceil_mode=False)\n",
      "    (3): Conv2d(8, 16, kernel_size=(3, 3), stride=(1, 1), padding=(1, 1))\n",
      "    (4): ReLU()\n",
      "    (5): MaxPool2d(kernel_size=2, stride=2, padding=0, dilation=1, ceil_mode=False)\n",
      "    (6): Flatten(start_dim=1, end_dim=-1)\n",
      "  )\n",
      "  (fc1): Linear(in_features=64, out_features=128, bias=True)\n",
      "  (relu): ReLU()\n",
      "  (dropout): Dropout(p=0.25, inplace=False)\n",
      "  (fc2): Linear(in_features=128, out_features=64, bias=True)\n",
      "  (sigmoid): Sigmoid()\n",
      "  (softmax): Softmax(dim=-1)\n",
      ")\n",
      "64\n"
     ]
    },
    {
     "name": "stderr",
     "output_type": "stream",
     "text": [
      "KAN_MNIST_0_1724173411:   0%|          | 0/100 [00:00<?, ?it/s]"
     ]
    },
    {
     "name": "stdout",
     "output_type": "stream",
     "text": [
      "\n",
      "correct: 47 total: 469\n",
      "loss: 0.06258881370872577\n",
      " Train accuracy:  0.10021321961620469 | \n"
     ]
    },
    {
     "name": "stderr",
     "output_type": "stream",
     "text": [
      "KAN_MNIST_0_1724173411:   1%|          | 1/100 [04:06<6:46:53, 246.60s/it]"
     ]
    },
    {
     "name": "stdout",
     "output_type": "stream",
     "text": [
      " Test accuracy:  0.2444\n",
      "\n",
      "correct: 40 total: 469\n",
      "loss: 0.05061817612411625\n",
      " Train accuracy:  0.08528784648187633 | \n"
     ]
    },
    {
     "name": "stderr",
     "output_type": "stream",
     "text": [
      "KAN_MNIST_0_1724173411:   2%|▏         | 2/100 [09:47<8:13:07, 301.91s/it]"
     ]
    },
    {
     "name": "stdout",
     "output_type": "stream",
     "text": [
      " Test accuracy:  0.4706\n",
      "\n",
      "correct: 225 total: 469\n",
      "loss: 0.05125117698299097\n",
      " Train accuracy:  0.47974413646055436 | \n"
     ]
    },
    {
     "name": "stderr",
     "output_type": "stream",
     "text": [
      "KAN_MNIST_0_1724173411:   3%|▎         | 3/100 [16:14<9:11:08, 340.91s/it]"
     ]
    },
    {
     "name": "stdout",
     "output_type": "stream",
     "text": [
      " Test accuracy:  0.4905\n",
      "\n",
      "correct: 227 total: 469\n",
      "loss: 0.05439684536061816\n",
      " Train accuracy:  0.4840085287846482 | \n"
     ]
    },
    {
     "name": "stderr",
     "output_type": "stream",
     "text": [
      "KAN_MNIST_0_1724173411:   4%|▍         | 4/100 [22:41<9:34:38, 359.16s/it]"
     ]
    },
    {
     "name": "stdout",
     "output_type": "stream",
     "text": [
      " Test accuracy:  0.5171\n",
      "\n",
      "correct: 227 total: 469\n",
      "loss: 0.055645000888531145\n",
      " Train accuracy:  0.4840085287846482 | \n"
     ]
    },
    {
     "name": "stderr",
     "output_type": "stream",
     "text": [
      "KAN_MNIST_0_1724173411:   5%|▌         | 5/100 [29:10<9:45:29, 369.78s/it]"
     ]
    },
    {
     "name": "stdout",
     "output_type": "stream",
     "text": [
      " Test accuracy:  0.5102\n",
      "\n",
      "correct: 249 total: 469\n",
      "loss: 0.05829857327123441\n",
      " Train accuracy:  0.5309168443496801 | \n"
     ]
    },
    {
     "name": "stderr",
     "output_type": "stream",
     "text": [
      "KAN_MNIST_0_1724173411:   6%|▌         | 6/100 [35:39<9:49:55, 376.55s/it]"
     ]
    },
    {
     "name": "stdout",
     "output_type": "stream",
     "text": [
      " Test accuracy:  0.5115\n",
      "\n",
      "correct: 257 total: 469\n",
      "loss: 0.06034600325643635\n",
      " Train accuracy:  0.5479744136460555 | \n"
     ]
    },
    {
     "name": "stderr",
     "output_type": "stream",
     "text": [
      "KAN_MNIST_0_1724173411:   7%|▋         | 7/100 [42:08<9:49:47, 380.51s/it]"
     ]
    },
    {
     "name": "stdout",
     "output_type": "stream",
     "text": [
      " Test accuracy:  0.5275\n",
      "\n",
      "correct: 246 total: 469\n",
      "loss: 0.06226119369681456\n",
      " Train accuracy:  0.5245202558635395 | \n"
     ]
    },
    {
     "name": "stderr",
     "output_type": "stream",
     "text": [
      "KAN_MNIST_0_1724173411:   8%|▊         | 8/100 [48:38<9:47:47, 383.35s/it]"
     ]
    },
    {
     "name": "stdout",
     "output_type": "stream",
     "text": [
      " Test accuracy:  0.5234\n",
      "\n",
      "correct: 233 total: 469\n",
      "loss: 0.06464182858718738\n",
      " Train accuracy:  0.4968017057569296 | \n"
     ]
    },
    {
     "name": "stderr",
     "output_type": "stream",
     "text": [
      "KAN_MNIST_0_1724173411:   9%|▉         | 9/100 [55:06<9:43:57, 385.03s/it]"
     ]
    },
    {
     "name": "stdout",
     "output_type": "stream",
     "text": [
      " Test accuracy:  0.5281\n",
      "\n",
      "correct: 241 total: 469\n",
      "loss: 0.06574978711985068\n",
      " Train accuracy:  0.5138592750533049 | \n"
     ]
    },
    {
     "name": "stderr",
     "output_type": "stream",
     "text": [
      "KAN_MNIST_0_1724173411:  10%|█         | 10/100 [1:01:35<9:39:20, 386.23s/it]"
     ]
    },
    {
     "name": "stdout",
     "output_type": "stream",
     "text": [
      " Test accuracy:  0.5246\n",
      "\n",
      "correct: 254 total: 469\n",
      "loss: 0.06749031012023944\n",
      " Train accuracy:  0.5415778251599147 | \n"
     ]
    },
    {
     "name": "stderr",
     "output_type": "stream",
     "text": [
      "KAN_MNIST_0_1724173411:  11%|█         | 11/100 [1:08:05<9:34:24, 387.24s/it]"
     ]
    },
    {
     "name": "stdout",
     "output_type": "stream",
     "text": [
      " Test accuracy:  0.5328\n",
      "\n",
      "correct: 252 total: 469\n",
      "loss: 0.06949974091322438\n",
      " Train accuracy:  0.5373134328358209 | \n"
     ]
    },
    {
     "name": "stderr",
     "output_type": "stream",
     "text": [
      "KAN_MNIST_0_1724173411:  12%|█▏        | 12/100 [1:14:41<9:32:06, 390.07s/it]"
     ]
    },
    {
     "name": "stdout",
     "output_type": "stream",
     "text": [
      " Test accuracy:  0.5404\n",
      "\n",
      "correct: 277 total: 469\n",
      "loss: 0.07063143856839331\n",
      " Train accuracy:  0.5906183368869936 | \n"
     ]
    },
    {
     "name": "stderr",
     "output_type": "stream",
     "text": [
      "KAN_MNIST_0_1724173411:  13%|█▎        | 13/100 [1:21:16<9:27:47, 391.58s/it]"
     ]
    },
    {
     "name": "stdout",
     "output_type": "stream",
     "text": [
      " Test accuracy:  0.5448\n",
      "\n",
      "correct: 265 total: 469\n",
      "loss: 0.07265139905723936\n",
      " Train accuracy:  0.5650319829424307 | \n"
     ]
    },
    {
     "name": "stderr",
     "output_type": "stream",
     "text": [
      "KAN_MNIST_0_1724173411:  14%|█▍        | 14/100 [1:27:51<9:22:31, 392.45s/it]"
     ]
    },
    {
     "name": "stdout",
     "output_type": "stream",
     "text": [
      " Test accuracy:  0.5571\n",
      "\n",
      "correct: 252 total: 469\n",
      "loss: 0.07339644934862916\n",
      " Train accuracy:  0.5373134328358209 | \n"
     ]
    },
    {
     "name": "stderr",
     "output_type": "stream",
     "text": [
      "KAN_MNIST_0_1724173411:  15%|█▌        | 15/100 [1:34:27<9:17:46, 393.72s/it]"
     ]
    },
    {
     "name": "stdout",
     "output_type": "stream",
     "text": [
      " Test accuracy:  0.5639\n",
      "\n",
      "correct: 260 total: 469\n",
      "loss: 0.07550237485086486\n",
      " Train accuracy:  0.5543710021321961 | \n"
     ]
    },
    {
     "name": "stderr",
     "output_type": "stream",
     "text": [
      "KAN_MNIST_0_1724173411:  16%|█▌        | 16/100 [1:41:06<9:13:18, 395.22s/it]"
     ]
    },
    {
     "name": "stdout",
     "output_type": "stream",
     "text": [
      " Test accuracy:  0.5627\n",
      "\n",
      "correct: 281 total: 469\n",
      "loss: 0.0776165716731345\n",
      " Train accuracy:  0.5991471215351812 | \n"
     ]
    },
    {
     "name": "stderr",
     "output_type": "stream",
     "text": [
      "KAN_MNIST_0_1724173411:  17%|█▋        | 17/100 [1:47:46<9:08:39, 396.62s/it]"
     ]
    },
    {
     "name": "stdout",
     "output_type": "stream",
     "text": [
      " Test accuracy:  0.5593\n",
      "\n",
      "correct: 274 total: 469\n",
      "loss: 0.07881421007231863\n",
      " Train accuracy:  0.5842217484008528 | \n"
     ]
    },
    {
     "name": "stderr",
     "output_type": "stream",
     "text": [
      "KAN_MNIST_0_1724173411:  18%|█▊        | 18/100 [1:54:30<9:04:55, 398.72s/it]"
     ]
    },
    {
     "name": "stdout",
     "output_type": "stream",
     "text": [
      " Test accuracy:  0.5648\n",
      "\n",
      "correct: 270 total: 469\n",
      "loss: 0.07893760543642268\n",
      " Train accuracy:  0.5756929637526652 | \n"
     ]
    },
    {
     "name": "stderr",
     "output_type": "stream",
     "text": [
      "KAN_MNIST_0_1724173411:  19%|█▉        | 19/100 [2:01:12<8:59:35, 399.70s/it]"
     ]
    },
    {
     "name": "stdout",
     "output_type": "stream",
     "text": [
      " Test accuracy:  0.5747\n",
      "\n",
      "correct: 281 total: 469\n",
      "loss: 0.0796177360707763\n",
      " Train accuracy:  0.5991471215351812 | \n"
     ]
    },
    {
     "name": "stderr",
     "output_type": "stream",
     "text": [
      "KAN_MNIST_0_1724173411:  20%|██        | 20/100 [2:07:53<8:53:46, 400.33s/it]"
     ]
    },
    {
     "name": "stdout",
     "output_type": "stream",
     "text": [
      " Test accuracy:  0.5773\n",
      "\n",
      "correct: 273 total: 469\n",
      "loss: 0.08084137871988546\n",
      " Train accuracy:  0.582089552238806 | \n"
     ]
    },
    {
     "name": "stderr",
     "output_type": "stream",
     "text": [
      "KAN_MNIST_0_1724173411:  21%|██        | 21/100 [2:14:48<8:52:45, 404.63s/it]"
     ]
    },
    {
     "name": "stdout",
     "output_type": "stream",
     "text": [
      " Test accuracy:  0.578\n",
      "\n",
      "correct: 271 total: 469\n",
      "loss: 0.08225374675191033\n",
      " Train accuracy:  0.5778251599147122 | \n"
     ]
    },
    {
     "name": "stderr",
     "output_type": "stream",
     "text": [
      "KAN_MNIST_0_1724173411:  22%|██▏       | 22/100 [2:21:38<8:48:05, 406.22s/it]"
     ]
    },
    {
     "name": "stdout",
     "output_type": "stream",
     "text": [
      " Test accuracy:  0.5842\n",
      "\n",
      "correct: 280 total: 469\n",
      "loss: 0.08377533637956261\n",
      " Train accuracy:  0.5970149253731343 | \n"
     ]
    },
    {
     "name": "stderr",
     "output_type": "stream",
     "text": [
      "KAN_MNIST_0_1724173411:  23%|██▎       | 23/100 [2:28:29<8:43:02, 407.57s/it]"
     ]
    },
    {
     "name": "stdout",
     "output_type": "stream",
     "text": [
      " Test accuracy:  0.5831\n",
      "\n",
      "correct: 277 total: 469\n",
      "loss: 0.08458475849585238\n",
      " Train accuracy:  0.5906183368869936 | \n"
     ]
    },
    {
     "name": "stderr",
     "output_type": "stream",
     "text": [
      "KAN_MNIST_0_1724173411:  24%|██▍       | 24/100 [2:35:18<8:36:59, 408.15s/it]"
     ]
    },
    {
     "name": "stdout",
     "output_type": "stream",
     "text": [
      " Test accuracy:  0.5905\n",
      "\n",
      "correct: 280 total: 469\n",
      "loss: 0.08526634728349348\n",
      " Train accuracy:  0.5970149253731343 | \n"
     ]
    },
    {
     "name": "stderr",
     "output_type": "stream",
     "text": [
      "KAN_MNIST_0_1724173411:  25%|██▌       | 25/100 [2:42:15<8:33:24, 410.72s/it]"
     ]
    },
    {
     "name": "stdout",
     "output_type": "stream",
     "text": [
      " Test accuracy:  0.5908\n",
      "\n",
      "correct: 285 total: 469\n",
      "loss: 0.08680050713675362\n",
      " Train accuracy:  0.6076759061833689 | \n"
     ]
    },
    {
     "name": "stderr",
     "output_type": "stream",
     "text": [
      "KAN_MNIST_0_1724173411:  26%|██▌       | 26/100 [2:50:44<9:02:51, 440.16s/it]"
     ]
    },
    {
     "name": "stdout",
     "output_type": "stream",
     "text": [
      " Test accuracy:  0.6418\n",
      "\n",
      "correct: 291 total: 469\n",
      "loss: 0.10357901582649268\n",
      " Train accuracy:  0.6204690831556503 | \n"
     ]
    },
    {
     "name": "stderr",
     "output_type": "stream",
     "text": [
      "KAN_MNIST_0_1724173411:  27%|██▋       | 27/100 [2:57:38<8:45:57, 432.30s/it]"
     ]
    },
    {
     "name": "stdout",
     "output_type": "stream",
     "text": [
      " Test accuracy:  0.6603\n",
      "\n",
      "correct: 317 total: 469\n",
      "loss: 0.10253704401221611\n",
      " Train accuracy:  0.67590618336887 | \n"
     ]
    },
    {
     "name": "stderr",
     "output_type": "stream",
     "text": [
      "KAN_MNIST_0_1724173411:  28%|██▊       | 28/100 [3:04:41<8:35:25, 429.53s/it]"
     ]
    },
    {
     "name": "stdout",
     "output_type": "stream",
     "text": [
      " Test accuracy:  0.662\n",
      "\n",
      "correct: 327 total: 469\n",
      "loss: 0.10020324330467151\n",
      " Train accuracy:  0.697228144989339 | \n"
     ]
    },
    {
     "name": "stderr",
     "output_type": "stream",
     "text": [
      "KAN_MNIST_0_1724173411:  29%|██▉       | 29/100 [3:11:45<8:26:24, 427.95s/it]"
     ]
    },
    {
     "name": "stdout",
     "output_type": "stream",
     "text": [
      " Test accuracy:  0.6653\n",
      "\n",
      "correct: 301 total: 469\n",
      "loss: 0.10041039060555033\n",
      " Train accuracy:  0.6417910447761194 | \n"
     ]
    },
    {
     "name": "stderr",
     "output_type": "stream",
     "text": [
      "KAN_MNIST_0_1724173411:  30%|███       | 30/100 [3:18:54<8:19:40, 428.30s/it]"
     ]
    },
    {
     "name": "stdout",
     "output_type": "stream",
     "text": [
      " Test accuracy:  0.6651\n",
      "\n",
      "correct: 315 total: 469\n",
      "loss: 0.10135674328882811\n",
      " Train accuracy:  0.6716417910447762 | \n"
     ]
    },
    {
     "name": "stderr",
     "output_type": "stream",
     "text": [
      "KAN_MNIST_0_1724173411:  31%|███       | 31/100 [3:26:00<8:11:40, 427.54s/it]"
     ]
    },
    {
     "name": "stdout",
     "output_type": "stream",
     "text": [
      " Test accuracy:  0.6749\n",
      "\n",
      "correct: 310 total: 469\n",
      "loss: 0.10102108092323295\n",
      " Train accuracy:  0.6609808102345416 | \n"
     ]
    },
    {
     "name": "stderr",
     "output_type": "stream",
     "text": [
      "KAN_MNIST_0_1724173411:  32%|███▏      | 32/100 [3:33:05<8:03:40, 426.78s/it]"
     ]
    },
    {
     "name": "stdout",
     "output_type": "stream",
     "text": [
      " Test accuracy:  0.6769\n",
      "\n",
      "correct: 307 total: 469\n",
      "loss: 0.10117916978879778\n",
      " Train accuracy:  0.6545842217484008 | \n"
     ]
    },
    {
     "name": "stderr",
     "output_type": "stream",
     "text": [
      "KAN_MNIST_0_1724173411:  33%|███▎      | 33/100 [3:39:56<7:51:15, 422.03s/it]"
     ]
    },
    {
     "name": "stdout",
     "output_type": "stream",
     "text": [
      " Test accuracy:  0.6793\n",
      "\n",
      "correct: 323 total: 469\n",
      "loss: 0.10115896494213197\n",
      " Train accuracy:  0.6886993603411514 | \n"
     ]
    },
    {
     "name": "stderr",
     "output_type": "stream",
     "text": [
      "KAN_MNIST_0_1724173411:  34%|███▍      | 34/100 [3:46:47<7:40:45, 418.87s/it]"
     ]
    },
    {
     "name": "stdout",
     "output_type": "stream",
     "text": [
      " Test accuracy:  0.6737\n",
      "\n",
      "correct: 298 total: 469\n",
      "loss: 0.102166693236655\n",
      " Train accuracy:  0.6353944562899787 | \n"
     ]
    },
    {
     "name": "stderr",
     "output_type": "stream",
     "text": [
      "KAN_MNIST_0_1724173411:  35%|███▌      | 35/100 [3:53:47<7:33:53, 418.98s/it]"
     ]
    },
    {
     "name": "stdout",
     "output_type": "stream",
     "text": [
      " Test accuracy:  0.6761\n",
      "\n",
      "correct: 319 total: 469\n",
      "loss: 0.1019092900380651\n",
      " Train accuracy:  0.6801705756929638 | \n"
     ]
    },
    {
     "name": "stderr",
     "output_type": "stream",
     "text": [
      "KAN_MNIST_0_1724173411:  36%|███▌      | 36/100 [4:00:44<7:26:28, 418.57s/it]"
     ]
    },
    {
     "name": "stdout",
     "output_type": "stream",
     "text": [
      " Test accuracy:  0.6871\n",
      "\n",
      "correct: 321 total: 469\n",
      "loss: 0.10104787929543554\n",
      " Train accuracy:  0.6844349680170576 | \n"
     ]
    },
    {
     "name": "stderr",
     "output_type": "stream",
     "text": [
      "KAN_MNIST_0_1724173411:  37%|███▋      | 37/100 [4:07:42<7:19:20, 418.42s/it]"
     ]
    },
    {
     "name": "stdout",
     "output_type": "stream",
     "text": [
      " Test accuracy:  0.6832\n",
      "\n",
      "correct: 333 total: 469\n",
      "loss: 0.10223802017059916\n",
      " Train accuracy:  0.7100213219616205 | \n"
     ]
    },
    {
     "name": "stderr",
     "output_type": "stream",
     "text": [
      "KAN_MNIST_0_1724173411:  38%|███▊      | 38/100 [4:14:42<7:12:40, 418.71s/it]"
     ]
    },
    {
     "name": "stdout",
     "output_type": "stream",
     "text": [
      " Test accuracy:  0.6889\n",
      "\n",
      "correct: 319 total: 469\n",
      "loss: 0.10165596233883392\n",
      " Train accuracy:  0.6801705756929638 | \n"
     ]
    },
    {
     "name": "stderr",
     "output_type": "stream",
     "text": [
      "KAN_MNIST_0_1724173411:  39%|███▉      | 39/100 [4:21:44<7:06:45, 419.77s/it]"
     ]
    },
    {
     "name": "stdout",
     "output_type": "stream",
     "text": [
      " Test accuracy:  0.6872\n",
      "\n",
      "correct: 334 total: 469\n",
      "loss: 0.10178929120937644\n",
      " Train accuracy:  0.7121535181236673 | \n"
     ]
    },
    {
     "name": "stderr",
     "output_type": "stream",
     "text": [
      "KAN_MNIST_0_1724173411:  40%|████      | 40/100 [4:28:45<7:00:00, 420.01s/it]"
     ]
    },
    {
     "name": "stdout",
     "output_type": "stream",
     "text": [
      " Test accuracy:  0.6944\n",
      "\n",
      "correct: 320 total: 469\n",
      "loss: 0.10273324161259605\n",
      " Train accuracy:  0.6823027718550106 | \n"
     ]
    },
    {
     "name": "stderr",
     "output_type": "stream",
     "text": [
      "KAN_MNIST_0_1724173411:  41%|████      | 41/100 [4:35:47<6:53:44, 420.75s/it]"
     ]
    },
    {
     "name": "stdout",
     "output_type": "stream",
     "text": [
      " Test accuracy:  0.686\n",
      "\n",
      "correct: 335 total: 469\n",
      "loss: 0.1023849577887226\n",
      " Train accuracy:  0.7142857142857143 | \n"
     ]
    },
    {
     "name": "stderr",
     "output_type": "stream",
     "text": [
      "KAN_MNIST_0_1724173411:  42%|████▏     | 42/100 [4:42:49<6:46:59, 421.03s/it]"
     ]
    },
    {
     "name": "stdout",
     "output_type": "stream",
     "text": [
      " Test accuracy:  0.692\n",
      "\n",
      "correct: 342 total: 469\n",
      "loss: 0.10225450635146993\n",
      " Train accuracy:  0.7292110874200426 | \n"
     ]
    },
    {
     "name": "stderr",
     "output_type": "stream",
     "text": [
      "KAN_MNIST_0_1724173411:  43%|████▎     | 43/100 [4:49:51<6:40:27, 421.53s/it]"
     ]
    },
    {
     "name": "stdout",
     "output_type": "stream",
     "text": [
      " Test accuracy:  0.6854\n",
      "\n",
      "correct: 324 total: 469\n",
      "loss: 0.10304777931048671\n",
      " Train accuracy:  0.6908315565031983 | \n"
     ]
    },
    {
     "name": "stderr",
     "output_type": "stream",
     "text": [
      "KAN_MNIST_0_1724173411:  44%|████▍     | 44/100 [4:56:56<6:34:11, 422.35s/it]"
     ]
    },
    {
     "name": "stdout",
     "output_type": "stream",
     "text": [
      " Test accuracy:  0.6993\n",
      "\n",
      "correct: 305 total: 469\n",
      "loss: 0.10342035834977367\n",
      " Train accuracy:  0.650319829424307 | \n"
     ]
    },
    {
     "name": "stderr",
     "output_type": "stream",
     "text": [
      "KAN_MNIST_0_1724173411:  45%|████▌     | 45/100 [5:03:53<6:25:39, 420.72s/it]"
     ]
    },
    {
     "name": "stdout",
     "output_type": "stream",
     "text": [
      " Test accuracy:  0.6954\n",
      "\n",
      "correct: 315 total: 469\n",
      "loss: 0.10369323163843358\n",
      " Train accuracy:  0.6716417910447762 | \n"
     ]
    },
    {
     "name": "stderr",
     "output_type": "stream",
     "text": [
      "KAN_MNIST_0_1724173411:  46%|████▌     | 46/100 [5:10:53<6:18:41, 420.78s/it]"
     ]
    },
    {
     "name": "stdout",
     "output_type": "stream",
     "text": [
      " Test accuracy:  0.684\n",
      "\n",
      "correct: 314 total: 469\n",
      "loss: 0.10336938486106868\n",
      " Train accuracy:  0.6695095948827292 | \n"
     ]
    },
    {
     "name": "stderr",
     "output_type": "stream",
     "text": [
      "KAN_MNIST_0_1724173411:  47%|████▋     | 47/100 [5:18:06<6:14:48, 424.31s/it]"
     ]
    },
    {
     "name": "stdout",
     "output_type": "stream",
     "text": [
      " Test accuracy:  0.6931\n",
      "\n",
      "correct: 335 total: 469\n",
      "loss: 0.10452161435442947\n",
      " Train accuracy:  0.7142857142857143 | \n"
     ]
    },
    {
     "name": "stderr",
     "output_type": "stream",
     "text": [
      "KAN_MNIST_0_1724173411:  48%|████▊     | 48/100 [5:25:18<6:09:47, 426.69s/it]"
     ]
    },
    {
     "name": "stdout",
     "output_type": "stream",
     "text": [
      " Test accuracy:  0.6947\n",
      "\n",
      "correct: 343 total: 469\n",
      "loss: 0.10474905627432154\n",
      " Train accuracy:  0.7313432835820896 | \n"
     ]
    },
    {
     "name": "stderr",
     "output_type": "stream",
     "text": [
      "KAN_MNIST_0_1724173411:  49%|████▉     | 49/100 [5:32:25<6:02:41, 426.71s/it]"
     ]
    },
    {
     "name": "stdout",
     "output_type": "stream",
     "text": [
      " Test accuracy:  0.6936\n",
      "\n",
      "correct: 323 total: 469\n",
      "loss: 0.10455700046599292\n",
      " Train accuracy:  0.6886993603411514 | \n"
     ]
    },
    {
     "name": "stderr",
     "output_type": "stream",
     "text": [
      "KAN_MNIST_0_1724173411:  50%|█████     | 50/100 [5:39:28<5:54:43, 425.67s/it]"
     ]
    },
    {
     "name": "stdout",
     "output_type": "stream",
     "text": [
      " Test accuracy:  0.69\n",
      "\n",
      "correct: 328 total: 469\n",
      "loss: 0.10512052530418835\n",
      " Train accuracy:  0.6993603411513859 | \n"
     ]
    },
    {
     "name": "stderr",
     "output_type": "stream",
     "text": [
      "KAN_MNIST_0_1724173411:  51%|█████     | 51/100 [5:46:32<5:47:11, 425.13s/it]"
     ]
    },
    {
     "name": "stdout",
     "output_type": "stream",
     "text": [
      " Test accuracy:  0.6919\n",
      "\n",
      "correct: 322 total: 469\n",
      "loss: 0.1036225521106964\n",
      " Train accuracy:  0.6865671641791045 | \n"
     ]
    },
    {
     "name": "stderr",
     "output_type": "stream",
     "text": [
      "KAN_MNIST_0_1724173411:  52%|█████▏    | 52/100 [5:53:32<5:38:44, 423.42s/it]"
     ]
    },
    {
     "name": "stdout",
     "output_type": "stream",
     "text": [
      " Test accuracy:  0.6956\n",
      "\n",
      "correct: 331 total: 469\n",
      "loss: 0.10524409211901968\n",
      " Train accuracy:  0.7057569296375267 | \n"
     ]
    },
    {
     "name": "stderr",
     "output_type": "stream",
     "text": [
      "KAN_MNIST_0_1724173411:  53%|█████▎    | 53/100 [6:00:34<5:31:26, 423.13s/it]"
     ]
    },
    {
     "name": "stdout",
     "output_type": "stream",
     "text": [
      " Test accuracy:  0.6912\n",
      "\n",
      "correct: 322 total: 469\n",
      "loss: 0.10422068692918525\n",
      " Train accuracy:  0.6865671641791045 | \n"
     ]
    },
    {
     "name": "stderr",
     "output_type": "stream",
     "text": [
      "KAN_MNIST_0_1724173411:  54%|█████▍    | 54/100 [6:07:32<5:23:19, 421.73s/it]"
     ]
    },
    {
     "name": "stdout",
     "output_type": "stream",
     "text": [
      " Test accuracy:  0.6985\n",
      "\n",
      "correct: 341 total: 469\n",
      "loss: 0.10496536640724394\n",
      " Train accuracy:  0.7270788912579957 | \n"
     ]
    },
    {
     "name": "stderr",
     "output_type": "stream",
     "text": [
      "KAN_MNIST_0_1724173411:  55%|█████▌    | 55/100 [6:14:34<5:16:15, 421.68s/it]"
     ]
    },
    {
     "name": "stdout",
     "output_type": "stream",
     "text": [
      " Test accuracy:  0.7033\n",
      "\n",
      "correct: 338 total: 469\n",
      "loss: 0.10455576745050549\n",
      " Train accuracy:  0.720682302771855 | \n"
     ]
    },
    {
     "name": "stderr",
     "output_type": "stream",
     "text": [
      "KAN_MNIST_0_1724173411:  56%|█████▌    | 56/100 [6:21:38<5:09:46, 422.42s/it]"
     ]
    },
    {
     "name": "stdout",
     "output_type": "stream",
     "text": [
      " Test accuracy:  0.7009\n",
      "\n",
      "correct: 307 total: 469\n",
      "loss: 0.10557423611439622\n",
      " Train accuracy:  0.6545842217484008 | \n"
     ]
    },
    {
     "name": "stderr",
     "output_type": "stream",
     "text": [
      "KAN_MNIST_0_1724173411:  57%|█████▋    | 57/100 [6:28:42<5:03:07, 422.96s/it]"
     ]
    },
    {
     "name": "stdout",
     "output_type": "stream",
     "text": [
      " Test accuracy:  0.6935\n",
      "\n",
      "correct: 330 total: 469\n",
      "loss: 0.10545615505562154\n",
      " Train accuracy:  0.7036247334754797 | \n"
     ]
    },
    {
     "name": "stderr",
     "output_type": "stream",
     "text": [
      "KAN_MNIST_0_1724173411:  58%|█████▊    | 58/100 [6:35:44<4:55:52, 422.67s/it]"
     ]
    },
    {
     "name": "stdout",
     "output_type": "stream",
     "text": [
      " Test accuracy:  0.7094\n",
      "\n",
      "correct: 336 total: 469\n",
      "loss: 0.10556790262841975\n",
      " Train accuracy:  0.7164179104477612 | \n"
     ]
    },
    {
     "name": "stderr",
     "output_type": "stream",
     "text": [
      "KAN_MNIST_0_1724173411:  59%|█████▉    | 59/100 [6:42:45<4:48:29, 422.19s/it]"
     ]
    },
    {
     "name": "stdout",
     "output_type": "stream",
     "text": [
      " Test accuracy:  0.6901\n",
      "\n",
      "correct: 340 total: 469\n",
      "loss: 0.10587239964430266\n",
      " Train accuracy:  0.7249466950959488 | \n"
     ]
    },
    {
     "name": "stderr",
     "output_type": "stream",
     "text": [
      "KAN_MNIST_0_1724173411:  60%|██████    | 60/100 [6:49:49<4:41:46, 422.65s/it]"
     ]
    },
    {
     "name": "stdout",
     "output_type": "stream",
     "text": [
      " Test accuracy:  0.703\n",
      "\n",
      "correct: 336 total: 469\n",
      "loss: 0.10526834151892266\n",
      " Train accuracy:  0.7164179104477612 | \n"
     ]
    },
    {
     "name": "stderr",
     "output_type": "stream",
     "text": [
      "KAN_MNIST_0_1724173411:  61%|██████    | 61/100 [6:56:55<4:35:22, 423.64s/it]"
     ]
    },
    {
     "name": "stdout",
     "output_type": "stream",
     "text": [
      " Test accuracy:  0.7105\n",
      "\n",
      "correct: 334 total: 469\n",
      "loss: 0.10575351269959386\n",
      " Train accuracy:  0.7121535181236673 | \n"
     ]
    },
    {
     "name": "stderr",
     "output_type": "stream",
     "text": [
      "KAN_MNIST_0_1724173411:  62%|██████▏   | 62/100 [7:03:59<4:28:23, 423.79s/it]"
     ]
    },
    {
     "name": "stdout",
     "output_type": "stream",
     "text": [
      " Test accuracy:  0.7121\n",
      "\n",
      "correct: 321 total: 469\n",
      "loss: 0.10525623465906074\n",
      " Train accuracy:  0.6844349680170576 | \n"
     ]
    },
    {
     "name": "stderr",
     "output_type": "stream",
     "text": [
      "KAN_MNIST_0_1724173411:  63%|██████▎   | 63/100 [7:11:15<4:23:27, 427.23s/it]"
     ]
    },
    {
     "name": "stdout",
     "output_type": "stream",
     "text": [
      " Test accuracy:  0.7058\n",
      "\n",
      "correct: 341 total: 469\n",
      "loss: 0.10594316517938175\n",
      " Train accuracy:  0.7270788912579957 | \n"
     ]
    },
    {
     "name": "stderr",
     "output_type": "stream",
     "text": [
      "KAN_MNIST_0_1724173411:  64%|██████▍   | 64/100 [7:18:24<4:16:45, 427.92s/it]"
     ]
    },
    {
     "name": "stdout",
     "output_type": "stream",
     "text": [
      " Test accuracy:  0.7016\n",
      "\n",
      "correct: 329 total: 469\n",
      "loss: 0.10618279991881933\n",
      " Train accuracy:  0.7014925373134329 | \n"
     ]
    },
    {
     "name": "stderr",
     "output_type": "stream",
     "text": [
      "KAN_MNIST_0_1724173411:  65%|██████▌   | 65/100 [7:25:39<4:10:46, 429.90s/it]"
     ]
    },
    {
     "name": "stdout",
     "output_type": "stream",
     "text": [
      " Test accuracy:  0.7066\n",
      "\n",
      "correct: 319 total: 469\n",
      "loss: 0.10604691343393916\n",
      " Train accuracy:  0.6801705756929638 | \n"
     ]
    },
    {
     "name": "stderr",
     "output_type": "stream",
     "text": [
      "KAN_MNIST_0_1724173411:  66%|██████▌   | 66/100 [7:32:50<4:03:53, 430.39s/it]"
     ]
    },
    {
     "name": "stdout",
     "output_type": "stream",
     "text": [
      " Test accuracy:  0.7052\n",
      "\n",
      "correct: 310 total: 469\n",
      "loss: 0.10648073532433906\n",
      " Train accuracy:  0.6609808102345416 | \n"
     ]
    },
    {
     "name": "stderr",
     "output_type": "stream",
     "text": [
      "KAN_MNIST_0_1724173411:  67%|██████▋   | 67/100 [7:39:56<3:56:00, 429.11s/it]"
     ]
    },
    {
     "name": "stdout",
     "output_type": "stream",
     "text": [
      " Test accuracy:  0.699\n",
      "\n",
      "correct: 336 total: 469\n",
      "loss: 0.10651448148209403\n",
      " Train accuracy:  0.7164179104477612 | \n"
     ]
    },
    {
     "name": "stderr",
     "output_type": "stream",
     "text": [
      "KAN_MNIST_0_1724173411:  68%|██████▊   | 68/100 [7:47:06<3:48:54, 429.21s/it]"
     ]
    },
    {
     "name": "stdout",
     "output_type": "stream",
     "text": [
      " Test accuracy:  0.7024\n",
      "\n",
      "correct: 333 total: 469\n",
      "loss: 0.10662263071041371\n",
      " Train accuracy:  0.7100213219616205 | \n"
     ]
    },
    {
     "name": "stderr",
     "output_type": "stream",
     "text": [
      "KAN_MNIST_0_1724173411:  69%|██████▉   | 69/100 [7:54:18<3:42:10, 430.01s/it]"
     ]
    },
    {
     "name": "stdout",
     "output_type": "stream",
     "text": [
      " Test accuracy:  0.7085\n",
      "\n",
      "correct: 329 total: 469\n",
      "loss: 0.10679539788697066\n",
      " Train accuracy:  0.7014925373134329 | \n"
     ]
    },
    {
     "name": "stderr",
     "output_type": "stream",
     "text": [
      "KAN_MNIST_0_1724173411:  70%|███████   | 70/100 [8:01:31<3:35:27, 430.92s/it]"
     ]
    },
    {
     "name": "stdout",
     "output_type": "stream",
     "text": [
      " Test accuracy:  0.7123\n",
      "\n",
      "correct: 335 total: 469\n",
      "loss: 0.10645066872080251\n",
      " Train accuracy:  0.7142857142857143 | \n"
     ]
    },
    {
     "name": "stderr",
     "output_type": "stream",
     "text": [
      "KAN_MNIST_0_1724173411:  71%|███████   | 71/100 [8:08:41<3:28:08, 430.64s/it]"
     ]
    },
    {
     "name": "stdout",
     "output_type": "stream",
     "text": [
      " Test accuracy:  0.6994\n",
      "\n",
      "correct: 340 total: 469\n",
      "loss: 0.10657617683286097\n",
      " Train accuracy:  0.7249466950959488 | \n"
     ]
    },
    {
     "name": "stderr",
     "output_type": "stream",
     "text": [
      "KAN_MNIST_0_1724173411:  72%|███████▏  | 72/100 [8:15:54<3:21:19, 431.41s/it]"
     ]
    },
    {
     "name": "stdout",
     "output_type": "stream",
     "text": [
      " Test accuracy:  0.7038\n",
      "\n",
      "correct: 350 total: 469\n",
      "loss: 0.10615162810346465\n",
      " Train accuracy:  0.746268656716418 | \n"
     ]
    },
    {
     "name": "stderr",
     "output_type": "stream",
     "text": [
      "KAN_MNIST_0_1724173411:  73%|███████▎  | 73/100 [8:23:17<3:15:45, 435.01s/it]"
     ]
    },
    {
     "name": "stdout",
     "output_type": "stream",
     "text": [
      " Test accuracy:  0.7061\n",
      "\n",
      "correct: 336 total: 469\n",
      "loss: 0.1071201160168851\n",
      " Train accuracy:  0.7164179104477612 | \n"
     ]
    },
    {
     "name": "stderr",
     "output_type": "stream",
     "text": [
      "KAN_MNIST_0_1724173411:  74%|███████▍  | 74/100 [8:30:37<3:09:05, 436.38s/it]"
     ]
    },
    {
     "name": "stdout",
     "output_type": "stream",
     "text": [
      " Test accuracy:  0.7108\n",
      "\n",
      "correct: 332 total: 469\n",
      "loss: 0.10736566866194007\n",
      " Train accuracy:  0.7078891257995735 | \n"
     ]
    },
    {
     "name": "stderr",
     "output_type": "stream",
     "text": [
      "KAN_MNIST_0_1724173411:  75%|███████▌  | 75/100 [8:37:53<3:01:44, 436.18s/it]"
     ]
    },
    {
     "name": "stdout",
     "output_type": "stream",
     "text": [
      " Test accuracy:  0.7059\n",
      "\n",
      "correct: 315 total: 469\n",
      "loss: 0.10728411776805992\n",
      " Train accuracy:  0.6716417910447762 | \n"
     ]
    },
    {
     "name": "stderr",
     "output_type": "stream",
     "text": [
      "KAN_MNIST_0_1724173411:  76%|███████▌  | 76/100 [8:45:07<2:54:13, 435.55s/it]"
     ]
    },
    {
     "name": "stdout",
     "output_type": "stream",
     "text": [
      " Test accuracy:  0.7141\n",
      "\n",
      "correct: 324 total: 469\n",
      "loss: 0.10702508300352198\n",
      " Train accuracy:  0.6908315565031983 | \n"
     ]
    },
    {
     "name": "stderr",
     "output_type": "stream",
     "text": [
      "KAN_MNIST_0_1724173411:  77%|███████▋  | 77/100 [8:52:23<2:47:03, 435.79s/it]"
     ]
    },
    {
     "name": "stdout",
     "output_type": "stream",
     "text": [
      " Test accuracy:  0.7057\n",
      "\n",
      "correct: 346 total: 469\n",
      "loss: 0.10723297358321737\n",
      " Train accuracy:  0.7377398720682303 | \n"
     ]
    },
    {
     "name": "stderr",
     "output_type": "stream",
     "text": [
      "KAN_MNIST_0_1724173411:  78%|███████▊  | 78/100 [8:59:41<2:40:01, 436.42s/it]"
     ]
    },
    {
     "name": "stdout",
     "output_type": "stream",
     "text": [
      " Test accuracy:  0.7114\n",
      "\n",
      "correct: 345 total: 469\n",
      "loss: 0.10717702677636258\n",
      " Train accuracy:  0.7356076759061834 | \n"
     ]
    },
    {
     "name": "stderr",
     "output_type": "stream",
     "text": [
      "KAN_MNIST_0_1724173411:  79%|███████▉  | 79/100 [9:06:57<2:32:44, 436.41s/it]"
     ]
    },
    {
     "name": "stdout",
     "output_type": "stream",
     "text": [
      " Test accuracy:  0.7055\n",
      "\n",
      "correct: 346 total: 469\n",
      "loss: 0.10679043975593185\n",
      " Train accuracy:  0.7377398720682303 | \n"
     ]
    },
    {
     "name": "stderr",
     "output_type": "stream",
     "text": [
      "KAN_MNIST_0_1724173411:  80%|████████  | 80/100 [9:14:14<2:25:29, 436.46s/it]"
     ]
    },
    {
     "name": "stdout",
     "output_type": "stream",
     "text": [
      " Test accuracy:  0.7155\n",
      "\n",
      "correct: 352 total: 469\n",
      "loss: 0.10729844561581418\n",
      " Train accuracy:  0.7505330490405118 | \n"
     ]
    },
    {
     "name": "stderr",
     "output_type": "stream",
     "text": [
      "KAN_MNIST_0_1724173411:  81%|████████  | 81/100 [9:21:33<2:18:26, 437.16s/it]"
     ]
    },
    {
     "name": "stdout",
     "output_type": "stream",
     "text": [
      " Test accuracy:  0.7184\n",
      "\n",
      "correct: 327 total: 469\n",
      "loss: 0.10762432579801026\n",
      " Train accuracy:  0.697228144989339 | \n"
     ]
    },
    {
     "name": "stderr",
     "output_type": "stream",
     "text": [
      "KAN_MNIST_0_1724173411:  82%|████████▏ | 82/100 [9:28:56<2:11:45, 439.17s/it]"
     ]
    },
    {
     "name": "stdout",
     "output_type": "stream",
     "text": [
      " Test accuracy:  0.7129\n",
      "\n",
      "correct: 331 total: 469\n",
      "loss: 0.1071496013798185\n",
      " Train accuracy:  0.7057569296375267 | \n"
     ]
    },
    {
     "name": "stderr",
     "output_type": "stream",
     "text": [
      "KAN_MNIST_0_1724173411:  83%|████████▎ | 83/100 [9:36:16<2:04:28, 439.30s/it]"
     ]
    },
    {
     "name": "stdout",
     "output_type": "stream",
     "text": [
      " Test accuracy:  0.7087\n",
      "\n",
      "correct: 349 total: 469\n",
      "loss: 0.10760887969595029\n",
      " Train accuracy:  0.744136460554371 | \n"
     ]
    },
    {
     "name": "stderr",
     "output_type": "stream",
     "text": [
      "KAN_MNIST_0_1724173411:  84%|████████▍ | 84/100 [9:43:37<1:57:18, 439.89s/it]"
     ]
    },
    {
     "name": "stdout",
     "output_type": "stream",
     "text": [
      " Test accuracy:  0.7169\n",
      "\n",
      "correct: 351 total: 469\n",
      "loss: 0.10713488958092895\n",
      " Train accuracy:  0.7484008528784648 | \n"
     ]
    },
    {
     "name": "stderr",
     "output_type": "stream",
     "text": [
      "KAN_MNIST_0_1724173411:  85%|████████▌ | 85/100 [9:51:00<1:50:10, 440.67s/it]"
     ]
    },
    {
     "name": "stdout",
     "output_type": "stream",
     "text": [
      " Test accuracy:  0.709\n",
      "\n",
      "correct: 342 total: 469\n",
      "loss: 0.10750918239672809\n",
      " Train accuracy:  0.7292110874200426 | \n"
     ]
    },
    {
     "name": "stderr",
     "output_type": "stream",
     "text": [
      "KAN_MNIST_0_1724173411:  86%|████████▌ | 86/100 [9:58:14<1:42:23, 438.85s/it]"
     ]
    },
    {
     "name": "stdout",
     "output_type": "stream",
     "text": [
      " Test accuracy:  0.7213\n",
      "\n",
      "correct: 332 total: 469\n",
      "loss: 0.10773559051281861\n",
      " Train accuracy:  0.7078891257995735 | \n"
     ]
    },
    {
     "name": "stderr",
     "output_type": "stream",
     "text": [
      "KAN_MNIST_0_1724173411:  87%|████████▋ | 87/100 [10:05:36<1:35:15, 439.64s/it]"
     ]
    },
    {
     "name": "stdout",
     "output_type": "stream",
     "text": [
      " Test accuracy:  0.7145\n",
      "\n",
      "correct: 327 total: 469\n",
      "loss: 0.10771617985991781\n",
      " Train accuracy:  0.697228144989339 | \n"
     ]
    },
    {
     "name": "stderr",
     "output_type": "stream",
     "text": [
      "KAN_MNIST_0_1724173411:  88%|████████▊ | 88/100 [10:13:00<1:28:12, 441.07s/it]"
     ]
    },
    {
     "name": "stdout",
     "output_type": "stream",
     "text": [
      " Test accuracy:  0.715\n",
      "\n",
      "correct: 327 total: 469\n",
      "loss: 0.10849549132051753\n",
      " Train accuracy:  0.697228144989339 | \n"
     ]
    },
    {
     "name": "stderr",
     "output_type": "stream",
     "text": [
      "KAN_MNIST_0_1724173411:  89%|████████▉ | 89/100 [10:20:25<1:21:04, 442.26s/it]"
     ]
    },
    {
     "name": "stdout",
     "output_type": "stream",
     "text": [
      " Test accuracy:  0.7129\n",
      "\n",
      "correct: 327 total: 469\n",
      "loss: 0.10809271032812753\n",
      " Train accuracy:  0.697228144989339 | \n"
     ]
    },
    {
     "name": "stderr",
     "output_type": "stream",
     "text": [
      "KAN_MNIST_0_1724173411:  90%|█████████ | 90/100 [10:27:43<1:13:29, 440.93s/it]"
     ]
    },
    {
     "name": "stdout",
     "output_type": "stream",
     "text": [
      " Test accuracy:  0.7043\n",
      "\n",
      "correct: 330 total: 469\n",
      "loss: 0.10829624435159443\n",
      " Train accuracy:  0.7036247334754797 | \n"
     ]
    },
    {
     "name": "stderr",
     "output_type": "stream",
     "text": [
      "KAN_MNIST_0_1724173411:  91%|█████████ | 91/100 [10:35:06<1:06:12, 441.35s/it]"
     ]
    },
    {
     "name": "stdout",
     "output_type": "stream",
     "text": [
      " Test accuracy:  0.7205\n",
      "\n",
      "correct: 347 total: 469\n",
      "loss: 0.1074169976656625\n",
      " Train accuracy:  0.7398720682302772 | \n"
     ]
    },
    {
     "name": "stderr",
     "output_type": "stream",
     "text": [
      "KAN_MNIST_0_1724173411:  92%|█████████▏| 92/100 [10:42:38<59:16, 444.55s/it]  "
     ]
    },
    {
     "name": "stdout",
     "output_type": "stream",
     "text": [
      " Test accuracy:  0.7132\n",
      "\n",
      "correct: 355 total: 469\n",
      "loss: 0.10775105596414761\n",
      " Train accuracy:  0.7569296375266524 | \n"
     ]
    },
    {
     "name": "stderr",
     "output_type": "stream",
     "text": [
      "KAN_MNIST_0_1724173411:  93%|█████████▎| 93/100 [10:49:53<51:33, 441.90s/it]"
     ]
    },
    {
     "name": "stdout",
     "output_type": "stream",
     "text": [
      " Test accuracy:  0.7167\n",
      "\n",
      "correct: 326 total: 469\n",
      "loss: 0.10858539139220455\n",
      " Train accuracy:  0.6950959488272921 | \n"
     ]
    },
    {
     "name": "stderr",
     "output_type": "stream",
     "text": [
      "KAN_MNIST_0_1724173411:  94%|█████████▍| 94/100 [10:57:21<44:22, 443.74s/it]"
     ]
    },
    {
     "name": "stdout",
     "output_type": "stream",
     "text": [
      " Test accuracy:  0.7098\n",
      "\n",
      "correct: 334 total: 469\n",
      "loss: 0.10780089979232756\n",
      " Train accuracy:  0.7121535181236673 | \n"
     ]
    },
    {
     "name": "stderr",
     "output_type": "stream",
     "text": [
      "KAN_MNIST_0_1724173411:  95%|█████████▌| 95/100 [11:04:49<37:04, 444.85s/it]"
     ]
    },
    {
     "name": "stdout",
     "output_type": "stream",
     "text": [
      " Test accuracy:  0.7165\n",
      "\n",
      "correct: 334 total: 469\n",
      "loss: 0.10895474216958353\n",
      " Train accuracy:  0.7121535181236673 | \n"
     ]
    },
    {
     "name": "stderr",
     "output_type": "stream",
     "text": [
      "KAN_MNIST_0_1724173411:  96%|█████████▌| 96/100 [11:12:06<29:30, 442.54s/it]"
     ]
    },
    {
     "name": "stdout",
     "output_type": "stream",
     "text": [
      " Test accuracy:  0.7172\n",
      "\n",
      "correct: 329 total: 469\n",
      "loss: 0.1074134111245558\n",
      " Train accuracy:  0.7014925373134329 | \n"
     ]
    },
    {
     "name": "stderr",
     "output_type": "stream",
     "text": [
      "KAN_MNIST_0_1724173411:  97%|█████████▋| 97/100 [11:19:26<22:05, 441.82s/it]"
     ]
    },
    {
     "name": "stdout",
     "output_type": "stream",
     "text": [
      " Test accuracy:  0.7217\n",
      "\n",
      "correct: 346 total: 469\n",
      "loss: 0.10870008853706978\n",
      " Train accuracy:  0.7377398720682303 | \n"
     ]
    },
    {
     "name": "stderr",
     "output_type": "stream",
     "text": [
      "KAN_MNIST_0_1724173411:  98%|█████████▊| 98/100 [11:26:44<14:41, 440.70s/it]"
     ]
    },
    {
     "name": "stdout",
     "output_type": "stream",
     "text": [
      " Test accuracy:  0.7205\n",
      "\n",
      "correct: 335 total: 469\n",
      "loss: 0.10862037725349478\n",
      " Train accuracy:  0.7142857142857143 | \n"
     ]
    },
    {
     "name": "stderr",
     "output_type": "stream",
     "text": [
      "KAN_MNIST_0_1724173411:  99%|█████████▉| 99/100 [11:34:10<07:22, 442.36s/it]"
     ]
    },
    {
     "name": "stdout",
     "output_type": "stream",
     "text": [
      " Test accuracy:  0.719\n",
      "\n",
      "correct: 343 total: 469\n",
      "loss: 0.10889768163596135\n",
      " Train accuracy:  0.7313432835820896 | \n"
     ]
    },
    {
     "name": "stderr",
     "output_type": "stream",
     "text": [
      "KAN_MNIST_0_1724173411: 100%|██████████| 100/100 [11:41:30<00:00, 420.91s/it]"
     ]
    },
    {
     "name": "stdout",
     "output_type": "stream",
     "text": [
      " Test accuracy:  0.7183\n"
     ]
    },
    {
     "name": "stderr",
     "output_type": "stream",
     "text": [
      "\n"
     ]
    },
    {
     "data": {
      "image/png": "[encoded data removed]",
      "text/plain": [
       "<Figure size 1200x500 with 2 Axes>"
      ]
     },
     "metadata": {},
     "output_type": "display_data"
    },
    {
     "data": {
      "image/png": "[encoded data removed]",
      "text/plain": [
       "<Figure size 1200x500 with 2 Axes>"
      ]
     },
     "metadata": {},
     "output_type": "display_data"
    },
    {
     "name": "stdout",
     "output_type": "stream",
     "text": [
      "Final Train Accuracy: 0.73 ± 0.02\n",
      "Final Test Accuracy: 0.72 ± 0.00\n"
     ]
    }
   ],
   "source": [
    "\n",
    "config = {\n",
    "    \"batch_size\": 128,\n",
    "    \"n_epochs\": 100,\n",
    "    \"gamma\": 0.99,\n",
    "    \"learning_rate\": 1e-3, # 0.0005\n",
    "    \"weight_decay\": 1e-4,\n",
    "    \"width\": 16,\n",
    "    \"grid\": 3,\n",
    "    \"method\": \"KAN\",  # \"MLP\", \"KAN\"\n",
    "    \"seed\": 0,\n",
    "    \"input_size\": 8 * 8, # number of features\n",
    "    \"output_size\": 10, # number of classes\n",
    "    \"buffer_size\": 100000,\n",
    "    \"target_update\": 10,\n",
    "    \"warm_up_episodes\": 2,\n",
    "    \"num_filters\": 4,\n",
    "    \"num_conv_layers\": 2,\n",
    "    \"first_channel\": 1, # (1,8,8)\n",
    "    \"hidden_dim\": 128,\n",
    "    \"feature_selection\": True,\n",
    "    \"distribution\": \"beta\", # bernoulli, categorical, gumbel_softmax, gaussian, beta, dirichlet\n",
    "    \"initial_tau\": 1.0, # positive float value\n",
    "\n",
    "}\n",
    "\n",
    "q_network, train_accuracies, test_accuracies, losses, probs_history, feedback_cost_history, train_acc_stds, test_acc_stds, loss_stds, agent = kanRL(config)"
   ]
  },
  {
   "cell_type": "code",
   "execution_count": 7,
   "id": "0ab621c4",
   "metadata": {
    "execution": {
     "iopub.execute_input": "2024-08-21T04:45:09.538141Z",
     "iopub.status.busy": "2024-08-21T04:45:09.536829Z",
     "iopub.status.idle": "2024-08-21T04:45:25.416686Z",
     "shell.execute_reply": "2024-08-21T04:45:25.415425Z"
    },
    "id": "N2Z7r5_FP9HO",
    "papermill": {
     "duration": 15.93369,
     "end_time": "2024-08-21T04:45:25.419690",
     "exception": false,
     "start_time": "2024-08-21T04:45:09.486000",
     "status": "completed"
    },
    "tags": []
   },
   "outputs": [
    {
     "data": {
      "image/png": "[encoded data removed]",
      "text/plain": [
       "<Figure size 1000x800 with 2 Axes>"
      ]
     },
     "metadata": {},
     "output_type": "display_data"
    }
   ],
   "source": [
    "from sklearn.metrics import confusion_matrix\n",
    "import seaborn as sns\n",
    "\n",
    "y_true = []  # Ground truth labels\n",
    "y_pred = []  # Model predictions\n",
    "\n",
    "# Assuming `test_loader` is your DataLoader for test set\n",
    "with torch.no_grad():\n",
    "        # transforms.Normalize((0.1307,), (0.3081,)) # MNIST\n",
    "        # transforms.Normalize((0.5,), (0.5,)) # FashionMNIST\n",
    "        # transforms.Normalize((0.4914, 0.4822, 0.4465), (0.247, 0.243, 0.261)), # CIFAR10\n",
    "        # transforms.Normalize((0.50707516, 0.48654887, 0.44091784), (0.26733429, 0.25643846, 0.27615047)), # CIFAR100\n",
    "    for images, labels in DataLoader(datasets.FashionMNIST('./data', train=False, download=True, transform=transforms.Compose([\n",
    "        transforms.Resize((int(config['input_size']**0.5), int(config['input_size']**0.5))),\n",
    "        transforms.ToTensor(),\n",
    "        transforms.Normalize((0.5,), (0.5,)), # FashionMNIST\n",
    "        transforms.Grayscale(num_output_channels=1)\n",
    "    ])), batch_size=config[\"batch_size\"]):\n",
    "        state = images.view(-1,config[\"input_size\"])\n",
    "        if config[\"feature_selection\"] == True:\n",
    "            flat_zoom_X, _, _ = agent(state)\n",
    "            state = flat_zoom_X\n",
    "        outputs = q_network(state)\n",
    "        _, predicted = torch.max(outputs.data, 1)\n",
    "        y_true.extend(labels)\n",
    "        y_pred.extend(predicted)\n",
    "\n",
    "cm = confusion_matrix(y_true, y_pred)\n",
    "plt.figure(figsize=(10, 8))\n",
    "sns.heatmap(cm, annot=True, fmt='d', cmap='Blues')\n",
    "plt.xlabel('Predicted')\n",
    "plt.ylabel('True')\n",
    "plt.title('Confusion Matrix')\n",
    "plt.show()\n"
   ]
  },
  {
   "cell_type": "code",
   "execution_count": 8,
   "id": "ca9b93a2",
   "metadata": {
    "execution": {
     "iopub.execute_input": "2024-08-21T04:45:25.517677Z",
     "iopub.status.busy": "2024-08-21T04:45:25.517242Z",
     "iopub.status.idle": "2024-08-21T04:45:25.936791Z",
     "shell.execute_reply": "2024-08-21T04:45:25.935580Z"
    },
    "id": "tbLtQhpCKXbh",
    "papermill": {
     "duration": 0.47181,
     "end_time": "2024-08-21T04:45:25.939466",
     "exception": false,
     "start_time": "2024-08-21T04:45:25.467656",
     "status": "completed"
    },
    "tags": []
   },
   "outputs": [
    {
     "name": "stdout",
     "output_type": "stream",
     "text": [
      "              precision    recall  f1-score   support\n",
      "\n",
      "           0       0.62      0.76      0.69      1000\n",
      "           1       0.90      0.82      0.86      1000\n",
      "           2       0.60      0.51      0.55      1000\n",
      "           3       0.69      0.73      0.71      1000\n",
      "           4       0.57      0.62      0.59      1000\n",
      "           5       0.83      0.79      0.81      1000\n",
      "           6       0.44      0.33      0.38      1000\n",
      "           7       0.82      0.81      0.82      1000\n",
      "           8       0.84      0.91      0.87      1000\n",
      "           9       0.82      0.91      0.86      1000\n",
      "\n",
      "    accuracy                           0.72     10000\n",
      "   macro avg       0.71      0.72      0.71     10000\n",
      "weighted avg       0.71      0.72      0.71     10000\n",
      "\n"
     ]
    }
   ],
   "source": [
    "import sklearn\n",
    "print(sklearn.metrics.classification_report(y_true, y_pred))"
   ]
  },
  {
   "cell_type": "code",
   "execution_count": 9,
   "id": "5c9c3e2e",
   "metadata": {
    "execution": {
     "iopub.execute_input": "2024-08-21T04:45:26.039148Z",
     "iopub.status.busy": "2024-08-21T04:45:26.038042Z",
     "iopub.status.idle": "2024-08-21T04:45:26.373035Z",
     "shell.execute_reply": "2024-08-21T04:45:26.371756Z"
    },
    "papermill": {
     "duration": 0.387789,
     "end_time": "2024-08-21T04:45:26.375603",
     "exception": false,
     "start_time": "2024-08-21T04:45:25.987814",
     "status": "completed"
    },
    "tags": []
   },
   "outputs": [
    {
     "data": {
      "text/plain": [
       "12355"
      ]
     },
     "execution_count": 9,
     "metadata": {},
     "output_type": "execute_result"
    }
   ],
   "source": [
    "import gc\n",
    "gc.collect()"
   ]
  },
  {
   "cell_type": "code",
   "execution_count": null,
   "id": "f9f19f97",
   "metadata": {
    "id": "R0XsCwxqqO7h",
    "papermill": {
     "duration": 0.047973,
     "end_time": "2024-08-21T04:45:26.471212",
     "exception": false,
     "start_time": "2024-08-21T04:45:26.423239",
     "status": "completed"
    },
    "tags": []
   },
   "outputs": [],
   "source": []
  },
  {
   "cell_type": "code",
   "execution_count": null,
   "id": "7583ec70",
   "metadata": {
    "id": "Ht_3aXT-y6-3",
    "papermill": {
     "duration": 0.047541,
     "end_time": "2024-08-21T04:45:26.566881",
     "exception": false,
     "start_time": "2024-08-21T04:45:26.519340",
     "status": "completed"
    },
    "tags": []
   },
   "outputs": [],
   "source": []
  }
 ],
 "metadata": {
  "colab": {
   "collapsed_sections": [
    "h1rKxK7PHeWm",
    "Jy33eRsBSpQu"
   ],
   "provenance": []
  },
  "kaggle": {
   "accelerator": "none",
   "dataSources": [],
   "dockerImageVersionId": 30746,
   "isGpuEnabled": false,
   "isInternetEnabled": true,
   "language": "python",
   "sourceType": "notebook"
  },
  "kernelspec": {
   "display_name": "Python 3",
   "language": "python",
   "name": "python3"
  },
  "language_info": {
   "codemirror_mode": {
    "name": "ipython",
    "version": 3
   },
   "file_extension": ".py",
   "mimetype": "text/x-python",
   "name": "python",
   "nbconvert_exporter": "python",
   "pygments_lexer": "ipython3",
   "version": "3.10.13"
  },
  "papermill": {
   "default_parameters": {},
   "duration": 42188.960777,
   "end_time": "2024-08-21T04:45:29.928366",
   "environment_variables": {},
   "exception": null,
   "input_path": "__notebook__.ipynb",
   "output_path": "__notebook__.ipynb",
   "parameters": {},
   "start_time": "2024-08-20T17:02:20.967589",
   "version": "2.5.0"
  }
 },
 "nbformat": 4,
 "nbformat_minor": 5
}
