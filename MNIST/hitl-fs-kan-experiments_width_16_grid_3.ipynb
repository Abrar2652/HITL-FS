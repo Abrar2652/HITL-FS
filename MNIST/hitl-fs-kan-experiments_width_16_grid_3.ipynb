{
 "cells": [
  {
   "cell_type": "markdown",
   "id": "fdb53d07",
   "metadata": {
    "id": "EBFD0O5KvH2O",
    "papermill": {
     "duration": 0.005102,
     "end_time": "2024-08-16T17:32:59.035459",
     "exception": false,
     "start_time": "2024-08-16T17:32:59.030357",
     "status": "completed"
    },
    "tags": []
   },
   "source": [
    "## KAN RL"
   ]
  },
  {
   "cell_type": "code",
   "execution_count": 1,
   "id": "75c658af",
   "metadata": {
    "execution": {
     "iopub.execute_input": "2024-08-16T17:32:59.046845Z",
     "iopub.status.busy": "2024-08-16T17:32:59.046445Z",
     "iopub.status.idle": "2024-08-16T17:33:31.704278Z",
     "shell.execute_reply": "2024-08-16T17:33:31.702939Z"
    },
    "id": "XVTffDVsx7fD",
    "outputId": "0aa43552-127c-4bdf-e5c7-e7101c57bdc2",
    "papermill": {
     "duration": 32.666714,
     "end_time": "2024-08-16T17:33:31.707001",
     "exception": false,
     "start_time": "2024-08-16T17:32:59.040287",
     "status": "completed"
    },
    "scrolled": true,
    "tags": []
   },
   "outputs": [
    {
     "name": "stdout",
     "output_type": "stream",
     "text": [
      "Collecting moviepy~=1.0.3\r\n",
      "  Downloading moviepy-1.0.3.tar.gz (388 kB)\r\n",
      "\u001b[2K     \u001b[90m━━━━━━━━━━━━━━━━━━━━━━━━━━━━━━━━━━━━━━━\u001b[0m \u001b[32m388.3/388.3 kB\u001b[0m \u001b[31m4.6 MB/s\u001b[0m eta \u001b[36m0:00:00\u001b[0m\r\n",
      "\u001b[?25h  Preparing metadata (setup.py) ... \u001b[?25l-\b \bdone\r\n",
      "\u001b[?25hRequirement already satisfied: gymnasium in /opt/conda/lib/python3.10/site-packages (0.29.0)\r\n",
      "Collecting pykan~=0.0.2\r\n",
      "  Downloading pykan-0.0.5-py3-none-any.whl.metadata (13 kB)\r\n",
      "Collecting decorator<5.0,>=4.0.2 (from moviepy~=1.0.3)\r\n",
      "  Downloading decorator-4.4.2-py2.py3-none-any.whl.metadata (4.2 kB)\r\n",
      "Requirement already satisfied: tqdm<5.0,>=4.11.2 in /opt/conda/lib/python3.10/site-packages (from moviepy~=1.0.3) (4.66.4)\r\n",
      "Requirement already satisfied: requests<3.0,>=2.8.1 in /opt/conda/lib/python3.10/site-packages (from moviepy~=1.0.3) (2.32.3)\r\n",
      "Collecting proglog<=1.0.0 (from moviepy~=1.0.3)\r\n",
      "  Downloading proglog-0.1.10-py3-none-any.whl.metadata (639 bytes)\r\n",
      "Requirement already satisfied: numpy>=1.17.3 in /opt/conda/lib/python3.10/site-packages (from moviepy~=1.0.3) (1.26.4)\r\n",
      "Requirement already satisfied: imageio<3.0,>=2.5 in /opt/conda/lib/python3.10/site-packages (from moviepy~=1.0.3) (2.33.1)\r\n",
      "Collecting imageio_ffmpeg>=0.2.0 (from moviepy~=1.0.3)\r\n",
      "  Downloading imageio_ffmpeg-0.5.1-py3-none-manylinux2010_x86_64.whl.metadata (1.6 kB)\r\n",
      "Requirement already satisfied: cloudpickle>=1.2.0 in /opt/conda/lib/python3.10/site-packages (from gymnasium) (2.2.1)\r\n",
      "Requirement already satisfied: typing-extensions>=4.3.0 in /opt/conda/lib/python3.10/site-packages (from gymnasium) (4.9.0)\r\n",
      "Requirement already satisfied: farama-notifications>=0.0.1 in /opt/conda/lib/python3.10/site-packages (from gymnasium) (0.0.4)\r\n",
      "Requirement already satisfied: pillow>=8.3.2 in /opt/conda/lib/python3.10/site-packages (from imageio<3.0,>=2.5->moviepy~=1.0.3) (9.5.0)\r\n",
      "Requirement already satisfied: setuptools in /opt/conda/lib/python3.10/site-packages (from imageio_ffmpeg>=0.2.0->moviepy~=1.0.3) (69.0.3)\r\n",
      "Requirement already satisfied: charset-normalizer<4,>=2 in /opt/conda/lib/python3.10/site-packages (from requests<3.0,>=2.8.1->moviepy~=1.0.3) (3.3.2)\r\n",
      "Requirement already satisfied: idna<4,>=2.5 in /opt/conda/lib/python3.10/site-packages (from requests<3.0,>=2.8.1->moviepy~=1.0.3) (3.6)\r\n",
      "Requirement already satisfied: urllib3<3,>=1.21.1 in /opt/conda/lib/python3.10/site-packages (from requests<3.0,>=2.8.1->moviepy~=1.0.3) (1.26.18)\r\n",
      "Requirement already satisfied: certifi>=2017.4.17 in /opt/conda/lib/python3.10/site-packages (from requests<3.0,>=2.8.1->moviepy~=1.0.3) (2024.7.4)\r\n",
      "Downloading pykan-0.0.5-py3-none-any.whl (33 kB)\r\n",
      "Downloading decorator-4.4.2-py2.py3-none-any.whl (9.2 kB)\r\n",
      "Downloading imageio_ffmpeg-0.5.1-py3-none-manylinux2010_x86_64.whl (26.9 MB)\r\n",
      "\u001b[2K   \u001b[90m━━━━━━━━━━━━━━━━━━━━━━━━━━━━━━━━━━━━━━━━\u001b[0m \u001b[32m26.9/26.9 MB\u001b[0m \u001b[31m56.7 MB/s\u001b[0m eta \u001b[36m0:00:00\u001b[0m\r\n",
      "\u001b[?25hDownloading proglog-0.1.10-py3-none-any.whl (6.1 kB)\r\n",
      "Building wheels for collected packages: moviepy\r\n",
      "  Building wheel for moviepy (setup.py) ... \u001b[?25l-\b \b\\\b \bdone\r\n",
      "\u001b[?25h  Created wheel for moviepy: filename=moviepy-1.0.3-py3-none-any.whl size=110720 sha256=57f793dbf22314da5958bca063f2defa8fddf6aac778bc95a11d6265effbf062\r\n",
      "  Stored in directory: /root/.cache/pip/wheels/96/32/2d/e10123bd88fbfc02fed53cc18c80a171d3c87479ed845fa7c1\r\n",
      "Successfully built moviepy\r\n",
      "Installing collected packages: pykan, proglog, imageio_ffmpeg, decorator, moviepy\r\n",
      "  Attempting uninstall: decorator\r\n",
      "    Found existing installation: decorator 5.1.1\r\n",
      "    Uninstalling decorator-5.1.1:\r\n",
      "      Successfully uninstalled decorator-5.1.1\r\n",
      "Successfully installed decorator-4.4.2 imageio_ffmpeg-0.5.1 moviepy-1.0.3 proglog-0.1.10 pykan-0.0.5\r\n"
     ]
    }
   ],
   "source": [
    "!pip install moviepy~=1.0.3 gymnasium pykan~=0.0.2"
   ]
  },
  {
   "cell_type": "markdown",
   "id": "8e764d65",
   "metadata": {
    "id": "FabcDsA3HkTd",
    "papermill": {
     "duration": 0.006556,
     "end_time": "2024-08-16T17:33:31.720997",
     "exception": false,
     "start_time": "2024-08-16T17:33:31.714441",
     "status": "completed"
    },
    "tags": []
   },
   "source": [
    "## Models"
   ]
  },
  {
   "cell_type": "code",
   "execution_count": 2,
   "id": "6737d251",
   "metadata": {
    "cellView": "form",
    "execution": {
     "iopub.execute_input": "2024-08-16T17:33:31.737051Z",
     "iopub.status.busy": "2024-08-16T17:33:31.736653Z",
     "iopub.status.idle": "2024-08-16T17:33:59.938918Z",
     "shell.execute_reply": "2024-08-16T17:33:59.937643Z"
    },
    "id": "_fBdXsX3exWw",
    "outputId": "e029fcfa-1731-4017-a88c-e65bebc5bb4f",
    "papermill": {
     "duration": 28.213595,
     "end_time": "2024-08-16T17:33:59.941362",
     "exception": false,
     "start_time": "2024-08-16T17:33:31.727767",
     "status": "completed"
    },
    "scrolled": true,
    "tags": []
   },
   "outputs": [
    {
     "name": "stdout",
     "output_type": "stream",
     "text": [
      "Downloading http://yann.lecun.com/exdb/mnist/train-images-idx3-ubyte.gz\n",
      "Failed to download (trying next):\n",
      "HTTP Error 403: Forbidden\n",
      "\n",
      "Downloading https://ossci-datasets.s3.amazonaws.com/mnist/train-images-idx3-ubyte.gz\n",
      "Downloading https://ossci-datasets.s3.amazonaws.com/mnist/train-images-idx3-ubyte.gz to ./data/MNIST/raw/train-images-idx3-ubyte.gz\n"
     ]
    },
    {
     "name": "stderr",
     "output_type": "stream",
     "text": [
      "100%|██████████| 9912422/9912422 [00:10<00:00, 953149.22it/s] \n"
     ]
    },
    {
     "name": "stdout",
     "output_type": "stream",
     "text": [
      "Extracting ./data/MNIST/raw/train-images-idx3-ubyte.gz to ./data/MNIST/raw\n",
      "\n",
      "Downloading http://yann.lecun.com/exdb/mnist/train-labels-idx1-ubyte.gz\n",
      "Failed to download (trying next):\n",
      "HTTP Error 403: Forbidden\n",
      "\n",
      "Downloading https://ossci-datasets.s3.amazonaws.com/mnist/train-labels-idx1-ubyte.gz\n",
      "Downloading https://ossci-datasets.s3.amazonaws.com/mnist/train-labels-idx1-ubyte.gz to ./data/MNIST/raw/train-labels-idx1-ubyte.gz\n"
     ]
    },
    {
     "name": "stderr",
     "output_type": "stream",
     "text": [
      "100%|██████████| 28881/28881 [00:00<00:00, 144473.34it/s]\n"
     ]
    },
    {
     "name": "stdout",
     "output_type": "stream",
     "text": [
      "Extracting ./data/MNIST/raw/train-labels-idx1-ubyte.gz to ./data/MNIST/raw\n",
      "\n",
      "Downloading http://yann.lecun.com/exdb/mnist/t10k-images-idx3-ubyte.gz\n",
      "Failed to download (trying next):\n",
      "HTTP Error 403: Forbidden\n",
      "\n",
      "Downloading https://ossci-datasets.s3.amazonaws.com/mnist/t10k-images-idx3-ubyte.gz\n",
      "Downloading https://ossci-datasets.s3.amazonaws.com/mnist/t10k-images-idx3-ubyte.gz to ./data/MNIST/raw/t10k-images-idx3-ubyte.gz\n"
     ]
    },
    {
     "name": "stderr",
     "output_type": "stream",
     "text": [
      "100%|██████████| 1648877/1648877 [00:01<00:00, 1374879.51it/s]\n"
     ]
    },
    {
     "name": "stdout",
     "output_type": "stream",
     "text": [
      "Extracting ./data/MNIST/raw/t10k-images-idx3-ubyte.gz to ./data/MNIST/raw\n",
      "\n",
      "Downloading http://yann.lecun.com/exdb/mnist/t10k-labels-idx1-ubyte.gz\n",
      "Failed to download (trying next):\n",
      "HTTP Error 403: Forbidden\n",
      "\n",
      "Downloading https://ossci-datasets.s3.amazonaws.com/mnist/t10k-labels-idx1-ubyte.gz\n",
      "Downloading https://ossci-datasets.s3.amazonaws.com/mnist/t10k-labels-idx1-ubyte.gz to ./data/MNIST/raw/t10k-labels-idx1-ubyte.gz\n"
     ]
    },
    {
     "name": "stderr",
     "output_type": "stream",
     "text": [
      "100%|██████████| 4542/4542 [00:00<00:00, 2764552.14it/s]\n"
     ]
    },
    {
     "name": "stdout",
     "output_type": "stream",
     "text": [
      "Extracting ./data/MNIST/raw/t10k-labels-idx1-ubyte.gz to ./data/MNIST/raw\n",
      "\n",
      "State shape: torch.Size([1, 8, 8])\n",
      "Label: tensor(2)\n",
      "Feedback shape: torch.Size([1, 8, 8])\n"
     ]
    },
    {
     "data": {
      "image/png": "[encoded data removed]",
      "text/plain": [
       "<Figure size 1000x500 with 2 Axes>"
      ]
     },
     "metadata": {},
     "output_type": "display_data"
    },
    {
     "name": "stdout",
     "output_type": "stream",
     "text": [
      "tensor(0.3679) tensor(1.)\n"
     ]
    }
   ],
   "source": [
    "# @title\n",
    "\n",
    "import torch\n",
    "from torchvision import transforms\n",
    "from torchvision.datasets import MNIST\n",
    "from torch.utils.data import DataLoader\n",
    "import numpy as np\n",
    "from scipy.ndimage import gaussian_filter\n",
    "import matplotlib.pyplot as plt\n",
    "\n",
    "class MNISTEnvironment:\n",
    "    def __init__(self, batch_size, image_size=(8, 8), feedback_sigma=5.0):\n",
    "        self.batch_size = batch_size\n",
    "        self.image_size = image_size\n",
    "        self.feedback_sigma = feedback_sigma\n",
    "        self.transform = transforms.Compose([\n",
    "            transforms.Resize(image_size),\n",
    "            transforms.ToTensor(),\n",
    "            transforms.Normalize((0.1307,), (0.3081,))\n",
    "        ])\n",
    "        dataset = MNIST('./data', train=True, download=True, transform=self.transform)\n",
    "        self.loader = DataLoader(dataset, batch_size=batch_size, shuffle=True)\n",
    "        self.iterator = iter(self.loader)\n",
    "        self.reset()\n",
    "\n",
    "    def reset(self):\n",
    "        try:\n",
    "            self.current_batch = next(self.iterator)\n",
    "        except StopIteration:\n",
    "            self.iterator = iter(self.loader)\n",
    "            self.current_batch = next(self.iterator)\n",
    "        self.idx = 0\n",
    "\n",
    "    def step(self):\n",
    "        images, labels = self.current_batch\n",
    "        if self.idx >= len(images):\n",
    "            self.reset()\n",
    "            return self.step()\n",
    "        state = images[self.idx]\n",
    "        label = labels[self.idx]\n",
    "        feedback = self.generate_simulated_feedback(state.unsqueeze(0))\n",
    "        self.idx += 1\n",
    "        return state, label, feedback\n",
    "\n",
    "    def generate_simulated_feedback(self, image_tensor):\n",
    "        image_np = image_tensor.squeeze().numpy()\n",
    "\n",
    "        image_np = (image_np - np.min(image_np)) / (np.max(image_np) - np.min(image_np))\n",
    "\n",
    "        center_of_mass = np.array(np.unravel_index(np.argmax(image_np), image_np.shape))\n",
    "\n",
    "        x, y = np.meshgrid(np.arange(image_np.shape[1]), np.arange(image_np.shape[0]))\n",
    "        gaussian_mask = np.exp(-((x - center_of_mass[1])**2 + (y - center_of_mass[0])**2) / (2 * self.feedback_sigma**2))\n",
    "\n",
    "        feedback = gaussian_mask / np.max(gaussian_mask)\n",
    "        return torch.tensor(feedback, dtype=torch.float32).view(1, *feedback.shape)\n",
    "\n",
    "\n",
    "def plot_images(normal_image, feedback_image):\n",
    "    # Convert tensors to numpy arrays\n",
    "    normal_image_np = normal_image.squeeze().numpy()\n",
    "    feedback_image_np = feedback_image.squeeze().numpy()\n",
    "\n",
    "    # Create subplots\n",
    "    fig, axes = plt.subplots(1, 2, figsize=(10, 5))\n",
    "\n",
    "    # Plot normal image\n",
    "    axes[0].imshow(normal_image_np, cmap='gray')\n",
    "    axes[0].set_title('Normal Image')\n",
    "    axes[0].axis('off')\n",
    "\n",
    "    # Plot feedback image\n",
    "    axes[1].imshow(feedback_image_np, cmap='hot')  # Using 'jet' colormap to visualize feedback\n",
    "    axes[1].set_title('Simulated Feedback')\n",
    "    axes[1].axis('off')\n",
    "\n",
    "    plt.show()\n",
    "\n",
    "\n",
    "# Example usage:\n",
    "if __name__ == \"__main__\":\n",
    "    env = MNISTEnvironment(batch_size=128, feedback_sigma=5.0)\n",
    "    state, label, feedback = env.step()\n",
    "    print(\"State shape:\", state.shape)\n",
    "    print(\"Label:\", label)\n",
    "    print(\"Feedback shape:\", feedback.shape)\n",
    "    plot_images(state, feedback)\n",
    "    print(feedback.min(), feedback.max())"
   ]
  },
  {
   "cell_type": "code",
   "execution_count": 3,
   "id": "618a3f5c",
   "metadata": {
    "execution": {
     "iopub.execute_input": "2024-08-16T17:33:59.969133Z",
     "iopub.status.busy": "2024-08-16T17:33:59.968644Z",
     "iopub.status.idle": "2024-08-16T17:34:00.036415Z",
     "shell.execute_reply": "2024-08-16T17:34:00.035275Z"
    },
    "id": "t-FwA8zsgrIV",
    "outputId": "0d38dddd-7cd9-4baf-b6c3-9d79d92f340b",
    "papermill": {
     "duration": 0.084701,
     "end_time": "2024-08-16T17:34:00.039038",
     "exception": false,
     "start_time": "2024-08-16T17:33:59.954337",
     "status": "completed"
    },
    "tags": []
   },
   "outputs": [
    {
     "name": "stdout",
     "output_type": "stream",
     "text": [
      "FSNet(\n",
      "  (feature_extractor): Sequential(\n",
      "    (0): Conv2d(1, 8, kernel_size=(3, 3), stride=(1, 1), padding=(1, 1))\n",
      "    (1): ReLU()\n",
      "    (2): MaxPool2d(kernel_size=2, stride=2, padding=0, dilation=1, ceil_mode=False)\n",
      "    (3): Conv2d(8, 16, kernel_size=(3, 3), stride=(1, 1), padding=(1, 1))\n",
      "    (4): ReLU()\n",
      "    (5): MaxPool2d(kernel_size=2, stride=2, padding=0, dilation=1, ceil_mode=False)\n",
      "    (6): Flatten(start_dim=1, end_dim=-1)\n",
      "  )\n",
      "  (fc1): Linear(in_features=64, out_features=128, bias=True)\n",
      "  (relu): ReLU()\n",
      "  (dropout): Dropout(p=0.25, inplace=False)\n",
      "  (fc2): Linear(in_features=128, out_features=64, bias=True)\n",
      "  (sigmoid): Sigmoid()\n",
      "  (softmax): Softmax(dim=-1)\n",
      ")\n",
      "torch.Size([1, 64])\n"
     ]
    }
   ],
   "source": [
    "# @title\n",
    "import torch\n",
    "import torch.nn as nn\n",
    "import torch.nn.functional as F\n",
    "import torch.optim as optim\n",
    "import torch.distributions as dist\n",
    "from torch.optim.lr_scheduler import ExponentialLR\n",
    "\n",
    "class FSNet(nn.Module):\n",
    "    def __init__(self, input_shape, num_filters, num_conv_layers=3, hidden_dim=128, distribution=None, tau=1.0):\n",
    "        super(FSNet, self).__init__()\n",
    "\n",
    "        self.distribution = distribution\n",
    "        self.global_step = 0\n",
    "        self.initial_tau = tau\n",
    "        self.tau_decay = 0.96  # Exponential decay rate\n",
    "\n",
    "        layers = []\n",
    "        in_channels = input_shape[0]\n",
    "        channels = []\n",
    "\n",
    "        for i in range(num_conv_layers):\n",
    "            num_filters *= 2\n",
    "            channels.append(num_filters)\n",
    "\n",
    "        for i in range(num_conv_layers):\n",
    "            # For a convolutional layer to keep the input and output shapes the same: P = (K-1)/2 with S = 1\n",
    "            layers.append(nn.Conv2d(in_channels=in_channels, out_channels=channels[i], kernel_size=3, padding=1, stride=1))\n",
    "            layers.append(nn.ReLU())\n",
    "            # Each MaxPool2d layer with kernel size 2 and stride 2 will halve the height and width of the feature maps.\n",
    "            layers.append(nn.MaxPool2d(2, 2))\n",
    "            in_channels = channels[i]\n",
    "\n",
    "        layers.append(nn.Flatten())\n",
    "        self.feature_extractor = nn.Sequential(*layers)\n",
    "\n",
    "        # Dummy forward pass to determine the output size of the feature extractor\n",
    "        dummy_input = torch.empty(1, *input_shape)\n",
    "        n_features = self.feature_extractor(dummy_input).shape[1]\n",
    "        # print(n_features)\n",
    "\n",
    "        self.fc1 = nn.Linear(n_features, hidden_dim)\n",
    "        self.relu = nn.ReLU()\n",
    "        self.dropout = nn.Dropout(0.25)\n",
    "        self.fc2 = nn.Linear(hidden_dim, n_features)\n",
    "        self.sigmoid = nn.Sigmoid()\n",
    "        self.softmax = nn.Softmax(dim=-1)\n",
    "\n",
    "        # Storage for probabilities and feedback costs\n",
    "        self.probs_history = []\n",
    "        self.feedback_cost_history = []\n",
    "\n",
    "\n",
    "    def forward(self, x, feedback=None, epoch=0, n_epochs=None):\n",
    "        x = x.view(-1, 1, input_shape[1], input_shape[2])\n",
    "        features = self.feature_extractor(x)\n",
    "\n",
    "        x = self.relu(self.fc1(features))\n",
    "        probs_logits = self.relu(self.fc2(x))\n",
    "        probs = self.sigmoid(probs_logits)\n",
    "\n",
    "        # Apply the simulated feedback as a weight to the feature selection\n",
    "        if feedback is None:\n",
    "            feedback = probs # so that mse_loss becomes 0 if no feedback is fed\n",
    "        else:\n",
    "            pass\n",
    "\n",
    "        # Use distribution as weight of the features\n",
    "        if self.distribution == 'bernoulli':\n",
    "            mask = torch.distributions.Bernoulli(logits=probs_logits)\n",
    "            sample_probs = mask.sample()\n",
    "        if self.distribution == 'gumbel_softmax':\n",
    "            tau = self.initial_tau * (self.tau_decay ** epoch)\n",
    "            mask = F.gumbel_softmax(logits=probs_logits, tau=tau, hard=False)\n",
    "            sample_probs = mask\n",
    "        if self.distribution == 'gaussian':\n",
    "            mu = probs_logits  # or some transformation of probs_logits\n",
    "            sigma = torch.ones_like(mu)  # Standard deviation\n",
    "            gaussian_dist = torch.distributions.Normal(mu, sigma)\n",
    "            sample_probs = gaussian_dist.rsample()  # Use rsample for the reparameterization trick\n",
    "        if self.distribution == 'beta':\n",
    "            alpha = F.softplus(probs_logits) + 1\n",
    "            beta = F.softplus(probs_logits) + 1\n",
    "            beta_dist = torch.distributions.Beta(alpha, beta)\n",
    "            sample_probs = beta_dist.sample()\n",
    "        if self.distribution == 'dirichlet':\n",
    "            concentration = F.softplus(probs_logits) + 1  # Ensuring positive values\n",
    "            dirichlet_dist = torch.distributions.Dirichlet(concentration)\n",
    "            sample_probs = dirichlet_dist.sample()\n",
    "        elif self.distribution == 'multinomial':\n",
    "            logits = probs_logits  # Logits for the multinomial distribution\n",
    "            mask = torch.distributions.Multinomial(logits=logits)\n",
    "            sample_probs = mask.sample()\n",
    "        elif self.distribution == 'laplace':\n",
    "            loc = probs_logits  # Mean of the logistic distribution\n",
    "            scale = torch.ones_like(loc)  # Scale parameter\n",
    "            laplace_dist = torch.distributions.Laplace(loc, scale)\n",
    "            sample_probs = laplace_dist.sample()\n",
    "        elif self.distribution == 'cauchy':\n",
    "            loc = probs_logits  # Mean of the logistic distribution\n",
    "            scale = torch.ones_like(loc)  # Scale parameter\n",
    "            cauchy_dist = torch.distributions.Cauchy(loc, scale)\n",
    "            sample_probs = cauchy_dist.sample()\n",
    "        elif self.distribution == 'uniform':\n",
    "            low = torch.zeros_like(probs_logits)  # Lower bound\n",
    "            high = torch.ones_like(probs_logits)  # Upper bound\n",
    "            uniform_dist = torch.distributions.Uniform(low, high)\n",
    "            sample_probs = uniform_dist.sample()            \n",
    "\n",
    "        # print(sample_probs.shape)\n",
    "\n",
    "        feedback_cost = F.mse_loss(probs, feedback)\n",
    "\n",
    "        flat_zoom_X = features * sample_probs\n",
    "\n",
    "        return flat_zoom_X, feedback_cost, probs\n",
    "\n",
    "\n",
    "# Example usage:\n",
    "input_shape = (1, 8, 8)  # Change this to the desired input shape\n",
    "num_conv_layers = 2  # Specify the desired number of convolutional layers\n",
    "num_filters = 4 # [2,4], [3,8]\n",
    "model = FSNet(input_shape, num_filters, num_conv_layers, hidden_dim=128, distribution='uniform')\n",
    "print(model)\n",
    "\n",
    "# Test with an example input\n",
    "example_input = torch.randn(*input_shape)\n",
    "\n",
    "# print(flat_zoom_X, probs)\n",
    "# print(flat_zoom_X.shape[1])\n",
    "flat_zoom_X, feedback_cost, probs = model.forward(example_input)\n",
    "print(flat_zoom_X.shape)"
   ]
  },
  {
   "cell_type": "code",
   "execution_count": 4,
   "id": "769fa04a",
   "metadata": {
    "cellView": "form",
    "execution": {
     "iopub.execute_input": "2024-08-16T17:34:00.066536Z",
     "iopub.status.busy": "2024-08-16T17:34:00.065770Z",
     "iopub.status.idle": "2024-08-16T17:34:14.459496Z",
     "shell.execute_reply": "2024-08-16T17:34:14.458342Z"
    },
    "id": "y1po5kE6v49J",
    "papermill": {
     "duration": 14.410437,
     "end_time": "2024-08-16T17:34:14.462063",
     "exception": false,
     "start_time": "2024-08-16T17:34:00.051626",
     "status": "completed"
    },
    "tags": []
   },
   "outputs": [
    {
     "name": "stderr",
     "output_type": "stream",
     "text": [
      "2024-08-16 17:34:03.433953: E external/local_xla/xla/stream_executor/cuda/cuda_dnn.cc:9261] Unable to register cuDNN factory: Attempting to register factory for plugin cuDNN when one has already been registered\n",
      "2024-08-16 17:34:03.434099: E external/local_xla/xla/stream_executor/cuda/cuda_fft.cc:607] Unable to register cuFFT factory: Attempting to register factory for plugin cuFFT when one has already been registered\n",
      "2024-08-16 17:34:03.598368: E external/local_xla/xla/stream_executor/cuda/cuda_blas.cc:1515] Unable to register cuBLAS factory: Attempting to register factory for plugin cuBLAS when one has already been registered\n"
     ]
    }
   ],
   "source": [
    "# @title\n",
    "from collections import deque\n",
    "import os\n",
    "import time\n",
    "import random\n",
    "import torch\n",
    "import torch.nn as nn\n",
    "import torch.optim as optim\n",
    "import torchvision.transforms as transforms\n",
    "from torchvision.datasets import MNIST\n",
    "from torch.utils.data import DataLoader, random_split\n",
    "from kan import KAN\n",
    "from torch.utils.tensorboard import SummaryWriter\n",
    "import numpy as np\n",
    "from tqdm import tqdm\n",
    "import matplotlib.pyplot as plt\n",
    "from typing import Dict, Tuple, Optional, Callable, Union\n",
    "\n",
    "class ReplayBuffer:\n",
    "    def __init__(self, capacity, observation_dim):\n",
    "        self.capacity = capacity\n",
    "        self.observations = torch.zeros(capacity, observation_dim)\n",
    "        self.actions = torch.zeros(capacity, 1, dtype=torch.int64)\n",
    "        self.next_observations = torch.zeros(capacity, observation_dim)\n",
    "        self.rewards = torch.zeros(capacity, 1)\n",
    "        self.terminations = torch.zeros(capacity, 1, dtype=torch.int)\n",
    "        self.cursor = 0\n",
    "\n",
    "    def add(self, observation, action, next_observation, reward, termination):\n",
    "        index = self.cursor % self.capacity\n",
    "        self.observations[index] = observation\n",
    "        self.actions[index] = action\n",
    "        self.next_observations[index] = next_observation\n",
    "        self.rewards[index] = reward\n",
    "        self.terminations[index] = termination\n",
    "        self.cursor += 1\n",
    "\n",
    "    def sample(self, batch_size):\n",
    "        idx = np.random.permutation(np.arange(len(self)))[:batch_size]\n",
    "        return (\n",
    "            self.observations[idx],\n",
    "            self.actions[idx],\n",
    "            self.next_observations[idx],\n",
    "            self.rewards[idx],\n",
    "            self.terminations[idx],\n",
    "        )\n",
    "\n",
    "    def __len__(self):\n",
    "        return min(self.cursor, self.capacity)\n",
    "\n",
    "\n",
    "\n",
    "def kan_train(\n",
    "    net,\n",
    "    target,\n",
    "    data,\n",
    "    optimizer,\n",
    "    gamma=0.99,\n",
    "    lamb=0.0,\n",
    "    lamb_l1=1.0,\n",
    "    lamb_entropy=2.0,\n",
    "    lamb_coef=0.0,\n",
    "    lamb_coefdiff=0.0,\n",
    "    small_mag_threshold=1e-16,\n",
    "    small_reg_factor=1.0,\n",
    "    feedback_cost=None,\n",
    "    feature_selection=False,\n",
    "):\n",
    "    \n",
    "\n",
    "    def reg(acts_scale):\n",
    "        def nonlinear(x, th=small_mag_threshold, factor=small_reg_factor):\n",
    "            return (x < th) * x * factor + (x > th) * (x + (factor - 1) * th)\n",
    "\n",
    "        reg_ = 0.0\n",
    "        for i in range(len(acts_scale)):\n",
    "            vec = acts_scale[i].reshape(\n",
    "                -1,\n",
    "            )\n",
    "\n",
    "            p = vec / torch.sum(vec)\n",
    "            l1 = torch.sum(nonlinear(vec))\n",
    "            entropy = -torch.sum(p * torch.log2(p + 1e-4))\n",
    "            reg_ += lamb_l1 * l1 + lamb_entropy * entropy  # both l1 and entropy\n",
    "\n",
    "        # regularize coefficient to encourage spline to be zero\n",
    "        for i in range(len(net.act_fun)):\n",
    "            coeff_l1 = torch.sum(torch.mean(torch.abs(net.act_fun[i].coef), dim=1))\n",
    "            coeff_diff_l1 = torch.sum(\n",
    "                torch.mean(torch.abs(torch.diff(net.act_fun[i].coef)), dim=1)\n",
    "            )\n",
    "            reg_ += lamb_coef * coeff_l1 + lamb_coefdiff * coeff_diff_l1\n",
    "\n",
    "        return reg_\n",
    "\n",
    "    observations, actions, next_observations, rewards, terminations = data\n",
    "\n",
    "    with torch.no_grad():\n",
    "        next_q_values = net(next_observations.detach())\n",
    "        next_actions = next_q_values.argmax(dim=1)\n",
    "        next_q_values_target = target(next_observations.detach())\n",
    "        target_max = next_q_values_target[range(len(next_q_values)), next_actions]\n",
    "        td_target = rewards.detach().flatten() + gamma * target_max * (\n",
    "            1 - terminations.detach().flatten()\n",
    "        )\n",
    "\n",
    "\n",
    "    old_val = net(observations.detach()).gather(1, actions.detach()).squeeze()\n",
    "    criterion = nn.SmoothL1Loss()\n",
    "    # criterion = nn.MSELoss()\n",
    "    # loss = criterion(td_target, old_val)\n",
    "    reg_ = reg(net.acts_scale)\n",
    "    loss = criterion(td_target, old_val) + lamb * reg_\n",
    "\n",
    "    # Combine the original cost function with the feedback loss\n",
    "    if feature_selection == True:\n",
    "        combined_loss = loss + 0.5 * feedback_cost.detach()\n",
    "    # print(loss, feedback_cost.detach())\n",
    "    else:\n",
    "        combined_loss = loss\n",
    "\n",
    "    optimizer.zero_grad()\n",
    "    combined_loss.backward()\n",
    "\n",
    "    # In-place gradient clipping\n",
    "    torch.nn.utils.clip_grad_value_(net.parameters(), 100)\n",
    "    optimizer.step()\n",
    "\n",
    "    return combined_loss.item()\n",
    "\n",
    "def mlp_train(\n",
    "    net,\n",
    "    target,\n",
    "    data,\n",
    "    optimizer,\n",
    "    gamma=0.99,\n",
    "    feedback_cost=None,\n",
    "    feature_selection=False,\n",
    "):\n",
    "    observations, actions, next_observations, rewards, terminations = data\n",
    "\n",
    "    # Compute everything related to primary loss in a single block to retain the graph\n",
    "    with torch.no_grad():\n",
    "        next_q_values = net(next_observations.detach())\n",
    "        next_actions = next_q_values.argmax(dim=1)\n",
    "        next_q_values_target = target(next_observations.detach())\n",
    "        target_max = next_q_values_target[range(len(next_q_values)), next_actions]\n",
    "        td_target = rewards.detach().flatten() + gamma * target_max * (\n",
    "            1 - terminations.detach().flatten()\n",
    "        )\n",
    "\n",
    "    old_val = net(observations.detach()).gather(1, actions.detach()).squeeze()\n",
    "    criterion = nn.SmoothL1Loss()\n",
    "    # criterion = nn.MSELoss()\n",
    "    loss = criterion(td_target, old_val)\n",
    "\n",
    "    # Combine the original cost function with the feedback loss\n",
    "    if feature_selection == True:\n",
    "      combined_loss = loss + 0.5 * feedback_cost.detach()\n",
    "    # print(loss, feedback_cost.detach())\n",
    "    else:\n",
    "      combined_loss = loss\n",
    "\n",
    "    optimizer.zero_grad()\n",
    "    combined_loss.backward()\n",
    "\n",
    "    # In-place gradient clipping\n",
    "    torch.nn.utils.clip_grad_value_(net.parameters(), 100)\n",
    "    optimizer.step()\n",
    "\n",
    "    return combined_loss.item()\n",
    "\n",
    "\n",
    "def set_all_seeds(seed):\n",
    "    random.seed(seed)\n",
    "    os.environ[\"PYTHONHASHSEED\"] = str(seed)\n",
    "    np.random.seed(seed)\n",
    "    torch.manual_seed(seed)\n",
    "    torch.cuda.manual_seed(seed)\n",
    "    torch.use_deterministic_algorithms(True)\n",
    "\n"
   ]
  },
  {
   "cell_type": "code",
   "execution_count": 5,
   "id": "a671fd5f",
   "metadata": {
    "cellView": "form",
    "execution": {
     "iopub.execute_input": "2024-08-16T17:34:14.490697Z",
     "iopub.status.busy": "2024-08-16T17:34:14.490003Z",
     "iopub.status.idle": "2024-08-16T17:34:14.534690Z",
     "shell.execute_reply": "2024-08-16T17:34:14.533578Z"
    },
    "id": "wYF5Bi3GvKhV",
    "papermill": {
     "duration": 0.062212,
     "end_time": "2024-08-16T17:34:14.537013",
     "exception": false,
     "start_time": "2024-08-16T17:34:14.474801",
     "status": "completed"
    },
    "tags": []
   },
   "outputs": [],
   "source": [
    "# @title\n",
    "import os\n",
    "import time\n",
    "import random\n",
    "import shutil\n",
    "import matplotlib.pyplot as plt\n",
    "import torch\n",
    "import torch.nn as nn\n",
    "from torch.optim.lr_scheduler import ExponentialLR\n",
    "from torch.utils.tensorboard import SummaryWriter\n",
    "import numpy as np\n",
    "from tqdm import tqdm\n",
    "\n",
    "def kanRL(config):\n",
    "      set_all_seeds(config[\"seed\"])\n",
    "      env = MNISTEnvironment(config[\"batch_size\"])\n",
    "      results_dir = 'results'\n",
    "\n",
    "      # Check if the directory exists before trying to delete it\n",
    "      # if os.path.exists(results_dir) and os.path.isdir(results_dir):\n",
    "      #     shutil.rmtree(results_dir)\n",
    "      #     print(f\"Directory '{results_dir}' has been deleted.\")\n",
    "      # else:\n",
    "      #     print(f\"Directory '{results_dir}' does not exist.\")\n",
    "\n",
    "      input_shape = (config['first_channel'], int(config['input_size']**0.5), int(config['input_size']**0.5))  # Change this to the desired input shape\n",
    "      print(input_shape)\n",
    "      agent = FSNet(input_shape, config['num_filters'], config['num_conv_layers'], config['hidden_dim'], distribution=config['distribution'], tau=config['initial_tau'])\n",
    "      print(agent)\n",
    "\n",
    "      if config[\"feature_selection\"] == True:\n",
    "          example_input = torch.randn(*input_shape)\n",
    "          features, _, _ = agent(example_input)\n",
    "          n_features = features.shape[1]\n",
    "          print(n_features)\n",
    "      else:\n",
    "          n_features = config[\"input_size\"]\n",
    "\n",
    "      if config[\"method\"] == \"KAN\":\n",
    "          q_network = KAN(\n",
    "              width=[n_features, config[\"width\"], config[\"output_size\"]],\n",
    "              grid=config[\"grid\"],\n",
    "              k=3,\n",
    "              bias_trainable=False,\n",
    "              sp_trainable=False,\n",
    "              sb_trainable=False,\n",
    "          )\n",
    "          target_network = KAN(\n",
    "              width=[n_features, config[\"width\"], config[\"output_size\"]],\n",
    "              grid=config[\"grid\"],\n",
    "              k=3,\n",
    "              bias_trainable=False,\n",
    "              sp_trainable=False,\n",
    "              sb_trainable=False,\n",
    "          )\n",
    "          train = kan_train\n",
    "      elif config[\"method\"] == \"MLP\":\n",
    "          q_network = nn.Sequential(\n",
    "              nn.Linear(n_features, config[\"width\"]),\n",
    "              nn.ReLU(),\n",
    "              nn.Linear(config[\"width\"], config[\"output_size\"]),\n",
    "          )\n",
    "          target_network = nn.Sequential(\n",
    "              nn.Linear(n_features, config[\"width\"]),\n",
    "              nn.ReLU(),\n",
    "              nn.Linear(config[\"width\"], config[\"output_size\"]),\n",
    "          )\n",
    "          train = mlp_train\n",
    "      else:\n",
    "          raise Exception(\n",
    "              f\"Method {config['method']} doesn't exist, choose between MLP and KAN.\"\n",
    "          )\n",
    "\n",
    "      target_network.load_state_dict(q_network.state_dict())\n",
    "\n",
    "      run_name = f\"{config['method']}_MNIST_{config['seed']}_{int(time.time())}\"\n",
    "\n",
    "      writer = SummaryWriter(f\"runs/{run_name}\")\n",
    "\n",
    "      os.makedirs(\"results\", exist_ok=True)\n",
    "      with open(f\"results/{run_name}.csv\", \"w\") as f:\n",
    "          f.write(\"epoch,accuracy\\n\")\n",
    "\n",
    "\n",
    "      optimizer = optim.Adam(list(agent.parameters())+list(q_network.parameters()), lr = config[\"learning_rate\"], weight_decay = config[\"weight_decay\"])\n",
    "      # Define learning rate scheduler\n",
    "      scheduler = optim.lr_scheduler.ExponentialLR(optimizer, gamma=config['gamma'])\n",
    "\n",
    "      writer.add_text(\n",
    "          \"hyperparameters\",\n",
    "          \"|param|value|\\n|-|-|\\n%s\"\n",
    "          % (\"\\n\".join([f\"|{key}|{value}|\" for key, value in config.items()])),\n",
    "      )\n",
    "\n",
    "      replay_buffer = ReplayBuffer(config[\"buffer_size\"], n_features) # change here if the input size changes\n",
    "\n",
    "      train_accuracies = []\n",
    "      test_accuracies = []\n",
    "      train_acc_stds = []\n",
    "      test_acc_stds = []\n",
    "      episode_lengths = []\n",
    "      losses = []\n",
    "      loss_stds = []\n",
    "      probs_history = []\n",
    "      feedback_cost_history = []\n",
    "\n",
    "      # Training phase\n",
    "      for epoch in tqdm(range(config[\"n_epochs\"]), desc=f\"{run_name}\"):\n",
    "          running_loss = 0.0\n",
    "          correct = 0\n",
    "          total = 0\n",
    "          probs_batch_list = []\n",
    "          feedback_cost_tot = 0\n",
    "\n",
    "          for _ in range(len(env.loader)):\n",
    "              state, label, feedback = env.step()\n",
    "              feedback = feedback.view(-1, config['input_size'])\n",
    "              \n",
    "              if config[\"feature_selection\"] == True:\n",
    "                  flat_zoom_X, feedback_cost, probs = agent.forward(state, feedback, epoch, config[\"n_epochs\"])\n",
    "                  # Collect the probabilities and feedback costs\n",
    "                  probs_batch_list.append(probs.detach().cpu().numpy())\n",
    "                  feedback_cost_tot += feedback_cost.detach().cpu().numpy()\n",
    "                  # Calculate regularization loss\n",
    "                  state = flat_zoom_X\n",
    "              else:\n",
    "                  state = state.view(-1, config['input_size'])\n",
    "                  probs_batch_list.append(torch.zeros((1, int(config['input_size']))))\n",
    "                  probs = torch.zeros((1, int(config['input_size'])))\n",
    "                  feedback_cost = torch.zeros(1)\n",
    "                  feedback_cost_tot += torch.zeros(1)                \n",
    "\n",
    "              # Forward pass\n",
    "              if epoch < config[\"warm_up_episodes\"]:\n",
    "                  action = torch.tensor([random.randint(0, 9)])\n",
    "              else:\n",
    "                  with torch.no_grad():\n",
    "                      action = q_network(state).argmax(axis=-1).squeeze().item()\n",
    "\n",
    "              reward = torch.tensor([1.0]) if action == label else torch.tensor([0.0])\n",
    "              next_state, next_label, _ = env.step()\n",
    "              if config[\"feature_selection\"] == True:\n",
    "                  next_state, _, _ = agent.forward(next_state)\n",
    "              else:\n",
    "                  next_state = next_state.view(-1, config['input_size'])\n",
    "\n",
    "              replay_buffer.add(state, action, next_state, reward, torch.tensor([1]))\n",
    "\n",
    "              if len(replay_buffer) > config[\"batch_size\"]:\n",
    "                  batch = replay_buffer.sample(config[\"batch_size\"])\n",
    "                  loss = train(\n",
    "                      q_network,\n",
    "                      target_network,\n",
    "                      batch,\n",
    "                      optimizer,\n",
    "                      gamma=config[\"gamma\"],\n",
    "                      feedback_cost = feedback_cost,\n",
    "                      feature_selection = config['feature_selection'],\n",
    "                  )\n",
    "                  running_loss += loss\n",
    "\n",
    "              correct += (action == label).sum().item()\n",
    "              total += 1\n",
    "\n",
    "          scheduler.step()\n",
    "          print()\n",
    "          print('correct:', correct, 'total:', total)\n",
    "          print('loss:', running_loss/total)\n",
    "          train_accuracy = correct / total\n",
    "          print(' Train accuracy: ', train_accuracy, '| ')\n",
    "          train_accuracies.append(train_accuracy)\n",
    "          losses.append(running_loss/total)\n",
    "\n",
    "          # Aggregate probabilities by averaging across the batch\n",
    "          avg_probs = np.mean(np.array(probs_batch_list), axis=0)\n",
    "          probs_history.append(avg_probs)\n",
    "          # Compute feedback cost\n",
    "          feedback_cost_history.append(feedback_cost_tot / len(env.loader))\n",
    "\n",
    "          if (\n",
    "              epoch % 25 == 0\n",
    "              and config[\"method\"] == \"KAN\"\n",
    "              and epoch < int(config[\"n_epochs\"] * (1 / 2))\n",
    "          ):\n",
    "              q_network.update_grid_from_samples(replay_buffer.observations[: len(replay_buffer)])\n",
    "              target_network.update_grid_from_samples(replay_buffer.observations[: len(replay_buffer)])\n",
    "\n",
    "          if epoch % config[\"target_update\"] == 0:\n",
    "              target_network.load_state_dict(q_network.state_dict())\n",
    "\n",
    "          correct = 0\n",
    "          total = 0\n",
    "          with torch.no_grad():\n",
    "              for images, labels in DataLoader(MNIST('./data', train=False, download=True, transform=transforms.Compose([\n",
    "                  transforms.Resize((int(config['input_size']**0.5), int(config['input_size']**0.5))),\n",
    "                  transforms.ToTensor(),\n",
    "                  transforms.Normalize((0.1307,), (0.3081,))\n",
    "              ])), batch_size=config[\"batch_size\"]):\n",
    "                  state = images.view(-1,config[\"input_size\"])\n",
    "                  \n",
    "                  if config[\"feature_selection\"] == True:\n",
    "                      flat_zoom_X, _, _ = agent(state)\n",
    "                      state = flat_zoom_X\n",
    "\n",
    "                  outputs = q_network(state)\n",
    "                  _, predicted = torch.max(outputs.data, 1)\n",
    "                  total += labels.size(0)\n",
    "                  correct += (predicted == labels).sum().item()\n",
    "\n",
    "          test_accuracy = correct / total\n",
    "          print(' Test accuracy: ', test_accuracy)\n",
    "          test_accuracies.append(test_accuracy)\n",
    "\n",
    "          writer.add_scalar(\"Loss/train\", running_loss / total, epoch)\n",
    "          writer.add_scalar(\"Accuracy/train\", train_accuracy, epoch)\n",
    "          writer.add_scalar(\"Accuracy/test\", test_accuracy, epoch)\n",
    "\n",
    "          with open(f\"results/{run_name}.csv\", \"a\") as f:\n",
    "              f.write(f\"{epoch},{test_accuracy}\\n\")\n",
    "\n",
    "\n",
    "      # Calculate standard deviations\n",
    "      train_acc_stds = [np.std(train_accuracies[max(0, i-10):i+1]) for i in range(len(train_accuracies))]\n",
    "      test_acc_stds = [np.std(test_accuracies[max(0, i-10):i+1]) for i in range(len(test_accuracies))]\n",
    "      loss_stds = [np.std(losses[max(0, i-10):i+1]) for i in range(len(losses))]\n",
    "\n",
    "      epochs = np.arange(len(train_accuracies))\n",
    "\n",
    "      #### With uncertainty ########\n",
    "      plt.figure(figsize=(12, 5))\n",
    "\n",
    "      plt.subplot(1, 2, 1)\n",
    "      plt.plot(epochs, train_accuracies, label='Train Accuracy')\n",
    "      plt.fill_between(epochs, np.array(train_accuracies) - np.array(train_acc_stds), np.array(train_accuracies) + np.array(train_acc_stds), alpha=0.3)\n",
    "      plt.plot(epochs, test_accuracies, label='Test Accuracy')\n",
    "      plt.fill_between(epochs, np.array(test_accuracies) - np.array(test_acc_stds), np.array(test_accuracies) + np.array(test_acc_stds), alpha=0.3)\n",
    "      plt.xlabel('Epoch')\n",
    "      plt.ylabel('Accuracy')\n",
    "      plt.legend()\n",
    "      plt.title('Accuracy over Time')\n",
    "\n",
    "      plt.subplot(1, 2, 2)\n",
    "      plt.plot(epochs, losses, label='Loss')\n",
    "      plt.fill_between(epochs, np.array(losses) - np.array(loss_stds), np.array(losses) + np.array(loss_stds), alpha=0.3)\n",
    "      plt.xlabel('Epoch')\n",
    "      plt.ylabel('Loss')\n",
    "      plt.legend()\n",
    "      plt.title('Loss over Time')\n",
    "\n",
    "      plt.tight_layout()\n",
    "      plt.show()\n",
    "\n",
    "\n",
    "      ##### Without uncertainty ########\n",
    "      plt.figure(figsize=(12, 5))\n",
    "\n",
    "      plt.subplot(1, 2, 1)\n",
    "      plt.plot(epochs, train_accuracies, label='Train Accuracy')\n",
    "      plt.plot(epochs, test_accuracies, label='Test Accuracy')\n",
    "      plt.xlabel('Epoch')\n",
    "      plt.ylabel('Accuracy')\n",
    "      plt.legend()\n",
    "      plt.title('Accuracy over Time')\n",
    "\n",
    "      plt.subplot(1, 2, 2)\n",
    "      plt.plot(epochs, losses, label='Loss')\n",
    "      plt.xlabel('Epoch')\n",
    "      plt.ylabel('Loss')\n",
    "      plt.legend()\n",
    "      plt.title('Loss over Time')\n",
    "\n",
    "      plt.tight_layout()\n",
    "      plt.show()\n",
    "\n",
    "      # Print final accuracy with +/- error\n",
    "      final_train_accuracy = train_accuracies[-1]\n",
    "      final_train_acc_std = train_acc_stds[-1]\n",
    "      final_test_accuracy = test_accuracies[-1]\n",
    "      final_test_acc_std = test_acc_stds[-1]\n",
    "\n",
    "      print(f\"Final Train Accuracy: {final_train_accuracy:.2f} ± {final_train_acc_std:.2f}\")\n",
    "      print(f\"Final Test Accuracy: {final_test_accuracy:.2f} ± {final_test_acc_std:.2f}\")\n",
    "\n",
    "\n",
    "      return q_network, train_accuracies, test_accuracies, losses, probs_history, feedback_cost_history, train_acc_stds, test_acc_stds, loss_stds, agent\n"
   ]
  },
  {
   "cell_type": "markdown",
   "id": "e1b50cb2",
   "metadata": {
    "papermill": {
     "duration": 0.012719,
     "end_time": "2024-08-16T17:34:14.562646",
     "exception": false,
     "start_time": "2024-08-16T17:34:14.549927",
     "status": "completed"
    },
    "tags": []
   },
   "source": [
    "# KAN width=16 grid=3"
   ]
  },
  {
   "cell_type": "code",
   "execution_count": 6,
   "id": "5b878262",
   "metadata": {
    "execution": {
     "iopub.execute_input": "2024-08-16T17:34:14.590716Z",
     "iopub.status.busy": "2024-08-16T17:34:14.589690Z",
     "iopub.status.idle": "2024-08-17T03:56:19.086342Z",
     "shell.execute_reply": "2024-08-17T03:56:19.085277Z"
    },
    "id": "JDuSwacf9fse",
    "outputId": "0a5f0407-ed77-4f23-b8dc-af933d33fcab",
    "papermill": {
     "duration": 37324.513407,
     "end_time": "2024-08-17T03:56:19.089080",
     "exception": false,
     "start_time": "2024-08-16T17:34:14.575673",
     "status": "completed"
    },
    "scrolled": true,
    "tags": []
   },
   "outputs": [
    {
     "name": "stdout",
     "output_type": "stream",
     "text": [
      "(1, 8, 8)\n",
      "FSNet(\n",
      "  (feature_extractor): Sequential(\n",
      "    (0): Conv2d(1, 8, kernel_size=(3, 3), stride=(1, 1), padding=(1, 1))\n",
      "    (1): ReLU()\n",
      "    (2): MaxPool2d(kernel_size=2, stride=2, padding=0, dilation=1, ceil_mode=False)\n",
      "    (3): Conv2d(8, 16, kernel_size=(3, 3), stride=(1, 1), padding=(1, 1))\n",
      "    (4): ReLU()\n",
      "    (5): MaxPool2d(kernel_size=2, stride=2, padding=0, dilation=1, ceil_mode=False)\n",
      "    (6): Flatten(start_dim=1, end_dim=-1)\n",
      "  )\n",
      "  (fc1): Linear(in_features=64, out_features=128, bias=True)\n",
      "  (relu): ReLU()\n",
      "  (dropout): Dropout(p=0.25, inplace=False)\n",
      "  (fc2): Linear(in_features=128, out_features=64, bias=True)\n",
      "  (sigmoid): Sigmoid()\n",
      "  (softmax): Softmax(dim=-1)\n",
      ")\n",
      "64\n"
     ]
    },
    {
     "name": "stderr",
     "output_type": "stream",
     "text": [
      "KAN_MNIST_0_1723829654:   0%|          | 0/100 [00:00<?, ?it/s]"
     ]
    },
    {
     "name": "stdout",
     "output_type": "stream",
     "text": [
      "\n",
      "correct: 44 total: 469\n",
      "loss: 0.061690068861314735\n",
      " Train accuracy:  0.09381663113006397 | \n"
     ]
    },
    {
     "name": "stderr",
     "output_type": "stream",
     "text": [
      "KAN_MNIST_0_1723829654:   1%|          | 1/100 [03:42<6:07:41, 222.84s/it]"
     ]
    },
    {
     "name": "stdout",
     "output_type": "stream",
     "text": [
      " Test accuracy:  0.19\n",
      "\n",
      "correct: 48 total: 469\n",
      "loss: 0.05711852798838097\n",
      " Train accuracy:  0.1023454157782516 | \n"
     ]
    },
    {
     "name": "stderr",
     "output_type": "stream",
     "text": [
      "KAN_MNIST_0_1723829654:   2%|▏         | 2/100 [08:51<7:25:57, 273.03s/it]"
     ]
    },
    {
     "name": "stdout",
     "output_type": "stream",
     "text": [
      " Test accuracy:  0.3802\n",
      "\n",
      "correct: 179 total: 469\n",
      "loss: 0.05665052529654777\n",
      " Train accuracy:  0.3816631130063966 | \n"
     ]
    },
    {
     "name": "stderr",
     "output_type": "stream",
     "text": [
      "KAN_MNIST_0_1723829654:   3%|▎         | 3/100 [14:42<8:19:34, 309.01s/it]"
     ]
    },
    {
     "name": "stdout",
     "output_type": "stream",
     "text": [
      " Test accuracy:  0.4284\n",
      "\n",
      "correct: 193 total: 469\n",
      "loss: 0.05824315446272079\n",
      " Train accuracy:  0.4115138592750533 | \n"
     ]
    },
    {
     "name": "stderr",
     "output_type": "stream",
     "text": [
      "KAN_MNIST_0_1723829654:   4%|▍         | 4/100 [20:33<8:40:52, 325.54s/it]"
     ]
    },
    {
     "name": "stdout",
     "output_type": "stream",
     "text": [
      " Test accuracy:  0.4692\n",
      "\n",
      "correct: 208 total: 469\n",
      "loss: 0.06000916253942162\n",
      " Train accuracy:  0.44349680170575695 | \n"
     ]
    },
    {
     "name": "stderr",
     "output_type": "stream",
     "text": [
      "KAN_MNIST_0_1723829654:   5%|▌         | 5/100 [26:25<8:50:35, 335.11s/it]"
     ]
    },
    {
     "name": "stdout",
     "output_type": "stream",
     "text": [
      " Test accuracy:  0.4913\n",
      "\n",
      "correct: 232 total: 469\n",
      "loss: 0.06205162808680331\n",
      " Train accuracy:  0.4946695095948827 | \n"
     ]
    },
    {
     "name": "stderr",
     "output_type": "stream",
     "text": [
      "KAN_MNIST_0_1723829654:   6%|▌         | 6/100 [32:17<8:53:45, 340.70s/it]"
     ]
    },
    {
     "name": "stdout",
     "output_type": "stream",
     "text": [
      " Test accuracy:  0.4841\n",
      "\n",
      "correct: 231 total: 469\n",
      "loss: 0.06412391033349261\n",
      " Train accuracy:  0.4925373134328358 | \n"
     ]
    },
    {
     "name": "stderr",
     "output_type": "stream",
     "text": [
      "KAN_MNIST_0_1723829654:   7%|▋         | 7/100 [38:08<8:53:37, 344.27s/it]"
     ]
    },
    {
     "name": "stdout",
     "output_type": "stream",
     "text": [
      " Test accuracy:  0.5006\n",
      "\n",
      "correct: 239 total: 469\n",
      "loss: 0.06611114355133794\n",
      " Train accuracy:  0.509594882729211 | \n"
     ]
    },
    {
     "name": "stderr",
     "output_type": "stream",
     "text": [
      "KAN_MNIST_0_1723829654:   8%|▊         | 8/100 [44:01<8:51:47, 346.82s/it]"
     ]
    },
    {
     "name": "stdout",
     "output_type": "stream",
     "text": [
      " Test accuracy:  0.5115\n",
      "\n",
      "correct: 239 total: 469\n",
      "loss: 0.06674763519785551\n",
      " Train accuracy:  0.509594882729211 | \n"
     ]
    },
    {
     "name": "stderr",
     "output_type": "stream",
     "text": [
      "KAN_MNIST_0_1723829654:   9%|▉         | 9/100 [49:54<8:48:56, 348.75s/it]"
     ]
    },
    {
     "name": "stdout",
     "output_type": "stream",
     "text": [
      " Test accuracy:  0.513\n",
      "\n",
      "correct: 255 total: 469\n",
      "loss: 0.06875357341601142\n",
      " Train accuracy:  0.5437100213219617 | \n"
     ]
    },
    {
     "name": "stderr",
     "output_type": "stream",
     "text": [
      "KAN_MNIST_0_1723829654:  10%|█         | 10/100 [55:47<8:45:22, 350.25s/it]"
     ]
    },
    {
     "name": "stdout",
     "output_type": "stream",
     "text": [
      " Test accuracy:  0.5313\n",
      "\n",
      "correct: 237 total: 469\n",
      "loss: 0.07102859490461695\n",
      " Train accuracy:  0.5053304904051172 | \n"
     ]
    },
    {
     "name": "stderr",
     "output_type": "stream",
     "text": [
      "KAN_MNIST_0_1723829654:  11%|█         | 11/100 [1:01:41<8:41:13, 351.38s/it]"
     ]
    },
    {
     "name": "stdout",
     "output_type": "stream",
     "text": [
      " Test accuracy:  0.5358\n",
      "\n",
      "correct: 241 total: 469\n",
      "loss: 0.07206748296488831\n",
      " Train accuracy:  0.5138592750533049 | \n"
     ]
    },
    {
     "name": "stderr",
     "output_type": "stream",
     "text": [
      "KAN_MNIST_0_1723829654:  12%|█▏        | 12/100 [1:07:35<8:36:32, 352.18s/it]"
     ]
    },
    {
     "name": "stdout",
     "output_type": "stream",
     "text": [
      " Test accuracy:  0.5341\n",
      "\n",
      "correct: 250 total: 469\n",
      "loss: 0.07482038605918508\n",
      " Train accuracy:  0.5330490405117271 | \n"
     ]
    },
    {
     "name": "stderr",
     "output_type": "stream",
     "text": [
      "KAN_MNIST_0_1723829654:  13%|█▎        | 13/100 [1:13:32<8:32:44, 353.62s/it]"
     ]
    },
    {
     "name": "stdout",
     "output_type": "stream",
     "text": [
      " Test accuracy:  0.5454\n",
      "\n",
      "correct: 241 total: 469\n",
      "loss: 0.07588511764177128\n",
      " Train accuracy:  0.5138592750533049 | \n"
     ]
    },
    {
     "name": "stderr",
     "output_type": "stream",
     "text": [
      "KAN_MNIST_0_1723829654:  14%|█▍        | 14/100 [1:19:29<8:28:21, 354.67s/it]"
     ]
    },
    {
     "name": "stdout",
     "output_type": "stream",
     "text": [
      " Test accuracy:  0.5565\n",
      "\n",
      "correct: 246 total: 469\n",
      "loss: 0.07688604730532876\n",
      " Train accuracy:  0.5245202558635395 | \n"
     ]
    },
    {
     "name": "stderr",
     "output_type": "stream",
     "text": [
      "KAN_MNIST_0_1723829654:  15%|█▌        | 15/100 [1:25:27<8:23:44, 355.59s/it]"
     ]
    },
    {
     "name": "stdout",
     "output_type": "stream",
     "text": [
      " Test accuracy:  0.5575\n",
      "\n",
      "correct: 268 total: 469\n",
      "loss: 0.07812225210196427\n",
      " Train accuracy:  0.5714285714285714 | \n"
     ]
    },
    {
     "name": "stderr",
     "output_type": "stream",
     "text": [
      "KAN_MNIST_0_1723829654:  16%|█▌        | 16/100 [1:31:26<8:19:06, 356.51s/it]"
     ]
    },
    {
     "name": "stdout",
     "output_type": "stream",
     "text": [
      " Test accuracy:  0.5773\n",
      "\n",
      "correct: 263 total: 469\n",
      "loss: 0.07920833429230302\n",
      " Train accuracy:  0.5607675906183369 | \n"
     ]
    },
    {
     "name": "stderr",
     "output_type": "stream",
     "text": [
      "KAN_MNIST_0_1723829654:  17%|█▋        | 17/100 [1:37:24<8:13:45, 356.94s/it]"
     ]
    },
    {
     "name": "stdout",
     "output_type": "stream",
     "text": [
      " Test accuracy:  0.5699\n",
      "\n",
      "correct: 265 total: 469\n",
      "loss: 0.08063204859746799\n",
      " Train accuracy:  0.5650319829424307 | \n"
     ]
    },
    {
     "name": "stderr",
     "output_type": "stream",
     "text": [
      "KAN_MNIST_0_1723829654:  18%|█▊        | 18/100 [1:43:23<8:08:56, 357.76s/it]"
     ]
    },
    {
     "name": "stdout",
     "output_type": "stream",
     "text": [
      " Test accuracy:  0.5859\n",
      "\n",
      "correct: 283 total: 469\n",
      "loss: 0.08225935228915611\n",
      " Train accuracy:  0.603411513859275 | \n"
     ]
    },
    {
     "name": "stderr",
     "output_type": "stream",
     "text": [
      "KAN_MNIST_0_1723829654:  19%|█▉        | 19/100 [1:49:26<8:04:56, 359.21s/it]"
     ]
    },
    {
     "name": "stdout",
     "output_type": "stream",
     "text": [
      " Test accuracy:  0.5879\n",
      "\n",
      "correct: 283 total: 469\n",
      "loss: 0.08275687993208228\n",
      " Train accuracy:  0.603411513859275 | \n"
     ]
    },
    {
     "name": "stderr",
     "output_type": "stream",
     "text": [
      "KAN_MNIST_0_1723829654:  20%|██        | 20/100 [1:55:27<7:59:34, 359.68s/it]"
     ]
    },
    {
     "name": "stdout",
     "output_type": "stream",
     "text": [
      " Test accuracy:  0.5954\n",
      "\n",
      "correct: 269 total: 469\n",
      "loss: 0.08338246971114611\n",
      " Train accuracy:  0.5735607675906184 | \n"
     ]
    },
    {
     "name": "stderr",
     "output_type": "stream",
     "text": [
      "KAN_MNIST_0_1723829654:  21%|██        | 21/100 [2:01:29<7:54:29, 360.37s/it]"
     ]
    },
    {
     "name": "stdout",
     "output_type": "stream",
     "text": [
      " Test accuracy:  0.5981\n",
      "\n",
      "correct: 288 total: 469\n",
      "loss: 0.08402040775523766\n",
      " Train accuracy:  0.6140724946695096 | \n"
     ]
    },
    {
     "name": "stderr",
     "output_type": "stream",
     "text": [
      "KAN_MNIST_0_1723829654:  22%|██▏       | 22/100 [2:07:33<7:49:54, 361.47s/it]"
     ]
    },
    {
     "name": "stdout",
     "output_type": "stream",
     "text": [
      " Test accuracy:  0.6046\n",
      "\n",
      "correct: 297 total: 469\n",
      "loss: 0.08460919813179513\n",
      " Train accuracy:  0.6332622601279317 | \n"
     ]
    },
    {
     "name": "stderr",
     "output_type": "stream",
     "text": [
      "KAN_MNIST_0_1723829654:  23%|██▎       | 23/100 [2:13:39<7:45:36, 362.81s/it]"
     ]
    },
    {
     "name": "stdout",
     "output_type": "stream",
     "text": [
      " Test accuracy:  0.6055\n",
      "\n",
      "correct: 279 total: 469\n",
      "loss: 0.08547405814374688\n",
      " Train accuracy:  0.5948827292110874 | \n"
     ]
    },
    {
     "name": "stderr",
     "output_type": "stream",
     "text": [
      "KAN_MNIST_0_1723829654:  24%|██▍       | 24/100 [2:19:45<7:40:54, 363.87s/it]"
     ]
    },
    {
     "name": "stdout",
     "output_type": "stream",
     "text": [
      " Test accuracy:  0.6184\n",
      "\n",
      "correct: 298 total: 469\n",
      "loss: 0.08570986403140432\n",
      " Train accuracy:  0.6353944562899787 | \n"
     ]
    },
    {
     "name": "stderr",
     "output_type": "stream",
     "text": [
      "KAN_MNIST_0_1723829654:  25%|██▌       | 25/100 [2:25:53<7:36:19, 365.06s/it]"
     ]
    },
    {
     "name": "stdout",
     "output_type": "stream",
     "text": [
      " Test accuracy:  0.6263\n",
      "\n",
      "correct: 296 total: 469\n",
      "loss: 0.08619592434117027\n",
      " Train accuracy:  0.6311300639658849 | \n"
     ]
    },
    {
     "name": "stderr",
     "output_type": "stream",
     "text": [
      "KAN_MNIST_0_1723829654:  26%|██▌       | 26/100 [2:33:36<8:06:44, 394.66s/it]"
     ]
    },
    {
     "name": "stdout",
     "output_type": "stream",
     "text": [
      " Test accuracy:  0.6597\n",
      "\n",
      "correct: 310 total: 469\n",
      "loss: 0.10306956236169282\n",
      " Train accuracy:  0.6609808102345416 | \n"
     ]
    },
    {
     "name": "stderr",
     "output_type": "stream",
     "text": [
      "KAN_MNIST_0_1723829654:  27%|██▋       | 27/100 [2:39:49<7:52:04, 388.01s/it]"
     ]
    },
    {
     "name": "stdout",
     "output_type": "stream",
     "text": [
      " Test accuracy:  0.6769\n",
      "\n",
      "correct: 322 total: 469\n",
      "loss: 0.10036791454373138\n",
      " Train accuracy:  0.6865671641791045 | \n"
     ]
    },
    {
     "name": "stderr",
     "output_type": "stream",
     "text": [
      "KAN_MNIST_0_1723829654:  28%|██▊       | 28/100 [2:46:08<7:42:21, 385.29s/it]"
     ]
    },
    {
     "name": "stdout",
     "output_type": "stream",
     "text": [
      " Test accuracy:  0.675\n",
      "\n",
      "correct: 314 total: 469\n",
      "loss: 0.09972865545927588\n",
      " Train accuracy:  0.6695095948827292 | \n"
     ]
    },
    {
     "name": "stderr",
     "output_type": "stream",
     "text": [
      "KAN_MNIST_0_1723829654:  29%|██▉       | 29/100 [2:52:21<7:31:40, 381.69s/it]"
     ]
    },
    {
     "name": "stdout",
     "output_type": "stream",
     "text": [
      " Test accuracy:  0.6814\n",
      "\n",
      "correct: 324 total: 469\n",
      "loss: 0.10007553544443554\n",
      " Train accuracy:  0.6908315565031983 | \n"
     ]
    },
    {
     "name": "stderr",
     "output_type": "stream",
     "text": [
      "KAN_MNIST_0_1723829654:  30%|███       | 30/100 [2:58:35<7:22:28, 379.26s/it]"
     ]
    },
    {
     "name": "stdout",
     "output_type": "stream",
     "text": [
      " Test accuracy:  0.6716\n",
      "\n",
      "correct: 317 total: 469\n",
      "loss: 0.09966400721624716\n",
      " Train accuracy:  0.67590618336887 | \n"
     ]
    },
    {
     "name": "stderr",
     "output_type": "stream",
     "text": [
      "KAN_MNIST_0_1723829654:  31%|███       | 31/100 [3:04:47<7:13:51, 377.26s/it]"
     ]
    },
    {
     "name": "stdout",
     "output_type": "stream",
     "text": [
      " Test accuracy:  0.6846\n",
      "\n",
      "correct: 326 total: 469\n",
      "loss: 0.10022325646966251\n",
      " Train accuracy:  0.6950959488272921 | \n"
     ]
    },
    {
     "name": "stderr",
     "output_type": "stream",
     "text": [
      "KAN_MNIST_0_1723829654:  32%|███▏      | 32/100 [3:11:01<7:06:13, 376.07s/it]"
     ]
    },
    {
     "name": "stdout",
     "output_type": "stream",
     "text": [
      " Test accuracy:  0.6887\n",
      "\n",
      "correct: 334 total: 469\n",
      "loss: 0.10067137875663701\n",
      " Train accuracy:  0.7121535181236673 | \n"
     ]
    },
    {
     "name": "stderr",
     "output_type": "stream",
     "text": [
      "KAN_MNIST_0_1723829654:  33%|███▎      | 33/100 [3:17:13<6:58:38, 374.90s/it]"
     ]
    },
    {
     "name": "stdout",
     "output_type": "stream",
     "text": [
      " Test accuracy:  0.6961\n",
      "\n",
      "correct: 335 total: 469\n",
      "loss: 0.09981569104484403\n",
      " Train accuracy:  0.7142857142857143 | \n"
     ]
    },
    {
     "name": "stderr",
     "output_type": "stream",
     "text": [
      "KAN_MNIST_0_1723829654:  34%|███▍      | 34/100 [3:23:25<6:51:26, 374.04s/it]"
     ]
    },
    {
     "name": "stdout",
     "output_type": "stream",
     "text": [
      " Test accuracy:  0.6818\n",
      "\n",
      "correct: 316 total: 469\n",
      "loss: 0.10064981344030864\n",
      " Train accuracy:  0.673773987206823 | \n"
     ]
    },
    {
     "name": "stderr",
     "output_type": "stream",
     "text": [
      "KAN_MNIST_0_1723829654:  35%|███▌      | 35/100 [3:29:37<6:44:30, 373.39s/it]"
     ]
    },
    {
     "name": "stdout",
     "output_type": "stream",
     "text": [
      " Test accuracy:  0.6947\n",
      "\n",
      "correct: 327 total: 469\n",
      "loss: 0.10023466113216078\n",
      " Train accuracy:  0.697228144989339 | \n"
     ]
    },
    {
     "name": "stderr",
     "output_type": "stream",
     "text": [
      "KAN_MNIST_0_1723829654:  36%|███▌      | 36/100 [3:35:48<6:37:28, 372.63s/it]"
     ]
    },
    {
     "name": "stdout",
     "output_type": "stream",
     "text": [
      " Test accuracy:  0.6897\n",
      "\n",
      "correct: 305 total: 469\n",
      "loss: 0.1016109510620774\n",
      " Train accuracy:  0.650319829424307 | \n"
     ]
    },
    {
     "name": "stderr",
     "output_type": "stream",
     "text": [
      "KAN_MNIST_0_1723829654:  37%|███▋      | 37/100 [3:42:01<6:31:32, 372.89s/it]"
     ]
    },
    {
     "name": "stdout",
     "output_type": "stream",
     "text": [
      " Test accuracy:  0.7001\n",
      "\n",
      "correct: 347 total: 469\n",
      "loss: 0.10205817988305203\n",
      " Train accuracy:  0.7398720682302772 | \n"
     ]
    },
    {
     "name": "stderr",
     "output_type": "stream",
     "text": [
      "KAN_MNIST_0_1723829654:  38%|███▊      | 38/100 [3:48:14<6:25:21, 372.93s/it]"
     ]
    },
    {
     "name": "stdout",
     "output_type": "stream",
     "text": [
      " Test accuracy:  0.7044\n",
      "\n",
      "correct: 332 total: 469\n",
      "loss: 0.10150280413724212\n",
      " Train accuracy:  0.7078891257995735 | \n"
     ]
    },
    {
     "name": "stderr",
     "output_type": "stream",
     "text": [
      "KAN_MNIST_0_1723829654:  39%|███▉      | 39/100 [3:54:29<6:19:34, 373.35s/it]"
     ]
    },
    {
     "name": "stdout",
     "output_type": "stream",
     "text": [
      " Test accuracy:  0.705\n",
      "\n",
      "correct: 346 total: 469\n",
      "loss: 0.10171639974882353\n",
      " Train accuracy:  0.7377398720682303 | \n"
     ]
    },
    {
     "name": "stderr",
     "output_type": "stream",
     "text": [
      "KAN_MNIST_0_1723829654:  40%|████      | 40/100 [4:00:42<6:13:27, 373.47s/it]"
     ]
    },
    {
     "name": "stdout",
     "output_type": "stream",
     "text": [
      " Test accuracy:  0.7058\n",
      "\n",
      "correct: 328 total: 469\n",
      "loss: 0.10107848238843337\n",
      " Train accuracy:  0.6993603411513859 | \n"
     ]
    },
    {
     "name": "stderr",
     "output_type": "stream",
     "text": [
      "KAN_MNIST_0_1723829654:  41%|████      | 41/100 [4:06:58<6:07:55, 374.15s/it]"
     ]
    },
    {
     "name": "stdout",
     "output_type": "stream",
     "text": [
      " Test accuracy:  0.7\n",
      "\n",
      "correct: 330 total: 469\n",
      "loss: 0.10244607633110811\n",
      " Train accuracy:  0.7036247334754797 | \n"
     ]
    },
    {
     "name": "stderr",
     "output_type": "stream",
     "text": [
      "KAN_MNIST_0_1723829654:  42%|████▏     | 42/100 [4:13:15<6:02:35, 375.10s/it]"
     ]
    },
    {
     "name": "stdout",
     "output_type": "stream",
     "text": [
      " Test accuracy:  0.7207\n",
      "\n",
      "correct: 336 total: 469\n",
      "loss: 0.1022973800741279\n",
      " Train accuracy:  0.7164179104477612 | \n"
     ]
    },
    {
     "name": "stderr",
     "output_type": "stream",
     "text": [
      "KAN_MNIST_0_1723829654:  43%|████▎     | 43/100 [4:19:30<5:56:20, 375.10s/it]"
     ]
    },
    {
     "name": "stdout",
     "output_type": "stream",
     "text": [
      " Test accuracy:  0.7163\n",
      "\n",
      "correct: 341 total: 469\n",
      "loss: 0.10242465813594587\n",
      " Train accuracy:  0.7270788912579957 | \n"
     ]
    },
    {
     "name": "stderr",
     "output_type": "stream",
     "text": [
      "KAN_MNIST_0_1723829654:  44%|████▍     | 44/100 [4:25:48<5:50:46, 375.82s/it]"
     ]
    },
    {
     "name": "stdout",
     "output_type": "stream",
     "text": [
      " Test accuracy:  0.7095\n",
      "\n",
      "correct: 356 total: 469\n",
      "loss: 0.1027655572271042\n",
      " Train accuracy:  0.7590618336886994 | \n"
     ]
    },
    {
     "name": "stderr",
     "output_type": "stream",
     "text": [
      "KAN_MNIST_0_1723829654:  45%|████▌     | 45/100 [4:32:06<5:45:06, 376.48s/it]"
     ]
    },
    {
     "name": "stdout",
     "output_type": "stream",
     "text": [
      " Test accuracy:  0.7119\n",
      "\n",
      "correct: 329 total: 469\n",
      "loss: 0.1023208940747196\n",
      " Train accuracy:  0.7014925373134329 | \n"
     ]
    },
    {
     "name": "stderr",
     "output_type": "stream",
     "text": [
      "KAN_MNIST_0_1723829654:  46%|████▌     | 46/100 [4:38:24<5:39:18, 377.02s/it]"
     ]
    },
    {
     "name": "stdout",
     "output_type": "stream",
     "text": [
      " Test accuracy:  0.7151\n",
      "\n",
      "correct: 327 total: 469\n",
      "loss: 0.1027778538146507\n",
      " Train accuracy:  0.697228144989339 | \n"
     ]
    },
    {
     "name": "stderr",
     "output_type": "stream",
     "text": [
      "KAN_MNIST_0_1723829654:  47%|████▋     | 47/100 [4:44:43<5:33:26, 377.48s/it]"
     ]
    },
    {
     "name": "stdout",
     "output_type": "stream",
     "text": [
      " Test accuracy:  0.7251\n",
      "\n",
      "correct: 346 total: 469\n",
      "loss: 0.10302270621633225\n",
      " Train accuracy:  0.7377398720682303 | \n"
     ]
    },
    {
     "name": "stderr",
     "output_type": "stream",
     "text": [
      "KAN_MNIST_0_1723829654:  48%|████▊     | 48/100 [4:51:03<5:27:57, 378.41s/it]"
     ]
    },
    {
     "name": "stdout",
     "output_type": "stream",
     "text": [
      " Test accuracy:  0.7204\n",
      "\n",
      "correct: 342 total: 469\n",
      "loss: 0.10380215137434412\n",
      " Train accuracy:  0.7292110874200426 | \n"
     ]
    },
    {
     "name": "stderr",
     "output_type": "stream",
     "text": [
      "KAN_MNIST_0_1723829654:  49%|████▉     | 49/100 [4:57:25<5:22:28, 379.39s/it]"
     ]
    },
    {
     "name": "stdout",
     "output_type": "stream",
     "text": [
      " Test accuracy:  0.718\n",
      "\n",
      "correct: 333 total: 469\n",
      "loss: 0.10378425188664435\n",
      " Train accuracy:  0.7100213219616205 | \n"
     ]
    },
    {
     "name": "stderr",
     "output_type": "stream",
     "text": [
      "KAN_MNIST_0_1723829654:  50%|█████     | 50/100 [5:03:45<5:16:22, 379.65s/it]"
     ]
    },
    {
     "name": "stdout",
     "output_type": "stream",
     "text": [
      " Test accuracy:  0.7257\n",
      "\n",
      "correct: 355 total: 469\n",
      "loss: 0.10341845629121195\n",
      " Train accuracy:  0.7569296375266524 | \n"
     ]
    },
    {
     "name": "stderr",
     "output_type": "stream",
     "text": [
      "KAN_MNIST_0_1723829654:  51%|█████     | 51/100 [5:10:07<5:10:39, 380.41s/it]"
     ]
    },
    {
     "name": "stdout",
     "output_type": "stream",
     "text": [
      " Test accuracy:  0.7283\n",
      "\n",
      "correct: 321 total: 469\n",
      "loss: 0.10310328173548428\n",
      " Train accuracy:  0.6844349680170576 | \n"
     ]
    },
    {
     "name": "stderr",
     "output_type": "stream",
     "text": [
      "KAN_MNIST_0_1723829654:  52%|█████▏    | 52/100 [5:16:30<5:04:52, 381.10s/it]"
     ]
    },
    {
     "name": "stdout",
     "output_type": "stream",
     "text": [
      " Test accuracy:  0.726\n",
      "\n",
      "correct: 335 total: 469\n",
      "loss: 0.10348963902703226\n",
      " Train accuracy:  0.7142857142857143 | \n"
     ]
    },
    {
     "name": "stderr",
     "output_type": "stream",
     "text": [
      "KAN_MNIST_0_1723829654:  53%|█████▎    | 53/100 [5:22:53<4:58:56, 381.62s/it]"
     ]
    },
    {
     "name": "stdout",
     "output_type": "stream",
     "text": [
      " Test accuracy:  0.7317\n",
      "\n",
      "correct: 351 total: 469\n",
      "loss: 0.10384176376023527\n",
      " Train accuracy:  0.7484008528784648 | \n"
     ]
    },
    {
     "name": "stderr",
     "output_type": "stream",
     "text": [
      "KAN_MNIST_0_1723829654:  54%|█████▍    | 54/100 [5:29:17<4:53:07, 382.34s/it]"
     ]
    },
    {
     "name": "stdout",
     "output_type": "stream",
     "text": [
      " Test accuracy:  0.7276\n",
      "\n",
      "correct: 335 total: 469\n",
      "loss: 0.10473219785037072\n",
      " Train accuracy:  0.7142857142857143 | \n"
     ]
    },
    {
     "name": "stderr",
     "output_type": "stream",
     "text": [
      "KAN_MNIST_0_1723829654:  55%|█████▌    | 55/100 [5:35:44<4:47:50, 383.78s/it]"
     ]
    },
    {
     "name": "stdout",
     "output_type": "stream",
     "text": [
      " Test accuracy:  0.7296\n",
      "\n",
      "correct: 346 total: 469\n",
      "loss: 0.10428968326115151\n",
      " Train accuracy:  0.7377398720682303 | \n"
     ]
    },
    {
     "name": "stderr",
     "output_type": "stream",
     "text": [
      "KAN_MNIST_0_1723829654:  56%|█████▌    | 56/100 [5:42:09<4:41:39, 384.08s/it]"
     ]
    },
    {
     "name": "stdout",
     "output_type": "stream",
     "text": [
      " Test accuracy:  0.7329\n",
      "\n",
      "correct: 330 total: 469\n",
      "loss: 0.10378368789834508\n",
      " Train accuracy:  0.7036247334754797 | \n"
     ]
    },
    {
     "name": "stderr",
     "output_type": "stream",
     "text": [
      "KAN_MNIST_0_1723829654:  57%|█████▋    | 57/100 [5:48:33<4:35:18, 384.14s/it]"
     ]
    },
    {
     "name": "stdout",
     "output_type": "stream",
     "text": [
      " Test accuracy:  0.7317\n",
      "\n",
      "correct: 348 total: 469\n",
      "loss: 0.1051266357811021\n",
      " Train accuracy:  0.7420042643923241 | \n"
     ]
    },
    {
     "name": "stderr",
     "output_type": "stream",
     "text": [
      "KAN_MNIST_0_1723829654:  58%|█████▊    | 58/100 [5:54:57<4:28:46, 383.96s/it]"
     ]
    },
    {
     "name": "stdout",
     "output_type": "stream",
     "text": [
      " Test accuracy:  0.7276\n",
      "\n",
      "correct: 349 total: 469\n",
      "loss: 0.1038859413503838\n",
      " Train accuracy:  0.744136460554371 | \n"
     ]
    },
    {
     "name": "stderr",
     "output_type": "stream",
     "text": [
      "KAN_MNIST_0_1723829654:  59%|█████▉    | 59/100 [6:01:20<4:22:08, 383.63s/it]"
     ]
    },
    {
     "name": "stdout",
     "output_type": "stream",
     "text": [
      " Test accuracy:  0.739\n",
      "\n",
      "correct: 334 total: 469\n",
      "loss: 0.10518799074041818\n",
      " Train accuracy:  0.7121535181236673 | \n"
     ]
    },
    {
     "name": "stderr",
     "output_type": "stream",
     "text": [
      "KAN_MNIST_0_1723829654:  60%|██████    | 60/100 [6:07:45<4:16:01, 384.05s/it]"
     ]
    },
    {
     "name": "stdout",
     "output_type": "stream",
     "text": [
      " Test accuracy:  0.7383\n",
      "\n",
      "correct: 337 total: 469\n",
      "loss: 0.1047672266359014\n",
      " Train accuracy:  0.7185501066098081 | \n"
     ]
    },
    {
     "name": "stderr",
     "output_type": "stream",
     "text": [
      "KAN_MNIST_0_1723829654:  61%|██████    | 61/100 [6:14:08<4:09:26, 383.76s/it]"
     ]
    },
    {
     "name": "stdout",
     "output_type": "stream",
     "text": [
      " Test accuracy:  0.7398\n",
      "\n",
      "correct: 334 total: 469\n",
      "loss: 0.10464307551444975\n",
      " Train accuracy:  0.7121535181236673 | \n"
     ]
    },
    {
     "name": "stderr",
     "output_type": "stream",
     "text": [
      "KAN_MNIST_0_1723829654:  62%|██████▏   | 62/100 [6:20:32<4:03:05, 383.82s/it]"
     ]
    },
    {
     "name": "stdout",
     "output_type": "stream",
     "text": [
      " Test accuracy:  0.7438\n",
      "\n",
      "correct: 338 total: 469\n",
      "loss: 0.10548488266750185\n",
      " Train accuracy:  0.720682302771855 | \n"
     ]
    },
    {
     "name": "stderr",
     "output_type": "stream",
     "text": [
      "KAN_MNIST_0_1723829654:  63%|██████▎   | 63/100 [6:26:58<3:57:08, 384.56s/it]"
     ]
    },
    {
     "name": "stdout",
     "output_type": "stream",
     "text": [
      " Test accuracy:  0.7325\n",
      "\n",
      "correct: 351 total: 469\n",
      "loss: 0.10500566593047653\n",
      " Train accuracy:  0.7484008528784648 | \n"
     ]
    },
    {
     "name": "stderr",
     "output_type": "stream",
     "text": [
      "KAN_MNIST_0_1723829654:  64%|██████▍   | 64/100 [6:33:26<3:51:25, 385.70s/it]"
     ]
    },
    {
     "name": "stdout",
     "output_type": "stream",
     "text": [
      " Test accuracy:  0.7315\n",
      "\n",
      "correct: 353 total: 469\n",
      "loss: 0.10571937251891662\n",
      " Train accuracy:  0.7526652452025586 | \n"
     ]
    },
    {
     "name": "stderr",
     "output_type": "stream",
     "text": [
      "KAN_MNIST_0_1723829654:  65%|██████▌   | 65/100 [6:39:57<3:45:46, 387.05s/it]"
     ]
    },
    {
     "name": "stdout",
     "output_type": "stream",
     "text": [
      " Test accuracy:  0.7405\n",
      "\n",
      "correct: 340 total: 469\n",
      "loss: 0.10558879991838419\n",
      " Train accuracy:  0.7249466950959488 | \n"
     ]
    },
    {
     "name": "stderr",
     "output_type": "stream",
     "text": [
      "KAN_MNIST_0_1723829654:  66%|██████▌   | 66/100 [6:46:26<3:39:42, 387.71s/it]"
     ]
    },
    {
     "name": "stdout",
     "output_type": "stream",
     "text": [
      " Test accuracy:  0.7349\n",
      "\n",
      "correct: 347 total: 469\n",
      "loss: 0.10549778381644535\n",
      " Train accuracy:  0.7398720682302772 | \n"
     ]
    },
    {
     "name": "stderr",
     "output_type": "stream",
     "text": [
      "KAN_MNIST_0_1723829654:  67%|██████▋   | 67/100 [6:52:52<3:32:54, 387.10s/it]"
     ]
    },
    {
     "name": "stdout",
     "output_type": "stream",
     "text": [
      " Test accuracy:  0.7412\n",
      "\n",
      "correct: 346 total: 469\n",
      "loss: 0.1054093668074496\n",
      " Train accuracy:  0.7377398720682303 | \n"
     ]
    },
    {
     "name": "stderr",
     "output_type": "stream",
     "text": [
      "KAN_MNIST_0_1723829654:  68%|██████▊   | 68/100 [6:59:11<3:25:17, 384.91s/it]"
     ]
    },
    {
     "name": "stdout",
     "output_type": "stream",
     "text": [
      " Test accuracy:  0.751\n",
      "\n",
      "correct: 351 total: 469\n",
      "loss: 0.10520561441366098\n",
      " Train accuracy:  0.7484008528784648 | \n"
     ]
    },
    {
     "name": "stderr",
     "output_type": "stream",
     "text": [
      "KAN_MNIST_0_1723829654:  69%|██████▉   | 69/100 [7:05:28<3:17:39, 382.57s/it]"
     ]
    },
    {
     "name": "stdout",
     "output_type": "stream",
     "text": [
      " Test accuracy:  0.7368\n",
      "\n",
      "correct: 352 total: 469\n",
      "loss: 0.10540169282063747\n",
      " Train accuracy:  0.7505330490405118 | \n"
     ]
    },
    {
     "name": "stderr",
     "output_type": "stream",
     "text": [
      "KAN_MNIST_0_1723829654:  70%|███████   | 70/100 [7:11:42<3:09:52, 379.76s/it]"
     ]
    },
    {
     "name": "stdout",
     "output_type": "stream",
     "text": [
      " Test accuracy:  0.7393\n",
      "\n",
      "correct: 360 total: 469\n",
      "loss: 0.10583617712960823\n",
      " Train accuracy:  0.767590618336887 | \n"
     ]
    },
    {
     "name": "stderr",
     "output_type": "stream",
     "text": [
      "KAN_MNIST_0_1723829654:  71%|███████   | 71/100 [7:17:58<3:03:01, 378.68s/it]"
     ]
    },
    {
     "name": "stdout",
     "output_type": "stream",
     "text": [
      " Test accuracy:  0.746\n",
      "\n",
      "correct: 329 total: 469\n",
      "loss: 0.10525929673648338\n",
      " Train accuracy:  0.7014925373134329 | \n"
     ]
    },
    {
     "name": "stderr",
     "output_type": "stream",
     "text": [
      "KAN_MNIST_0_1723829654:  72%|███████▏  | 72/100 [7:24:11<2:56:00, 377.15s/it]"
     ]
    },
    {
     "name": "stdout",
     "output_type": "stream",
     "text": [
      " Test accuracy:  0.7444\n",
      "\n",
      "correct: 344 total: 469\n",
      "loss: 0.10613988986465214\n",
      " Train accuracy:  0.7334754797441365 | \n"
     ]
    },
    {
     "name": "stderr",
     "output_type": "stream",
     "text": [
      "KAN_MNIST_0_1723829654:  73%|███████▎  | 73/100 [7:30:28<2:49:37, 376.95s/it]"
     ]
    },
    {
     "name": "stdout",
     "output_type": "stream",
     "text": [
      " Test accuracy:  0.74\n",
      "\n",
      "correct: 339 total: 469\n",
      "loss: 0.10628025367188809\n",
      " Train accuracy:  0.7228144989339019 | \n"
     ]
    },
    {
     "name": "stderr",
     "output_type": "stream",
     "text": [
      "KAN_MNIST_0_1723829654:  74%|███████▍  | 74/100 [7:36:46<2:43:32, 377.42s/it]"
     ]
    },
    {
     "name": "stdout",
     "output_type": "stream",
     "text": [
      " Test accuracy:  0.7429\n",
      "\n",
      "correct: 347 total: 469\n",
      "loss: 0.10599518114569853\n",
      " Train accuracy:  0.7398720682302772 | \n"
     ]
    },
    {
     "name": "stderr",
     "output_type": "stream",
     "text": [
      "KAN_MNIST_0_1723829654:  75%|███████▌  | 75/100 [7:43:08<2:37:43, 378.54s/it]"
     ]
    },
    {
     "name": "stdout",
     "output_type": "stream",
     "text": [
      " Test accuracy:  0.7425\n",
      "\n",
      "correct: 335 total: 469\n",
      "loss: 0.10715690415614704\n",
      " Train accuracy:  0.7142857142857143 | \n"
     ]
    },
    {
     "name": "stderr",
     "output_type": "stream",
     "text": [
      "KAN_MNIST_0_1723829654:  76%|███████▌  | 76/100 [7:49:29<2:31:42, 379.28s/it]"
     ]
    },
    {
     "name": "stdout",
     "output_type": "stream",
     "text": [
      " Test accuracy:  0.7506\n",
      "\n",
      "correct: 361 total: 469\n",
      "loss: 0.1060847851004936\n",
      " Train accuracy:  0.7697228144989339 | \n"
     ]
    },
    {
     "name": "stderr",
     "output_type": "stream",
     "text": [
      "KAN_MNIST_0_1723829654:  77%|███████▋  | 77/100 [7:55:48<2:25:27, 379.47s/it]"
     ]
    },
    {
     "name": "stdout",
     "output_type": "stream",
     "text": [
      " Test accuracy:  0.7482\n",
      "\n",
      "correct: 356 total: 469\n",
      "loss: 0.10569361880072144\n",
      " Train accuracy:  0.7590618336886994 | \n"
     ]
    },
    {
     "name": "stderr",
     "output_type": "stream",
     "text": [
      "KAN_MNIST_0_1723829654:  78%|███████▊  | 78/100 [8:02:10<2:19:23, 380.14s/it]"
     ]
    },
    {
     "name": "stdout",
     "output_type": "stream",
     "text": [
      " Test accuracy:  0.7501\n",
      "\n",
      "correct: 341 total: 469\n",
      "loss: 0.10615737650440192\n",
      " Train accuracy:  0.7270788912579957 | \n"
     ]
    },
    {
     "name": "stderr",
     "output_type": "stream",
     "text": [
      "KAN_MNIST_0_1723829654:  79%|███████▉  | 79/100 [8:08:35<2:13:31, 381.51s/it]"
     ]
    },
    {
     "name": "stdout",
     "output_type": "stream",
     "text": [
      " Test accuracy:  0.7504\n",
      "\n",
      "correct: 344 total: 469\n",
      "loss: 0.10606469922482586\n",
      " Train accuracy:  0.7334754797441365 | \n"
     ]
    },
    {
     "name": "stderr",
     "output_type": "stream",
     "text": [
      "KAN_MNIST_0_1723829654:  80%|████████  | 80/100 [8:14:57<2:07:15, 381.79s/it]"
     ]
    },
    {
     "name": "stdout",
     "output_type": "stream",
     "text": [
      " Test accuracy:  0.7503\n",
      "\n",
      "correct: 355 total: 469\n",
      "loss: 0.10617669241260617\n",
      " Train accuracy:  0.7569296375266524 | \n"
     ]
    },
    {
     "name": "stderr",
     "output_type": "stream",
     "text": [
      "KAN_MNIST_0_1723829654:  81%|████████  | 81/100 [8:21:15<2:00:30, 380.57s/it]"
     ]
    },
    {
     "name": "stdout",
     "output_type": "stream",
     "text": [
      " Test accuracy:  0.7528\n",
      "\n",
      "correct: 342 total: 469\n",
      "loss: 0.10731468044682098\n",
      " Train accuracy:  0.7292110874200426 | \n"
     ]
    },
    {
     "name": "stderr",
     "output_type": "stream",
     "text": [
      "KAN_MNIST_0_1723829654:  82%|████████▏ | 82/100 [8:27:33<1:53:54, 379.68s/it]"
     ]
    },
    {
     "name": "stdout",
     "output_type": "stream",
     "text": [
      " Test accuracy:  0.7417\n",
      "\n",
      "correct: 360 total: 469\n",
      "loss: 0.10607212773963079\n",
      " Train accuracy:  0.767590618336887 | \n"
     ]
    },
    {
     "name": "stderr",
     "output_type": "stream",
     "text": [
      "KAN_MNIST_0_1723829654:  83%|████████▎ | 83/100 [8:33:51<1:47:29, 379.37s/it]"
     ]
    },
    {
     "name": "stdout",
     "output_type": "stream",
     "text": [
      " Test accuracy:  0.7385\n",
      "\n",
      "correct: 350 total: 469\n",
      "loss: 0.10638851086213899\n",
      " Train accuracy:  0.746268656716418 | \n"
     ]
    },
    {
     "name": "stderr",
     "output_type": "stream",
     "text": [
      "KAN_MNIST_0_1723829654:  84%|████████▍ | 84/100 [8:40:12<1:41:15, 379.71s/it]"
     ]
    },
    {
     "name": "stdout",
     "output_type": "stream",
     "text": [
      " Test accuracy:  0.7515\n",
      "\n",
      "correct: 356 total: 469\n",
      "loss: 0.10603374531909601\n",
      " Train accuracy:  0.7590618336886994 | \n"
     ]
    },
    {
     "name": "stderr",
     "output_type": "stream",
     "text": [
      "KAN_MNIST_0_1723829654:  85%|████████▌ | 85/100 [8:46:31<1:34:55, 379.67s/it]"
     ]
    },
    {
     "name": "stdout",
     "output_type": "stream",
     "text": [
      " Test accuracy:  0.7475\n",
      "\n",
      "correct: 349 total: 469\n",
      "loss: 0.10673729760814578\n",
      " Train accuracy:  0.744136460554371 | \n"
     ]
    },
    {
     "name": "stderr",
     "output_type": "stream",
     "text": [
      "KAN_MNIST_0_1723829654:  86%|████████▌ | 86/100 [8:52:52<1:28:38, 379.90s/it]"
     ]
    },
    {
     "name": "stdout",
     "output_type": "stream",
     "text": [
      " Test accuracy:  0.7557\n",
      "\n",
      "correct: 361 total: 469\n",
      "loss: 0.10707257635621374\n",
      " Train accuracy:  0.7697228144989339 | \n"
     ]
    },
    {
     "name": "stderr",
     "output_type": "stream",
     "text": [
      "KAN_MNIST_0_1723829654:  87%|████████▋ | 87/100 [8:59:13<1:22:22, 380.17s/it]"
     ]
    },
    {
     "name": "stdout",
     "output_type": "stream",
     "text": [
      " Test accuracy:  0.7556\n",
      "\n",
      "correct: 339 total: 469\n",
      "loss: 0.10644049121182102\n",
      " Train accuracy:  0.7228144989339019 | \n"
     ]
    },
    {
     "name": "stderr",
     "output_type": "stream",
     "text": [
      "KAN_MNIST_0_1723829654:  88%|████████▊ | 88/100 [9:05:35<1:16:09, 380.76s/it]"
     ]
    },
    {
     "name": "stdout",
     "output_type": "stream",
     "text": [
      " Test accuracy:  0.7612\n",
      "\n",
      "correct: 355 total: 469\n",
      "loss: 0.10689928379457897\n",
      " Train accuracy:  0.7569296375266524 | \n"
     ]
    },
    {
     "name": "stderr",
     "output_type": "stream",
     "text": [
      "KAN_MNIST_0_1723829654:  89%|████████▉ | 89/100 [9:11:58<1:09:57, 381.56s/it]"
     ]
    },
    {
     "name": "stdout",
     "output_type": "stream",
     "text": [
      " Test accuracy:  0.7523\n",
      "\n",
      "correct: 331 total: 469\n",
      "loss: 0.10674740240645053\n",
      " Train accuracy:  0.7057569296375267 | \n"
     ]
    },
    {
     "name": "stderr",
     "output_type": "stream",
     "text": [
      "KAN_MNIST_0_1723829654:  90%|█████████ | 90/100 [9:18:20<1:03:35, 381.58s/it]"
     ]
    },
    {
     "name": "stdout",
     "output_type": "stream",
     "text": [
      " Test accuracy:  0.7505\n",
      "\n",
      "correct: 335 total: 469\n",
      "loss: 0.10679144482177966\n",
      " Train accuracy:  0.7142857142857143 | \n"
     ]
    },
    {
     "name": "stderr",
     "output_type": "stream",
     "text": [
      "KAN_MNIST_0_1723829654:  91%|█████████ | 91/100 [9:24:41<57:13, 381.46s/it]  "
     ]
    },
    {
     "name": "stdout",
     "output_type": "stream",
     "text": [
      " Test accuracy:  0.7575\n",
      "\n",
      "correct: 344 total: 469\n",
      "loss: 0.10626988966010019\n",
      " Train accuracy:  0.7334754797441365 | \n"
     ]
    },
    {
     "name": "stderr",
     "output_type": "stream",
     "text": [
      "KAN_MNIST_0_1723829654:  92%|█████████▏| 92/100 [9:31:02<50:51, 381.44s/it]"
     ]
    },
    {
     "name": "stdout",
     "output_type": "stream",
     "text": [
      " Test accuracy:  0.7536\n",
      "\n",
      "correct: 351 total: 469\n",
      "loss: 0.10653875213759795\n",
      " Train accuracy:  0.7484008528784648 | \n"
     ]
    },
    {
     "name": "stderr",
     "output_type": "stream",
     "text": [
      "KAN_MNIST_0_1723829654:  93%|█████████▎| 93/100 [9:37:25<44:32, 381.72s/it]"
     ]
    },
    {
     "name": "stdout",
     "output_type": "stream",
     "text": [
      " Test accuracy:  0.7478\n",
      "\n",
      "correct: 360 total: 469\n",
      "loss: 0.10664655579559838\n",
      " Train accuracy:  0.767590618336887 | \n"
     ]
    },
    {
     "name": "stderr",
     "output_type": "stream",
     "text": [
      "KAN_MNIST_0_1723829654:  94%|█████████▍| 94/100 [9:43:49<38:15, 382.60s/it]"
     ]
    },
    {
     "name": "stdout",
     "output_type": "stream",
     "text": [
      " Test accuracy:  0.7569\n",
      "\n",
      "correct: 375 total: 469\n",
      "loss: 0.10707067615632564\n",
      " Train accuracy:  0.7995735607675906 | \n"
     ]
    },
    {
     "name": "stderr",
     "output_type": "stream",
     "text": [
      "KAN_MNIST_0_1723829654:  95%|█████████▌| 95/100 [9:50:13<31:54, 382.85s/it]"
     ]
    },
    {
     "name": "stdout",
     "output_type": "stream",
     "text": [
      " Test accuracy:  0.754\n",
      "\n",
      "correct: 345 total: 469\n",
      "loss: 0.10658550316463909\n",
      " Train accuracy:  0.7356076759061834 | \n"
     ]
    },
    {
     "name": "stderr",
     "output_type": "stream",
     "text": [
      "KAN_MNIST_0_1723829654:  96%|█████████▌| 96/100 [9:56:35<25:30, 382.62s/it]"
     ]
    },
    {
     "name": "stdout",
     "output_type": "stream",
     "text": [
      " Test accuracy:  0.7543\n",
      "\n",
      "correct: 352 total: 469\n",
      "loss: 0.10673951962863458\n",
      " Train accuracy:  0.7505330490405118 | \n"
     ]
    },
    {
     "name": "stderr",
     "output_type": "stream",
     "text": [
      "KAN_MNIST_0_1723829654:  97%|█████████▋| 97/100 [10:02:57<19:07, 382.59s/it]"
     ]
    },
    {
     "name": "stdout",
     "output_type": "stream",
     "text": [
      " Test accuracy:  0.7576\n",
      "\n",
      "correct: 356 total: 469\n",
      "loss: 0.10652822955076628\n",
      " Train accuracy:  0.7590618336886994 | \n"
     ]
    },
    {
     "name": "stderr",
     "output_type": "stream",
     "text": [
      "KAN_MNIST_0_1723829654:  98%|█████████▊| 98/100 [10:09:18<12:43, 381.86s/it]"
     ]
    },
    {
     "name": "stdout",
     "output_type": "stream",
     "text": [
      " Test accuracy:  0.755\n",
      "\n",
      "correct: 349 total: 469\n",
      "loss: 0.1066973883746021\n",
      " Train accuracy:  0.744136460554371 | \n"
     ]
    },
    {
     "name": "stderr",
     "output_type": "stream",
     "text": [
      "KAN_MNIST_0_1723829654:  99%|█████████▉| 99/100 [10:15:38<06:21, 381.40s/it]"
     ]
    },
    {
     "name": "stdout",
     "output_type": "stream",
     "text": [
      " Test accuracy:  0.7568\n",
      "\n",
      "correct: 346 total: 469\n",
      "loss: 0.10768569103563264\n",
      " Train accuracy:  0.7377398720682303 | \n"
     ]
    },
    {
     "name": "stderr",
     "output_type": "stream",
     "text": [
      "KAN_MNIST_0_1723829654: 100%|██████████| 100/100 [10:21:59<00:00, 373.19s/it]"
     ]
    },
    {
     "name": "stdout",
     "output_type": "stream",
     "text": [
      " Test accuracy:  0.7528\n"
     ]
    },
    {
     "name": "stderr",
     "output_type": "stream",
     "text": [
      "\n"
     ]
    },
    {
     "data": {
      "image/png": "[encoded data removed]",
      "text/plain": [
       "<Figure size 1200x500 with 2 Axes>"
      ]
     },
     "metadata": {},
     "output_type": "display_data"
    },
    {
     "data": {
      "image/png": "[encoded data removed]",
      "text/plain": [
       "<Figure size 1200x500 with 2 Axes>"
      ]
     },
     "metadata": {},
     "output_type": "display_data"
    },
    {
     "name": "stdout",
     "output_type": "stream",
     "text": [
      "Final Train Accuracy: 0.74 ± 0.02\n",
      "Final Test Accuracy: 0.75 ± 0.00\n"
     ]
    }
   ],
   "source": [
    "\n",
    "config = {\n",
    "    \"batch_size\": 128,\n",
    "    \"n_epochs\": 100,\n",
    "    \"gamma\": 0.99,\n",
    "    \"learning_rate\": 1e-3, # 0.0005\n",
    "    \"weight_decay\": 1e-4,\n",
    "    \"width\": 16,\n",
    "    \"grid\": 3,\n",
    "    \"method\": \"KAN\",  # \"MLP\", \"KAN\"\n",
    "    \"seed\": 0,\n",
    "    \"input_size\": 8 * 8, # number of features\n",
    "    \"output_size\": 10, # number of classes\n",
    "    \"buffer_size\": 100000,\n",
    "    \"target_update\": 10,\n",
    "    \"warm_up_episodes\": 2,\n",
    "    \"num_filters\": 4,\n",
    "    \"num_conv_layers\": 2,\n",
    "    \"first_channel\": 1, # (1,8,8)\n",
    "    \"hidden_dim\": 128,\n",
    "    \"feature_selection\": True,\n",
    "    \"distribution\": \"beta\", # bernoulli, categorical, gumbel_softmax, gaussian, beta, dirichlet\n",
    "    \"initial_tau\": 1.0, # positive float value\n",
    "\n",
    "}\n",
    "\n",
    "q_network, train_accuracies, test_accuracies, losses, probs_history, feedback_cost_history, train_acc_stds, test_acc_stds, loss_stds, agent = kanRL(config)"
   ]
  },
  {
   "cell_type": "code",
   "execution_count": 7,
   "id": "441090fd",
   "metadata": {
    "execution": {
     "iopub.execute_input": "2024-08-17T03:56:19.163574Z",
     "iopub.status.busy": "2024-08-17T03:56:19.163150Z",
     "iopub.status.idle": "2024-08-17T03:56:31.931520Z",
     "shell.execute_reply": "2024-08-17T03:56:31.930319Z"
    },
    "id": "N2Z7r5_FP9HO",
    "papermill": {
     "duration": 12.807873,
     "end_time": "2024-08-17T03:56:31.933747",
     "exception": false,
     "start_time": "2024-08-17T03:56:19.125874",
     "status": "completed"
    },
    "tags": []
   },
   "outputs": [
    {
     "data": {
      "image/png": "[encoded data removed]",
      "text/plain": [
       "<Figure size 1000x800 with 2 Axes>"
      ]
     },
     "metadata": {},
     "output_type": "display_data"
    }
   ],
   "source": [
    "from sklearn.metrics import confusion_matrix\n",
    "import seaborn as sns\n",
    "\n",
    "y_true = []  # Ground truth labels\n",
    "y_pred = []  # Model predictions\n",
    "\n",
    "# Assuming `test_loader` is your DataLoader for test set\n",
    "with torch.no_grad():\n",
    "    for images, labels in DataLoader(MNIST('./data', train=False, download=True, transform=transforms.Compose([\n",
    "        transforms.Resize((8, 8)),\n",
    "        transforms.ToTensor(),\n",
    "        transforms.Normalize((0.1307,), (0.3081,))\n",
    "    ])), batch_size=config[\"batch_size\"]):\n",
    "        state = images.view(-1,config[\"input_size\"])\n",
    "        if config[\"feature_selection\"] == True:\n",
    "            flat_zoom_X, _, _ = agent(state)\n",
    "            state = flat_zoom_X\n",
    "        outputs = q_network(state)\n",
    "        _, predicted = torch.max(outputs.data, 1)\n",
    "        y_true.extend(labels)\n",
    "        y_pred.extend(predicted)\n",
    "\n",
    "cm = confusion_matrix(y_true, y_pred)\n",
    "plt.figure(figsize=(10, 8))\n",
    "sns.heatmap(cm, annot=True, fmt='d', cmap='Blues')\n",
    "plt.xlabel('Predicted')\n",
    "plt.ylabel('True')\n",
    "plt.title('Confusion Matrix')\n",
    "plt.show()\n"
   ]
  },
  {
   "cell_type": "code",
   "execution_count": 8,
   "id": "2b253e05",
   "metadata": {
    "execution": {
     "iopub.execute_input": "2024-08-17T03:56:32.007986Z",
     "iopub.status.busy": "2024-08-17T03:56:32.007608Z",
     "iopub.status.idle": "2024-08-17T03:56:32.331227Z",
     "shell.execute_reply": "2024-08-17T03:56:32.330152Z"
    },
    "id": "tbLtQhpCKXbh",
    "papermill": {
     "duration": 0.363999,
     "end_time": "2024-08-17T03:56:32.333761",
     "exception": false,
     "start_time": "2024-08-17T03:56:31.969762",
     "status": "completed"
    },
    "tags": []
   },
   "outputs": [
    {
     "name": "stdout",
     "output_type": "stream",
     "text": [
      "              precision    recall  f1-score   support\n",
      "\n",
      "           0       0.83      0.88      0.85       980\n",
      "           1       0.88      0.94      0.91      1135\n",
      "           2       0.71      0.68      0.69      1032\n",
      "           3       0.66      0.68      0.67      1010\n",
      "           4       0.74      0.72      0.73       982\n",
      "           5       0.65      0.73      0.69       892\n",
      "           6       0.81      0.84      0.83       958\n",
      "           7       0.67      0.86      0.76      1028\n",
      "           8       0.76      0.56      0.64       974\n",
      "           9       0.75      0.56      0.64      1009\n",
      "\n",
      "    accuracy                           0.75     10000\n",
      "   macro avg       0.75      0.74      0.74     10000\n",
      "weighted avg       0.75      0.75      0.74     10000\n",
      "\n"
     ]
    }
   ],
   "source": [
    "import sklearn\n",
    "print(sklearn.metrics.classification_report(y_true, y_pred))"
   ]
  },
  {
   "cell_type": "code",
   "execution_count": 9,
   "id": "99691255",
   "metadata": {
    "execution": {
     "iopub.execute_input": "2024-08-17T03:56:32.408432Z",
     "iopub.status.busy": "2024-08-17T03:56:32.407416Z",
     "iopub.status.idle": "2024-08-17T03:56:32.731984Z",
     "shell.execute_reply": "2024-08-17T03:56:32.730871Z"
    },
    "papermill": {
     "duration": 0.364211,
     "end_time": "2024-08-17T03:56:32.734343",
     "exception": false,
     "start_time": "2024-08-17T03:56:32.370132",
     "status": "completed"
    },
    "tags": []
   },
   "outputs": [
    {
     "data": {
      "text/plain": [
       "27037"
      ]
     },
     "execution_count": 9,
     "metadata": {},
     "output_type": "execute_result"
    }
   ],
   "source": [
    "import gc\n",
    "gc.collect()"
   ]
  },
  {
   "cell_type": "code",
   "execution_count": null,
   "id": "75e4fbe3",
   "metadata": {
    "id": "R0XsCwxqqO7h",
    "papermill": {
     "duration": 0.036033,
     "end_time": "2024-08-17T03:56:32.806932",
     "exception": false,
     "start_time": "2024-08-17T03:56:32.770899",
     "status": "completed"
    },
    "tags": []
   },
   "outputs": [],
   "source": []
  },
  {
   "cell_type": "code",
   "execution_count": null,
   "id": "5620e3e8",
   "metadata": {
    "id": "Ht_3aXT-y6-3",
    "papermill": {
     "duration": 0.03595,
     "end_time": "2024-08-17T03:56:32.879220",
     "exception": false,
     "start_time": "2024-08-17T03:56:32.843270",
     "status": "completed"
    },
    "tags": []
   },
   "outputs": [],
   "source": []
  }
 ],
 "metadata": {
  "colab": {
   "collapsed_sections": [
    "h1rKxK7PHeWm",
    "Jy33eRsBSpQu"
   ],
   "provenance": []
  },
  "kaggle": {
   "accelerator": "none",
   "dataSources": [],
   "dockerImageVersionId": 30746,
   "isGpuEnabled": false,
   "isInternetEnabled": true,
   "language": "python",
   "sourceType": "notebook"
  },
  "kernelspec": {
   "display_name": "Python 3",
   "language": "python",
   "name": "python3"
  },
  "language_info": {
   "codemirror_mode": {
    "name": "ipython",
    "version": 3
   },
   "file_extension": ".py",
   "mimetype": "text/x-python",
   "name": "python",
   "nbconvert_exporter": "python",
   "pygments_lexer": "ipython3",
   "version": "3.10.13"
  },
  "papermill": {
   "default_parameters": {},
   "duration": 37420.310388,
   "end_time": "2024-08-17T03:56:36.579234",
   "environment_variables": {},
   "exception": null,
   "input_path": "__notebook__.ipynb",
   "output_path": "__notebook__.ipynb",
   "parameters": {},
   "start_time": "2024-08-16T17:32:56.268846",
   "version": "2.5.0"
  }
 },
 "nbformat": 4,
 "nbformat_minor": 5
}
