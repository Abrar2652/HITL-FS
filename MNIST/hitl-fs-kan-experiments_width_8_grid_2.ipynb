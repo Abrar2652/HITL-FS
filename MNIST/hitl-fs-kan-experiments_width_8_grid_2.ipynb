{
 "cells": [
  {
   "cell_type": "markdown",
   "id": "ee24a2ef",
   "metadata": {
    "id": "EBFD0O5KvH2O",
    "papermill": {
     "duration": 0.010751,
     "end_time": "2024-08-14T17:48:22.150146",
     "exception": false,
     "start_time": "2024-08-14T17:48:22.139395",
     "status": "completed"
    },
    "tags": []
   },
   "source": [
    "## KAN RL"
   ]
  },
  {
   "cell_type": "code",
   "execution_count": 1,
   "id": "0325b9b5",
   "metadata": {
    "execution": {
     "iopub.execute_input": "2024-08-14T17:48:22.172023Z",
     "iopub.status.busy": "2024-08-14T17:48:22.171566Z",
     "iopub.status.idle": "2024-08-14T17:48:59.812920Z",
     "shell.execute_reply": "2024-08-14T17:48:59.811641Z"
    },
    "id": "XVTffDVsx7fD",
    "outputId": "0aa43552-127c-4bdf-e5c7-e7101c57bdc2",
    "papermill": {
     "duration": 37.655416,
     "end_time": "2024-08-14T17:48:59.815656",
     "exception": false,
     "start_time": "2024-08-14T17:48:22.160240",
     "status": "completed"
    },
    "scrolled": true,
    "tags": []
   },
   "outputs": [
    {
     "name": "stdout",
     "output_type": "stream",
     "text": [
      "Collecting moviepy~=1.0.3\r\n",
      "  Downloading moviepy-1.0.3.tar.gz (388 kB)\r\n",
      "\u001b[?25l"
     ]
    },
    {
     "name": "stdout",
     "output_type": "stream",
     "text": [
      "     \u001b[90m━━━━━━━━━━━━━━━━━━━━━━━━━━━━━━━━━━━━━━━━\u001b[0m \u001b[32m0.0/388.3 kB\u001b[0m \u001b[31m?\u001b[0m eta \u001b[36m-:--:--\u001b[0m\r",
      "\u001b[2K     \u001b[91m━━━━━━━━━━━━━━━━━━━━━━━━━━━━━━━━━━━━━\u001b[0m\u001b[90m╺\u001b[0m \u001b[32m378.9/388.3 kB\u001b[0m \u001b[31m13.1 MB/s\u001b[0m eta \u001b[36m0:00:01\u001b[0m"
     ]
    },
    {
     "name": "stdout",
     "output_type": "stream",
     "text": [
      "\r",
      "\u001b[2K     \u001b[90m━━━━━━━━━━━━━━━━━━━━━━━━━━━━━━━━━━━━━━━\u001b[0m \u001b[32m388.3/388.3 kB\u001b[0m \u001b[31m8.0 MB/s\u001b[0m eta \u001b[36m0:00:00\u001b[0m\r\n",
      "\u001b[?25h"
     ]
    },
    {
     "name": "stdout",
     "output_type": "stream",
     "text": [
      "  Preparing metadata (setup.py) ... \u001b[?25l-"
     ]
    },
    {
     "name": "stdout",
     "output_type": "stream",
     "text": [
      "\b \bdone\r\n"
     ]
    },
    {
     "name": "stdout",
     "output_type": "stream",
     "text": [
      "\u001b[?25hRequirement already satisfied: gymnasium in /opt/conda/lib/python3.10/site-packages (0.29.0)\r\n"
     ]
    },
    {
     "name": "stdout",
     "output_type": "stream",
     "text": [
      "Collecting pykan~=0.0.2\r\n",
      "  Downloading pykan-0.0.5-py3-none-any.whl.metadata (13 kB)\r\n"
     ]
    },
    {
     "name": "stdout",
     "output_type": "stream",
     "text": [
      "Collecting decorator<5.0,>=4.0.2 (from moviepy~=1.0.3)\r\n",
      "  Downloading decorator-4.4.2-py2.py3-none-any.whl.metadata (4.2 kB)\r\n"
     ]
    },
    {
     "name": "stdout",
     "output_type": "stream",
     "text": [
      "Requirement already satisfied: tqdm<5.0,>=4.11.2 in /opt/conda/lib/python3.10/site-packages (from moviepy~=1.0.3) (4.66.4)\r\n",
      "Requirement already satisfied: requests<3.0,>=2.8.1 in /opt/conda/lib/python3.10/site-packages (from moviepy~=1.0.3) (2.32.3)\r\n"
     ]
    },
    {
     "name": "stdout",
     "output_type": "stream",
     "text": [
      "Collecting proglog<=1.0.0 (from moviepy~=1.0.3)\r\n",
      "  Downloading proglog-0.1.10-py3-none-any.whl.metadata (639 bytes)\r\n",
      "Requirement already satisfied: numpy>=1.17.3 in /opt/conda/lib/python3.10/site-packages (from moviepy~=1.0.3) (1.26.4)\r\n",
      "Requirement already satisfied: imageio<3.0,>=2.5 in /opt/conda/lib/python3.10/site-packages (from moviepy~=1.0.3) (2.33.1)\r\n"
     ]
    },
    {
     "name": "stdout",
     "output_type": "stream",
     "text": [
      "Collecting imageio_ffmpeg>=0.2.0 (from moviepy~=1.0.3)\r\n",
      "  Downloading imageio_ffmpeg-0.5.1-py3-none-manylinux2010_x86_64.whl.metadata (1.6 kB)\r\n"
     ]
    },
    {
     "name": "stdout",
     "output_type": "stream",
     "text": [
      "Requirement already satisfied: cloudpickle>=1.2.0 in /opt/conda/lib/python3.10/site-packages (from gymnasium) (2.2.1)\r\n",
      "Requirement already satisfied: typing-extensions>=4.3.0 in /opt/conda/lib/python3.10/site-packages (from gymnasium) (4.9.0)\r\n",
      "Requirement already satisfied: farama-notifications>=0.0.1 in /opt/conda/lib/python3.10/site-packages (from gymnasium) (0.0.4)\r\n"
     ]
    },
    {
     "name": "stdout",
     "output_type": "stream",
     "text": [
      "Requirement already satisfied: pillow>=8.3.2 in /opt/conda/lib/python3.10/site-packages (from imageio<3.0,>=2.5->moviepy~=1.0.3) (9.5.0)\r\n"
     ]
    },
    {
     "name": "stdout",
     "output_type": "stream",
     "text": [
      "Requirement already satisfied: setuptools in /opt/conda/lib/python3.10/site-packages (from imageio_ffmpeg>=0.2.0->moviepy~=1.0.3) (69.0.3)\r\n",
      "Requirement already satisfied: charset-normalizer<4,>=2 in /opt/conda/lib/python3.10/site-packages (from requests<3.0,>=2.8.1->moviepy~=1.0.3) (3.3.2)\r\n",
      "Requirement already satisfied: idna<4,>=2.5 in /opt/conda/lib/python3.10/site-packages (from requests<3.0,>=2.8.1->moviepy~=1.0.3) (3.6)\r\n",
      "Requirement already satisfied: urllib3<3,>=1.21.1 in /opt/conda/lib/python3.10/site-packages (from requests<3.0,>=2.8.1->moviepy~=1.0.3) (1.26.18)\r\n",
      "Requirement already satisfied: certifi>=2017.4.17 in /opt/conda/lib/python3.10/site-packages (from requests<3.0,>=2.8.1->moviepy~=1.0.3) (2024.7.4)\r\n"
     ]
    },
    {
     "name": "stdout",
     "output_type": "stream",
     "text": [
      "Downloading pykan-0.0.5-py3-none-any.whl (33 kB)\r\n",
      "Downloading decorator-4.4.2-py2.py3-none-any.whl (9.2 kB)\r\n"
     ]
    },
    {
     "name": "stdout",
     "output_type": "stream",
     "text": [
      "Downloading imageio_ffmpeg-0.5.1-py3-none-manylinux2010_x86_64.whl (26.9 MB)\r\n",
      "\u001b[?25l   \u001b[90m━━━━━━━━━━━━━━━━━━━━━━━━━━━━━━━━━━━━━━━━\u001b[0m \u001b[32m0.0/26.9 MB\u001b[0m \u001b[31m?\u001b[0m eta \u001b[36m-:--:--\u001b[0m"
     ]
    },
    {
     "name": "stdout",
     "output_type": "stream",
     "text": [
      "\r",
      "\u001b[2K   \u001b[91m━━━━━\u001b[0m\u001b[91m╸\u001b[0m\u001b[90m━━━━━━━━━━━━━━━━━━━━━━━━━━━━━━━━━━\u001b[0m \u001b[32m4.0/26.9 MB\u001b[0m \u001b[31m121.3 MB/s\u001b[0m eta \u001b[36m0:00:01\u001b[0m\r",
      "\u001b[2K   \u001b[91m━━━━━━━━━━━━━\u001b[0m\u001b[90m╺\u001b[0m\u001b[90m━━━━━━━━━━━━━━━━━━━━━━━━━━\u001b[0m \u001b[32m9.0/26.9 MB\u001b[0m \u001b[31m128.5 MB/s\u001b[0m eta \u001b[36m0:00:01\u001b[0m"
     ]
    },
    {
     "name": "stdout",
     "output_type": "stream",
     "text": [
      "\r",
      "\u001b[2K   \u001b[91m━━━━━━━━━━━━━━━━━━━━\u001b[0m\u001b[90m╺\u001b[0m\u001b[90m━━━━━━━━━━━━━━━━━━━\u001b[0m \u001b[32m13.7/26.9 MB\u001b[0m \u001b[31m131.6 MB/s\u001b[0m eta \u001b[36m0:00:01\u001b[0m"
     ]
    },
    {
     "name": "stdout",
     "output_type": "stream",
     "text": [
      "\r",
      "\u001b[2K   \u001b[91m━━━━━━━━━━━━━━━━━━━━━━━━━\u001b[0m\u001b[91m╸\u001b[0m\u001b[90m━━━━━━━━━━━━━━\u001b[0m \u001b[32m17.2/26.9 MB\u001b[0m \u001b[31m115.4 MB/s\u001b[0m eta \u001b[36m0:00:01\u001b[0m"
     ]
    },
    {
     "name": "stdout",
     "output_type": "stream",
     "text": [
      "\r",
      "\u001b[2K   \u001b[91m━━━━━━━━━━━━━━━━━━━━━━━━━━━━━━\u001b[0m\u001b[91m╸\u001b[0m\u001b[90m━━━━━━━━━\u001b[0m \u001b[32m20.7/26.9 MB\u001b[0m \u001b[31m104.7 MB/s\u001b[0m eta \u001b[36m0:00:01\u001b[0m\r",
      "\u001b[2K   \u001b[91m━━━━━━━━━━━━━━━━━━━━━━━━━━━━━━━━━━━━━━\u001b[0m\u001b[90m╺\u001b[0m\u001b[90m━\u001b[0m \u001b[32m25.7/26.9 MB\u001b[0m \u001b[31m110.5 MB/s\u001b[0m eta \u001b[36m0:00:01\u001b[0m"
     ]
    },
    {
     "name": "stdout",
     "output_type": "stream",
     "text": [
      "\r",
      "\u001b[2K   \u001b[91m━━━━━━━━━━━━━━━━━━━━━━━━━━━━━━━━━━━━━━━\u001b[0m\u001b[91m╸\u001b[0m \u001b[32m26.9/26.9 MB\u001b[0m \u001b[31m112.0 MB/s\u001b[0m eta \u001b[36m0:00:01\u001b[0m"
     ]
    },
    {
     "name": "stdout",
     "output_type": "stream",
     "text": [
      "\r",
      "\u001b[2K   \u001b[91m━━━━━━━━━━━━━━━━━━━━━━━━━━━━━━━━━━━━━━━\u001b[0m\u001b[91m╸\u001b[0m \u001b[32m26.9/26.9 MB\u001b[0m \u001b[31m112.0 MB/s\u001b[0m eta \u001b[36m0:00:01\u001b[0m"
     ]
    },
    {
     "name": "stdout",
     "output_type": "stream",
     "text": [
      "\r",
      "\u001b[2K   \u001b[91m━━━━━━━━━━━━━━━━━━━━━━━━━━━━━━━━━━━━━━━\u001b[0m\u001b[91m╸\u001b[0m \u001b[32m26.9/26.9 MB\u001b[0m \u001b[31m112.0 MB/s\u001b[0m eta \u001b[36m0:00:01\u001b[0m\r",
      "\u001b[2K   \u001b[91m━━━━━━━━━━━━━━━━━━━━━━━━━━━━━━━━━━━━━━━\u001b[0m\u001b[91m╸\u001b[0m \u001b[32m26.9/26.9 MB\u001b[0m \u001b[31m112.0 MB/s\u001b[0m eta \u001b[36m0:00:01\u001b[0m\r",
      "\u001b[2K   \u001b[90m━━━━━━━━━━━━━━━━━━━━━━━━━━━━━━━━━━━━━━━━\u001b[0m \u001b[32m26.9/26.9 MB\u001b[0m \u001b[31m41.3 MB/s\u001b[0m eta \u001b[36m0:00:00\u001b[0m\r\n",
      "\u001b[?25h"
     ]
    },
    {
     "name": "stdout",
     "output_type": "stream",
     "text": [
      "Downloading proglog-0.1.10-py3-none-any.whl (6.1 kB)\r\n"
     ]
    },
    {
     "name": "stdout",
     "output_type": "stream",
     "text": [
      "Building wheels for collected packages: moviepy\r\n"
     ]
    },
    {
     "name": "stdout",
     "output_type": "stream",
     "text": [
      "  Building wheel for moviepy (setup.py) ... \u001b[?25l-"
     ]
    },
    {
     "name": "stdout",
     "output_type": "stream",
     "text": [
      "\b \b\\"
     ]
    },
    {
     "name": "stdout",
     "output_type": "stream",
     "text": [
      "\b \bdone\r\n",
      "\u001b[?25h  Created wheel for moviepy: filename=moviepy-1.0.3-py3-none-any.whl size=110720 sha256=4f00d89cfedb656e0ceca932a7aff4be62a2cd7cc3fa72c16996043bc34ee625\r\n",
      "  Stored in directory: /root/.cache/pip/wheels/96/32/2d/e10123bd88fbfc02fed53cc18c80a171d3c87479ed845fa7c1\r\n",
      "Successfully built moviepy\r\n"
     ]
    },
    {
     "name": "stdout",
     "output_type": "stream",
     "text": [
      "Installing collected packages: pykan, proglog, imageio_ffmpeg, decorator, moviepy\r\n"
     ]
    },
    {
     "name": "stdout",
     "output_type": "stream",
     "text": [
      "  Attempting uninstall: decorator\r\n",
      "    Found existing installation: decorator 5.1.1\r\n"
     ]
    },
    {
     "name": "stdout",
     "output_type": "stream",
     "text": [
      "    Uninstalling decorator-5.1.1:\r\n"
     ]
    },
    {
     "name": "stdout",
     "output_type": "stream",
     "text": [
      "      Successfully uninstalled decorator-5.1.1\r\n"
     ]
    },
    {
     "name": "stdout",
     "output_type": "stream",
     "text": [
      "Successfully installed decorator-4.4.2 imageio_ffmpeg-0.5.1 moviepy-1.0.3 proglog-0.1.10 pykan-0.0.5\r\n"
     ]
    }
   ],
   "source": [
    "!pip install moviepy~=1.0.3 gymnasium pykan~=0.0.2"
   ]
  },
  {
   "cell_type": "markdown",
   "id": "34889db9",
   "metadata": {
    "id": "FabcDsA3HkTd",
    "papermill": {
     "duration": 0.012663,
     "end_time": "2024-08-14T17:48:59.841623",
     "exception": false,
     "start_time": "2024-08-14T17:48:59.828960",
     "status": "completed"
    },
    "tags": []
   },
   "source": [
    "## Models"
   ]
  },
  {
   "cell_type": "code",
   "execution_count": 2,
   "id": "a3ea5b96",
   "metadata": {
    "cellView": "form",
    "execution": {
     "iopub.execute_input": "2024-08-14T17:48:59.870017Z",
     "iopub.status.busy": "2024-08-14T17:48:59.869615Z",
     "iopub.status.idle": "2024-08-14T17:49:11.651554Z",
     "shell.execute_reply": "2024-08-14T17:49:11.650361Z"
    },
    "id": "_fBdXsX3exWw",
    "outputId": "e029fcfa-1731-4017-a88c-e65bebc5bb4f",
    "papermill": {
     "duration": 11.799539,
     "end_time": "2024-08-14T17:49:11.654264",
     "exception": false,
     "start_time": "2024-08-14T17:48:59.854725",
     "status": "completed"
    },
    "scrolled": true,
    "tags": []
   },
   "outputs": [
    {
     "name": "stdout",
     "output_type": "stream",
     "text": [
      "Downloading http://yann.lecun.com/exdb/mnist/train-images-idx3-ubyte.gz\n"
     ]
    },
    {
     "name": "stdout",
     "output_type": "stream",
     "text": [
      "Failed to download (trying next):\n",
      "HTTP Error 403: Forbidden\n",
      "\n",
      "Downloading https://ossci-datasets.s3.amazonaws.com/mnist/train-images-idx3-ubyte.gz\n"
     ]
    },
    {
     "name": "stdout",
     "output_type": "stream",
     "text": [
      "Downloading https://ossci-datasets.s3.amazonaws.com/mnist/train-images-idx3-ubyte.gz to ./data/MNIST/raw/train-images-idx3-ubyte.gz\n"
     ]
    },
    {
     "name": "stderr",
     "output_type": "stream",
     "text": [
      "\r",
      "  0%|          | 0/9912422 [00:00<?, ?it/s]"
     ]
    },
    {
     "name": "stderr",
     "output_type": "stream",
     "text": [
      "\r",
      "  1%|          | 65536/9912422 [00:00<00:19, 495103.34it/s]"
     ]
    },
    {
     "name": "stderr",
     "output_type": "stream",
     "text": [
      "\r",
      "  3%|▎         | 294912/9912422 [00:00<00:07, 1205207.02it/s]"
     ]
    },
    {
     "name": "stderr",
     "output_type": "stream",
     "text": [
      "\r",
      " 11%|█         | 1081344/9912422 [00:00<00:02, 3308504.86it/s]"
     ]
    },
    {
     "name": "stderr",
     "output_type": "stream",
     "text": [
      "\r",
      " 43%|████▎     | 4227072/9912422 [00:00<00:00, 11164117.01it/s]"
     ]
    },
    {
     "name": "stderr",
     "output_type": "stream",
     "text": [
      "\r",
      "100%|█████████▉| 9895936/9912422 [00:00<00:00, 22194468.75it/s]"
     ]
    },
    {
     "name": "stderr",
     "output_type": "stream",
     "text": [
      "\r",
      "100%|██████████| 9912422/9912422 [00:00<00:00, 14571617.97it/s]"
     ]
    },
    {
     "name": "stderr",
     "output_type": "stream",
     "text": [
      "\n"
     ]
    },
    {
     "name": "stdout",
     "output_type": "stream",
     "text": [
      "Extracting ./data/MNIST/raw/train-images-idx3-ubyte.gz to ./data/MNIST/raw\n"
     ]
    },
    {
     "name": "stdout",
     "output_type": "stream",
     "text": [
      "\n",
      "Downloading http://yann.lecun.com/exdb/mnist/train-labels-idx1-ubyte.gz\n"
     ]
    },
    {
     "name": "stdout",
     "output_type": "stream",
     "text": [
      "Failed to download (trying next):\n",
      "HTTP Error 403: Forbidden\n",
      "\n",
      "Downloading https://ossci-datasets.s3.amazonaws.com/mnist/train-labels-idx1-ubyte.gz\n"
     ]
    },
    {
     "name": "stdout",
     "output_type": "stream",
     "text": [
      "Downloading https://ossci-datasets.s3.amazonaws.com/mnist/train-labels-idx1-ubyte.gz to ./data/MNIST/raw/train-labels-idx1-ubyte.gz\n"
     ]
    },
    {
     "name": "stderr",
     "output_type": "stream",
     "text": [
      "\r",
      "  0%|          | 0/28881 [00:00<?, ?it/s]"
     ]
    },
    {
     "name": "stderr",
     "output_type": "stream",
     "text": [
      "\r",
      "100%|██████████| 28881/28881 [00:00<00:00, 439346.34it/s]"
     ]
    },
    {
     "name": "stderr",
     "output_type": "stream",
     "text": [
      "\n"
     ]
    },
    {
     "name": "stdout",
     "output_type": "stream",
     "text": [
      "Extracting ./data/MNIST/raw/train-labels-idx1-ubyte.gz to ./data/MNIST/raw\n",
      "\n",
      "Downloading http://yann.lecun.com/exdb/mnist/t10k-images-idx3-ubyte.gz\n"
     ]
    },
    {
     "name": "stdout",
     "output_type": "stream",
     "text": [
      "Failed to download (trying next):\n",
      "HTTP Error 403: Forbidden\n",
      "\n",
      "Downloading https://ossci-datasets.s3.amazonaws.com/mnist/t10k-images-idx3-ubyte.gz\n"
     ]
    },
    {
     "name": "stdout",
     "output_type": "stream",
     "text": [
      "Downloading https://ossci-datasets.s3.amazonaws.com/mnist/t10k-images-idx3-ubyte.gz to ./data/MNIST/raw/t10k-images-idx3-ubyte.gz\n"
     ]
    },
    {
     "name": "stderr",
     "output_type": "stream",
     "text": [
      "\r",
      "  0%|          | 0/1648877 [00:00<?, ?it/s]"
     ]
    },
    {
     "name": "stderr",
     "output_type": "stream",
     "text": [
      "\r",
      "  4%|▍         | 65536/1648877 [00:00<00:03, 490923.54it/s]"
     ]
    },
    {
     "name": "stderr",
     "output_type": "stream",
     "text": [
      "\r",
      " 16%|█▌        | 262144/1648877 [00:00<00:01, 1058222.64it/s]"
     ]
    },
    {
     "name": "stderr",
     "output_type": "stream",
     "text": [
      "\r",
      " 62%|██████▏   | 1015808/1648877 [00:00<00:00, 3164545.81it/s]"
     ]
    },
    {
     "name": "stderr",
     "output_type": "stream",
     "text": [
      "\r",
      "100%|██████████| 1648877/1648877 [00:00<00:00, 4027836.18it/s]"
     ]
    },
    {
     "name": "stderr",
     "output_type": "stream",
     "text": [
      "\n"
     ]
    },
    {
     "name": "stdout",
     "output_type": "stream",
     "text": [
      "Extracting ./data/MNIST/raw/t10k-images-idx3-ubyte.gz to ./data/MNIST/raw\n",
      "\n",
      "Downloading http://yann.lecun.com/exdb/mnist/t10k-labels-idx1-ubyte.gz\n"
     ]
    },
    {
     "name": "stdout",
     "output_type": "stream",
     "text": [
      "Failed to download (trying next):\n",
      "HTTP Error 403: Forbidden\n",
      "\n",
      "Downloading https://ossci-datasets.s3.amazonaws.com/mnist/t10k-labels-idx1-ubyte.gz\n"
     ]
    },
    {
     "name": "stdout",
     "output_type": "stream",
     "text": [
      "Downloading https://ossci-datasets.s3.amazonaws.com/mnist/t10k-labels-idx1-ubyte.gz to ./data/MNIST/raw/t10k-labels-idx1-ubyte.gz\n"
     ]
    },
    {
     "name": "stderr",
     "output_type": "stream",
     "text": [
      "\r",
      "  0%|          | 0/4542 [00:00<?, ?it/s]"
     ]
    },
    {
     "name": "stderr",
     "output_type": "stream",
     "text": [
      "\r",
      "100%|██████████| 4542/4542 [00:00<00:00, 1821622.56it/s]"
     ]
    },
    {
     "name": "stderr",
     "output_type": "stream",
     "text": [
      "\n"
     ]
    },
    {
     "name": "stdout",
     "output_type": "stream",
     "text": [
      "Extracting ./data/MNIST/raw/t10k-labels-idx1-ubyte.gz to ./data/MNIST/raw\n",
      "\n"
     ]
    },
    {
     "name": "stdout",
     "output_type": "stream",
     "text": [
      "State shape: torch.Size([1, 8, 8])\n",
      "Label: tensor(5)\n",
      "Feedback shape: torch.Size([1, 8, 8])\n"
     ]
    },
    {
     "data": {
      "image/png": "[encoded data removed]",
      "text/plain": [
       "<Figure size 1000x500 with 2 Axes>"
      ]
     },
     "metadata": {},
     "output_type": "display_data"
    },
    {
     "name": "stdout",
     "output_type": "stream",
     "text": [
      "tensor(0.4404) tensor(1.)\n"
     ]
    }
   ],
   "source": [
    "# @title\n",
    "\n",
    "import torch\n",
    "from torchvision import transforms\n",
    "from torchvision.datasets import MNIST\n",
    "from torch.utils.data import DataLoader\n",
    "import numpy as np\n",
    "from scipy.ndimage import gaussian_filter\n",
    "import matplotlib.pyplot as plt\n",
    "\n",
    "class MNISTEnvironment:\n",
    "    def __init__(self, batch_size, image_size=(8, 8), feedback_sigma=5.0):\n",
    "        self.batch_size = batch_size\n",
    "        self.image_size = image_size\n",
    "        self.feedback_sigma = feedback_sigma\n",
    "        self.transform = transforms.Compose([\n",
    "            transforms.Resize(image_size),\n",
    "            transforms.ToTensor(),\n",
    "            transforms.Normalize((0.1307,), (0.3081,))\n",
    "        ])\n",
    "        dataset = MNIST('./data', train=True, download=True, transform=self.transform)\n",
    "        self.loader = DataLoader(dataset, batch_size=batch_size, shuffle=True)\n",
    "        self.iterator = iter(self.loader)\n",
    "        self.reset()\n",
    "\n",
    "    def reset(self):\n",
    "        try:\n",
    "            self.current_batch = next(self.iterator)\n",
    "        except StopIteration:\n",
    "            self.iterator = iter(self.loader)\n",
    "            self.current_batch = next(self.iterator)\n",
    "        self.idx = 0\n",
    "\n",
    "    def step(self):\n",
    "        images, labels = self.current_batch\n",
    "        if self.idx >= len(images):\n",
    "            self.reset()\n",
    "            return self.step()\n",
    "        state = images[self.idx]\n",
    "        label = labels[self.idx]\n",
    "        feedback = self.generate_simulated_feedback(state.unsqueeze(0))\n",
    "        self.idx += 1\n",
    "        return state, label, feedback\n",
    "\n",
    "    def generate_simulated_feedback(self, image_tensor):\n",
    "        image_np = image_tensor.squeeze().numpy()\n",
    "\n",
    "        image_np = (image_np - np.min(image_np)) / (np.max(image_np) - np.min(image_np))\n",
    "\n",
    "        center_of_mass = np.array(np.unravel_index(np.argmax(image_np), image_np.shape))\n",
    "\n",
    "        x, y = np.meshgrid(np.arange(image_np.shape[1]), np.arange(image_np.shape[0]))\n",
    "        gaussian_mask = np.exp(-((x - center_of_mass[1])**2 + (y - center_of_mass[0])**2) / (2 * self.feedback_sigma**2))\n",
    "\n",
    "        feedback = gaussian_mask / np.max(gaussian_mask)\n",
    "        return torch.tensor(feedback, dtype=torch.float32).view(1, *feedback.shape)\n",
    "\n",
    "\n",
    "def plot_images(normal_image, feedback_image):\n",
    "    # Convert tensors to numpy arrays\n",
    "    normal_image_np = normal_image.squeeze().numpy()\n",
    "    feedback_image_np = feedback_image.squeeze().numpy()\n",
    "\n",
    "    # Create subplots\n",
    "    fig, axes = plt.subplots(1, 2, figsize=(10, 5))\n",
    "\n",
    "    # Plot normal image\n",
    "    axes[0].imshow(normal_image_np, cmap='gray')\n",
    "    axes[0].set_title('Normal Image')\n",
    "    axes[0].axis('off')\n",
    "\n",
    "    # Plot feedback image\n",
    "    axes[1].imshow(feedback_image_np, cmap='hot')  # Using 'jet' colormap to visualize feedback\n",
    "    axes[1].set_title('Simulated Feedback')\n",
    "    axes[1].axis('off')\n",
    "\n",
    "    plt.show()\n",
    "\n",
    "\n",
    "# Example usage:\n",
    "if __name__ == \"__main__\":\n",
    "    env = MNISTEnvironment(batch_size=128, feedback_sigma=5.0)\n",
    "    state, label, feedback = env.step()\n",
    "    print(\"State shape:\", state.shape)\n",
    "    print(\"Label:\", label)\n",
    "    print(\"Feedback shape:\", feedback.shape)\n",
    "    plot_images(state, feedback)\n",
    "    print(feedback.min(), feedback.max())"
   ]
  },
  {
   "cell_type": "code",
   "execution_count": 3,
   "id": "e3dce368",
   "metadata": {
    "execution": {
     "iopub.execute_input": "2024-08-14T17:49:11.690625Z",
     "iopub.status.busy": "2024-08-14T17:49:11.690095Z",
     "iopub.status.idle": "2024-08-14T17:49:11.764515Z",
     "shell.execute_reply": "2024-08-14T17:49:11.763314Z"
    },
    "id": "t-FwA8zsgrIV",
    "outputId": "0d38dddd-7cd9-4baf-b6c3-9d79d92f340b",
    "papermill": {
     "duration": 0.096198,
     "end_time": "2024-08-14T17:49:11.767176",
     "exception": false,
     "start_time": "2024-08-14T17:49:11.670978",
     "status": "completed"
    },
    "tags": []
   },
   "outputs": [
    {
     "name": "stdout",
     "output_type": "stream",
     "text": [
      "FSNet(\n",
      "  (feature_extractor): Sequential(\n",
      "    (0): Conv2d(1, 8, kernel_size=(3, 3), stride=(1, 1), padding=(1, 1))\n",
      "    (1): ReLU()\n",
      "    (2): MaxPool2d(kernel_size=2, stride=2, padding=0, dilation=1, ceil_mode=False)\n",
      "    (3): Conv2d(8, 16, kernel_size=(3, 3), stride=(1, 1), padding=(1, 1))\n",
      "    (4): ReLU()\n",
      "    (5): MaxPool2d(kernel_size=2, stride=2, padding=0, dilation=1, ceil_mode=False)\n",
      "    (6): Flatten(start_dim=1, end_dim=-1)\n",
      "  )\n",
      "  (fc1): Linear(in_features=64, out_features=128, bias=True)\n",
      "  (relu): ReLU()\n",
      "  (dropout): Dropout(p=0.25, inplace=False)\n",
      "  (fc2): Linear(in_features=128, out_features=64, bias=True)\n",
      "  (sigmoid): Sigmoid()\n",
      "  (softmax): Softmax(dim=-1)\n",
      ")\n",
      "torch.Size([1, 64])\n"
     ]
    }
   ],
   "source": [
    "# @title\n",
    "import torch\n",
    "import torch.nn as nn\n",
    "import torch.nn.functional as F\n",
    "import torch.optim as optim\n",
    "import torch.distributions as dist\n",
    "from torch.optim.lr_scheduler import ExponentialLR\n",
    "\n",
    "class FSNet(nn.Module):\n",
    "    def __init__(self, input_shape, num_filters, num_conv_layers=3, hidden_dim=128, distribution=None, tau=1.0):\n",
    "        super(FSNet, self).__init__()\n",
    "\n",
    "        self.distribution = distribution\n",
    "        self.global_step = 0\n",
    "        self.initial_tau = tau\n",
    "        self.tau_decay = 0.96  # Exponential decay rate\n",
    "\n",
    "        layers = []\n",
    "        in_channels = input_shape[0]\n",
    "        channels = []\n",
    "\n",
    "        for i in range(num_conv_layers):\n",
    "            num_filters *= 2\n",
    "            channels.append(num_filters)\n",
    "\n",
    "        for i in range(num_conv_layers):\n",
    "            # For a convolutional layer to keep the input and output shapes the same: P = (K-1)/2 with S = 1\n",
    "            layers.append(nn.Conv2d(in_channels=in_channels, out_channels=channels[i], kernel_size=3, padding=1, stride=1))\n",
    "            layers.append(nn.ReLU())\n",
    "            # Each MaxPool2d layer with kernel size 2 and stride 2 will halve the height and width of the feature maps.\n",
    "            layers.append(nn.MaxPool2d(2, 2))\n",
    "            in_channels = channels[i]\n",
    "\n",
    "        layers.append(nn.Flatten())\n",
    "        self.feature_extractor = nn.Sequential(*layers)\n",
    "\n",
    "        # Dummy forward pass to determine the output size of the feature extractor\n",
    "        dummy_input = torch.empty(1, *input_shape)\n",
    "        n_features = self.feature_extractor(dummy_input).shape[1]\n",
    "        # print(n_features)\n",
    "\n",
    "        self.fc1 = nn.Linear(n_features, hidden_dim)\n",
    "        self.relu = nn.ReLU()\n",
    "        self.dropout = nn.Dropout(0.25)\n",
    "        self.fc2 = nn.Linear(hidden_dim, n_features)\n",
    "        self.sigmoid = nn.Sigmoid()\n",
    "        self.softmax = nn.Softmax(dim=-1)\n",
    "\n",
    "        # Storage for probabilities and feedback costs\n",
    "        self.probs_history = []\n",
    "        self.feedback_cost_history = []\n",
    "\n",
    "\n",
    "    def forward(self, x, feedback=None, epoch=0, n_epochs=None):\n",
    "        x = x.view(-1, 1, input_shape[1], input_shape[2])\n",
    "        features = self.feature_extractor(x)\n",
    "\n",
    "        x = self.relu(self.fc1(features))\n",
    "        probs_logits = self.relu(self.fc2(x))\n",
    "        probs = self.sigmoid(probs_logits)\n",
    "\n",
    "        # Apply the simulated feedback as a weight to the feature selection\n",
    "        if feedback is None:\n",
    "            feedback = probs # so that mse_loss becomes 0 if no feedback is fed\n",
    "        else:\n",
    "            pass\n",
    "\n",
    "        # Use distribution as weight of the features\n",
    "        if self.distribution == 'bernoulli':\n",
    "            mask = torch.distributions.Bernoulli(logits=probs_logits)\n",
    "            sample_probs = mask.sample()\n",
    "        if self.distribution == 'gumbel_softmax':\n",
    "            tau = self.initial_tau * (self.tau_decay ** epoch)\n",
    "            mask = F.gumbel_softmax(logits=probs_logits, tau=tau, hard=False)\n",
    "            sample_probs = mask\n",
    "        if self.distribution == 'gaussian':\n",
    "            mu = probs_logits  # or some transformation of probs_logits\n",
    "            sigma = torch.ones_like(mu)  # Standard deviation\n",
    "            gaussian_dist = torch.distributions.Normal(mu, sigma)\n",
    "            sample_probs = gaussian_dist.rsample()  # Use rsample for the reparameterization trick\n",
    "        if self.distribution == 'beta':\n",
    "            alpha = F.softplus(probs_logits) + 1\n",
    "            beta = F.softplus(probs_logits) + 1\n",
    "            beta_dist = torch.distributions.Beta(alpha, beta)\n",
    "            sample_probs = beta_dist.sample()\n",
    "        if self.distribution == 'dirichlet':\n",
    "            concentration = F.softplus(probs_logits) + 1  # Ensuring positive values\n",
    "            dirichlet_dist = torch.distributions.Dirichlet(concentration)\n",
    "            sample_probs = dirichlet_dist.sample()\n",
    "        elif self.distribution == 'multinomial':\n",
    "            logits = probs_logits  # Logits for the multinomial distribution\n",
    "            mask = torch.distributions.Multinomial(logits=logits)\n",
    "            sample_probs = mask.sample()\n",
    "        elif self.distribution == 'laplace':\n",
    "            loc = probs_logits  # Mean of the logistic distribution\n",
    "            scale = torch.ones_like(loc)  # Scale parameter\n",
    "            laplace_dist = torch.distributions.Laplace(loc, scale)\n",
    "            sample_probs = laplace_dist.sample()\n",
    "        elif self.distribution == 'cauchy':\n",
    "            loc = probs_logits  # Mean of the logistic distribution\n",
    "            scale = torch.ones_like(loc)  # Scale parameter\n",
    "            cauchy_dist = torch.distributions.Cauchy(loc, scale)\n",
    "            sample_probs = cauchy_dist.sample()\n",
    "        elif self.distribution == 'uniform':\n",
    "            low = torch.zeros_like(probs_logits)  # Lower bound\n",
    "            high = torch.ones_like(probs_logits)  # Upper bound\n",
    "            uniform_dist = torch.distributions.Uniform(low, high)\n",
    "            sample_probs = uniform_dist.sample()            \n",
    "\n",
    "        # print(sample_probs.shape)\n",
    "\n",
    "        feedback_cost = F.mse_loss(probs, feedback)\n",
    "\n",
    "        flat_zoom_X = features * sample_probs\n",
    "\n",
    "        return flat_zoom_X, feedback_cost, probs\n",
    "\n",
    "\n",
    "# Example usage:\n",
    "input_shape = (1, 8, 8)  # Change this to the desired input shape\n",
    "num_conv_layers = 2  # Specify the desired number of convolutional layers\n",
    "num_filters = 4 # [2,4], [3,8]\n",
    "model = FSNet(input_shape, num_filters, num_conv_layers, hidden_dim=128, distribution='uniform')\n",
    "print(model)\n",
    "\n",
    "# Test with an example input\n",
    "example_input = torch.randn(*input_shape)\n",
    "\n",
    "# print(flat_zoom_X, probs)\n",
    "# print(flat_zoom_X.shape[1])\n",
    "flat_zoom_X, feedback_cost, probs = model.forward(example_input)\n",
    "print(flat_zoom_X.shape)"
   ]
  },
  {
   "cell_type": "code",
   "execution_count": 4,
   "id": "e77537a2",
   "metadata": {
    "cellView": "form",
    "execution": {
     "iopub.execute_input": "2024-08-14T17:49:11.804114Z",
     "iopub.status.busy": "2024-08-14T17:49:11.803690Z",
     "iopub.status.idle": "2024-08-14T17:49:27.498906Z",
     "shell.execute_reply": "2024-08-14T17:49:27.497293Z"
    },
    "id": "y1po5kE6v49J",
    "papermill": {
     "duration": 15.718319,
     "end_time": "2024-08-14T17:49:27.502403",
     "exception": false,
     "start_time": "2024-08-14T17:49:11.784084",
     "status": "completed"
    },
    "tags": []
   },
   "outputs": [
    {
     "name": "stderr",
     "output_type": "stream",
     "text": [
      "2024-08-14 17:49:15.465275: E external/local_xla/xla/stream_executor/cuda/cuda_dnn.cc:9261] Unable to register cuDNN factory: Attempting to register factory for plugin cuDNN when one has already been registered\n",
      "2024-08-14 17:49:15.465421: E external/local_xla/xla/stream_executor/cuda/cuda_fft.cc:607] Unable to register cuFFT factory: Attempting to register factory for plugin cuFFT when one has already been registered\n",
      "2024-08-14 17:49:15.628751: E external/local_xla/xla/stream_executor/cuda/cuda_blas.cc:1515] Unable to register cuBLAS factory: Attempting to register factory for plugin cuBLAS when one has already been registered\n"
     ]
    }
   ],
   "source": [
    "# @title\n",
    "from collections import deque\n",
    "import os\n",
    "import time\n",
    "import random\n",
    "import torch\n",
    "import torch.nn as nn\n",
    "import torch.optim as optim\n",
    "import torchvision.transforms as transforms\n",
    "from torchvision.datasets import MNIST\n",
    "from torch.utils.data import DataLoader, random_split\n",
    "from kan import KAN\n",
    "from torch.utils.tensorboard import SummaryWriter\n",
    "import numpy as np\n",
    "from tqdm import tqdm\n",
    "import matplotlib.pyplot as plt\n",
    "from typing import Dict, Tuple, Optional, Callable, Union\n",
    "\n",
    "class ReplayBuffer:\n",
    "    def __init__(self, capacity, observation_dim):\n",
    "        self.capacity = capacity\n",
    "        self.observations = torch.zeros(capacity, observation_dim)\n",
    "        self.actions = torch.zeros(capacity, 1, dtype=torch.int64)\n",
    "        self.next_observations = torch.zeros(capacity, observation_dim)\n",
    "        self.rewards = torch.zeros(capacity, 1)\n",
    "        self.terminations = torch.zeros(capacity, 1, dtype=torch.int)\n",
    "        self.cursor = 0\n",
    "\n",
    "    def add(self, observation, action, next_observation, reward, termination):\n",
    "        index = self.cursor % self.capacity\n",
    "        self.observations[index] = observation\n",
    "        self.actions[index] = action\n",
    "        self.next_observations[index] = next_observation\n",
    "        self.rewards[index] = reward\n",
    "        self.terminations[index] = termination\n",
    "        self.cursor += 1\n",
    "\n",
    "    def sample(self, batch_size):\n",
    "        idx = np.random.permutation(np.arange(len(self)))[:batch_size]\n",
    "        return (\n",
    "            self.observations[idx],\n",
    "            self.actions[idx],\n",
    "            self.next_observations[idx],\n",
    "            self.rewards[idx],\n",
    "            self.terminations[idx],\n",
    "        )\n",
    "\n",
    "    def __len__(self):\n",
    "        return min(self.cursor, self.capacity)\n",
    "\n",
    "\n",
    "\n",
    "def kan_train(\n",
    "    net,\n",
    "    target,\n",
    "    data,\n",
    "    optimizer,\n",
    "    gamma=0.99,\n",
    "    lamb=0.0,\n",
    "    lamb_l1=1.0,\n",
    "    lamb_entropy=2.0,\n",
    "    lamb_coef=0.0,\n",
    "    lamb_coefdiff=0.0,\n",
    "    small_mag_threshold=1e-16,\n",
    "    small_reg_factor=1.0,\n",
    "    feedback_cost=None,\n",
    "    feature_selection=False,\n",
    "):\n",
    "    \n",
    "\n",
    "    def reg(acts_scale):\n",
    "        def nonlinear(x, th=small_mag_threshold, factor=small_reg_factor):\n",
    "            return (x < th) * x * factor + (x > th) * (x + (factor - 1) * th)\n",
    "\n",
    "        reg_ = 0.0\n",
    "        for i in range(len(acts_scale)):\n",
    "            vec = acts_scale[i].reshape(\n",
    "                -1,\n",
    "            )\n",
    "\n",
    "            p = vec / torch.sum(vec)\n",
    "            l1 = torch.sum(nonlinear(vec))\n",
    "            entropy = -torch.sum(p * torch.log2(p + 1e-4))\n",
    "            reg_ += lamb_l1 * l1 + lamb_entropy * entropy  # both l1 and entropy\n",
    "\n",
    "        # regularize coefficient to encourage spline to be zero\n",
    "        for i in range(len(net.act_fun)):\n",
    "            coeff_l1 = torch.sum(torch.mean(torch.abs(net.act_fun[i].coef), dim=1))\n",
    "            coeff_diff_l1 = torch.sum(\n",
    "                torch.mean(torch.abs(torch.diff(net.act_fun[i].coef)), dim=1)\n",
    "            )\n",
    "            reg_ += lamb_coef * coeff_l1 + lamb_coefdiff * coeff_diff_l1\n",
    "\n",
    "        return reg_\n",
    "\n",
    "    observations, actions, next_observations, rewards, terminations = data\n",
    "\n",
    "    with torch.no_grad():\n",
    "        next_q_values = net(next_observations.detach())\n",
    "        next_actions = next_q_values.argmax(dim=1)\n",
    "        next_q_values_target = target(next_observations.detach())\n",
    "        target_max = next_q_values_target[range(len(next_q_values)), next_actions]\n",
    "        td_target = rewards.detach().flatten() + gamma * target_max * (\n",
    "            1 - terminations.detach().flatten()\n",
    "        )\n",
    "\n",
    "\n",
    "    old_val = net(observations.detach()).gather(1, actions.detach()).squeeze()\n",
    "    criterion = nn.SmoothL1Loss()\n",
    "    # criterion = nn.MSELoss()\n",
    "    # loss = criterion(td_target, old_val)\n",
    "    reg_ = reg(net.acts_scale)\n",
    "    loss = criterion(td_target, old_val) + lamb * reg_\n",
    "\n",
    "    # Combine the original cost function with the feedback loss\n",
    "    if feature_selection == True:\n",
    "        combined_loss = loss + 0.5 * feedback_cost.detach()\n",
    "    # print(loss, feedback_cost.detach())\n",
    "    else:\n",
    "        combined_loss = loss\n",
    "\n",
    "    optimizer.zero_grad()\n",
    "    combined_loss.backward()\n",
    "\n",
    "    # In-place gradient clipping\n",
    "    torch.nn.utils.clip_grad_value_(net.parameters(), 100)\n",
    "    optimizer.step()\n",
    "\n",
    "    return combined_loss.item()\n",
    "\n",
    "def mlp_train(\n",
    "    net,\n",
    "    target,\n",
    "    data,\n",
    "    optimizer,\n",
    "    gamma=0.99,\n",
    "    feedback_cost=None,\n",
    "    feature_selection=False,\n",
    "):\n",
    "    observations, actions, next_observations, rewards, terminations = data\n",
    "\n",
    "    # Compute everything related to primary loss in a single block to retain the graph\n",
    "    with torch.no_grad():\n",
    "        next_q_values = net(next_observations.detach())\n",
    "        next_actions = next_q_values.argmax(dim=1)\n",
    "        next_q_values_target = target(next_observations.detach())\n",
    "        target_max = next_q_values_target[range(len(next_q_values)), next_actions]\n",
    "        td_target = rewards.detach().flatten() + gamma * target_max * (\n",
    "            1 - terminations.detach().flatten()\n",
    "        )\n",
    "\n",
    "    old_val = net(observations.detach()).gather(1, actions.detach()).squeeze()\n",
    "    criterion = nn.SmoothL1Loss()\n",
    "    # criterion = nn.MSELoss()\n",
    "    loss = criterion(td_target, old_val)\n",
    "\n",
    "    # Combine the original cost function with the feedback loss\n",
    "    if feature_selection == True:\n",
    "      combined_loss = loss + 0.5 * feedback_cost.detach()\n",
    "    # print(loss, feedback_cost.detach())\n",
    "    else:\n",
    "      combined_loss = loss\n",
    "\n",
    "    optimizer.zero_grad()\n",
    "    combined_loss.backward()\n",
    "\n",
    "    # In-place gradient clipping\n",
    "    torch.nn.utils.clip_grad_value_(net.parameters(), 100)\n",
    "    optimizer.step()\n",
    "\n",
    "    return combined_loss.item()\n",
    "\n",
    "\n",
    "def set_all_seeds(seed):\n",
    "    random.seed(seed)\n",
    "    os.environ[\"PYTHONHASHSEED\"] = str(seed)\n",
    "    np.random.seed(seed)\n",
    "    torch.manual_seed(seed)\n",
    "    torch.cuda.manual_seed(seed)\n",
    "    torch.use_deterministic_algorithms(True)\n",
    "\n"
   ]
  },
  {
   "cell_type": "code",
   "execution_count": 5,
   "id": "f8d127c3",
   "metadata": {
    "cellView": "form",
    "execution": {
     "iopub.execute_input": "2024-08-14T17:49:27.554637Z",
     "iopub.status.busy": "2024-08-14T17:49:27.553618Z",
     "iopub.status.idle": "2024-08-14T17:49:27.622647Z",
     "shell.execute_reply": "2024-08-14T17:49:27.621569Z"
    },
    "id": "wYF5Bi3GvKhV",
    "papermill": {
     "duration": 0.096332,
     "end_time": "2024-08-14T17:49:27.625497",
     "exception": false,
     "start_time": "2024-08-14T17:49:27.529165",
     "status": "completed"
    },
    "tags": []
   },
   "outputs": [],
   "source": [
    "# @title\n",
    "import os\n",
    "import time\n",
    "import random\n",
    "import shutil\n",
    "import matplotlib.pyplot as plt\n",
    "import torch\n",
    "import torch.nn as nn\n",
    "from torch.optim.lr_scheduler import ExponentialLR\n",
    "from torch.utils.tensorboard import SummaryWriter\n",
    "import numpy as np\n",
    "from tqdm import tqdm\n",
    "\n",
    "def kanRL(config):\n",
    "      set_all_seeds(config[\"seed\"])\n",
    "      env = MNISTEnvironment(config[\"batch_size\"])\n",
    "      results_dir = 'results'\n",
    "\n",
    "      # Check if the directory exists before trying to delete it\n",
    "      # if os.path.exists(results_dir) and os.path.isdir(results_dir):\n",
    "      #     shutil.rmtree(results_dir)\n",
    "      #     print(f\"Directory '{results_dir}' has been deleted.\")\n",
    "      # else:\n",
    "      #     print(f\"Directory '{results_dir}' does not exist.\")\n",
    "\n",
    "      input_shape = (config['first_channel'], int(config['input_size']**0.5), int(config['input_size']**0.5))  # Change this to the desired input shape\n",
    "      print(input_shape)\n",
    "      agent = FSNet(input_shape, config['num_filters'], config['num_conv_layers'], config['hidden_dim'], distribution=config['distribution'], tau=config['initial_tau'])\n",
    "      print(agent)\n",
    "\n",
    "      if config[\"feature_selection\"] == True:\n",
    "          example_input = torch.randn(*input_shape)\n",
    "          features, _, _ = agent(example_input)\n",
    "          n_features = features.shape[1]\n",
    "          print(n_features)\n",
    "      else:\n",
    "          n_features = config[\"input_size\"]\n",
    "\n",
    "      if config[\"method\"] == \"KAN\":\n",
    "          q_network = KAN(\n",
    "              width=[n_features, config[\"width\"], config[\"output_size\"]],\n",
    "              grid=config[\"grid\"],\n",
    "              k=3,\n",
    "              bias_trainable=False,\n",
    "              sp_trainable=False,\n",
    "              sb_trainable=False,\n",
    "          )\n",
    "          target_network = KAN(\n",
    "              width=[n_features, config[\"width\"], config[\"output_size\"]],\n",
    "              grid=config[\"grid\"],\n",
    "              k=3,\n",
    "              bias_trainable=False,\n",
    "              sp_trainable=False,\n",
    "              sb_trainable=False,\n",
    "          )\n",
    "          train = kan_train\n",
    "      elif config[\"method\"] == \"MLP\":\n",
    "          q_network = nn.Sequential(\n",
    "              nn.Linear(n_features, config[\"width\"]),\n",
    "              nn.ReLU(),\n",
    "              nn.Linear(config[\"width\"], config[\"output_size\"]),\n",
    "          )\n",
    "          target_network = nn.Sequential(\n",
    "              nn.Linear(n_features, config[\"width\"]),\n",
    "              nn.ReLU(),\n",
    "              nn.Linear(config[\"width\"], config[\"output_size\"]),\n",
    "          )\n",
    "          train = mlp_train\n",
    "      else:\n",
    "          raise Exception(\n",
    "              f\"Method {config['method']} doesn't exist, choose between MLP and KAN.\"\n",
    "          )\n",
    "\n",
    "      target_network.load_state_dict(q_network.state_dict())\n",
    "\n",
    "      run_name = f\"{config['method']}_MNIST_{config['seed']}_{int(time.time())}\"\n",
    "\n",
    "      writer = SummaryWriter(f\"runs/{run_name}\")\n",
    "\n",
    "      os.makedirs(\"results\", exist_ok=True)\n",
    "      with open(f\"results/{run_name}.csv\", \"w\") as f:\n",
    "          f.write(\"epoch,accuracy\\n\")\n",
    "\n",
    "\n",
    "      optimizer = optim.Adam(list(agent.parameters())+list(q_network.parameters()), lr = config[\"learning_rate\"], weight_decay = config[\"weight_decay\"])\n",
    "      # Define learning rate scheduler\n",
    "      scheduler = optim.lr_scheduler.ExponentialLR(optimizer, gamma=config['gamma'])\n",
    "\n",
    "      writer.add_text(\n",
    "          \"hyperparameters\",\n",
    "          \"|param|value|\\n|-|-|\\n%s\"\n",
    "          % (\"\\n\".join([f\"|{key}|{value}|\" for key, value in config.items()])),\n",
    "      )\n",
    "\n",
    "      replay_buffer = ReplayBuffer(config[\"buffer_size\"], n_features) # change here if the input size changes\n",
    "\n",
    "      train_accuracies = []\n",
    "      test_accuracies = []\n",
    "      train_acc_stds = []\n",
    "      test_acc_stds = []\n",
    "      episode_lengths = []\n",
    "      losses = []\n",
    "      loss_stds = []\n",
    "      probs_history = []\n",
    "      feedback_cost_history = []\n",
    "\n",
    "      # Training phase\n",
    "      for epoch in tqdm(range(config[\"n_epochs\"]), desc=f\"{run_name}\"):\n",
    "          running_loss = 0.0\n",
    "          correct = 0\n",
    "          total = 0\n",
    "          probs_batch_list = []\n",
    "          feedback_cost_tot = 0\n",
    "\n",
    "          for _ in range(len(env.loader)):\n",
    "              state, label, feedback = env.step()\n",
    "              feedback = feedback.view(-1, config['input_size'])\n",
    "              \n",
    "              if config[\"feature_selection\"] == True:\n",
    "                  flat_zoom_X, feedback_cost, probs = agent.forward(state, feedback, epoch, config[\"n_epochs\"])\n",
    "                  # Collect the probabilities and feedback costs\n",
    "                  probs_batch_list.append(probs.detach().cpu().numpy())\n",
    "                  feedback_cost_tot += feedback_cost.detach().cpu().numpy()\n",
    "                  # Calculate regularization loss\n",
    "                  state = flat_zoom_X\n",
    "              else:\n",
    "                  state = state.view(-1, config['input_size'])\n",
    "                  probs_batch_list.append(torch.zeros((1, int(config['input_size']))))\n",
    "                  probs = torch.zeros((1, int(config['input_size'])))\n",
    "                  feedback_cost = torch.zeros(1)\n",
    "                  feedback_cost_tot += torch.zeros(1)                \n",
    "\n",
    "              # Forward pass\n",
    "              if epoch < config[\"warm_up_episodes\"]:\n",
    "                  action = torch.tensor([random.randint(0, 9)])\n",
    "              else:\n",
    "                  with torch.no_grad():\n",
    "                      action = q_network(state).argmax(axis=-1).squeeze().item()\n",
    "\n",
    "              reward = torch.tensor([1.0]) if action == label else torch.tensor([0.0])\n",
    "              next_state, next_label, _ = env.step()\n",
    "              if config[\"feature_selection\"] == True:\n",
    "                  next_state, _, _ = agent.forward(next_state)\n",
    "              else:\n",
    "                  next_state = next_state.view(-1, config['input_size'])\n",
    "\n",
    "              replay_buffer.add(state, action, next_state, reward, torch.tensor([1]))\n",
    "\n",
    "              if len(replay_buffer) > config[\"batch_size\"]:\n",
    "                  batch = replay_buffer.sample(config[\"batch_size\"])\n",
    "                  loss = train(\n",
    "                      q_network,\n",
    "                      target_network,\n",
    "                      batch,\n",
    "                      optimizer,\n",
    "                      gamma=config[\"gamma\"],\n",
    "                      feedback_cost = feedback_cost,\n",
    "                      feature_selection = config['feature_selection'],\n",
    "                  )\n",
    "                  running_loss += loss\n",
    "\n",
    "              correct += (action == label).sum().item()\n",
    "              total += 1\n",
    "\n",
    "          scheduler.step()\n",
    "          print()\n",
    "          print('correct:', correct, 'total:', total)\n",
    "          print('loss:', running_loss/total)\n",
    "          train_accuracy = correct / total\n",
    "          print(' Train accuracy: ', train_accuracy, '| ')\n",
    "          train_accuracies.append(train_accuracy)\n",
    "          losses.append(running_loss/total)\n",
    "\n",
    "          # Aggregate probabilities by averaging across the batch\n",
    "          avg_probs = np.mean(np.array(probs_batch_list), axis=0)\n",
    "          probs_history.append(avg_probs)\n",
    "          # Compute feedback cost\n",
    "          feedback_cost_history.append(feedback_cost_tot / len(env.loader))\n",
    "\n",
    "          if (\n",
    "              epoch % 25 == 0\n",
    "              and config[\"method\"] == \"KAN\"\n",
    "              and epoch < int(config[\"n_epochs\"] * (1 / 2))\n",
    "          ):\n",
    "              q_network.update_grid_from_samples(replay_buffer.observations[: len(replay_buffer)])\n",
    "              target_network.update_grid_from_samples(replay_buffer.observations[: len(replay_buffer)])\n",
    "\n",
    "          if epoch % config[\"target_update\"] == 0:\n",
    "              target_network.load_state_dict(q_network.state_dict())\n",
    "\n",
    "          correct = 0\n",
    "          total = 0\n",
    "          with torch.no_grad():\n",
    "              for images, labels in DataLoader(MNIST('./data', train=False, download=True, transform=transforms.Compose([\n",
    "                  transforms.Resize((int(config['input_size']**0.5), int(config['input_size']**0.5))),\n",
    "                  transforms.ToTensor(),\n",
    "                  transforms.Normalize((0.1307,), (0.3081,))\n",
    "              ])), batch_size=config[\"batch_size\"]):\n",
    "                  state = images.view(-1,config[\"input_size\"])\n",
    "                  \n",
    "                  if config[\"feature_selection\"] == True:\n",
    "                      flat_zoom_X, _, _ = agent(state)\n",
    "                      state = flat_zoom_X\n",
    "\n",
    "                  outputs = q_network(state)\n",
    "                  _, predicted = torch.max(outputs.data, 1)\n",
    "                  total += labels.size(0)\n",
    "                  correct += (predicted == labels).sum().item()\n",
    "\n",
    "          test_accuracy = correct / total\n",
    "          print(' Test accuracy: ', test_accuracy)\n",
    "          test_accuracies.append(test_accuracy)\n",
    "\n",
    "          writer.add_scalar(\"Loss/train\", running_loss / total, epoch)\n",
    "          writer.add_scalar(\"Accuracy/train\", train_accuracy, epoch)\n",
    "          writer.add_scalar(\"Accuracy/test\", test_accuracy, epoch)\n",
    "\n",
    "          with open(f\"results/{run_name}.csv\", \"a\") as f:\n",
    "              f.write(f\"{epoch},{test_accuracy}\\n\")\n",
    "\n",
    "\n",
    "      # Calculate standard deviations\n",
    "      train_acc_stds = [np.std(train_accuracies[max(0, i-10):i+1]) for i in range(len(train_accuracies))]\n",
    "      test_acc_stds = [np.std(test_accuracies[max(0, i-10):i+1]) for i in range(len(test_accuracies))]\n",
    "      loss_stds = [np.std(losses[max(0, i-10):i+1]) for i in range(len(losses))]\n",
    "\n",
    "      epochs = np.arange(len(train_accuracies))\n",
    "\n",
    "      #### With uncertainty ########\n",
    "      plt.figure(figsize=(12, 5))\n",
    "\n",
    "      plt.subplot(1, 2, 1)\n",
    "      plt.plot(epochs, train_accuracies, label='Train Accuracy')\n",
    "      plt.fill_between(epochs, np.array(train_accuracies) - np.array(train_acc_stds), np.array(train_accuracies) + np.array(train_acc_stds), alpha=0.3)\n",
    "      plt.plot(epochs, test_accuracies, label='Test Accuracy')\n",
    "      plt.fill_between(epochs, np.array(test_accuracies) - np.array(test_acc_stds), np.array(test_accuracies) + np.array(test_acc_stds), alpha=0.3)\n",
    "      plt.xlabel('Epoch')\n",
    "      plt.ylabel('Accuracy')\n",
    "      plt.legend()\n",
    "      plt.title('Accuracy over Time')\n",
    "\n",
    "      plt.subplot(1, 2, 2)\n",
    "      plt.plot(epochs, losses, label='Loss')\n",
    "      plt.fill_between(epochs, np.array(losses) - np.array(loss_stds), np.array(losses) + np.array(loss_stds), alpha=0.3)\n",
    "      plt.xlabel('Epoch')\n",
    "      plt.ylabel('Loss')\n",
    "      plt.legend()\n",
    "      plt.title('Loss over Time')\n",
    "\n",
    "      plt.tight_layout()\n",
    "      plt.show()\n",
    "\n",
    "\n",
    "      ##### Without uncertainty ########\n",
    "      plt.figure(figsize=(12, 5))\n",
    "\n",
    "      plt.subplot(1, 2, 1)\n",
    "      plt.plot(epochs, train_accuracies, label='Train Accuracy')\n",
    "      plt.plot(epochs, test_accuracies, label='Test Accuracy')\n",
    "      plt.xlabel('Epoch')\n",
    "      plt.ylabel('Accuracy')\n",
    "      plt.legend()\n",
    "      plt.title('Accuracy over Time')\n",
    "\n",
    "      plt.subplot(1, 2, 2)\n",
    "      plt.plot(epochs, losses, label='Loss')\n",
    "      plt.xlabel('Epoch')\n",
    "      plt.ylabel('Loss')\n",
    "      plt.legend()\n",
    "      plt.title('Loss over Time')\n",
    "\n",
    "      plt.tight_layout()\n",
    "      plt.show()\n",
    "\n",
    "      # Print final accuracy with +/- error\n",
    "      final_train_accuracy = train_accuracies[-1]\n",
    "      final_train_acc_std = train_acc_stds[-1]\n",
    "      final_test_accuracy = test_accuracies[-1]\n",
    "      final_test_acc_std = test_acc_stds[-1]\n",
    "\n",
    "      print(f\"Final Train Accuracy: {final_train_accuracy:.2f} ± {final_train_acc_std:.2f}\")\n",
    "      print(f\"Final Test Accuracy: {final_test_accuracy:.2f} ± {final_test_acc_std:.2f}\")\n",
    "\n",
    "\n",
    "      return q_network, train_accuracies, test_accuracies, losses, probs_history, feedback_cost_history, train_acc_stds, test_acc_stds, loss_stds, agent\n"
   ]
  },
  {
   "cell_type": "markdown",
   "id": "a160bcbe",
   "metadata": {
    "id": "a3J9FJhuK5D-",
    "papermill": {
     "duration": 0.016751,
     "end_time": "2024-08-14T17:49:27.659071",
     "exception": false,
     "start_time": "2024-08-14T17:49:27.642320",
     "status": "completed"
    },
    "tags": []
   },
   "source": [
    "# KAN width=8 grid=2"
   ]
  },
  {
   "cell_type": "code",
   "execution_count": 6,
   "id": "10ea4fbd",
   "metadata": {
    "execution": {
     "iopub.execute_input": "2024-08-14T17:49:27.695268Z",
     "iopub.status.busy": "2024-08-14T17:49:27.694842Z",
     "iopub.status.idle": "2024-08-14T23:55:00.104351Z",
     "shell.execute_reply": "2024-08-14T23:55:00.102482Z"
    },
    "id": "JDuSwacf9fse",
    "outputId": "0a5f0407-ed77-4f23-b8dc-af933d33fcab",
    "papermill": {
     "duration": 21932.431804,
     "end_time": "2024-08-14T23:55:00.107785",
     "exception": false,
     "start_time": "2024-08-14T17:49:27.675981",
     "status": "completed"
    },
    "scrolled": true,
    "tags": []
   },
   "outputs": [
    {
     "name": "stdout",
     "output_type": "stream",
     "text": [
      "(1, 8, 8)\n",
      "FSNet(\n",
      "  (feature_extractor): Sequential(\n",
      "    (0): Conv2d(1, 8, kernel_size=(3, 3), stride=(1, 1), padding=(1, 1))\n",
      "    (1): ReLU()\n",
      "    (2): MaxPool2d(kernel_size=2, stride=2, padding=0, dilation=1, ceil_mode=False)\n",
      "    (3): Conv2d(8, 16, kernel_size=(3, 3), stride=(1, 1), padding=(1, 1))\n",
      "    (4): ReLU()\n",
      "    (5): MaxPool2d(kernel_size=2, stride=2, padding=0, dilation=1, ceil_mode=False)\n",
      "    (6): Flatten(start_dim=1, end_dim=-1)\n",
      "  )\n",
      "  (fc1): Linear(in_features=64, out_features=128, bias=True)\n",
      "  (relu): ReLU()\n",
      "  (dropout): Dropout(p=0.25, inplace=False)\n",
      "  (fc2): Linear(in_features=128, out_features=64, bias=True)\n",
      "  (sigmoid): Sigmoid()\n",
      "  (softmax): Softmax(dim=-1)\n",
      ")\n",
      "64\n"
     ]
    },
    {
     "name": "stderr",
     "output_type": "stream",
     "text": [
      "\r",
      "KAN_MNIST_0_1723657767:   0%|          | 0/100 [00:00<?, ?it/s]"
     ]
    },
    {
     "name": "stdout",
     "output_type": "stream",
     "text": [
      "\n",
      "correct: 44 total: 469\n",
      "loss: 0.06584319237198656\n",
      " Train accuracy:  0.09381663113006397 | \n"
     ]
    },
    {
     "name": "stderr",
     "output_type": "stream",
     "text": [
      "\r",
      "KAN_MNIST_0_1723657767:   1%|          | 1/100 [02:10<3:35:33, 130.65s/it]"
     ]
    },
    {
     "name": "stdout",
     "output_type": "stream",
     "text": [
      " Test accuracy:  0.1316\n"
     ]
    },
    {
     "name": "stdout",
     "output_type": "stream",
     "text": [
      "\n",
      "correct: 48 total: 469\n",
      "loss: 0.06811013291162976\n",
      " Train accuracy:  0.1023454157782516 | \n"
     ]
    },
    {
     "name": "stderr",
     "output_type": "stream",
     "text": [
      "\r",
      "KAN_MNIST_0_1723657767:   2%|▏         | 2/100 [05:12<4:22:20, 160.62s/it]"
     ]
    },
    {
     "name": "stdout",
     "output_type": "stream",
     "text": [
      " Test accuracy:  0.3655\n"
     ]
    },
    {
     "name": "stdout",
     "output_type": "stream",
     "text": [
      "\n",
      "correct: 182 total: 469\n",
      "loss: 0.0672296394607914\n",
      " Train accuracy:  0.3880597014925373 | \n"
     ]
    },
    {
     "name": "stderr",
     "output_type": "stream",
     "text": [
      "\r",
      "KAN_MNIST_0_1723657767:   3%|▎         | 3/100 [08:38<4:53:35, 181.61s/it]"
     ]
    },
    {
     "name": "stdout",
     "output_type": "stream",
     "text": [
      " Test accuracy:  0.4406\n"
     ]
    },
    {
     "name": "stdout",
     "output_type": "stream",
     "text": [
      "\n",
      "correct: 195 total: 469\n",
      "loss: 0.07297463197983912\n",
      " Train accuracy:  0.4157782515991471 | \n"
     ]
    },
    {
     "name": "stderr",
     "output_type": "stream",
     "text": [
      "\r",
      "KAN_MNIST_0_1723657767:   4%|▍         | 4/100 [12:06<5:06:50, 191.77s/it]"
     ]
    },
    {
     "name": "stdout",
     "output_type": "stream",
     "text": [
      " Test accuracy:  0.4637\n"
     ]
    },
    {
     "name": "stdout",
     "output_type": "stream",
     "text": [
      "\n",
      "correct: 224 total: 469\n",
      "loss: 0.07604021561552467\n",
      " Train accuracy:  0.47761194029850745 | \n"
     ]
    },
    {
     "name": "stderr",
     "output_type": "stream",
     "text": [
      "\r",
      "KAN_MNIST_0_1723657767:   5%|▌         | 5/100 [15:36<5:14:04, 198.37s/it]"
     ]
    },
    {
     "name": "stdout",
     "output_type": "stream",
     "text": [
      " Test accuracy:  0.4864\n"
     ]
    },
    {
     "name": "stdout",
     "output_type": "stream",
     "text": [
      "\n",
      "correct: 229 total: 469\n",
      "loss: 0.08077120952514698\n",
      " Train accuracy:  0.488272921108742 | \n"
     ]
    },
    {
     "name": "stderr",
     "output_type": "stream",
     "text": [
      "\r",
      "KAN_MNIST_0_1723657767:   6%|▌         | 6/100 [19:05<5:16:26, 201.98s/it]"
     ]
    },
    {
     "name": "stdout",
     "output_type": "stream",
     "text": [
      " Test accuracy:  0.5023\n"
     ]
    },
    {
     "name": "stdout",
     "output_type": "stream",
     "text": [
      "\n",
      "correct: 233 total: 469\n",
      "loss: 0.08326536021443573\n",
      " Train accuracy:  0.4968017057569296 | \n"
     ]
    },
    {
     "name": "stderr",
     "output_type": "stream",
     "text": [
      "\r",
      "KAN_MNIST_0_1723657767:   7%|▋         | 7/100 [22:34<5:16:42, 204.33s/it]"
     ]
    },
    {
     "name": "stdout",
     "output_type": "stream",
     "text": [
      " Test accuracy:  0.5108\n"
     ]
    },
    {
     "name": "stdout",
     "output_type": "stream",
     "text": [
      "\n",
      "correct: 241 total: 469\n",
      "loss: 0.08651650801841129\n",
      " Train accuracy:  0.5138592750533049 | \n"
     ]
    },
    {
     "name": "stderr",
     "output_type": "stream",
     "text": [
      "\r",
      "KAN_MNIST_0_1723657767:   8%|▊         | 8/100 [26:02<5:14:58, 205.42s/it]"
     ]
    },
    {
     "name": "stdout",
     "output_type": "stream",
     "text": [
      " Test accuracy:  0.5346\n"
     ]
    },
    {
     "name": "stdout",
     "output_type": "stream",
     "text": [
      "\n",
      "correct: 238 total: 469\n",
      "loss: 0.08904960564077535\n",
      " Train accuracy:  0.5074626865671642 | \n"
     ]
    },
    {
     "name": "stderr",
     "output_type": "stream",
     "text": [
      "\r",
      "KAN_MNIST_0_1723657767:   9%|▉         | 9/100 [29:29<5:12:39, 206.14s/it]"
     ]
    },
    {
     "name": "stdout",
     "output_type": "stream",
     "text": [
      " Test accuracy:  0.5401\n"
     ]
    },
    {
     "name": "stdout",
     "output_type": "stream",
     "text": [
      "\n",
      "correct: 246 total: 469\n",
      "loss: 0.08996915088088782\n",
      " Train accuracy:  0.5245202558635395 | \n"
     ]
    },
    {
     "name": "stderr",
     "output_type": "stream",
     "text": [
      "\r",
      "KAN_MNIST_0_1723657767:  10%|█         | 10/100 [32:58<5:10:16, 206.85s/it]"
     ]
    },
    {
     "name": "stdout",
     "output_type": "stream",
     "text": [
      " Test accuracy:  0.575\n"
     ]
    },
    {
     "name": "stdout",
     "output_type": "stream",
     "text": [
      "\n",
      "correct: 266 total: 469\n",
      "loss: 0.09196188555025597\n",
      " Train accuracy:  0.5671641791044776 | \n"
     ]
    },
    {
     "name": "stderr",
     "output_type": "stream",
     "text": [
      "\r",
      "KAN_MNIST_0_1723657767:  11%|█         | 11/100 [36:30<5:09:18, 208.52s/it]"
     ]
    },
    {
     "name": "stdout",
     "output_type": "stream",
     "text": [
      " Test accuracy:  0.568\n"
     ]
    },
    {
     "name": "stdout",
     "output_type": "stream",
     "text": [
      "\n",
      "correct: 262 total: 469\n",
      "loss: 0.0943545698642985\n",
      " Train accuracy:  0.55863539445629 | \n"
     ]
    },
    {
     "name": "stderr",
     "output_type": "stream",
     "text": [
      "\r",
      "KAN_MNIST_0_1723657767:  12%|█▏        | 12/100 [40:09<5:10:24, 211.64s/it]"
     ]
    },
    {
     "name": "stdout",
     "output_type": "stream",
     "text": [
      " Test accuracy:  0.5796\n"
     ]
    },
    {
     "name": "stdout",
     "output_type": "stream",
     "text": [
      "\n",
      "correct: 295 total: 469\n",
      "loss: 0.0953494983949641\n",
      " Train accuracy:  0.6289978678038379 | \n"
     ]
    },
    {
     "name": "stderr",
     "output_type": "stream",
     "text": [
      "\r",
      "KAN_MNIST_0_1723657767:  13%|█▎        | 13/100 [43:45<5:08:49, 212.98s/it]"
     ]
    },
    {
     "name": "stdout",
     "output_type": "stream",
     "text": [
      " Test accuracy:  0.5941\n"
     ]
    },
    {
     "name": "stdout",
     "output_type": "stream",
     "text": [
      "\n",
      "correct: 275 total: 469\n",
      "loss: 0.09626367009842574\n",
      " Train accuracy:  0.5863539445628998 | \n"
     ]
    },
    {
     "name": "stderr",
     "output_type": "stream",
     "text": [
      "\r",
      "KAN_MNIST_0_1723657767:  14%|█▍        | 14/100 [47:17<5:04:59, 212.79s/it]"
     ]
    },
    {
     "name": "stdout",
     "output_type": "stream",
     "text": [
      " Test accuracy:  0.5978\n"
     ]
    },
    {
     "name": "stdout",
     "output_type": "stream",
     "text": [
      "\n",
      "correct: 275 total: 469\n",
      "loss: 0.09735017209482599\n",
      " Train accuracy:  0.5863539445628998 | \n"
     ]
    },
    {
     "name": "stderr",
     "output_type": "stream",
     "text": [
      "\r",
      "KAN_MNIST_0_1723657767:  15%|█▌        | 15/100 [50:47<5:00:13, 211.92s/it]"
     ]
    },
    {
     "name": "stdout",
     "output_type": "stream",
     "text": [
      " Test accuracy:  0.6061\n"
     ]
    },
    {
     "name": "stdout",
     "output_type": "stream",
     "text": [
      "\n",
      "correct: 278 total: 469\n",
      "loss: 0.09854072373686061\n",
      " Train accuracy:  0.5927505330490405 | \n"
     ]
    },
    {
     "name": "stderr",
     "output_type": "stream",
     "text": [
      "\r",
      "KAN_MNIST_0_1723657767:  16%|█▌        | 16/100 [54:18<4:56:14, 211.60s/it]"
     ]
    },
    {
     "name": "stdout",
     "output_type": "stream",
     "text": [
      " Test accuracy:  0.6029\n"
     ]
    },
    {
     "name": "stdout",
     "output_type": "stream",
     "text": [
      "\n",
      "correct: 300 total: 469\n",
      "loss: 0.09819345228644068\n",
      " Train accuracy:  0.6396588486140725 | \n"
     ]
    },
    {
     "name": "stderr",
     "output_type": "stream",
     "text": [
      "\r",
      "KAN_MNIST_0_1723657767:  17%|█▋        | 17/100 [57:51<4:53:21, 212.06s/it]"
     ]
    },
    {
     "name": "stdout",
     "output_type": "stream",
     "text": [
      " Test accuracy:  0.6211\n"
     ]
    },
    {
     "name": "stdout",
     "output_type": "stream",
     "text": [
      "\n",
      "correct: 282 total: 469\n",
      "loss: 0.09998258846655075\n",
      " Train accuracy:  0.6012793176972282 | \n"
     ]
    },
    {
     "name": "stderr",
     "output_type": "stream",
     "text": [
      "\r",
      "KAN_MNIST_0_1723657767:  18%|█▊        | 18/100 [1:01:24<4:49:56, 212.15s/it]"
     ]
    },
    {
     "name": "stdout",
     "output_type": "stream",
     "text": [
      " Test accuracy:  0.6272\n"
     ]
    },
    {
     "name": "stdout",
     "output_type": "stream",
     "text": [
      "\n",
      "correct: 285 total: 469\n",
      "loss: 0.10045235542091988\n",
      " Train accuracy:  0.6076759061833689 | \n"
     ]
    },
    {
     "name": "stderr",
     "output_type": "stream",
     "text": [
      "\r",
      "KAN_MNIST_0_1723657767:  19%|█▉        | 19/100 [1:04:57<4:46:56, 212.55s/it]"
     ]
    },
    {
     "name": "stdout",
     "output_type": "stream",
     "text": [
      " Test accuracy:  0.6226\n"
     ]
    },
    {
     "name": "stdout",
     "output_type": "stream",
     "text": [
      "\n",
      "correct: 290 total: 469\n",
      "loss: 0.10031755678435124\n",
      " Train accuracy:  0.6183368869936035 | \n"
     ]
    },
    {
     "name": "stderr",
     "output_type": "stream",
     "text": [
      "\r",
      "KAN_MNIST_0_1723657767:  20%|██        | 20/100 [1:08:30<4:43:39, 212.75s/it]"
     ]
    },
    {
     "name": "stdout",
     "output_type": "stream",
     "text": [
      " Test accuracy:  0.6342\n"
     ]
    },
    {
     "name": "stdout",
     "output_type": "stream",
     "text": [
      "\n",
      "correct: 283 total: 469\n",
      "loss: 0.10105273362670118\n",
      " Train accuracy:  0.603411513859275 | \n"
     ]
    },
    {
     "name": "stderr",
     "output_type": "stream",
     "text": [
      "\r",
      "KAN_MNIST_0_1723657767:  21%|██        | 21/100 [1:12:05<4:40:43, 213.21s/it]"
     ]
    },
    {
     "name": "stdout",
     "output_type": "stream",
     "text": [
      " Test accuracy:  0.63\n"
     ]
    },
    {
     "name": "stdout",
     "output_type": "stream",
     "text": [
      "\n",
      "correct: 299 total: 469\n",
      "loss: 0.10213672318883034\n",
      " Train accuracy:  0.6375266524520256 | \n"
     ]
    },
    {
     "name": "stderr",
     "output_type": "stream",
     "text": [
      "\r",
      "KAN_MNIST_0_1723657767:  22%|██▏       | 22/100 [1:15:38<4:37:06, 213.16s/it]"
     ]
    },
    {
     "name": "stdout",
     "output_type": "stream",
     "text": [
      " Test accuracy:  0.651\n"
     ]
    },
    {
     "name": "stdout",
     "output_type": "stream",
     "text": [
      "\n",
      "correct: 293 total: 469\n",
      "loss: 0.10296764134216918\n",
      " Train accuracy:  0.6247334754797441 | \n"
     ]
    },
    {
     "name": "stderr",
     "output_type": "stream",
     "text": [
      "\r",
      "KAN_MNIST_0_1723657767:  23%|██▎       | 23/100 [1:19:11<4:33:30, 213.13s/it]"
     ]
    },
    {
     "name": "stdout",
     "output_type": "stream",
     "text": [
      " Test accuracy:  0.6354\n"
     ]
    },
    {
     "name": "stdout",
     "output_type": "stream",
     "text": [
      "\n",
      "correct: 300 total: 469\n",
      "loss: 0.10340673497109525\n",
      " Train accuracy:  0.6396588486140725 | \n"
     ]
    },
    {
     "name": "stderr",
     "output_type": "stream",
     "text": [
      "\r",
      "KAN_MNIST_0_1723657767:  24%|██▍       | 24/100 [1:22:44<4:30:04, 213.21s/it]"
     ]
    },
    {
     "name": "stdout",
     "output_type": "stream",
     "text": [
      " Test accuracy:  0.6326\n"
     ]
    },
    {
     "name": "stdout",
     "output_type": "stream",
     "text": [
      "\n",
      "correct: 317 total: 469\n",
      "loss: 0.10466673716044883\n",
      " Train accuracy:  0.67590618336887 | \n"
     ]
    },
    {
     "name": "stderr",
     "output_type": "stream",
     "text": [
      "\r",
      "KAN_MNIST_0_1723657767:  25%|██▌       | 25/100 [1:26:17<4:26:20, 213.08s/it]"
     ]
    },
    {
     "name": "stdout",
     "output_type": "stream",
     "text": [
      " Test accuracy:  0.6423\n"
     ]
    },
    {
     "name": "stdout",
     "output_type": "stream",
     "text": [
      "\n",
      "correct: 304 total: 469\n",
      "loss: 0.10421748484756901\n",
      " Train accuracy:  0.6481876332622601 | \n"
     ]
    },
    {
     "name": "stderr",
     "output_type": "stream",
     "text": [
      "\r",
      "KAN_MNIST_0_1723657767:  26%|██▌       | 26/100 [1:30:19<4:33:24, 221.69s/it]"
     ]
    },
    {
     "name": "stdout",
     "output_type": "stream",
     "text": [
      " Test accuracy:  0.6533\n"
     ]
    },
    {
     "name": "stdout",
     "output_type": "stream",
     "text": [
      "\n",
      "correct: 298 total: 469\n",
      "loss: 0.11077073144950847\n",
      " Train accuracy:  0.6353944562899787 | \n"
     ]
    },
    {
     "name": "stderr",
     "output_type": "stream",
     "text": [
      "\r",
      "KAN_MNIST_0_1723657767:  27%|██▋       | 27/100 [1:33:53<4:27:05, 219.53s/it]"
     ]
    },
    {
     "name": "stdout",
     "output_type": "stream",
     "text": [
      " Test accuracy:  0.6498\n"
     ]
    },
    {
     "name": "stdout",
     "output_type": "stream",
     "text": [
      "\n",
      "correct: 304 total: 469\n",
      "loss: 0.11006377577019144\n",
      " Train accuracy:  0.6481876332622601 | \n"
     ]
    },
    {
     "name": "stderr",
     "output_type": "stream",
     "text": [
      "\r",
      "KAN_MNIST_0_1723657767:  28%|██▊       | 28/100 [1:37:26<4:21:00, 217.51s/it]"
     ]
    },
    {
     "name": "stdout",
     "output_type": "stream",
     "text": [
      " Test accuracy:  0.6803\n"
     ]
    },
    {
     "name": "stdout",
     "output_type": "stream",
     "text": [
      "\n",
      "correct: 319 total: 469\n",
      "loss: 0.10971490463722489\n",
      " Train accuracy:  0.6801705756929638 | \n"
     ]
    },
    {
     "name": "stderr",
     "output_type": "stream",
     "text": [
      "\r",
      "KAN_MNIST_0_1723657767:  29%|██▉       | 29/100 [1:41:06<4:18:26, 218.41s/it]"
     ]
    },
    {
     "name": "stdout",
     "output_type": "stream",
     "text": [
      " Test accuracy:  0.6809\n"
     ]
    },
    {
     "name": "stdout",
     "output_type": "stream",
     "text": [
      "\n",
      "correct: 319 total: 469\n",
      "loss: 0.11044034190269421\n",
      " Train accuracy:  0.6801705756929638 | \n"
     ]
    },
    {
     "name": "stderr",
     "output_type": "stream",
     "text": [
      "\r",
      "KAN_MNIST_0_1723657767:  30%|███       | 30/100 [1:44:51<4:17:06, 220.38s/it]"
     ]
    },
    {
     "name": "stdout",
     "output_type": "stream",
     "text": [
      " Test accuracy:  0.664\n"
     ]
    },
    {
     "name": "stdout",
     "output_type": "stream",
     "text": [
      "\n",
      "correct: 322 total: 469\n",
      "loss: 0.11025803032587332\n",
      " Train accuracy:  0.6865671641791045 | \n"
     ]
    },
    {
     "name": "stderr",
     "output_type": "stream",
     "text": [
      "\r",
      "KAN_MNIST_0_1723657767:  31%|███       | 31/100 [1:48:34<4:14:14, 221.09s/it]"
     ]
    },
    {
     "name": "stdout",
     "output_type": "stream",
     "text": [
      " Test accuracy:  0.6889\n"
     ]
    },
    {
     "name": "stdout",
     "output_type": "stream",
     "text": [
      "\n",
      "correct: 300 total: 469\n",
      "loss: 0.11110819431383219\n",
      " Train accuracy:  0.6396588486140725 | \n"
     ]
    },
    {
     "name": "stderr",
     "output_type": "stream",
     "text": [
      "\r",
      "KAN_MNIST_0_1723657767:  32%|███▏      | 32/100 [1:52:18<4:11:35, 221.99s/it]"
     ]
    },
    {
     "name": "stdout",
     "output_type": "stream",
     "text": [
      " Test accuracy:  0.6788\n"
     ]
    },
    {
     "name": "stdout",
     "output_type": "stream",
     "text": [
      "\n",
      "correct: 333 total: 469\n",
      "loss: 0.11076250259301809\n",
      " Train accuracy:  0.7100213219616205 | \n"
     ]
    },
    {
     "name": "stderr",
     "output_type": "stream",
     "text": [
      "\r",
      "KAN_MNIST_0_1723657767:  33%|███▎      | 33/100 [1:56:08<4:10:31, 224.35s/it]"
     ]
    },
    {
     "name": "stdout",
     "output_type": "stream",
     "text": [
      " Test accuracy:  0.6728\n"
     ]
    },
    {
     "name": "stdout",
     "output_type": "stream",
     "text": [
      "\n",
      "correct: 315 total: 469\n",
      "loss: 0.11046047978945124\n",
      " Train accuracy:  0.6716417910447762 | \n"
     ]
    },
    {
     "name": "stderr",
     "output_type": "stream",
     "text": [
      "\r",
      "KAN_MNIST_0_1723657767:  34%|███▍      | 34/100 [2:00:00<4:09:08, 226.49s/it]"
     ]
    },
    {
     "name": "stdout",
     "output_type": "stream",
     "text": [
      " Test accuracy:  0.6839\n"
     ]
    },
    {
     "name": "stdout",
     "output_type": "stream",
     "text": [
      "\n",
      "correct: 304 total: 469\n",
      "loss: 0.11105856102412698\n",
      " Train accuracy:  0.6481876332622601 | \n"
     ]
    },
    {
     "name": "stderr",
     "output_type": "stream",
     "text": [
      "\r",
      "KAN_MNIST_0_1723657767:  35%|███▌      | 35/100 [2:03:49<4:06:21, 227.41s/it]"
     ]
    },
    {
     "name": "stdout",
     "output_type": "stream",
     "text": [
      " Test accuracy:  0.6856\n"
     ]
    },
    {
     "name": "stdout",
     "output_type": "stream",
     "text": [
      "\n",
      "correct: 325 total: 469\n",
      "loss: 0.11157932682141566\n",
      " Train accuracy:  0.6929637526652452 | \n"
     ]
    },
    {
     "name": "stderr",
     "output_type": "stream",
     "text": [
      "\r",
      "KAN_MNIST_0_1723657767:  36%|███▌      | 36/100 [2:07:33<4:01:21, 226.27s/it]"
     ]
    },
    {
     "name": "stdout",
     "output_type": "stream",
     "text": [
      " Test accuracy:  0.6724\n"
     ]
    },
    {
     "name": "stdout",
     "output_type": "stream",
     "text": [
      "\n",
      "correct: 306 total: 469\n",
      "loss: 0.11257700904854324\n",
      " Train accuracy:  0.652452025586354 | \n"
     ]
    },
    {
     "name": "stderr",
     "output_type": "stream",
     "text": [
      "\r",
      "KAN_MNIST_0_1723657767:  37%|███▋      | 37/100 [2:11:13<3:55:43, 224.50s/it]"
     ]
    },
    {
     "name": "stdout",
     "output_type": "stream",
     "text": [
      " Test accuracy:  0.6932\n"
     ]
    },
    {
     "name": "stdout",
     "output_type": "stream",
     "text": [
      "\n",
      "correct: 342 total: 469\n",
      "loss: 0.1126725310201584\n",
      " Train accuracy:  0.7292110874200426 | \n"
     ]
    },
    {
     "name": "stderr",
     "output_type": "stream",
     "text": [
      "\r",
      "KAN_MNIST_0_1723657767:  38%|███▊      | 38/100 [2:14:53<3:50:41, 223.24s/it]"
     ]
    },
    {
     "name": "stdout",
     "output_type": "stream",
     "text": [
      " Test accuracy:  0.6933\n"
     ]
    },
    {
     "name": "stdout",
     "output_type": "stream",
     "text": [
      "\n",
      "correct: 322 total: 469\n",
      "loss: 0.1120771256241717\n",
      " Train accuracy:  0.6865671641791045 | \n"
     ]
    },
    {
     "name": "stderr",
     "output_type": "stream",
     "text": [
      "\r",
      "KAN_MNIST_0_1723657767:  39%|███▉      | 39/100 [2:18:34<3:46:04, 222.37s/it]"
     ]
    },
    {
     "name": "stdout",
     "output_type": "stream",
     "text": [
      " Test accuracy:  0.6945\n"
     ]
    },
    {
     "name": "stdout",
     "output_type": "stream",
     "text": [
      "\n",
      "correct: 308 total: 469\n",
      "loss: 0.1123763624030644\n",
      " Train accuracy:  0.6567164179104478 | \n"
     ]
    },
    {
     "name": "stderr",
     "output_type": "stream",
     "text": [
      "\r",
      "KAN_MNIST_0_1723657767:  40%|████      | 40/100 [2:22:19<3:43:10, 223.18s/it]"
     ]
    },
    {
     "name": "stdout",
     "output_type": "stream",
     "text": [
      " Test accuracy:  0.6985\n"
     ]
    },
    {
     "name": "stdout",
     "output_type": "stream",
     "text": [
      "\n",
      "correct: 330 total: 469\n",
      "loss: 0.11228038178387481\n",
      " Train accuracy:  0.7036247334754797 | \n"
     ]
    },
    {
     "name": "stderr",
     "output_type": "stream",
     "text": [
      "\r",
      "KAN_MNIST_0_1723657767:  41%|████      | 41/100 [2:26:00<3:39:00, 222.72s/it]"
     ]
    },
    {
     "name": "stdout",
     "output_type": "stream",
     "text": [
      " Test accuracy:  0.6963\n"
     ]
    },
    {
     "name": "stdout",
     "output_type": "stream",
     "text": [
      "\n",
      "correct: 334 total: 469\n",
      "loss: 0.11272032887760255\n",
      " Train accuracy:  0.7121535181236673 | \n"
     ]
    },
    {
     "name": "stderr",
     "output_type": "stream",
     "text": [
      "\r",
      "KAN_MNIST_0_1723657767:  42%|████▏     | 42/100 [2:29:40<3:34:29, 221.88s/it]"
     ]
    },
    {
     "name": "stdout",
     "output_type": "stream",
     "text": [
      " Test accuracy:  0.6897\n"
     ]
    },
    {
     "name": "stdout",
     "output_type": "stream",
     "text": [
      "\n",
      "correct: 327 total: 469\n",
      "loss: 0.11321306242935185\n",
      " Train accuracy:  0.697228144989339 | \n"
     ]
    },
    {
     "name": "stderr",
     "output_type": "stream",
     "text": [
      "\r",
      "KAN_MNIST_0_1723657767:  43%|████▎     | 43/100 [2:33:18<3:29:39, 220.70s/it]"
     ]
    },
    {
     "name": "stdout",
     "output_type": "stream",
     "text": [
      " Test accuracy:  0.707\n"
     ]
    },
    {
     "name": "stdout",
     "output_type": "stream",
     "text": [
      "\n",
      "correct: 340 total: 469\n",
      "loss: 0.11341760928696915\n",
      " Train accuracy:  0.7249466950959488 | \n"
     ]
    },
    {
     "name": "stderr",
     "output_type": "stream",
     "text": [
      "\r",
      "KAN_MNIST_0_1723657767:  44%|████▍     | 44/100 [2:36:58<3:25:36, 220.29s/it]"
     ]
    },
    {
     "name": "stdout",
     "output_type": "stream",
     "text": [
      " Test accuracy:  0.6837\n"
     ]
    },
    {
     "name": "stdout",
     "output_type": "stream",
     "text": [
      "\n",
      "correct: 344 total: 469\n",
      "loss: 0.11362417927111136\n",
      " Train accuracy:  0.7334754797441365 | \n"
     ]
    },
    {
     "name": "stderr",
     "output_type": "stream",
     "text": [
      "\r",
      "KAN_MNIST_0_1723657767:  45%|████▌     | 45/100 [2:40:37<3:21:34, 219.90s/it]"
     ]
    },
    {
     "name": "stdout",
     "output_type": "stream",
     "text": [
      " Test accuracy:  0.6931\n"
     ]
    },
    {
     "name": "stdout",
     "output_type": "stream",
     "text": [
      "\n",
      "correct: 319 total: 469\n",
      "loss: 0.11381515460227852\n",
      " Train accuracy:  0.6801705756929638 | \n"
     ]
    },
    {
     "name": "stderr",
     "output_type": "stream",
     "text": [
      "\r",
      "KAN_MNIST_0_1723657767:  46%|████▌     | 46/100 [2:44:23<3:19:46, 221.97s/it]"
     ]
    },
    {
     "name": "stdout",
     "output_type": "stream",
     "text": [
      " Test accuracy:  0.6965\n"
     ]
    },
    {
     "name": "stdout",
     "output_type": "stream",
     "text": [
      "\n",
      "correct: 342 total: 469\n",
      "loss: 0.11367768656089107\n",
      " Train accuracy:  0.7292110874200426 | \n"
     ]
    },
    {
     "name": "stderr",
     "output_type": "stream",
     "text": [
      "\r",
      "KAN_MNIST_0_1723657767:  47%|████▋     | 47/100 [2:48:06<3:16:10, 222.08s/it]"
     ]
    },
    {
     "name": "stdout",
     "output_type": "stream",
     "text": [
      " Test accuracy:  0.6987\n"
     ]
    },
    {
     "name": "stdout",
     "output_type": "stream",
     "text": [
      "\n",
      "correct: 318 total: 469\n",
      "loss: 0.11393488784715819\n",
      " Train accuracy:  0.6780383795309168 | \n"
     ]
    },
    {
     "name": "stderr",
     "output_type": "stream",
     "text": [
      "\r",
      "KAN_MNIST_0_1723657767:  48%|████▊     | 48/100 [2:51:46<3:12:05, 221.65s/it]"
     ]
    },
    {
     "name": "stdout",
     "output_type": "stream",
     "text": [
      " Test accuracy:  0.7037\n"
     ]
    },
    {
     "name": "stdout",
     "output_type": "stream",
     "text": [
      "\n",
      "correct: 349 total: 469\n",
      "loss: 0.11421690730334345\n",
      " Train accuracy:  0.744136460554371 | \n"
     ]
    },
    {
     "name": "stderr",
     "output_type": "stream",
     "text": [
      "\r",
      "KAN_MNIST_0_1723657767:  49%|████▉     | 49/100 [2:55:26<3:07:55, 221.10s/it]"
     ]
    },
    {
     "name": "stdout",
     "output_type": "stream",
     "text": [
      " Test accuracy:  0.7132\n"
     ]
    },
    {
     "name": "stdout",
     "output_type": "stream",
     "text": [
      "\n",
      "correct: 323 total: 469\n",
      "loss: 0.1148567081673313\n",
      " Train accuracy:  0.6886993603411514 | \n"
     ]
    },
    {
     "name": "stderr",
     "output_type": "stream",
     "text": [
      "\r",
      "KAN_MNIST_0_1723657767:  50%|█████     | 50/100 [2:59:08<3:04:23, 221.28s/it]"
     ]
    },
    {
     "name": "stdout",
     "output_type": "stream",
     "text": [
      " Test accuracy:  0.7078\n"
     ]
    },
    {
     "name": "stdout",
     "output_type": "stream",
     "text": [
      "\n",
      "correct: 324 total: 469\n",
      "loss: 0.11365214344471503\n",
      " Train accuracy:  0.6908315565031983 | \n"
     ]
    },
    {
     "name": "stderr",
     "output_type": "stream",
     "text": [
      "\r",
      "KAN_MNIST_0_1723657767:  51%|█████     | 51/100 [3:02:51<3:01:13, 221.91s/it]"
     ]
    },
    {
     "name": "stdout",
     "output_type": "stream",
     "text": [
      " Test accuracy:  0.7188\n"
     ]
    },
    {
     "name": "stdout",
     "output_type": "stream",
     "text": [
      "\n",
      "correct: 322 total: 469\n",
      "loss: 0.11434024419865883\n",
      " Train accuracy:  0.6865671641791045 | \n"
     ]
    },
    {
     "name": "stderr",
     "output_type": "stream",
     "text": [
      "\r",
      "KAN_MNIST_0_1723657767:  52%|█████▏    | 52/100 [3:06:34<2:57:37, 222.02s/it]"
     ]
    },
    {
     "name": "stdout",
     "output_type": "stream",
     "text": [
      " Test accuracy:  0.7128\n"
     ]
    },
    {
     "name": "stdout",
     "output_type": "stream",
     "text": [
      "\n",
      "correct: 330 total: 469\n",
      "loss: 0.11497487895079513\n",
      " Train accuracy:  0.7036247334754797 | \n"
     ]
    },
    {
     "name": "stderr",
     "output_type": "stream",
     "text": [
      "\r",
      "KAN_MNIST_0_1723657767:  53%|█████▎    | 53/100 [3:10:17<2:54:10, 222.36s/it]"
     ]
    },
    {
     "name": "stdout",
     "output_type": "stream",
     "text": [
      " Test accuracy:  0.7116\n"
     ]
    },
    {
     "name": "stdout",
     "output_type": "stream",
     "text": [
      "\n",
      "correct: 339 total: 469\n",
      "loss: 0.11489190216829527\n",
      " Train accuracy:  0.7228144989339019 | \n"
     ]
    },
    {
     "name": "stderr",
     "output_type": "stream",
     "text": [
      "\r",
      "KAN_MNIST_0_1723657767:  54%|█████▍    | 54/100 [3:14:01<2:51:01, 223.08s/it]"
     ]
    },
    {
     "name": "stdout",
     "output_type": "stream",
     "text": [
      " Test accuracy:  0.7039\n"
     ]
    },
    {
     "name": "stdout",
     "output_type": "stream",
     "text": [
      "\n",
      "correct: 309 total: 469\n",
      "loss: 0.11521669254818959\n",
      " Train accuracy:  0.6588486140724946 | \n"
     ]
    },
    {
     "name": "stderr",
     "output_type": "stream",
     "text": [
      "\r",
      "KAN_MNIST_0_1723657767:  55%|█████▌    | 55/100 [3:17:46<2:47:40, 223.58s/it]"
     ]
    },
    {
     "name": "stdout",
     "output_type": "stream",
     "text": [
      " Test accuracy:  0.6984\n"
     ]
    },
    {
     "name": "stdout",
     "output_type": "stream",
     "text": [
      "\n",
      "correct: 338 total: 469\n",
      "loss: 0.11540627670186415\n",
      " Train accuracy:  0.720682302771855 | \n"
     ]
    },
    {
     "name": "stderr",
     "output_type": "stream",
     "text": [
      "\r",
      "KAN_MNIST_0_1723657767:  56%|█████▌    | 56/100 [3:21:30<2:43:53, 223.49s/it]"
     ]
    },
    {
     "name": "stdout",
     "output_type": "stream",
     "text": [
      " Test accuracy:  0.709\n"
     ]
    },
    {
     "name": "stdout",
     "output_type": "stream",
     "text": [
      "\n",
      "correct: 323 total: 469\n",
      "loss: 0.11516112014492437\n",
      " Train accuracy:  0.6886993603411514 | \n"
     ]
    },
    {
     "name": "stderr",
     "output_type": "stream",
     "text": [
      "\r",
      "KAN_MNIST_0_1723657767:  57%|█████▋    | 57/100 [3:25:12<2:39:59, 223.24s/it]"
     ]
    },
    {
     "name": "stdout",
     "output_type": "stream",
     "text": [
      " Test accuracy:  0.7014\n"
     ]
    },
    {
     "name": "stdout",
     "output_type": "stream",
     "text": [
      "\n",
      "correct: 325 total: 469\n",
      "loss: 0.11533989174279577\n",
      " Train accuracy:  0.6929637526652452 | \n"
     ]
    },
    {
     "name": "stderr",
     "output_type": "stream",
     "text": [
      "\r",
      "KAN_MNIST_0_1723657767:  58%|█████▊    | 58/100 [3:28:58<2:36:46, 223.96s/it]"
     ]
    },
    {
     "name": "stdout",
     "output_type": "stream",
     "text": [
      " Test accuracy:  0.6981\n"
     ]
    },
    {
     "name": "stdout",
     "output_type": "stream",
     "text": [
      "\n",
      "correct: 330 total: 469\n",
      "loss: 0.11582131561503481\n",
      " Train accuracy:  0.7036247334754797 | \n"
     ]
    },
    {
     "name": "stderr",
     "output_type": "stream",
     "text": [
      "\r",
      "KAN_MNIST_0_1723657767:  59%|█████▉    | 59/100 [3:32:42<2:33:10, 224.16s/it]"
     ]
    },
    {
     "name": "stdout",
     "output_type": "stream",
     "text": [
      " Test accuracy:  0.706\n"
     ]
    },
    {
     "name": "stdout",
     "output_type": "stream",
     "text": [
      "\n",
      "correct: 329 total: 469\n",
      "loss: 0.1166146132292778\n",
      " Train accuracy:  0.7014925373134329 | \n"
     ]
    },
    {
     "name": "stderr",
     "output_type": "stream",
     "text": [
      "\r",
      "KAN_MNIST_0_1723657767:  60%|██████    | 60/100 [3:36:27<2:29:34, 224.36s/it]"
     ]
    },
    {
     "name": "stdout",
     "output_type": "stream",
     "text": [
      " Test accuracy:  0.7056\n"
     ]
    },
    {
     "name": "stdout",
     "output_type": "stream",
     "text": [
      "\n",
      "correct: 326 total: 469\n",
      "loss: 0.11570605055800379\n",
      " Train accuracy:  0.6950959488272921 | \n"
     ]
    },
    {
     "name": "stderr",
     "output_type": "stream",
     "text": [
      "\r",
      "KAN_MNIST_0_1723657767:  61%|██████    | 61/100 [3:40:12<2:25:57, 224.54s/it]"
     ]
    },
    {
     "name": "stdout",
     "output_type": "stream",
     "text": [
      " Test accuracy:  0.6959\n"
     ]
    },
    {
     "name": "stdout",
     "output_type": "stream",
     "text": [
      "\n",
      "correct: 334 total: 469\n",
      "loss: 0.11562600428425172\n",
      " Train accuracy:  0.7121535181236673 | \n"
     ]
    },
    {
     "name": "stderr",
     "output_type": "stream",
     "text": [
      "\r",
      "KAN_MNIST_0_1723657767:  62%|██████▏   | 62/100 [3:43:57<2:22:14, 224.58s/it]"
     ]
    },
    {
     "name": "stdout",
     "output_type": "stream",
     "text": [
      " Test accuracy:  0.7003\n"
     ]
    },
    {
     "name": "stdout",
     "output_type": "stream",
     "text": [
      "\n",
      "correct: 332 total: 469\n",
      "loss: 0.11645714107797599\n",
      " Train accuracy:  0.7078891257995735 | \n"
     ]
    },
    {
     "name": "stderr",
     "output_type": "stream",
     "text": [
      "\r",
      "KAN_MNIST_0_1723657767:  63%|██████▎   | 63/100 [3:47:40<2:18:12, 224.13s/it]"
     ]
    },
    {
     "name": "stdout",
     "output_type": "stream",
     "text": [
      " Test accuracy:  0.7134\n"
     ]
    },
    {
     "name": "stdout",
     "output_type": "stream",
     "text": [
      "\n",
      "correct: 330 total: 469\n",
      "loss: 0.11684119337593823\n",
      " Train accuracy:  0.7036247334754797 | \n"
     ]
    },
    {
     "name": "stderr",
     "output_type": "stream",
     "text": [
      "\r",
      "KAN_MNIST_0_1723657767:  64%|██████▍   | 64/100 [3:51:24<2:14:31, 224.21s/it]"
     ]
    },
    {
     "name": "stdout",
     "output_type": "stream",
     "text": [
      " Test accuracy:  0.7094\n"
     ]
    },
    {
     "name": "stdout",
     "output_type": "stream",
     "text": [
      "\n",
      "correct: 335 total: 469\n",
      "loss: 0.11660706223264686\n",
      " Train accuracy:  0.7142857142857143 | \n"
     ]
    },
    {
     "name": "stderr",
     "output_type": "stream",
     "text": [
      "\r",
      "KAN_MNIST_0_1723657767:  65%|██████▌   | 65/100 [3:55:07<2:10:35, 223.87s/it]"
     ]
    },
    {
     "name": "stdout",
     "output_type": "stream",
     "text": [
      " Test accuracy:  0.7014\n"
     ]
    },
    {
     "name": "stdout",
     "output_type": "stream",
     "text": [
      "\n",
      "correct: 317 total: 469\n",
      "loss: 0.11640037151414957\n",
      " Train accuracy:  0.67590618336887 | \n"
     ]
    },
    {
     "name": "stderr",
     "output_type": "stream",
     "text": [
      "\r",
      "KAN_MNIST_0_1723657767:  66%|██████▌   | 66/100 [3:58:52<2:06:56, 224.01s/it]"
     ]
    },
    {
     "name": "stdout",
     "output_type": "stream",
     "text": [
      " Test accuracy:  0.7104\n"
     ]
    },
    {
     "name": "stdout",
     "output_type": "stream",
     "text": [
      "\n",
      "correct: 311 total: 469\n",
      "loss: 0.11649347007719439\n",
      " Train accuracy:  0.6631130063965884 | \n"
     ]
    },
    {
     "name": "stderr",
     "output_type": "stream",
     "text": [
      "\r",
      "KAN_MNIST_0_1723657767:  67%|██████▋   | 67/100 [4:02:36<2:03:18, 224.20s/it]"
     ]
    },
    {
     "name": "stdout",
     "output_type": "stream",
     "text": [
      " Test accuracy:  0.7104\n"
     ]
    },
    {
     "name": "stdout",
     "output_type": "stream",
     "text": [
      "\n",
      "correct: 331 total: 469\n",
      "loss: 0.11640249983842439\n",
      " Train accuracy:  0.7057569296375267 | \n"
     ]
    },
    {
     "name": "stderr",
     "output_type": "stream",
     "text": [
      "\r",
      "KAN_MNIST_0_1723657767:  68%|██████▊   | 68/100 [4:06:22<1:59:51, 224.73s/it]"
     ]
    },
    {
     "name": "stdout",
     "output_type": "stream",
     "text": [
      " Test accuracy:  0.7128\n"
     ]
    },
    {
     "name": "stdout",
     "output_type": "stream",
     "text": [
      "\n",
      "correct: 336 total: 469\n",
      "loss: 0.11681397921685725\n",
      " Train accuracy:  0.7164179104477612 | \n"
     ]
    },
    {
     "name": "stderr",
     "output_type": "stream",
     "text": [
      "\r",
      "KAN_MNIST_0_1723657767:  69%|██████▉   | 69/100 [4:10:07<1:56:07, 224.75s/it]"
     ]
    },
    {
     "name": "stdout",
     "output_type": "stream",
     "text": [
      " Test accuracy:  0.7192\n"
     ]
    },
    {
     "name": "stdout",
     "output_type": "stream",
     "text": [
      "\n",
      "correct: 335 total: 469\n",
      "loss: 0.1161930480682011\n",
      " Train accuracy:  0.7142857142857143 | \n"
     ]
    },
    {
     "name": "stderr",
     "output_type": "stream",
     "text": [
      "\r",
      "KAN_MNIST_0_1723657767:  70%|███████   | 70/100 [4:13:51<1:52:18, 224.61s/it]"
     ]
    },
    {
     "name": "stdout",
     "output_type": "stream",
     "text": [
      " Test accuracy:  0.7158\n"
     ]
    },
    {
     "name": "stdout",
     "output_type": "stream",
     "text": [
      "\n",
      "correct: 326 total: 469\n",
      "loss: 0.11695914984003568\n",
      " Train accuracy:  0.6950959488272921 | \n"
     ]
    },
    {
     "name": "stderr",
     "output_type": "stream",
     "text": [
      "\r",
      "KAN_MNIST_0_1723657767:  71%|███████   | 71/100 [4:17:37<1:48:39, 224.82s/it]"
     ]
    },
    {
     "name": "stdout",
     "output_type": "stream",
     "text": [
      " Test accuracy:  0.7114\n"
     ]
    },
    {
     "name": "stdout",
     "output_type": "stream",
     "text": [
      "\n",
      "correct: 350 total: 469\n",
      "loss: 0.11679076551120164\n",
      " Train accuracy:  0.746268656716418 | \n"
     ]
    },
    {
     "name": "stderr",
     "output_type": "stream",
     "text": [
      "\r",
      "KAN_MNIST_0_1723657767:  72%|███████▏  | 72/100 [4:21:23<1:45:06, 225.24s/it]"
     ]
    },
    {
     "name": "stdout",
     "output_type": "stream",
     "text": [
      " Test accuracy:  0.7018\n"
     ]
    },
    {
     "name": "stdout",
     "output_type": "stream",
     "text": [
      "\n",
      "correct: 328 total: 469\n",
      "loss: 0.11669575724838131\n",
      " Train accuracy:  0.6993603411513859 | \n"
     ]
    },
    {
     "name": "stderr",
     "output_type": "stream",
     "text": [
      "\r",
      "KAN_MNIST_0_1723657767:  73%|███████▎  | 73/100 [4:25:08<1:41:16, 225.06s/it]"
     ]
    },
    {
     "name": "stdout",
     "output_type": "stream",
     "text": [
      " Test accuracy:  0.6899\n"
     ]
    },
    {
     "name": "stdout",
     "output_type": "stream",
     "text": [
      "\n",
      "correct: 342 total: 469\n",
      "loss: 0.11747554777019313\n",
      " Train accuracy:  0.7292110874200426 | \n"
     ]
    },
    {
     "name": "stderr",
     "output_type": "stream",
     "text": [
      "\r",
      "KAN_MNIST_0_1723657767:  74%|███████▍  | 74/100 [4:28:52<1:37:24, 224.79s/it]"
     ]
    },
    {
     "name": "stdout",
     "output_type": "stream",
     "text": [
      " Test accuracy:  0.7175\n"
     ]
    },
    {
     "name": "stdout",
     "output_type": "stream",
     "text": [
      "\n",
      "correct: 331 total: 469\n",
      "loss: 0.117415290317937\n",
      " Train accuracy:  0.7057569296375267 | \n"
     ]
    },
    {
     "name": "stderr",
     "output_type": "stream",
     "text": [
      "\r",
      "KAN_MNIST_0_1723657767:  75%|███████▌  | 75/100 [4:32:33<1:33:13, 223.73s/it]"
     ]
    },
    {
     "name": "stdout",
     "output_type": "stream",
     "text": [
      " Test accuracy:  0.7266\n"
     ]
    },
    {
     "name": "stdout",
     "output_type": "stream",
     "text": [
      "\n",
      "correct: 338 total: 469\n",
      "loss: 0.11753872634251235\n",
      " Train accuracy:  0.720682302771855 | \n"
     ]
    },
    {
     "name": "stderr",
     "output_type": "stream",
     "text": [
      "\r",
      "KAN_MNIST_0_1723657767:  76%|███████▌  | 76/100 [4:36:13<1:29:04, 222.70s/it]"
     ]
    },
    {
     "name": "stdout",
     "output_type": "stream",
     "text": [
      " Test accuracy:  0.7055\n"
     ]
    },
    {
     "name": "stdout",
     "output_type": "stream",
     "text": [
      "\n",
      "correct: 334 total: 469\n",
      "loss: 0.11738070345191813\n",
      " Train accuracy:  0.7121535181236673 | \n"
     ]
    },
    {
     "name": "stderr",
     "output_type": "stream",
     "text": [
      "\r",
      "KAN_MNIST_0_1723657767:  77%|███████▋  | 77/100 [4:39:54<1:25:09, 222.13s/it]"
     ]
    },
    {
     "name": "stdout",
     "output_type": "stream",
     "text": [
      " Test accuracy:  0.7155\n"
     ]
    },
    {
     "name": "stdout",
     "output_type": "stream",
     "text": [
      "\n",
      "correct: 345 total: 469\n",
      "loss: 0.11745450920514715\n",
      " Train accuracy:  0.7356076759061834 | \n"
     ]
    },
    {
     "name": "stderr",
     "output_type": "stream",
     "text": [
      "\r",
      "KAN_MNIST_0_1723657767:  78%|███████▊  | 78/100 [4:43:34<1:21:13, 221.50s/it]"
     ]
    },
    {
     "name": "stdout",
     "output_type": "stream",
     "text": [
      " Test accuracy:  0.7062\n"
     ]
    },
    {
     "name": "stdout",
     "output_type": "stream",
     "text": [
      "\n",
      "correct: 337 total: 469\n",
      "loss: 0.11712297565266014\n",
      " Train accuracy:  0.7185501066098081 | \n"
     ]
    },
    {
     "name": "stderr",
     "output_type": "stream",
     "text": [
      "\r",
      "KAN_MNIST_0_1723657767:  79%|███████▉  | 79/100 [4:47:15<1:17:25, 221.21s/it]"
     ]
    },
    {
     "name": "stdout",
     "output_type": "stream",
     "text": [
      " Test accuracy:  0.7168\n"
     ]
    },
    {
     "name": "stdout",
     "output_type": "stream",
     "text": [
      "\n",
      "correct: 345 total: 469\n",
      "loss: 0.11682975735427982\n",
      " Train accuracy:  0.7356076759061834 | \n"
     ]
    },
    {
     "name": "stderr",
     "output_type": "stream",
     "text": [
      "\r",
      "KAN_MNIST_0_1723657767:  80%|████████  | 80/100 [4:50:56<1:13:43, 221.20s/it]"
     ]
    },
    {
     "name": "stdout",
     "output_type": "stream",
     "text": [
      " Test accuracy:  0.7216\n"
     ]
    },
    {
     "name": "stdout",
     "output_type": "stream",
     "text": [
      "\n",
      "correct: 337 total: 469\n",
      "loss: 0.11713788745754054\n",
      " Train accuracy:  0.7185501066098081 | \n"
     ]
    },
    {
     "name": "stderr",
     "output_type": "stream",
     "text": [
      "\r",
      "KAN_MNIST_0_1723657767:  81%|████████  | 81/100 [4:54:36<1:09:56, 220.87s/it]"
     ]
    },
    {
     "name": "stdout",
     "output_type": "stream",
     "text": [
      " Test accuracy:  0.7257\n"
     ]
    },
    {
     "name": "stdout",
     "output_type": "stream",
     "text": [
      "\n",
      "correct: 326 total: 469\n",
      "loss: 0.11750489411387108\n",
      " Train accuracy:  0.6950959488272921 | \n"
     ]
    },
    {
     "name": "stderr",
     "output_type": "stream",
     "text": [
      "\r",
      "KAN_MNIST_0_1723657767:  82%|████████▏ | 82/100 [4:58:16<1:06:11, 220.62s/it]"
     ]
    },
    {
     "name": "stdout",
     "output_type": "stream",
     "text": [
      " Test accuracy:  0.7227\n"
     ]
    },
    {
     "name": "stdout",
     "output_type": "stream",
     "text": [
      "\n",
      "correct: 323 total: 469\n",
      "loss: 0.11699140286331237\n",
      " Train accuracy:  0.6886993603411514 | \n"
     ]
    },
    {
     "name": "stderr",
     "output_type": "stream",
     "text": [
      "\r",
      "KAN_MNIST_0_1723657767:  83%|████████▎ | 83/100 [5:01:57<1:02:32, 220.74s/it]"
     ]
    },
    {
     "name": "stdout",
     "output_type": "stream",
     "text": [
      " Test accuracy:  0.7156\n"
     ]
    },
    {
     "name": "stdout",
     "output_type": "stream",
     "text": [
      "\n",
      "correct: 331 total: 469\n",
      "loss: 0.11685039549430551\n",
      " Train accuracy:  0.7057569296375267 | \n"
     ]
    },
    {
     "name": "stderr",
     "output_type": "stream",
     "text": [
      "\r",
      "KAN_MNIST_0_1723657767:  84%|████████▍ | 84/100 [5:05:37<58:48, 220.52s/it]  "
     ]
    },
    {
     "name": "stdout",
     "output_type": "stream",
     "text": [
      " Test accuracy:  0.7197\n"
     ]
    },
    {
     "name": "stdout",
     "output_type": "stream",
     "text": [
      "\n",
      "correct: 336 total: 469\n",
      "loss: 0.11740383100725695\n",
      " Train accuracy:  0.7164179104477612 | \n"
     ]
    },
    {
     "name": "stderr",
     "output_type": "stream",
     "text": [
      "\r",
      "KAN_MNIST_0_1723657767:  85%|████████▌ | 85/100 [5:09:17<55:05, 220.34s/it]"
     ]
    },
    {
     "name": "stdout",
     "output_type": "stream",
     "text": [
      " Test accuracy:  0.7253\n"
     ]
    },
    {
     "name": "stdout",
     "output_type": "stream",
     "text": [
      "\n",
      "correct: 325 total: 469\n",
      "loss: 0.11749737252241005\n",
      " Train accuracy:  0.6929637526652452 | \n"
     ]
    },
    {
     "name": "stderr",
     "output_type": "stream",
     "text": [
      "\r",
      "KAN_MNIST_0_1723657767:  86%|████████▌ | 86/100 [5:12:58<51:25, 220.42s/it]"
     ]
    },
    {
     "name": "stdout",
     "output_type": "stream",
     "text": [
      " Test accuracy:  0.7208\n"
     ]
    },
    {
     "name": "stdout",
     "output_type": "stream",
     "text": [
      "\n",
      "correct: 332 total: 469\n",
      "loss: 0.11814562355213837\n",
      " Train accuracy:  0.7078891257995735 | \n"
     ]
    },
    {
     "name": "stderr",
     "output_type": "stream",
     "text": [
      "\r",
      "KAN_MNIST_0_1723657767:  87%|████████▋ | 87/100 [5:16:40<47:54, 221.09s/it]"
     ]
    },
    {
     "name": "stdout",
     "output_type": "stream",
     "text": [
      " Test accuracy:  0.727\n"
     ]
    },
    {
     "name": "stdout",
     "output_type": "stream",
     "text": [
      "\n",
      "correct: 346 total: 469\n",
      "loss: 0.11732870912246866\n",
      " Train accuracy:  0.7377398720682303 | \n"
     ]
    },
    {
     "name": "stderr",
     "output_type": "stream",
     "text": [
      "\r",
      "KAN_MNIST_0_1723657767:  88%|████████▊ | 88/100 [5:20:24<44:23, 221.96s/it]"
     ]
    },
    {
     "name": "stdout",
     "output_type": "stream",
     "text": [
      " Test accuracy:  0.7218\n"
     ]
    },
    {
     "name": "stdout",
     "output_type": "stream",
     "text": [
      "\n",
      "correct: 325 total: 469\n",
      "loss: 0.11836801760041638\n",
      " Train accuracy:  0.6929637526652452 | \n"
     ]
    },
    {
     "name": "stderr",
     "output_type": "stream",
     "text": [
      "\r",
      "KAN_MNIST_0_1723657767:  89%|████████▉ | 89/100 [5:24:07<40:45, 222.30s/it]"
     ]
    },
    {
     "name": "stdout",
     "output_type": "stream",
     "text": [
      " Test accuracy:  0.7207\n"
     ]
    },
    {
     "name": "stdout",
     "output_type": "stream",
     "text": [
      "\n",
      "correct: 338 total: 469\n",
      "loss: 0.11810886394431087\n",
      " Train accuracy:  0.720682302771855 | \n"
     ]
    },
    {
     "name": "stderr",
     "output_type": "stream",
     "text": [
      "\r",
      "KAN_MNIST_0_1723657767:  90%|█████████ | 90/100 [5:27:51<37:08, 222.83s/it]"
     ]
    },
    {
     "name": "stdout",
     "output_type": "stream",
     "text": [
      " Test accuracy:  0.7189\n"
     ]
    },
    {
     "name": "stdout",
     "output_type": "stream",
     "text": [
      "\n",
      "correct: 339 total: 469\n",
      "loss: 0.11775287499687057\n",
      " Train accuracy:  0.7228144989339019 | \n"
     ]
    },
    {
     "name": "stderr",
     "output_type": "stream",
     "text": [
      "\r",
      "KAN_MNIST_0_1723657767:  91%|█████████ | 91/100 [5:31:32<33:20, 222.28s/it]"
     ]
    },
    {
     "name": "stdout",
     "output_type": "stream",
     "text": [
      " Test accuracy:  0.719\n"
     ]
    },
    {
     "name": "stdout",
     "output_type": "stream",
     "text": [
      "\n",
      "correct: 340 total: 469\n",
      "loss: 0.11711679487975675\n",
      " Train accuracy:  0.7249466950959488 | \n"
     ]
    },
    {
     "name": "stderr",
     "output_type": "stream",
     "text": [
      "\r",
      "KAN_MNIST_0_1723657767:  92%|█████████▏| 92/100 [5:35:15<29:39, 222.43s/it]"
     ]
    },
    {
     "name": "stdout",
     "output_type": "stream",
     "text": [
      " Test accuracy:  0.725\n"
     ]
    },
    {
     "name": "stdout",
     "output_type": "stream",
     "text": [
      "\n",
      "correct: 320 total: 469\n",
      "loss: 0.11772508641232306\n",
      " Train accuracy:  0.6823027718550106 | \n"
     ]
    },
    {
     "name": "stderr",
     "output_type": "stream",
     "text": [
      "\r",
      "KAN_MNIST_0_1723657767:  93%|█████████▎| 93/100 [5:38:58<25:57, 222.52s/it]"
     ]
    },
    {
     "name": "stdout",
     "output_type": "stream",
     "text": [
      " Test accuracy:  0.7199\n"
     ]
    },
    {
     "name": "stdout",
     "output_type": "stream",
     "text": [
      "\n",
      "correct: 327 total: 469\n",
      "loss: 0.11805409574305326\n",
      " Train accuracy:  0.697228144989339 | \n"
     ]
    },
    {
     "name": "stderr",
     "output_type": "stream",
     "text": [
      "\r",
      "KAN_MNIST_0_1723657767:  94%|█████████▍| 94/100 [5:42:44<22:20, 223.46s/it]"
     ]
    },
    {
     "name": "stdout",
     "output_type": "stream",
     "text": [
      " Test accuracy:  0.7215\n"
     ]
    },
    {
     "name": "stdout",
     "output_type": "stream",
     "text": [
      "\n",
      "correct: 342 total: 469\n",
      "loss: 0.1179240467801277\n",
      " Train accuracy:  0.7292110874200426 | \n"
     ]
    },
    {
     "name": "stderr",
     "output_type": "stream",
     "text": [
      "\r",
      "KAN_MNIST_0_1723657767:  95%|█████████▌| 95/100 [5:46:30<18:41, 224.23s/it]"
     ]
    },
    {
     "name": "stdout",
     "output_type": "stream",
     "text": [
      " Test accuracy:  0.7211\n"
     ]
    },
    {
     "name": "stdout",
     "output_type": "stream",
     "text": [
      "\n",
      "correct: 347 total: 469\n",
      "loss: 0.11801092873122901\n",
      " Train accuracy:  0.7398720682302772 | \n"
     ]
    },
    {
     "name": "stderr",
     "output_type": "stream",
     "text": [
      "\r",
      "KAN_MNIST_0_1723657767:  96%|█████████▌| 96/100 [5:50:15<14:58, 224.57s/it]"
     ]
    },
    {
     "name": "stdout",
     "output_type": "stream",
     "text": [
      " Test accuracy:  0.7255\n"
     ]
    },
    {
     "name": "stdout",
     "output_type": "stream",
     "text": [
      "\n",
      "correct: 346 total: 469\n",
      "loss: 0.11791432440789269\n",
      " Train accuracy:  0.7377398720682303 | \n"
     ]
    },
    {
     "name": "stderr",
     "output_type": "stream",
     "text": [
      "\r",
      "KAN_MNIST_0_1723657767:  97%|█████████▋| 97/100 [5:54:00<11:13, 224.63s/it]"
     ]
    },
    {
     "name": "stdout",
     "output_type": "stream",
     "text": [
      " Test accuracy:  0.727\n"
     ]
    },
    {
     "name": "stdout",
     "output_type": "stream",
     "text": [
      "\n",
      "correct: 346 total: 469\n",
      "loss: 0.11823750144319493\n",
      " Train accuracy:  0.7377398720682303 | \n"
     ]
    },
    {
     "name": "stderr",
     "output_type": "stream",
     "text": [
      "\r",
      "KAN_MNIST_0_1723657767:  98%|█████████▊| 98/100 [5:57:44<07:29, 224.65s/it]"
     ]
    },
    {
     "name": "stdout",
     "output_type": "stream",
     "text": [
      " Test accuracy:  0.7189\n"
     ]
    },
    {
     "name": "stdout",
     "output_type": "stream",
     "text": [
      "\n",
      "correct: 318 total: 469\n",
      "loss: 0.11804174450732498\n",
      " Train accuracy:  0.6780383795309168 | \n"
     ]
    },
    {
     "name": "stderr",
     "output_type": "stream",
     "text": [
      "\r",
      "KAN_MNIST_0_1723657767:  99%|█████████▉| 99/100 [6:01:31<03:45, 225.23s/it]"
     ]
    },
    {
     "name": "stdout",
     "output_type": "stream",
     "text": [
      " Test accuracy:  0.7112\n"
     ]
    },
    {
     "name": "stdout",
     "output_type": "stream",
     "text": [
      "\n",
      "correct: 336 total: 469\n",
      "loss: 0.11821267440883336\n",
      " Train accuracy:  0.7164179104477612 | \n"
     ]
    },
    {
     "name": "stderr",
     "output_type": "stream",
     "text": [
      "\r",
      "KAN_MNIST_0_1723657767: 100%|██████████| 100/100 [6:05:24<00:00, 227.55s/it]"
     ]
    },
    {
     "name": "stderr",
     "output_type": "stream",
     "text": [
      "\r",
      "KAN_MNIST_0_1723657767: 100%|██████████| 100/100 [6:05:24<00:00, 219.24s/it]"
     ]
    },
    {
     "name": "stdout",
     "output_type": "stream",
     "text": [
      " Test accuracy:  0.7244\n"
     ]
    },
    {
     "name": "stderr",
     "output_type": "stream",
     "text": [
      "\n"
     ]
    },
    {
     "data": {
      "image/png": "[encoded data removed]",
      "text/plain": [
       "<Figure size 1200x500 with 2 Axes>"
      ]
     },
     "metadata": {},
     "output_type": "display_data"
    },
    {
     "data": {
      "image/png": "[encoded data removed]",
      "text/plain": [
       "<Figure size 1200x500 with 2 Axes>"
      ]
     },
     "metadata": {},
     "output_type": "display_data"
    },
    {
     "name": "stdout",
     "output_type": "stream",
     "text": [
      "Final Train Accuracy: 0.72 ± 0.02\n",
      "Final Test Accuracy: 0.72 ± 0.00\n"
     ]
    }
   ],
   "source": [
    "\n",
    "config = {\n",
    "    \"batch_size\": 128,\n",
    "    \"n_epochs\": 100,\n",
    "    \"gamma\": 0.99,\n",
    "    \"learning_rate\": 1e-3, # 0.0005\n",
    "    \"weight_decay\": 1e-4,\n",
    "    \"width\": 8,\n",
    "    \"grid\": 2,\n",
    "    \"method\": \"KAN\",  # \"MLP\", \"KAN\"\n",
    "    \"seed\": 0,\n",
    "    \"input_size\": 8 * 8, # number of features\n",
    "    \"output_size\": 10, # number of classes\n",
    "    \"buffer_size\": 100000,\n",
    "    \"target_update\": 10,\n",
    "    \"warm_up_episodes\": 2,\n",
    "    \"num_filters\": 4,\n",
    "    \"num_conv_layers\": 2,\n",
    "    \"first_channel\": 1, # (1,8,8)\n",
    "    \"hidden_dim\": 128,\n",
    "    \"feature_selection\": True,\n",
    "    \"distribution\": \"beta\", # bernoulli, categorical, gumbel_softmax, gaussian, beta, dirichlet\n",
    "    \"initial_tau\": 1.0, # positive float value\n",
    "\n",
    "}\n",
    "\n",
    "q_network, train_accuracies, test_accuracies, losses, probs_history, feedback_cost_history, train_acc_stds, test_acc_stds, loss_stds, agent = kanRL(config)"
   ]
  },
  {
   "cell_type": "code",
   "execution_count": 7,
   "id": "3fd35c7b",
   "metadata": {
    "execution": {
     "iopub.execute_input": "2024-08-14T23:55:00.214958Z",
     "iopub.status.busy": "2024-08-14T23:55:00.214363Z",
     "iopub.status.idle": "2024-08-14T23:55:10.904699Z",
     "shell.execute_reply": "2024-08-14T23:55:10.903118Z"
    },
    "id": "N2Z7r5_FP9HO",
    "papermill": {
     "duration": 10.750224,
     "end_time": "2024-08-14T23:55:10.909354",
     "exception": false,
     "start_time": "2024-08-14T23:55:00.159130",
     "status": "completed"
    },
    "tags": []
   },
   "outputs": [
    {
     "data": {
      "image/png": "[encoded data removed]",
      "text/plain": [
       "<Figure size 1000x800 with 2 Axes>"
      ]
     },
     "metadata": {},
     "output_type": "display_data"
    }
   ],
   "source": [
    "from sklearn.metrics import confusion_matrix\n",
    "import seaborn as sns\n",
    "\n",
    "y_true = []  # Ground truth labels\n",
    "y_pred = []  # Model predictions\n",
    "\n",
    "# Assuming `test_loader` is your DataLoader for test set\n",
    "with torch.no_grad():\n",
    "    for images, labels in DataLoader(MNIST('./data', train=False, download=True, transform=transforms.Compose([\n",
    "        transforms.Resize((8, 8)),\n",
    "        transforms.ToTensor(),\n",
    "        transforms.Normalize((0.1307,), (0.3081,))\n",
    "    ])), batch_size=config[\"batch_size\"]):\n",
    "        state = images.view(-1,config[\"input_size\"])\n",
    "        if config[\"feature_selection\"] == True:\n",
    "            flat_zoom_X, _, _ = agent(state)\n",
    "            state = flat_zoom_X\n",
    "        outputs = q_network(state)\n",
    "        _, predicted = torch.max(outputs.data, 1)\n",
    "        y_true.extend(labels)\n",
    "        y_pred.extend(predicted)\n",
    "\n",
    "cm = confusion_matrix(y_true, y_pred)\n",
    "plt.figure(figsize=(10, 8))\n",
    "sns.heatmap(cm, annot=True, fmt='d', cmap='Blues')\n",
    "plt.xlabel('Predicted')\n",
    "plt.ylabel('True')\n",
    "plt.title('Confusion Matrix')\n",
    "plt.show()\n"
   ]
  },
  {
   "cell_type": "code",
   "execution_count": 8,
   "id": "85de8f1b",
   "metadata": {
    "execution": {
     "iopub.execute_input": "2024-08-14T23:55:11.021261Z",
     "iopub.status.busy": "2024-08-14T23:55:11.020822Z",
     "iopub.status.idle": "2024-08-14T23:55:11.484095Z",
     "shell.execute_reply": "2024-08-14T23:55:11.481228Z"
    },
    "id": "tbLtQhpCKXbh",
    "papermill": {
     "duration": 0.523099,
     "end_time": "2024-08-14T23:55:11.487350",
     "exception": false,
     "start_time": "2024-08-14T23:55:10.964251",
     "status": "completed"
    },
    "tags": []
   },
   "outputs": [
    {
     "name": "stdout",
     "output_type": "stream",
     "text": [
      "              precision    recall  f1-score   support\n",
      "\n",
      "           0       0.84      0.88      0.86       980\n",
      "           1       0.83      0.94      0.88      1135\n",
      "           2       0.64      0.60      0.62      1032\n",
      "           3       0.63      0.72      0.67      1010\n",
      "           4       0.70      0.70      0.70       982\n",
      "           5       0.65      0.64      0.64       892\n",
      "           6       0.83      0.83      0.83       958\n",
      "           7       0.71      0.79      0.75      1028\n",
      "           8       0.69      0.57      0.62       974\n",
      "           9       0.72      0.56      0.63      1009\n",
      "\n",
      "    accuracy                           0.73     10000\n",
      "   macro avg       0.72      0.72      0.72     10000\n",
      "weighted avg       0.72      0.73      0.72     10000\n",
      "\n"
     ]
    }
   ],
   "source": [
    "import sklearn\n",
    "print(sklearn.metrics.classification_report(y_true, y_pred))"
   ]
  },
  {
   "cell_type": "code",
   "execution_count": 9,
   "id": "0ab68a93",
   "metadata": {
    "execution": {
     "iopub.execute_input": "2024-08-14T23:55:11.598838Z",
     "iopub.status.busy": "2024-08-14T23:55:11.598245Z",
     "iopub.status.idle": "2024-08-14T23:55:12.029047Z",
     "shell.execute_reply": "2024-08-14T23:55:12.027652Z"
    },
    "papermill": {
     "duration": 0.491869,
     "end_time": "2024-08-14T23:55:12.032483",
     "exception": false,
     "start_time": "2024-08-14T23:55:11.540614",
     "status": "completed"
    },
    "tags": []
   },
   "outputs": [
    {
     "data": {
      "text/plain": [
       "12434"
      ]
     },
     "execution_count": 9,
     "metadata": {},
     "output_type": "execute_result"
    }
   ],
   "source": [
    "import gc\n",
    "gc.collect()"
   ]
  },
  {
   "cell_type": "markdown",
   "id": "bc5f291a",
   "metadata": {
    "papermill": {
     "duration": 0.060929,
     "end_time": "2024-08-14T23:55:12.150825",
     "exception": false,
     "start_time": "2024-08-14T23:55:12.089896",
     "status": "completed"
    },
    "tags": []
   },
   "source": [
    "# KAN width=8 grid=1"
   ]
  },
  {
   "cell_type": "code",
   "execution_count": 10,
   "id": "47a6a8a1",
   "metadata": {
    "execution": {
     "iopub.execute_input": "2024-08-14T23:55:12.269044Z",
     "iopub.status.busy": "2024-08-14T23:55:12.268564Z"
    },
    "id": "JDuSwacf9fse",
    "outputId": "0a5f0407-ed77-4f23-b8dc-af933d33fcab",
    "papermill": {
     "duration": null,
     "end_time": null,
     "exception": false,
     "start_time": "2024-08-14T23:55:12.208248",
     "status": "running"
    },
    "scrolled": true,
    "tags": []
   },
   "outputs": [
    {
     "name": "stdout",
     "output_type": "stream",
     "text": [
      "(1, 8, 8)\n",
      "FSNet(\n",
      "  (feature_extractor): Sequential(\n",
      "    (0): Conv2d(1, 8, kernel_size=(3, 3), stride=(1, 1), padding=(1, 1))\n",
      "    (1): ReLU()\n",
      "    (2): MaxPool2d(kernel_size=2, stride=2, padding=0, dilation=1, ceil_mode=False)\n",
      "    (3): Conv2d(8, 16, kernel_size=(3, 3), stride=(1, 1), padding=(1, 1))\n",
      "    (4): ReLU()\n",
      "    (5): MaxPool2d(kernel_size=2, stride=2, padding=0, dilation=1, ceil_mode=False)\n",
      "    (6): Flatten(start_dim=1, end_dim=-1)\n",
      "  )\n",
      "  (fc1): Linear(in_features=64, out_features=128, bias=True)\n",
      "  (relu): ReLU()\n",
      "  (dropout): Dropout(p=0.25, inplace=False)\n",
      "  (fc2): Linear(in_features=128, out_features=64, bias=True)\n",
      "  (sigmoid): Sigmoid()\n",
      "  (softmax): Softmax(dim=-1)\n",
      ")\n",
      "64\n"
     ]
    },
    {
     "name": "stderr",
     "output_type": "stream",
     "text": [
      "\r",
      "KAN_MNIST_0_1723679712:   0%|          | 0/100 [00:00<?, ?it/s]"
     ]
    },
    {
     "name": "stdout",
     "output_type": "stream",
     "text": [
      "\n",
      "correct: 44 total: 469\n",
      "loss: 0.06612788765097478\n",
      " Train accuracy:  0.09381663113006397 | \n"
     ]
    },
    {
     "name": "stderr",
     "output_type": "stream",
     "text": [
      "\r",
      "KAN_MNIST_0_1723679712:   1%|          | 1/100 [02:21<3:53:15, 141.37s/it]"
     ]
    },
    {
     "name": "stdout",
     "output_type": "stream",
     "text": [
      " Test accuracy:  0.1596\n"
     ]
    },
    {
     "name": "stdout",
     "output_type": "stream",
     "text": [
      "\n",
      "correct: 48 total: 469\n",
      "loss: 0.08270930811000277\n",
      " Train accuracy:  0.1023454157782516 | \n"
     ]
    },
    {
     "name": "stderr",
     "output_type": "stream",
     "text": [
      "\r",
      "KAN_MNIST_0_1723679712:   2%|▏         | 2/100 [05:32<4:39:02, 170.84s/it]"
     ]
    },
    {
     "name": "stdout",
     "output_type": "stream",
     "text": [
      " Test accuracy:  0.3701\n"
     ]
    },
    {
     "name": "stdout",
     "output_type": "stream",
     "text": [
      "\n",
      "correct: 188 total: 469\n",
      "loss: 0.08323830264463608\n",
      " Train accuracy:  0.40085287846481876 | \n"
     ]
    },
    {
     "name": "stderr",
     "output_type": "stream",
     "text": [
      "\r",
      "KAN_MNIST_0_1723679712:   3%|▎         | 3/100 [09:06<5:07:50, 190.42s/it]"
     ]
    },
    {
     "name": "stdout",
     "output_type": "stream",
     "text": [
      " Test accuracy:  0.44\n"
     ]
    },
    {
     "name": "stdout",
     "output_type": "stream",
     "text": [
      "\n",
      "correct: 224 total: 469\n",
      "loss: 0.08979801967072842\n",
      " Train accuracy:  0.47761194029850745 | \n"
     ]
    },
    {
     "name": "stderr",
     "output_type": "stream",
     "text": [
      "\r",
      "KAN_MNIST_0_1723679712:   4%|▍         | 4/100 [12:38<5:18:20, 198.96s/it]"
     ]
    },
    {
     "name": "stdout",
     "output_type": "stream",
     "text": [
      " Test accuracy:  0.5222\n"
     ]
    },
    {
     "name": "stdout",
     "output_type": "stream",
     "text": [
      "\n",
      "correct: 256 total: 469\n",
      "loss: 0.09459564363015995\n",
      " Train accuracy:  0.5458422174840085 | \n"
     ]
    },
    {
     "name": "stderr",
     "output_type": "stream",
     "text": [
      "\r",
      "KAN_MNIST_0_1723679712:   5%|▌         | 5/100 [16:11<5:23:09, 204.09s/it]"
     ]
    },
    {
     "name": "stdout",
     "output_type": "stream",
     "text": [
      " Test accuracy:  0.54\n"
     ]
    },
    {
     "name": "stdout",
     "output_type": "stream",
     "text": [
      "\n",
      "correct: 261 total: 469\n",
      "loss: 0.09710506359333677\n",
      " Train accuracy:  0.5565031982942431 | \n"
     ]
    },
    {
     "name": "stderr",
     "output_type": "stream",
     "text": [
      "\r",
      "KAN_MNIST_0_1723679712:   6%|▌         | 6/100 [19:45<5:24:55, 207.40s/it]"
     ]
    },
    {
     "name": "stdout",
     "output_type": "stream",
     "text": [
      " Test accuracy:  0.5428\n"
     ]
    },
    {
     "name": "stdout",
     "output_type": "stream",
     "text": [
      "\n",
      "correct: 264 total: 469\n",
      "loss: 0.09931021604710805\n",
      " Train accuracy:  0.5628997867803838 | \n"
     ]
    },
    {
     "name": "stderr",
     "output_type": "stream",
     "text": [
      "\r",
      "KAN_MNIST_0_1723679712:   7%|▋         | 7/100 [23:20<5:25:04, 209.72s/it]"
     ]
    },
    {
     "name": "stdout",
     "output_type": "stream",
     "text": [
      " Test accuracy:  0.5788\n"
     ]
    },
    {
     "name": "stdout",
     "output_type": "stream",
     "text": [
      "\n",
      "correct: 270 total: 469\n",
      "loss: 0.10123506731697238\n",
      " Train accuracy:  0.5756929637526652 | \n"
     ]
    },
    {
     "name": "stderr",
     "output_type": "stream",
     "text": [
      "\r",
      "KAN_MNIST_0_1723679712:   8%|▊         | 8/100 [26:54<5:23:41, 211.11s/it]"
     ]
    },
    {
     "name": "stdout",
     "output_type": "stream",
     "text": [
      " Test accuracy:  0.6011\n"
     ]
    },
    {
     "name": "stdout",
     "output_type": "stream",
     "text": [
      "\n",
      "correct: 286 total: 469\n",
      "loss: 0.10287050615305077\n",
      " Train accuracy:  0.6098081023454158 | \n"
     ]
    },
    {
     "name": "stderr",
     "output_type": "stream",
     "text": [
      "\r",
      "KAN_MNIST_0_1723679712:   9%|▉         | 9/100 [30:34<5:24:45, 214.13s/it]"
     ]
    },
    {
     "name": "stdout",
     "output_type": "stream",
     "text": [
      " Test accuracy:  0.6273\n"
     ]
    },
    {
     "name": "stdout",
     "output_type": "stream",
     "text": [
      "\n",
      "correct: 284 total: 469\n",
      "loss: 0.10460364985377041\n",
      " Train accuracy:  0.605543710021322 | \n"
     ]
    },
    {
     "name": "stderr",
     "output_type": "stream",
     "text": [
      "\r",
      "KAN_MNIST_0_1723679712:  10%|█         | 10/100 [34:12<5:22:34, 215.05s/it]"
     ]
    },
    {
     "name": "stdout",
     "output_type": "stream",
     "text": [
      " Test accuracy:  0.6385\n"
     ]
    },
    {
     "name": "stdout",
     "output_type": "stream",
     "text": [
      "\n",
      "correct: 272 total: 469\n",
      "loss: 0.10501994807392295\n",
      " Train accuracy:  0.579957356076759 | \n"
     ]
    },
    {
     "name": "stderr",
     "output_type": "stream",
     "text": [
      "\r",
      "KAN_MNIST_0_1723679712:  11%|█         | 11/100 [37:47<5:19:10, 215.17s/it]"
     ]
    },
    {
     "name": "stdout",
     "output_type": "stream",
     "text": [
      " Test accuracy:  0.6382\n"
     ]
    },
    {
     "name": "stdout",
     "output_type": "stream",
     "text": [
      "\n",
      "correct: 295 total: 469\n",
      "loss: 0.1077230488345313\n",
      " Train accuracy:  0.6289978678038379 | \n"
     ]
    },
    {
     "name": "stderr",
     "output_type": "stream",
     "text": [
      "\r",
      "KAN_MNIST_0_1723679712:  12%|█▏        | 12/100 [41:22<5:15:41, 215.24s/it]"
     ]
    },
    {
     "name": "stdout",
     "output_type": "stream",
     "text": [
      " Test accuracy:  0.6411\n"
     ]
    },
    {
     "name": "stdout",
     "output_type": "stream",
     "text": [
      "\n",
      "correct: 295 total: 469\n",
      "loss: 0.10820720610079734\n",
      " Train accuracy:  0.6289978678038379 | \n"
     ]
    },
    {
     "name": "stderr",
     "output_type": "stream",
     "text": [
      "\r",
      "KAN_MNIST_0_1723679712:  13%|█▎        | 13/100 [44:58<5:12:20, 215.41s/it]"
     ]
    },
    {
     "name": "stdout",
     "output_type": "stream",
     "text": [
      " Test accuracy:  0.6565\n"
     ]
    },
    {
     "name": "stdout",
     "output_type": "stream",
     "text": [
      "\n",
      "correct: 315 total: 469\n",
      "loss: 0.10859919228215716\n",
      " Train accuracy:  0.6716417910447762 | \n"
     ]
    },
    {
     "name": "stderr",
     "output_type": "stream",
     "text": [
      "\r",
      "KAN_MNIST_0_1723679712:  14%|█▍        | 14/100 [48:35<5:09:08, 215.68s/it]"
     ]
    },
    {
     "name": "stdout",
     "output_type": "stream",
     "text": [
      " Test accuracy:  0.6635\n"
     ]
    },
    {
     "name": "stdout",
     "output_type": "stream",
     "text": [
      "\n",
      "correct: 313 total: 469\n",
      "loss: 0.10945439665937728\n",
      " Train accuracy:  0.6673773987206824 | \n"
     ]
    },
    {
     "name": "stderr",
     "output_type": "stream",
     "text": [
      "\r",
      "KAN_MNIST_0_1723679712:  15%|█▌        | 15/100 [52:11<5:06:03, 216.04s/it]"
     ]
    },
    {
     "name": "stdout",
     "output_type": "stream",
     "text": [
      " Test accuracy:  0.6593\n"
     ]
    },
    {
     "name": "stdout",
     "output_type": "stream",
     "text": [
      "\n",
      "correct: 304 total: 469\n",
      "loss: 0.11001166262860491\n",
      " Train accuracy:  0.6481876332622601 | \n"
     ]
    },
    {
     "name": "stderr",
     "output_type": "stream",
     "text": [
      "\r",
      "KAN_MNIST_0_1723679712:  16%|█▌        | 16/100 [55:49<5:03:10, 216.55s/it]"
     ]
    },
    {
     "name": "stdout",
     "output_type": "stream",
     "text": [
      " Test accuracy:  0.6609\n"
     ]
    },
    {
     "name": "stdout",
     "output_type": "stream",
     "text": [
      "\n",
      "correct: 307 total: 469\n",
      "loss: 0.11015266060892707\n",
      " Train accuracy:  0.6545842217484008 | \n"
     ]
    },
    {
     "name": "stderr",
     "output_type": "stream",
     "text": [
      "\r",
      "KAN_MNIST_0_1723679712:  17%|█▋        | 17/100 [59:27<4:59:55, 216.81s/it]"
     ]
    },
    {
     "name": "stdout",
     "output_type": "stream",
     "text": [
      " Test accuracy:  0.6527\n"
     ]
    },
    {
     "name": "stdout",
     "output_type": "stream",
     "text": [
      "\n",
      "correct: 317 total: 469\n",
      "loss: 0.11087941635709836\n",
      " Train accuracy:  0.67590618336887 | \n"
     ]
    },
    {
     "name": "stderr",
     "output_type": "stream",
     "text": [
      "\r",
      "KAN_MNIST_0_1723679712:  18%|█▊        | 18/100 [1:03:04<4:56:35, 217.02s/it]"
     ]
    },
    {
     "name": "stdout",
     "output_type": "stream",
     "text": [
      " Test accuracy:  0.6702\n"
     ]
    },
    {
     "name": "stdout",
     "output_type": "stream",
     "text": [
      "\n",
      "correct: 319 total: 469\n",
      "loss: 0.11099296442862512\n",
      " Train accuracy:  0.6801705756929638 | \n"
     ]
    },
    {
     "name": "stderr",
     "output_type": "stream",
     "text": [
      "\r",
      "KAN_MNIST_0_1723679712:  19%|█▉        | 19/100 [1:06:42<4:53:17, 217.26s/it]"
     ]
    },
    {
     "name": "stdout",
     "output_type": "stream",
     "text": [
      " Test accuracy:  0.6689\n"
     ]
    },
    {
     "name": "stdout",
     "output_type": "stream",
     "text": [
      "\n",
      "correct: 307 total: 469\n",
      "loss: 0.11078045177243666\n",
      " Train accuracy:  0.6545842217484008 | \n"
     ]
    },
    {
     "name": "stderr",
     "output_type": "stream",
     "text": [
      "\r",
      "KAN_MNIST_0_1723679712:  20%|██        | 20/100 [1:10:21<4:50:30, 217.88s/it]"
     ]
    },
    {
     "name": "stdout",
     "output_type": "stream",
     "text": [
      " Test accuracy:  0.6864\n"
     ]
    },
    {
     "name": "stdout",
     "output_type": "stream",
     "text": [
      "\n",
      "correct: 296 total: 469\n",
      "loss: 0.11193530153491095\n",
      " Train accuracy:  0.6311300639658849 | \n"
     ]
    },
    {
     "name": "stderr",
     "output_type": "stream",
     "text": [
      "\r",
      "KAN_MNIST_0_1723679712:  21%|██        | 21/100 [1:14:05<4:49:08, 219.60s/it]"
     ]
    },
    {
     "name": "stdout",
     "output_type": "stream",
     "text": [
      " Test accuracy:  0.6606\n"
     ]
    },
    {
     "name": "stdout",
     "output_type": "stream",
     "text": [
      "\n",
      "correct: 319 total: 469\n",
      "loss: 0.11139085347146623\n",
      " Train accuracy:  0.6801705756929638 | \n"
     ]
    },
    {
     "name": "stderr",
     "output_type": "stream",
     "text": [
      "\r",
      "KAN_MNIST_0_1723679712:  22%|██▏       | 22/100 [1:17:47<4:46:31, 220.41s/it]"
     ]
    },
    {
     "name": "stdout",
     "output_type": "stream",
     "text": [
      " Test accuracy:  0.6957\n"
     ]
    },
    {
     "name": "stdout",
     "output_type": "stream",
     "text": [
      "\n",
      "correct: 303 total: 469\n",
      "loss: 0.11314896900834305\n",
      " Train accuracy:  0.6460554371002132 | \n"
     ]
    },
    {
     "name": "stderr",
     "output_type": "stream",
     "text": [
      "\r",
      "KAN_MNIST_0_1723679712:  23%|██▎       | 23/100 [1:21:30<4:43:37, 221.01s/it]"
     ]
    },
    {
     "name": "stdout",
     "output_type": "stream",
     "text": [
      " Test accuracy:  0.6855\n"
     ]
    },
    {
     "name": "stdout",
     "output_type": "stream",
     "text": [
      "\n",
      "correct: 317 total: 469\n",
      "loss: 0.11313100788257778\n",
      " Train accuracy:  0.67590618336887 | \n"
     ]
    },
    {
     "name": "stderr",
     "output_type": "stream",
     "text": [
      "\r",
      "KAN_MNIST_0_1723679712:  24%|██▍       | 24/100 [1:25:11<4:40:08, 221.16s/it]"
     ]
    },
    {
     "name": "stdout",
     "output_type": "stream",
     "text": [
      " Test accuracy:  0.6847\n"
     ]
    },
    {
     "name": "stdout",
     "output_type": "stream",
     "text": [
      "\n",
      "correct: 343 total: 469\n",
      "loss: 0.11301540441985831\n",
      " Train accuracy:  0.7313432835820896 | \n"
     ]
    },
    {
     "name": "stderr",
     "output_type": "stream",
     "text": [
      "\r",
      "KAN_MNIST_0_1723679712:  25%|██▌       | 25/100 [1:28:50<4:35:44, 220.59s/it]"
     ]
    },
    {
     "name": "stdout",
     "output_type": "stream",
     "text": [
      " Test accuracy:  0.6822\n"
     ]
    },
    {
     "name": "stdout",
     "output_type": "stream",
     "text": [
      "\n",
      "correct: 319 total: 469\n",
      "loss: 0.11307340591891742\n",
      " Train accuracy:  0.6801705756929638 | \n"
     ]
    },
    {
     "name": "stderr",
     "output_type": "stream",
     "text": [
      "\r",
      "KAN_MNIST_0_1723679712:  26%|██▌       | 26/100 [1:32:59<4:42:31, 229.07s/it]"
     ]
    },
    {
     "name": "stdout",
     "output_type": "stream",
     "text": [
      " Test accuracy:  0.6721\n"
     ]
    },
    {
     "name": "stdout",
     "output_type": "stream",
     "text": [
      "\n",
      "correct: 315 total: 469\n",
      "loss: 0.1197168648020545\n",
      " Train accuracy:  0.6716417910447762 | \n"
     ]
    },
    {
     "name": "stderr",
     "output_type": "stream",
     "text": [
      "\r",
      "KAN_MNIST_0_1723679712:  27%|██▋       | 27/100 [1:36:39<4:35:09, 226.16s/it]"
     ]
    },
    {
     "name": "stdout",
     "output_type": "stream",
     "text": [
      " Test accuracy:  0.6857\n"
     ]
    },
    {
     "name": "stdout",
     "output_type": "stream",
     "text": [
      "\n",
      "correct: 313 total: 469\n",
      "loss: 0.11915507869743334\n",
      " Train accuracy:  0.6673773987206824 | \n"
     ]
    },
    {
     "name": "stderr",
     "output_type": "stream",
     "text": [
      "\r",
      "KAN_MNIST_0_1723679712:  28%|██▊       | 28/100 [1:40:21<4:30:12, 225.18s/it]"
     ]
    },
    {
     "name": "stdout",
     "output_type": "stream",
     "text": [
      " Test accuracy:  0.6901\n"
     ]
    },
    {
     "name": "stdout",
     "output_type": "stream",
     "text": [
      "\n",
      "correct: 311 total: 469\n",
      "loss: 0.11931031170303125\n",
      " Train accuracy:  0.6631130063965884 | \n"
     ]
    },
    {
     "name": "stderr",
     "output_type": "stream",
     "text": [
      "\r",
      "KAN_MNIST_0_1723679712:  29%|██▉       | 29/100 [1:44:05<4:26:04, 224.85s/it]"
     ]
    },
    {
     "name": "stdout",
     "output_type": "stream",
     "text": [
      " Test accuracy:  0.674\n"
     ]
    },
    {
     "name": "stdout",
     "output_type": "stream",
     "text": [
      "\n",
      "correct: 323 total: 469\n",
      "loss: 0.12051398413521903\n",
      " Train accuracy:  0.6886993603411514 | \n"
     ]
    },
    {
     "name": "stderr",
     "output_type": "stream",
     "text": [
      "\r",
      "KAN_MNIST_0_1723679712:  30%|███       | 30/100 [1:47:44<4:20:13, 223.04s/it]"
     ]
    },
    {
     "name": "stdout",
     "output_type": "stream",
     "text": [
      " Test accuracy:  0.6492\n"
     ]
    },
    {
     "name": "stdout",
     "output_type": "stream",
     "text": [
      "\n",
      "correct: 323 total: 469\n",
      "loss: 0.11973623307084223\n",
      " Train accuracy:  0.6886993603411514 | \n"
     ]
    },
    {
     "name": "stderr",
     "output_type": "stream",
     "text": [
      "\r",
      "KAN_MNIST_0_1723679712:  31%|███       | 31/100 [1:51:24<4:15:12, 221.92s/it]"
     ]
    },
    {
     "name": "stdout",
     "output_type": "stream",
     "text": [
      " Test accuracy:  0.6875\n"
     ]
    },
    {
     "name": "stdout",
     "output_type": "stream",
     "text": [
      "\n",
      "correct: 305 total: 469\n",
      "loss: 0.1207228314393619\n",
      " Train accuracy:  0.650319829424307 | \n"
     ]
    },
    {
     "name": "stderr",
     "output_type": "stream",
     "text": [
      "\r",
      "KAN_MNIST_0_1723679712:  32%|███▏      | 32/100 [1:55:04<4:10:53, 221.37s/it]"
     ]
    },
    {
     "name": "stdout",
     "output_type": "stream",
     "text": [
      " Test accuracy:  0.6862\n"
     ]
    },
    {
     "name": "stdout",
     "output_type": "stream",
     "text": [
      "\n",
      "correct: 319 total: 469\n",
      "loss: 0.1207729636796756\n",
      " Train accuracy:  0.6801705756929638 | \n"
     ]
    },
    {
     "name": "stderr",
     "output_type": "stream",
     "text": [
      "\r",
      "KAN_MNIST_0_1723679712:  33%|███▎      | 33/100 [1:58:43<4:06:36, 220.84s/it]"
     ]
    },
    {
     "name": "stdout",
     "output_type": "stream",
     "text": [
      " Test accuracy:  0.6764\n"
     ]
    },
    {
     "name": "stdout",
     "output_type": "stream",
     "text": [
      "\n",
      "correct: 311 total: 469\n",
      "loss: 0.12188618263201927\n",
      " Train accuracy:  0.6631130063965884 | \n"
     ]
    },
    {
     "name": "stderr",
     "output_type": "stream",
     "text": [
      "\r",
      "KAN_MNIST_0_1723679712:  34%|███▍      | 34/100 [2:02:22<4:02:19, 220.29s/it]"
     ]
    },
    {
     "name": "stdout",
     "output_type": "stream",
     "text": [
      " Test accuracy:  0.6798\n"
     ]
    },
    {
     "name": "stdout",
     "output_type": "stream",
     "text": [
      "\n",
      "correct: 306 total: 469\n",
      "loss: 0.1219031219956463\n",
      " Train accuracy:  0.652452025586354 | \n"
     ]
    },
    {
     "name": "stderr",
     "output_type": "stream",
     "text": [
      "\r",
      "KAN_MNIST_0_1723679712:  35%|███▌      | 35/100 [2:06:07<3:59:59, 221.53s/it]"
     ]
    },
    {
     "name": "stdout",
     "output_type": "stream",
     "text": [
      " Test accuracy:  0.6867\n"
     ]
    },
    {
     "name": "stdout",
     "output_type": "stream",
     "text": [
      "\n",
      "correct: 328 total: 469\n",
      "loss: 0.12216685748875522\n",
      " Train accuracy:  0.6993603411513859 | \n"
     ]
    },
    {
     "name": "stderr",
     "output_type": "stream",
     "text": [
      "\r",
      "KAN_MNIST_0_1723679712:  36%|███▌      | 36/100 [2:09:51<3:57:19, 222.49s/it]"
     ]
    },
    {
     "name": "stdout",
     "output_type": "stream",
     "text": [
      " Test accuracy:  0.6732\n"
     ]
    },
    {
     "name": "stdout",
     "output_type": "stream",
     "text": [
      "\n",
      "correct: 294 total: 469\n",
      "loss: 0.12323950434417359\n",
      " Train accuracy:  0.6268656716417911 | \n"
     ]
    },
    {
     "name": "stderr",
     "output_type": "stream",
     "text": [
      "\r",
      "KAN_MNIST_0_1723679712:  37%|███▋      | 37/100 [2:13:39<3:55:09, 223.96s/it]"
     ]
    },
    {
     "name": "stdout",
     "output_type": "stream",
     "text": [
      " Test accuracy:  0.6562\n"
     ]
    },
    {
     "name": "stdout",
     "output_type": "stream",
     "text": [
      "\n",
      "correct: 332 total: 469\n",
      "loss: 0.12383132380272534\n",
      " Train accuracy:  0.7078891257995735 | \n"
     ]
    },
    {
     "name": "stderr",
     "output_type": "stream",
     "text": [
      "\r",
      "KAN_MNIST_0_1723679712:  38%|███▊      | 38/100 [2:17:26<3:52:33, 225.05s/it]"
     ]
    },
    {
     "name": "stdout",
     "output_type": "stream",
     "text": [
      " Test accuracy:  0.6824\n"
     ]
    },
    {
     "name": "stdout",
     "output_type": "stream",
     "text": [
      "\n",
      "correct: 319 total: 469\n",
      "loss: 0.12385645588196671\n",
      " Train accuracy:  0.6801705756929638 | \n"
     ]
    },
    {
     "name": "stderr",
     "output_type": "stream",
     "text": [
      "\r",
      "KAN_MNIST_0_1723679712:  39%|███▉      | 39/100 [2:21:12<3:48:52, 225.13s/it]"
     ]
    },
    {
     "name": "stdout",
     "output_type": "stream",
     "text": [
      " Test accuracy:  0.668\n"
     ]
    },
    {
     "name": "stdout",
     "output_type": "stream",
     "text": [
      "\n",
      "correct: 302 total: 469\n",
      "loss: 0.1240595206936031\n",
      " Train accuracy:  0.6439232409381663 | \n"
     ]
    },
    {
     "name": "stderr",
     "output_type": "stream",
     "text": [
      "\r",
      "KAN_MNIST_0_1723679712:  40%|████      | 40/100 [2:24:53<3:43:56, 223.94s/it]"
     ]
    },
    {
     "name": "stdout",
     "output_type": "stream",
     "text": [
      " Test accuracy:  0.6871\n"
     ]
    },
    {
     "name": "stdout",
     "output_type": "stream",
     "text": [
      "\n",
      "correct: 328 total: 469\n",
      "loss: 0.1230197866429398\n",
      " Train accuracy:  0.6993603411513859 | \n"
     ]
    },
    {
     "name": "stderr",
     "output_type": "stream",
     "text": [
      "\r",
      "KAN_MNIST_0_1723679712:  41%|████      | 41/100 [2:28:37<3:40:15, 224.00s/it]"
     ]
    },
    {
     "name": "stdout",
     "output_type": "stream",
     "text": [
      " Test accuracy:  0.6876\n"
     ]
    },
    {
     "name": "stdout",
     "output_type": "stream",
     "text": [
      "\n",
      "correct: 317 total: 469\n",
      "loss: 0.12359686424610203\n",
      " Train accuracy:  0.67590618336887 | \n"
     ]
    },
    {
     "name": "stderr",
     "output_type": "stream",
     "text": [
      "\r",
      "KAN_MNIST_0_1723679712:  42%|████▏     | 42/100 [2:32:19<3:35:49, 223.27s/it]"
     ]
    },
    {
     "name": "stdout",
     "output_type": "stream",
     "text": [
      " Test accuracy:  0.6884\n"
     ]
    },
    {
     "name": "stdout",
     "output_type": "stream",
     "text": [
      "\n",
      "correct: 330 total: 469\n",
      "loss: 0.12392720379936162\n",
      " Train accuracy:  0.7036247334754797 | \n"
     ]
    },
    {
     "name": "stderr",
     "output_type": "stream",
     "text": [
      "\r",
      "KAN_MNIST_0_1723679712:  43%|████▎     | 43/100 [2:36:00<3:31:30, 222.64s/it]"
     ]
    },
    {
     "name": "stdout",
     "output_type": "stream",
     "text": [
      " Test accuracy:  0.6997\n"
     ]
    },
    {
     "name": "stdout",
     "output_type": "stream",
     "text": [
      "\n",
      "correct: 334 total: 469\n",
      "loss: 0.12403697021670941\n",
      " Train accuracy:  0.7121535181236673 | \n"
     ]
    },
    {
     "name": "stderr",
     "output_type": "stream",
     "text": [
      "\r",
      "KAN_MNIST_0_1723679712:  44%|████▍     | 44/100 [2:39:43<3:28:02, 222.90s/it]"
     ]
    },
    {
     "name": "stdout",
     "output_type": "stream",
     "text": [
      " Test accuracy:  0.6767\n"
     ]
    },
    {
     "name": "stdout",
     "output_type": "stream",
     "text": [
      "\n",
      "correct: 335 total: 469\n",
      "loss: 0.12427777201254993\n",
      " Train accuracy:  0.7142857142857143 | \n"
     ]
    },
    {
     "name": "stderr",
     "output_type": "stream",
     "text": [
      "\r",
      "KAN_MNIST_0_1723679712:  45%|████▌     | 45/100 [2:43:26<3:24:22, 222.96s/it]"
     ]
    },
    {
     "name": "stdout",
     "output_type": "stream",
     "text": [
      " Test accuracy:  0.6919\n"
     ]
    },
    {
     "name": "stdout",
     "output_type": "stream",
     "text": [
      "\n",
      "correct: 318 total: 469\n",
      "loss: 0.12467284743656228\n",
      " Train accuracy:  0.6780383795309168 | \n"
     ]
    },
    {
     "name": "stderr",
     "output_type": "stream",
     "text": [
      "\r",
      "KAN_MNIST_0_1723679712:  46%|████▌     | 46/100 [2:47:09<3:20:29, 222.78s/it]"
     ]
    },
    {
     "name": "stdout",
     "output_type": "stream",
     "text": [
      " Test accuracy:  0.6943\n"
     ]
    },
    {
     "name": "stdout",
     "output_type": "stream",
     "text": [
      "\n",
      "correct: 328 total: 469\n",
      "loss: 0.12469890049652758\n",
      " Train accuracy:  0.6993603411513859 | \n"
     ]
    },
    {
     "name": "stderr",
     "output_type": "stream",
     "text": [
      "\r",
      "KAN_MNIST_0_1723679712:  47%|████▋     | 47/100 [2:50:53<3:17:09, 223.20s/it]"
     ]
    },
    {
     "name": "stdout",
     "output_type": "stream",
     "text": [
      " Test accuracy:  0.6756\n"
     ]
    },
    {
     "name": "stdout",
     "output_type": "stream",
     "text": [
      "\n",
      "correct: 309 total: 469\n",
      "loss: 0.12512582848702414\n",
      " Train accuracy:  0.6588486140724946 | \n"
     ]
    },
    {
     "name": "stderr",
     "output_type": "stream",
     "text": [
      "\r",
      "KAN_MNIST_0_1723679712:  48%|████▊     | 48/100 [2:54:38<3:14:00, 223.85s/it]"
     ]
    },
    {
     "name": "stdout",
     "output_type": "stream",
     "text": [
      " Test accuracy:  0.6884\n"
     ]
    },
    {
     "name": "stdout",
     "output_type": "stream",
     "text": [
      "\n",
      "correct: 328 total: 469\n",
      "loss: 0.12552407134507002\n",
      " Train accuracy:  0.6993603411513859 | \n"
     ]
    },
    {
     "name": "stderr",
     "output_type": "stream",
     "text": [
      "\r",
      "KAN_MNIST_0_1723679712:  49%|████▉     | 49/100 [2:58:24<3:10:49, 224.50s/it]"
     ]
    },
    {
     "name": "stdout",
     "output_type": "stream",
     "text": [
      " Test accuracy:  0.6929\n"
     ]
    },
    {
     "name": "stdout",
     "output_type": "stream",
     "text": [
      "\n",
      "correct: 316 total: 469\n",
      "loss: 0.12579728129194745\n",
      " Train accuracy:  0.673773987206823 | \n"
     ]
    },
    {
     "name": "stderr",
     "output_type": "stream",
     "text": [
      "\r",
      "KAN_MNIST_0_1723679712:  50%|█████     | 50/100 [3:02:06<3:06:17, 223.56s/it]"
     ]
    },
    {
     "name": "stdout",
     "output_type": "stream",
     "text": [
      " Test accuracy:  0.6975\n"
     ]
    },
    {
     "name": "stdout",
     "output_type": "stream",
     "text": [
      "\n",
      "correct: 327 total: 469\n",
      "loss: 0.12507214235153788\n",
      " Train accuracy:  0.697228144989339 | \n"
     ]
    },
    {
     "name": "stderr",
     "output_type": "stream",
     "text": [
      "\r",
      "KAN_MNIST_0_1723679712:  51%|█████     | 51/100 [3:05:49<3:02:36, 223.60s/it]"
     ]
    },
    {
     "name": "stdout",
     "output_type": "stream",
     "text": [
      " Test accuracy:  0.6733\n"
     ]
    },
    {
     "name": "stdout",
     "output_type": "stream",
     "text": [
      "\n",
      "correct: 308 total: 469\n",
      "loss: 0.12493491436499776\n",
      " Train accuracy:  0.6567164179104478 | \n"
     ]
    },
    {
     "name": "stderr",
     "output_type": "stream",
     "text": [
      "\r",
      "KAN_MNIST_0_1723679712:  52%|█████▏    | 52/100 [3:09:33<2:58:48, 223.51s/it]"
     ]
    },
    {
     "name": "stdout",
     "output_type": "stream",
     "text": [
      " Test accuracy:  0.6774\n"
     ]
    },
    {
     "name": "stdout",
     "output_type": "stream",
     "text": [
      "\n",
      "correct: 320 total: 469\n",
      "loss: 0.12564425950429078\n",
      " Train accuracy:  0.6823027718550106 | \n"
     ]
    },
    {
     "name": "stderr",
     "output_type": "stream",
     "text": [
      "\r",
      "KAN_MNIST_0_1723679712:  53%|█████▎    | 53/100 [3:13:13<2:54:15, 222.46s/it]"
     ]
    },
    {
     "name": "stdout",
     "output_type": "stream",
     "text": [
      " Test accuracy:  0.7004\n"
     ]
    },
    {
     "name": "stdout",
     "output_type": "stream",
     "text": [
      "\n",
      "correct: 334 total: 469\n",
      "loss: 0.12611709018823689\n",
      " Train accuracy:  0.7121535181236673 | \n"
     ]
    },
    {
     "name": "stderr",
     "output_type": "stream",
     "text": [
      "\r",
      "KAN_MNIST_0_1723679712:  54%|█████▍    | 54/100 [3:16:54<2:50:20, 222.19s/it]"
     ]
    },
    {
     "name": "stdout",
     "output_type": "stream",
     "text": [
      " Test accuracy:  0.6845\n"
     ]
    },
    {
     "name": "stdout",
     "output_type": "stream",
     "text": [
      "\n",
      "correct: 301 total: 469\n",
      "loss: 0.1261740320368108\n",
      " Train accuracy:  0.6417910447761194 | \n"
     ]
    },
    {
     "name": "stderr",
     "output_type": "stream",
     "text": [
      "\r",
      "KAN_MNIST_0_1723679712:  55%|█████▌    | 55/100 [3:20:35<2:46:23, 221.86s/it]"
     ]
    },
    {
     "name": "stdout",
     "output_type": "stream",
     "text": [
      " Test accuracy:  0.692\n"
     ]
    },
    {
     "name": "stdout",
     "output_type": "stream",
     "text": [
      "\n",
      "correct: 313 total: 469\n",
      "loss: 0.12626931307984313\n",
      " Train accuracy:  0.6673773987206824 | \n"
     ]
    },
    {
     "name": "stderr",
     "output_type": "stream",
     "text": [
      "\r",
      "KAN_MNIST_0_1723679712:  56%|█████▌    | 56/100 [3:24:17<2:42:43, 221.90s/it]"
     ]
    },
    {
     "name": "stdout",
     "output_type": "stream",
     "text": [
      " Test accuracy:  0.6942\n"
     ]
    },
    {
     "name": "stdout",
     "output_type": "stream",
     "text": [
      "\n",
      "correct: 314 total: 469\n",
      "loss: 0.12538567290250172\n",
      " Train accuracy:  0.6695095948827292 | \n"
     ]
    },
    {
     "name": "stderr",
     "output_type": "stream",
     "text": [
      "\r",
      "KAN_MNIST_0_1723679712:  57%|█████▋    | 57/100 [3:28:02<2:39:33, 222.63s/it]"
     ]
    },
    {
     "name": "stdout",
     "output_type": "stream",
     "text": [
      " Test accuracy:  0.697\n"
     ]
    },
    {
     "name": "stdout",
     "output_type": "stream",
     "text": [
      "\n",
      "correct: 324 total: 469\n",
      "loss: 0.12607049662421252\n",
      " Train accuracy:  0.6908315565031983 | \n"
     ]
    },
    {
     "name": "stderr",
     "output_type": "stream",
     "text": [
      "\r",
      "KAN_MNIST_0_1723679712:  58%|█████▊    | 58/100 [3:31:46<2:36:12, 223.16s/it]"
     ]
    },
    {
     "name": "stdout",
     "output_type": "stream",
     "text": [
      " Test accuracy:  0.6765\n"
     ]
    },
    {
     "name": "stdout",
     "output_type": "stream",
     "text": [
      "\n",
      "correct: 311 total: 469\n",
      "loss: 0.12633198718907737\n",
      " Train accuracy:  0.6631130063965884 | \n"
     ]
    },
    {
     "name": "stderr",
     "output_type": "stream",
     "text": [
      "\r",
      "KAN_MNIST_0_1723679712:  59%|█████▉    | 59/100 [3:35:32<2:33:00, 223.92s/it]"
     ]
    },
    {
     "name": "stdout",
     "output_type": "stream",
     "text": [
      " Test accuracy:  0.6956\n"
     ]
    },
    {
     "name": "stdout",
     "output_type": "stream",
     "text": [
      "\n",
      "correct: 312 total: 469\n",
      "loss: 0.12645784188816542\n",
      " Train accuracy:  0.6652452025586354 | \n"
     ]
    },
    {
     "name": "stderr",
     "output_type": "stream",
     "text": [
      "\r",
      "KAN_MNIST_0_1723679712:  60%|██████    | 60/100 [3:39:16<2:29:15, 223.88s/it]"
     ]
    },
    {
     "name": "stdout",
     "output_type": "stream",
     "text": [
      " Test accuracy:  0.6612\n"
     ]
    },
    {
     "name": "stdout",
     "output_type": "stream",
     "text": [
      "\n",
      "correct: 325 total: 469\n",
      "loss: 0.12623827388164585\n",
      " Train accuracy:  0.6929637526652452 | \n"
     ]
    },
    {
     "name": "stderr",
     "output_type": "stream",
     "text": [
      "\r",
      "KAN_MNIST_0_1723679712:  61%|██████    | 61/100 [3:42:58<2:25:13, 223.43s/it]"
     ]
    },
    {
     "name": "stdout",
     "output_type": "stream",
     "text": [
      " Test accuracy:  0.6791\n"
     ]
    },
    {
     "name": "stdout",
     "output_type": "stream",
     "text": [
      "\n",
      "correct: 315 total: 469\n",
      "loss: 0.12671041436223332\n",
      " Train accuracy:  0.6716417910447762 | \n"
     ]
    },
    {
     "name": "stderr",
     "output_type": "stream",
     "text": [
      "\r",
      "KAN_MNIST_0_1723679712:  62%|██████▏   | 62/100 [3:46:41<2:21:22, 223.24s/it]"
     ]
    },
    {
     "name": "stdout",
     "output_type": "stream",
     "text": [
      " Test accuracy:  0.6917\n"
     ]
    },
    {
     "name": "stdout",
     "output_type": "stream",
     "text": [
      "\n",
      "correct: 320 total: 469\n",
      "loss: 0.12572718405329597\n",
      " Train accuracy:  0.6823027718550106 | \n"
     ]
    },
    {
     "name": "stderr",
     "output_type": "stream",
     "text": [
      "\r",
      "KAN_MNIST_0_1723679712:  63%|██████▎   | 63/100 [3:50:28<2:18:21, 224.37s/it]"
     ]
    },
    {
     "name": "stdout",
     "output_type": "stream",
     "text": [
      " Test accuracy:  0.6951\n"
     ]
    },
    {
     "name": "stdout",
     "output_type": "stream",
     "text": [
      "\n",
      "correct: 313 total: 469\n",
      "loss: 0.12665193623253532\n",
      " Train accuracy:  0.6673773987206824 | \n"
     ]
    },
    {
     "name": "stderr",
     "output_type": "stream",
     "text": [
      "\r",
      "KAN_MNIST_0_1723679712:  64%|██████▍   | 64/100 [3:54:13<2:14:52, 224.79s/it]"
     ]
    },
    {
     "name": "stdout",
     "output_type": "stream",
     "text": [
      " Test accuracy:  0.697\n"
     ]
    },
    {
     "name": "stdout",
     "output_type": "stream",
     "text": [
      "\n",
      "correct: 328 total: 469\n",
      "loss: 0.12697416453409804\n",
      " Train accuracy:  0.6993603411513859 | \n"
     ]
    },
    {
     "name": "stderr",
     "output_type": "stream",
     "text": [
      "\r",
      "KAN_MNIST_0_1723679712:  65%|██████▌   | 65/100 [3:57:56<2:10:46, 224.17s/it]"
     ]
    },
    {
     "name": "stdout",
     "output_type": "stream",
     "text": [
      " Test accuracy:  0.6672\n"
     ]
    },
    {
     "name": "stdout",
     "output_type": "stream",
     "text": [
      "\n",
      "correct: 297 total: 469\n",
      "loss: 0.12724737640319347\n",
      " Train accuracy:  0.6332622601279317 | \n"
     ]
    },
    {
     "name": "stderr",
     "output_type": "stream",
     "text": [
      "\r",
      "KAN_MNIST_0_1723679712:  66%|██████▌   | 66/100 [4:01:39<2:06:43, 223.65s/it]"
     ]
    },
    {
     "name": "stdout",
     "output_type": "stream",
     "text": [
      " Test accuracy:  0.6961\n"
     ]
    },
    {
     "name": "stdout",
     "output_type": "stream",
     "text": [
      "\n",
      "correct: 306 total: 469\n",
      "loss: 0.12617662854031966\n",
      " Train accuracy:  0.652452025586354 | \n"
     ]
    },
    {
     "name": "stderr",
     "output_type": "stream",
     "text": [
      "\r",
      "KAN_MNIST_0_1723679712:  67%|██████▋   | 67/100 [4:05:21<2:02:50, 223.34s/it]"
     ]
    },
    {
     "name": "stdout",
     "output_type": "stream",
     "text": [
      " Test accuracy:  0.6962\n"
     ]
    },
    {
     "name": "stdout",
     "output_type": "stream",
     "text": [
      "\n",
      "correct: 320 total: 469\n",
      "loss: 0.1264657853032226\n",
      " Train accuracy:  0.6823027718550106 | \n"
     ]
    },
    {
     "name": "stderr",
     "output_type": "stream",
     "text": [
      "\r",
      "KAN_MNIST_0_1723679712:  68%|██████▊   | 68/100 [4:09:03<1:58:51, 222.86s/it]"
     ]
    },
    {
     "name": "stdout",
     "output_type": "stream",
     "text": [
      " Test accuracy:  0.6931\n"
     ]
    },
    {
     "name": "stdout",
     "output_type": "stream",
     "text": [
      "\n",
      "correct: 317 total: 469\n",
      "loss: 0.1269559737588805\n",
      " Train accuracy:  0.67590618336887 | \n"
     ]
    },
    {
     "name": "stderr",
     "output_type": "stream",
     "text": [
      "\r",
      "KAN_MNIST_0_1723679712:  69%|██████▉   | 69/100 [4:12:46<1:55:09, 222.88s/it]"
     ]
    },
    {
     "name": "stdout",
     "output_type": "stream",
     "text": [
      " Test accuracy:  0.6837\n"
     ]
    },
    {
     "name": "stdout",
     "output_type": "stream",
     "text": [
      "\n",
      "correct: 332 total: 469\n",
      "loss: 0.125909585354806\n",
      " Train accuracy:  0.7078891257995735 | \n"
     ]
    },
    {
     "name": "stderr",
     "output_type": "stream",
     "text": [
      "\r",
      "KAN_MNIST_0_1723679712:  70%|███████   | 70/100 [4:16:32<1:51:51, 223.72s/it]"
     ]
    },
    {
     "name": "stdout",
     "output_type": "stream",
     "text": [
      " Test accuracy:  0.698\n"
     ]
    },
    {
     "name": "stdout",
     "output_type": "stream",
     "text": [
      "\n",
      "correct: 319 total: 469\n",
      "loss: 0.12634131491883224\n",
      " Train accuracy:  0.6801705756929638 | \n"
     ]
    },
    {
     "name": "stderr",
     "output_type": "stream",
     "text": [
      "\r",
      "KAN_MNIST_0_1723679712:  71%|███████   | 71/100 [4:20:14<1:47:56, 223.34s/it]"
     ]
    },
    {
     "name": "stdout",
     "output_type": "stream",
     "text": [
      " Test accuracy:  0.6976\n"
     ]
    },
    {
     "name": "stdout",
     "output_type": "stream",
     "text": [
      "\n",
      "correct: 333 total: 469\n",
      "loss: 0.1263824827444833\n",
      " Train accuracy:  0.7100213219616205 | \n"
     ]
    },
    {
     "name": "stderr",
     "output_type": "stream",
     "text": [
      "\r",
      "KAN_MNIST_0_1723679712:  72%|███████▏  | 72/100 [4:23:57<1:44:06, 223.10s/it]"
     ]
    },
    {
     "name": "stdout",
     "output_type": "stream",
     "text": [
      " Test accuracy:  0.6951\n"
     ]
    },
    {
     "name": "stdout",
     "output_type": "stream",
     "text": [
      "\n",
      "correct: 313 total: 469\n",
      "loss: 0.12649327343397304\n",
      " Train accuracy:  0.6673773987206824 | \n"
     ]
    },
    {
     "name": "stderr",
     "output_type": "stream",
     "text": [
      "\r",
      "KAN_MNIST_0_1723679712:  73%|███████▎  | 73/100 [4:27:40<1:40:25, 223.17s/it]"
     ]
    },
    {
     "name": "stdout",
     "output_type": "stream",
     "text": [
      " Test accuracy:  0.6904\n"
     ]
    },
    {
     "name": "stdout",
     "output_type": "stream",
     "text": [
      "\n",
      "correct: 325 total: 469\n",
      "loss: 0.12741346852675176\n",
      " Train accuracy:  0.6929637526652452 | \n"
     ]
    },
    {
     "name": "stderr",
     "output_type": "stream",
     "text": [
      "\r",
      "KAN_MNIST_0_1723679712:  74%|███████▍  | 74/100 [4:31:22<1:36:30, 222.72s/it]"
     ]
    },
    {
     "name": "stdout",
     "output_type": "stream",
     "text": [
      " Test accuracy:  0.692\n"
     ]
    },
    {
     "name": "stdout",
     "output_type": "stream",
     "text": [
      "\n",
      "correct: 321 total: 469\n",
      "loss: 0.1268463727475992\n",
      " Train accuracy:  0.6844349680170576 | \n"
     ]
    },
    {
     "name": "stderr",
     "output_type": "stream",
     "text": [
      "\r",
      "KAN_MNIST_0_1723679712:  75%|███████▌  | 75/100 [4:35:04<1:32:45, 222.60s/it]"
     ]
    },
    {
     "name": "stdout",
     "output_type": "stream",
     "text": [
      " Test accuracy:  0.6878\n"
     ]
    },
    {
     "name": "stdout",
     "output_type": "stream",
     "text": [
      "\n",
      "correct: 321 total: 469\n",
      "loss: 0.12675521897672337\n",
      " Train accuracy:  0.6844349680170576 | \n"
     ]
    },
    {
     "name": "stderr",
     "output_type": "stream",
     "text": [
      "\r",
      "KAN_MNIST_0_1723679712:  76%|███████▌  | 76/100 [4:38:47<1:29:08, 222.87s/it]"
     ]
    },
    {
     "name": "stdout",
     "output_type": "stream",
     "text": [
      " Test accuracy:  0.694\n"
     ]
    },
    {
     "name": "stdout",
     "output_type": "stream",
     "text": [
      "\n",
      "correct: 328 total: 469\n",
      "loss: 0.1271246959691617\n",
      " Train accuracy:  0.6993603411513859 | \n"
     ]
    },
    {
     "name": "stderr",
     "output_type": "stream",
     "text": [
      "\r",
      "KAN_MNIST_0_1723679712:  77%|███████▋  | 77/100 [4:42:33<1:25:43, 223.63s/it]"
     ]
    },
    {
     "name": "stdout",
     "output_type": "stream",
     "text": [
      " Test accuracy:  0.7011\n"
     ]
    },
    {
     "name": "stdout",
     "output_type": "stream",
     "text": [
      "\n",
      "correct: 338 total: 469\n",
      "loss: 0.1269550446603598\n",
      " Train accuracy:  0.720682302771855 | \n"
     ]
    },
    {
     "name": "stderr",
     "output_type": "stream",
     "text": [
      "\r",
      "KAN_MNIST_0_1723679712:  78%|███████▊  | 78/100 [4:46:16<1:21:58, 223.59s/it]"
     ]
    },
    {
     "name": "stdout",
     "output_type": "stream",
     "text": [
      " Test accuracy:  0.679\n"
     ]
    },
    {
     "name": "stdout",
     "output_type": "stream",
     "text": [
      "\n",
      "correct: 311 total: 469\n",
      "loss: 0.12653942476076357\n",
      " Train accuracy:  0.6631130063965884 | \n"
     ]
    },
    {
     "name": "stderr",
     "output_type": "stream",
     "text": [
      "\r",
      "KAN_MNIST_0_1723679712:  79%|███████▉  | 79/100 [4:49:59<1:18:07, 223.22s/it]"
     ]
    },
    {
     "name": "stdout",
     "output_type": "stream",
     "text": [
      " Test accuracy:  0.6842\n"
     ]
    },
    {
     "name": "stdout",
     "output_type": "stream",
     "text": [
      "\n",
      "correct: 330 total: 469\n",
      "loss: 0.12696647728239296\n",
      " Train accuracy:  0.7036247334754797 | \n"
     ]
    },
    {
     "name": "stderr",
     "output_type": "stream",
     "text": [
      "\r",
      "KAN_MNIST_0_1723679712:  80%|████████  | 80/100 [4:53:43<1:14:31, 223.59s/it]"
     ]
    },
    {
     "name": "stdout",
     "output_type": "stream",
     "text": [
      " Test accuracy:  0.7048\n"
     ]
    },
    {
     "name": "stdout",
     "output_type": "stream",
     "text": [
      "\n",
      "correct: 321 total: 469\n",
      "loss: 0.12660546800983485\n",
      " Train accuracy:  0.6844349680170576 | \n"
     ]
    },
    {
     "name": "stderr",
     "output_type": "stream",
     "text": [
      "\r",
      "KAN_MNIST_0_1723679712:  81%|████████  | 81/100 [4:57:27<1:10:47, 223.56s/it]"
     ]
    },
    {
     "name": "stdout",
     "output_type": "stream",
     "text": [
      " Test accuracy:  0.6874\n"
     ]
    },
    {
     "name": "stdout",
     "output_type": "stream",
     "text": [
      "\n",
      "correct: 319 total: 469\n",
      "loss: 0.12753322021539276\n",
      " Train accuracy:  0.6801705756929638 | \n"
     ]
    },
    {
     "name": "stderr",
     "output_type": "stream",
     "text": [
      "\r",
      "KAN_MNIST_0_1723679712:  82%|████████▏ | 82/100 [5:01:10<1:07:04, 223.61s/it]"
     ]
    },
    {
     "name": "stdout",
     "output_type": "stream",
     "text": [
      " Test accuracy:  0.685\n"
     ]
    },
    {
     "name": "stdout",
     "output_type": "stream",
     "text": [
      "\n",
      "correct: 312 total: 469\n",
      "loss: 0.12691923534310956\n",
      " Train accuracy:  0.6652452025586354 | \n"
     ]
    },
    {
     "name": "stderr",
     "output_type": "stream",
     "text": [
      "\r",
      "KAN_MNIST_0_1723679712:  83%|████████▎ | 83/100 [5:04:56<1:03:31, 224.21s/it]"
     ]
    },
    {
     "name": "stdout",
     "output_type": "stream",
     "text": [
      " Test accuracy:  0.6986\n"
     ]
    },
    {
     "name": "stdout",
     "output_type": "stream",
     "text": [
      "\n",
      "correct: 326 total: 469\n",
      "loss: 0.1268150062480969\n",
      " Train accuracy:  0.6950959488272921 | \n"
     ]
    },
    {
     "name": "stderr",
     "output_type": "stream",
     "text": [
      "\r",
      "KAN_MNIST_0_1723679712:  84%|████████▍ | 84/100 [5:08:43<1:00:00, 225.04s/it]"
     ]
    },
    {
     "name": "stdout",
     "output_type": "stream",
     "text": [
      " Test accuracy:  0.6984\n"
     ]
    },
    {
     "name": "stdout",
     "output_type": "stream",
     "text": [
      "\n",
      "correct: 330 total: 469\n",
      "loss: 0.12683677163396054\n",
      " Train accuracy:  0.7036247334754797 | \n"
     ]
    },
    {
     "name": "stderr",
     "output_type": "stream",
     "text": [
      "\r",
      "KAN_MNIST_0_1723679712:  85%|████████▌ | 85/100 [5:12:28<56:16, 225.08s/it]  "
     ]
    },
    {
     "name": "stdout",
     "output_type": "stream",
     "text": [
      " Test accuracy:  0.7053\n"
     ]
    },
    {
     "name": "stdout",
     "output_type": "stream",
     "text": [
      "\n",
      "correct: 307 total: 469\n",
      "loss: 0.12677422011775502\n",
      " Train accuracy:  0.6545842217484008 | \n"
     ]
    },
    {
     "name": "stderr",
     "output_type": "stream",
     "text": [
      "\r",
      "KAN_MNIST_0_1723679712:  86%|████████▌ | 86/100 [5:16:08<52:08, 223.47s/it]"
     ]
    },
    {
     "name": "stdout",
     "output_type": "stream",
     "text": [
      " Test accuracy:  0.7049\n"
     ]
    },
    {
     "name": "stdout",
     "output_type": "stream",
     "text": [
      "\n",
      "correct: 309 total: 469\n",
      "loss: 0.12741285162185556\n",
      " Train accuracy:  0.6588486140724946 | \n"
     ]
    },
    {
     "name": "stderr",
     "output_type": "stream",
     "text": [
      "\r",
      "KAN_MNIST_0_1723679712:  87%|████████▋ | 87/100 [5:19:48<48:13, 222.61s/it]"
     ]
    },
    {
     "name": "stdout",
     "output_type": "stream",
     "text": [
      " Test accuracy:  0.6997\n"
     ]
    },
    {
     "name": "stdout",
     "output_type": "stream",
     "text": [
      "\n",
      "correct: 327 total: 469\n",
      "loss: 0.1268608541503898\n",
      " Train accuracy:  0.697228144989339 | \n"
     ]
    },
    {
     "name": "stderr",
     "output_type": "stream",
     "text": [
      "\r",
      "KAN_MNIST_0_1723679712:  88%|████████▊ | 88/100 [5:23:29<44:23, 221.99s/it]"
     ]
    },
    {
     "name": "stdout",
     "output_type": "stream",
     "text": [
      " Test accuracy:  0.6897\n"
     ]
    },
    {
     "name": "stdout",
     "output_type": "stream",
     "text": [
      "\n",
      "correct: 323 total: 469\n",
      "loss: 0.12798201875773066\n",
      " Train accuracy:  0.6886993603411514 | \n"
     ]
    },
    {
     "name": "stderr",
     "output_type": "stream",
     "text": [
      "\r",
      "KAN_MNIST_0_1723679712:  89%|████████▉ | 89/100 [5:27:11<40:43, 222.14s/it]"
     ]
    },
    {
     "name": "stdout",
     "output_type": "stream",
     "text": [
      " Test accuracy:  0.6866\n"
     ]
    },
    {
     "name": "stdout",
     "output_type": "stream",
     "text": [
      "\n",
      "correct: 329 total: 469\n",
      "loss: 0.1274101021193238\n",
      " Train accuracy:  0.7014925373134329 | \n"
     ]
    },
    {
     "name": "stderr",
     "output_type": "stream",
     "text": [
      "\r",
      "KAN_MNIST_0_1723679712:  90%|█████████ | 90/100 [5:30:52<36:56, 221.66s/it]"
     ]
    },
    {
     "name": "stdout",
     "output_type": "stream",
     "text": [
      " Test accuracy:  0.6883\n"
     ]
    },
    {
     "name": "stdout",
     "output_type": "stream",
     "text": [
      "\n",
      "correct: 323 total: 469\n",
      "loss: 0.1277341648523233\n",
      " Train accuracy:  0.6886993603411514 | \n"
     ]
    },
    {
     "name": "stderr",
     "output_type": "stream",
     "text": [
      "\r",
      "KAN_MNIST_0_1723679712:  91%|█████████ | 91/100 [5:34:32<33:10, 221.14s/it]"
     ]
    },
    {
     "name": "stdout",
     "output_type": "stream",
     "text": [
      " Test accuracy:  0.695\n"
     ]
    },
    {
     "name": "stdout",
     "output_type": "stream",
     "text": [
      "\n",
      "correct: 311 total: 469\n",
      "loss: 0.12702813660348655\n",
      " Train accuracy:  0.6631130063965884 | \n"
     ]
    },
    {
     "name": "stderr",
     "output_type": "stream",
     "text": [
      "\r",
      "KAN_MNIST_0_1723679712:  92%|█████████▏| 92/100 [5:38:13<29:28, 221.09s/it]"
     ]
    },
    {
     "name": "stdout",
     "output_type": "stream",
     "text": [
      " Test accuracy:  0.7035\n"
     ]
    },
    {
     "name": "stdout",
     "output_type": "stream",
     "text": [
      "\n",
      "correct: 313 total: 469\n",
      "loss: 0.12713370025793372\n",
      " Train accuracy:  0.6673773987206824 | \n"
     ]
    },
    {
     "name": "stderr",
     "output_type": "stream",
     "text": [
      "\r",
      "KAN_MNIST_0_1723679712:  93%|█████████▎| 93/100 [5:41:56<25:52, 221.81s/it]"
     ]
    },
    {
     "name": "stdout",
     "output_type": "stream",
     "text": [
      " Test accuracy:  0.6973\n"
     ]
    },
    {
     "name": "stdout",
     "output_type": "stream",
     "text": [
      "\n",
      "correct: 310 total: 469\n",
      "loss: 0.12736108664002246\n",
      " Train accuracy:  0.6609808102345416 | \n"
     ]
    },
    {
     "name": "stderr",
     "output_type": "stream",
     "text": [
      "\r",
      "KAN_MNIST_0_1723679712:  94%|█████████▍| 94/100 [5:45:37<22:09, 221.52s/it]"
     ]
    },
    {
     "name": "stdout",
     "output_type": "stream",
     "text": [
      " Test accuracy:  0.6679\n"
     ]
    },
    {
     "name": "stdout",
     "output_type": "stream",
     "text": [
      "\n",
      "correct: 339 total: 469\n",
      "loss: 0.12781164676014548\n",
      " Train accuracy:  0.7228144989339019 | \n"
     ]
    },
    {
     "name": "stderr",
     "output_type": "stream",
     "text": [
      "\r",
      "KAN_MNIST_0_1723679712:  95%|█████████▌| 95/100 [5:49:20<18:30, 222.04s/it]"
     ]
    },
    {
     "name": "stdout",
     "output_type": "stream",
     "text": [
      " Test accuracy:  0.697\n"
     ]
    },
    {
     "name": "stdout",
     "output_type": "stream",
     "text": [
      "\n",
      "correct: 324 total: 469\n",
      "loss: 0.1274140450968417\n",
      " Train accuracy:  0.6908315565031983 | \n"
     ]
    }
   ],
   "source": [
    "\n",
    "config = {\n",
    "    \"batch_size\": 128,\n",
    "    \"n_epochs\": 100,\n",
    "    \"gamma\": 0.99,\n",
    "    \"learning_rate\": 1e-3, # 0.0005\n",
    "    \"weight_decay\": 1e-4,\n",
    "    \"width\": 8,\n",
    "    \"grid\": 1,\n",
    "    \"method\": \"KAN\",  # \"MLP\", \"KAN\"\n",
    "    \"seed\": 0,\n",
    "    \"input_size\": 8 * 8, # number of features\n",
    "    \"output_size\": 10, # number of classes\n",
    "    \"buffer_size\": 100000,\n",
    "    \"target_update\": 10,\n",
    "    \"warm_up_episodes\": 2,\n",
    "    \"num_filters\": 4,\n",
    "    \"num_conv_layers\": 2,\n",
    "    \"first_channel\": 1, # (1,8,8)\n",
    "    \"hidden_dim\": 128,\n",
    "    \"feature_selection\": True,\n",
    "    \"distribution\": \"beta\", # bernoulli, categorical, gumbel_softmax, gaussian, beta, dirichlet\n",
    "    \"initial_tau\": 1.0, # positive float value\n",
    "\n",
    "}\n",
    "\n",
    "q_network, train_accuracies, test_accuracies, losses, probs_history, feedback_cost_history, train_acc_stds, test_acc_stds, loss_stds, agent = kanRL(config)"
   ]
  },
  {
   "cell_type": "code",
   "execution_count": null,
   "id": "41e7e7fa",
   "metadata": {
    "id": "N2Z7r5_FP9HO",
    "papermill": {
     "duration": null,
     "end_time": null,
     "exception": null,
     "start_time": null,
     "status": "pending"
    },
    "tags": []
   },
   "outputs": [],
   "source": [
    "from sklearn.metrics import confusion_matrix\n",
    "import seaborn as sns\n",
    "\n",
    "y_true = []  # Ground truth labels\n",
    "y_pred = []  # Model predictions\n",
    "\n",
    "# Assuming `test_loader` is your DataLoader for test set\n",
    "with torch.no_grad():\n",
    "    for images, labels in DataLoader(MNIST('./data', train=False, download=True, transform=transforms.Compose([\n",
    "        transforms.Resize((8, 8)),\n",
    "        transforms.ToTensor(),\n",
    "        transforms.Normalize((0.1307,), (0.3081,))\n",
    "    ])), batch_size=config[\"batch_size\"]):\n",
    "        state = images.view(-1,config[\"input_size\"])\n",
    "        if config[\"feature_selection\"] == True:\n",
    "            flat_zoom_X, _, _ = agent(state)\n",
    "            state = flat_zoom_X\n",
    "        outputs = q_network(state)\n",
    "        _, predicted = torch.max(outputs.data, 1)\n",
    "        y_true.extend(labels)\n",
    "        y_pred.extend(predicted)\n",
    "\n",
    "cm = confusion_matrix(y_true, y_pred)\n",
    "plt.figure(figsize=(10, 8))\n",
    "sns.heatmap(cm, annot=True, fmt='d', cmap='Blues')\n",
    "plt.xlabel('Predicted')\n",
    "plt.ylabel('True')\n",
    "plt.title('Confusion Matrix')\n",
    "plt.show()\n"
   ]
  },
  {
   "cell_type": "code",
   "execution_count": null,
   "id": "ec18eee6",
   "metadata": {
    "id": "tbLtQhpCKXbh",
    "papermill": {
     "duration": null,
     "end_time": null,
     "exception": null,
     "start_time": null,
     "status": "pending"
    },
    "tags": []
   },
   "outputs": [],
   "source": [
    "import sklearn\n",
    "print(sklearn.metrics.classification_report(y_true, y_pred))"
   ]
  },
  {
   "cell_type": "code",
   "execution_count": null,
   "id": "08754faf",
   "metadata": {
    "execution": {
     "iopub.execute_input": "2024-08-11T08:31:27.231160Z",
     "iopub.status.busy": "2024-08-11T08:31:27.230119Z",
     "iopub.status.idle": "2024-08-11T08:31:27.605979Z",
     "shell.execute_reply": "2024-08-11T08:31:27.604865Z",
     "shell.execute_reply.started": "2024-08-11T08:31:27.231119Z"
    },
    "papermill": {
     "duration": null,
     "end_time": null,
     "exception": null,
     "start_time": null,
     "status": "pending"
    },
    "tags": []
   },
   "outputs": [],
   "source": [
    "import gc\n",
    "gc.collect()"
   ]
  },
  {
   "cell_type": "markdown",
   "id": "584358e2",
   "metadata": {
    "papermill": {
     "duration": null,
     "end_time": null,
     "exception": null,
     "start_time": null,
     "status": "pending"
    },
    "tags": []
   },
   "source": [
    "# KAN width=16 grid=3"
   ]
  },
  {
   "cell_type": "code",
   "execution_count": null,
   "id": "4de39ff3",
   "metadata": {
    "execution": {
     "iopub.execute_input": "2024-08-04T16:26:16.347367Z",
     "iopub.status.busy": "2024-08-04T16:26:16.345941Z",
     "iopub.status.idle": "2024-08-04T17:25:15.164825Z",
     "shell.execute_reply": "2024-08-04T17:25:15.163582Z",
     "shell.execute_reply.started": "2024-08-04T16:26:16.347315Z"
    },
    "id": "JDuSwacf9fse",
    "outputId": "0a5f0407-ed77-4f23-b8dc-af933d33fcab",
    "papermill": {
     "duration": null,
     "end_time": null,
     "exception": null,
     "start_time": null,
     "status": "pending"
    },
    "scrolled": true,
    "tags": []
   },
   "outputs": [],
   "source": [
    "\n",
    "config = {\n",
    "    \"batch_size\": 128,\n",
    "    \"n_epochs\": 100,\n",
    "    \"gamma\": 0.99,\n",
    "    \"learning_rate\": 1e-3, # 0.0005\n",
    "    \"weight_decay\": 1e-4,\n",
    "    \"width\": 16,\n",
    "    \"grid\": 3,\n",
    "    \"method\": \"KAN\",  # \"MLP\", \"KAN\"\n",
    "    \"seed\": 0,\n",
    "    \"input_size\": 8 * 8, # number of features\n",
    "    \"output_size\": 10, # number of classes\n",
    "    \"buffer_size\": 100000,\n",
    "    \"target_update\": 10,\n",
    "    \"warm_up_episodes\": 2,\n",
    "    \"num_filters\": 4,\n",
    "    \"num_conv_layers\": 2,\n",
    "    \"first_channel\": 1, # (1,8,8)\n",
    "    \"hidden_dim\": 128,\n",
    "    \"feature_selection\": True,\n",
    "    \"distribution\": \"beta\", # bernoulli, categorical, gumbel_softmax, gaussian, beta, dirichlet\n",
    "    \"initial_tau\": 1.0, # positive float value\n",
    "\n",
    "}\n",
    "\n",
    "q_network, train_accuracies, test_accuracies, losses, probs_history, feedback_cost_history, train_acc_stds, test_acc_stds, loss_stds, agent = kanRL(config)"
   ]
  },
  {
   "cell_type": "code",
   "execution_count": null,
   "id": "71ae117e",
   "metadata": {
    "id": "N2Z7r5_FP9HO",
    "papermill": {
     "duration": null,
     "end_time": null,
     "exception": null,
     "start_time": null,
     "status": "pending"
    },
    "tags": []
   },
   "outputs": [],
   "source": [
    "from sklearn.metrics import confusion_matrix\n",
    "import seaborn as sns\n",
    "\n",
    "y_true = []  # Ground truth labels\n",
    "y_pred = []  # Model predictions\n",
    "\n",
    "# Assuming `test_loader` is your DataLoader for test set\n",
    "with torch.no_grad():\n",
    "    for images, labels in DataLoader(MNIST('./data', train=False, download=True, transform=transforms.Compose([\n",
    "        transforms.Resize((8, 8)),\n",
    "        transforms.ToTensor(),\n",
    "        transforms.Normalize((0.1307,), (0.3081,))\n",
    "    ])), batch_size=config[\"batch_size\"]):\n",
    "        state = images.view(-1,config[\"input_size\"])\n",
    "        if config[\"feature_selection\"] == True:\n",
    "            flat_zoom_X, _, _ = agent(state)\n",
    "            state = flat_zoom_X\n",
    "        outputs = q_network(state)\n",
    "        _, predicted = torch.max(outputs.data, 1)\n",
    "        y_true.extend(labels)\n",
    "        y_pred.extend(predicted)\n",
    "\n",
    "cm = confusion_matrix(y_true, y_pred)\n",
    "plt.figure(figsize=(10, 8))\n",
    "sns.heatmap(cm, annot=True, fmt='d', cmap='Blues')\n",
    "plt.xlabel('Predicted')\n",
    "plt.ylabel('True')\n",
    "plt.title('Confusion Matrix')\n",
    "plt.show()\n"
   ]
  },
  {
   "cell_type": "code",
   "execution_count": null,
   "id": "4316d85d",
   "metadata": {
    "id": "tbLtQhpCKXbh",
    "papermill": {
     "duration": null,
     "end_time": null,
     "exception": null,
     "start_time": null,
     "status": "pending"
    },
    "tags": []
   },
   "outputs": [],
   "source": [
    "import sklearn\n",
    "print(sklearn.metrics.classification_report(y_true, y_pred))"
   ]
  },
  {
   "cell_type": "code",
   "execution_count": null,
   "id": "64f95bf2",
   "metadata": {
    "execution": {
     "iopub.execute_input": "2024-08-11T08:31:27.231160Z",
     "iopub.status.busy": "2024-08-11T08:31:27.230119Z",
     "iopub.status.idle": "2024-08-11T08:31:27.605979Z",
     "shell.execute_reply": "2024-08-11T08:31:27.604865Z",
     "shell.execute_reply.started": "2024-08-11T08:31:27.231119Z"
    },
    "papermill": {
     "duration": null,
     "end_time": null,
     "exception": null,
     "start_time": null,
     "status": "pending"
    },
    "tags": []
   },
   "outputs": [],
   "source": [
    "import gc\n",
    "gc.collect()"
   ]
  },
  {
   "cell_type": "markdown",
   "id": "2bfb82ad",
   "metadata": {
    "papermill": {
     "duration": null,
     "end_time": null,
     "exception": null,
     "start_time": null,
     "status": "pending"
    },
    "tags": []
   },
   "source": [
    "# KAN width=32 grid=3"
   ]
  },
  {
   "cell_type": "code",
   "execution_count": null,
   "id": "448a55f7",
   "metadata": {
    "execution": {
     "iopub.execute_input": "2024-08-04T16:26:16.347367Z",
     "iopub.status.busy": "2024-08-04T16:26:16.345941Z",
     "iopub.status.idle": "2024-08-04T17:25:15.164825Z",
     "shell.execute_reply": "2024-08-04T17:25:15.163582Z",
     "shell.execute_reply.started": "2024-08-04T16:26:16.347315Z"
    },
    "id": "JDuSwacf9fse",
    "outputId": "0a5f0407-ed77-4f23-b8dc-af933d33fcab",
    "papermill": {
     "duration": null,
     "end_time": null,
     "exception": null,
     "start_time": null,
     "status": "pending"
    },
    "scrolled": true,
    "tags": []
   },
   "outputs": [],
   "source": [
    "\n",
    "config = {\n",
    "    \"batch_size\": 128,\n",
    "    \"n_epochs\": 100,\n",
    "    \"gamma\": 0.99,\n",
    "    \"learning_rate\": 1e-3, # 0.0005\n",
    "    \"weight_decay\": 1e-4,\n",
    "    \"width\": 16,\n",
    "    \"grid\": 3,\n",
    "    \"method\": \"KAN\",  # \"MLP\", \"KAN\"\n",
    "    \"seed\": 0,\n",
    "    \"input_size\": 8 * 8, # number of features\n",
    "    \"output_size\": 10, # number of classes\n",
    "    \"buffer_size\": 100000,\n",
    "    \"target_update\": 10,\n",
    "    \"warm_up_episodes\": 2,\n",
    "    \"num_filters\": 4,\n",
    "    \"num_conv_layers\": 2,\n",
    "    \"first_channel\": 1, # (1,8,8)\n",
    "    \"hidden_dim\": 128,\n",
    "    \"feature_selection\": True,\n",
    "    \"distribution\": \"beta\", # bernoulli, categorical, gumbel_softmax, gaussian, beta, dirichlet\n",
    "    \"initial_tau\": 1.0, # positive float value\n",
    "\n",
    "}\n",
    "\n",
    "q_network, train_accuracies, test_accuracies, losses, probs_history, feedback_cost_history, train_acc_stds, test_acc_stds, loss_stds, agent = kanRL(config)"
   ]
  },
  {
   "cell_type": "code",
   "execution_count": null,
   "id": "969abc84",
   "metadata": {
    "id": "N2Z7r5_FP9HO",
    "papermill": {
     "duration": null,
     "end_time": null,
     "exception": null,
     "start_time": null,
     "status": "pending"
    },
    "tags": []
   },
   "outputs": [],
   "source": [
    "from sklearn.metrics import confusion_matrix\n",
    "import seaborn as sns\n",
    "\n",
    "y_true = []  # Ground truth labels\n",
    "y_pred = []  # Model predictions\n",
    "\n",
    "# Assuming `test_loader` is your DataLoader for test set\n",
    "with torch.no_grad():\n",
    "    for images, labels in DataLoader(MNIST('./data', train=False, download=True, transform=transforms.Compose([\n",
    "        transforms.Resize((8, 8)),\n",
    "        transforms.ToTensor(),\n",
    "        transforms.Normalize((0.1307,), (0.3081,))\n",
    "    ])), batch_size=config[\"batch_size\"]):\n",
    "        state = images.view(-1,config[\"input_size\"])\n",
    "        if config[\"feature_selection\"] == True:\n",
    "            flat_zoom_X, _, _ = agent(state)\n",
    "            state = flat_zoom_X\n",
    "        outputs = q_network(state)\n",
    "        _, predicted = torch.max(outputs.data, 1)\n",
    "        y_true.extend(labels)\n",
    "        y_pred.extend(predicted)\n",
    "\n",
    "cm = confusion_matrix(y_true, y_pred)\n",
    "plt.figure(figsize=(10, 8))\n",
    "sns.heatmap(cm, annot=True, fmt='d', cmap='Blues')\n",
    "plt.xlabel('Predicted')\n",
    "plt.ylabel('True')\n",
    "plt.title('Confusion Matrix')\n",
    "plt.show()\n"
   ]
  },
  {
   "cell_type": "code",
   "execution_count": null,
   "id": "3067c340",
   "metadata": {
    "id": "tbLtQhpCKXbh",
    "papermill": {
     "duration": null,
     "end_time": null,
     "exception": null,
     "start_time": null,
     "status": "pending"
    },
    "tags": []
   },
   "outputs": [],
   "source": [
    "import sklearn\n",
    "print(sklearn.metrics.classification_report(y_true, y_pred))"
   ]
  },
  {
   "cell_type": "code",
   "execution_count": null,
   "id": "5694678f",
   "metadata": {
    "execution": {
     "iopub.execute_input": "2024-08-11T08:31:27.231160Z",
     "iopub.status.busy": "2024-08-11T08:31:27.230119Z",
     "iopub.status.idle": "2024-08-11T08:31:27.605979Z",
     "shell.execute_reply": "2024-08-11T08:31:27.604865Z",
     "shell.execute_reply.started": "2024-08-11T08:31:27.231119Z"
    },
    "papermill": {
     "duration": null,
     "end_time": null,
     "exception": null,
     "start_time": null,
     "status": "pending"
    },
    "tags": []
   },
   "outputs": [],
   "source": [
    "import gc\n",
    "gc.collect()"
   ]
  },
  {
   "cell_type": "code",
   "execution_count": null,
   "id": "2c6b6eb0",
   "metadata": {
    "id": "R0XsCwxqqO7h",
    "papermill": {
     "duration": null,
     "end_time": null,
     "exception": null,
     "start_time": null,
     "status": "pending"
    },
    "tags": []
   },
   "outputs": [],
   "source": []
  },
  {
   "cell_type": "code",
   "execution_count": null,
   "id": "96567874",
   "metadata": {
    "id": "Ht_3aXT-y6-3",
    "papermill": {
     "duration": null,
     "end_time": null,
     "exception": null,
     "start_time": null,
     "status": "pending"
    },
    "tags": []
   },
   "outputs": [],
   "source": []
  }
 ],
 "metadata": {
  "colab": {
   "collapsed_sections": [
    "h1rKxK7PHeWm",
    "Jy33eRsBSpQu"
   ],
   "provenance": []
  },
  "kaggle": {
   "accelerator": "none",
   "dataSources": [],
   "dockerImageVersionId": 30746,
   "isGpuEnabled": false,
   "isInternetEnabled": true,
   "language": "python",
   "sourceType": "notebook"
  },
  "kernelspec": {
   "display_name": "Python 3",
   "language": "python",
   "name": "python3"
  },
  "language_info": {
   "codemirror_mode": {
    "name": "ipython",
    "version": 3
   },
   "file_extension": ".py",
   "mimetype": "text/x-python",
   "name": "python",
   "nbconvert_exporter": "python",
   "pygments_lexer": "ipython3",
   "version": "3.10.13"
  },
  "papermill": {
   "default_parameters": {},
   "duration": null,
   "end_time": null,
   "environment_variables": {},
   "exception": null,
   "input_path": "__notebook__.ipynb",
   "output_path": "__notebook__.ipynb",
   "parameters": {},
   "start_time": "2024-08-14T17:48:18.983047",
   "version": "2.5.0"
  }
 },
 "nbformat": 4,
 "nbformat_minor": 5
}